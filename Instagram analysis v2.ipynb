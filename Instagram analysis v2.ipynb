{
 "cells": [
  {
   "cell_type": "markdown",
   "metadata": {},
   "source": [
    "After some tweaking to the lambda api calls, plus based on the experiments I got from v1, now try v2 of analysis"
   ]
  },
  {
   "cell_type": "code",
   "execution_count": 1,
   "metadata": {
    "collapsed": true
   },
   "outputs": [],
   "source": [
    "import numpy as np\n",
    "import pandas as pd\n",
    "import pymongo\n",
    "from pymongo import MongoClient\n",
    "client = MongoClient()\n",
    "\n",
    "from pprint import pprint\n",
    "from bson.son import SON\n",
    "#for geo parsing\n",
    "import json\n",
    "from shapely.geometry import shape, Point\n",
    "import geopandas as gpd\n",
    "from shapely.ops import cascaded_union"
   ]
  },
  {
   "cell_type": "code",
   "execution_count": 4,
   "metadata": {
    "collapsed": true
   },
   "outputs": [],
   "source": [
    "import datetime"
   ]
  },
  {
   "cell_type": "code",
   "execution_count": 2,
   "metadata": {
    "collapsed": true
   },
   "outputs": [],
   "source": [
    "#db setup-- the posts collection is the only one for stashing everything returned from that api endpoint\n",
    "#note to self-- use mongoDatabase2\n",
    "db = client['instagram-london']\n",
    "coll = db.posts"
   ]
  },
  {
   "cell_type": "code",
   "execution_count": 20,
   "metadata": {
    "collapsed": false
   },
   "outputs": [
    {
     "data": {
      "text/plain": [
       "{'_id': ObjectId('57d885b3d285908f0e11b78e'),\n",
       " 'attribution': None,\n",
       " 'caption': {'created_time': '1473706051',\n",
       "  'from': {'full_name': 'Bec | Rightupmystreet',\n",
       "   'id': '43060713',\n",
       "   'profile_picture': 'https://scontent.cdninstagram.com/t51.2885-19/s150x150/13402212_659074237581639_631285985_a.jpg',\n",
       "   'username': 'rightupmystreet'},\n",
       "  'id': '17852498551109312',\n",
       "  'text': 'Mackerel starter the Talbot in Ripley, Surrey 🍴🍷'},\n",
       " 'comments': {'count': 1},\n",
       " 'created_time': '1473706051',\n",
       " 'filter': 'Normal',\n",
       " 'id': '1337865782138595757_43060713',\n",
       " 'images': {'low_resolution': {'height': 320,\n",
       "   'url': 'https://scontent.cdninstagram.com/t51.2885-15/s320x320/e35/14240450_1160777360648826_2049808876_n.jpg?ig_cache_key=MTMzNzg2NTc4MjEzODU5NTc1Nw%3D%3D.2',\n",
       "   'width': 320},\n",
       "  'standard_resolution': {'height': 640,\n",
       "   'url': 'https://scontent.cdninstagram.com/t51.2885-15/s640x640/sh0.08/e35/14240450_1160777360648826_2049808876_n.jpg?ig_cache_key=MTMzNzg2NTc4MjEzODU5NTc1Nw%3D%3D.2',\n",
       "   'width': 640},\n",
       "  'thumbnail': {'height': 150,\n",
       "   'url': 'https://scontent.cdninstagram.com/t51.2885-15/s150x150/e35/14240450_1160777360648826_2049808876_n.jpg?ig_cache_key=MTMzNzg2NTc4MjEzODU5NTc1Nw%3D%3D.2',\n",
       "   'width': 150}},\n",
       " 'likes': {'count': 19},\n",
       " 'link': 'https://www.instagram.com/p/BKRDdcthWmt/',\n",
       " 'location': {'id': 3858693,\n",
       "  'latitude': 51.301204782714,\n",
       "  'longitude': -0.48924051758146,\n",
       "  'name': 'The Talbot, Ripley'},\n",
       " 'tags': ['foodbloggers',\n",
       "  'foodie',\n",
       "  'woking',\n",
       "  'mackerel',\n",
       "  'fdbloggers',\n",
       "  'thetalbot',\n",
       "  'ripley',\n",
       "  'visitsurrey',\n",
       "  'grifcopr',\n",
       "  'travel',\n",
       "  'starter'],\n",
       " 'timestamp': datetime.datetime(2016, 9, 12, 18, 47, 31),\n",
       " 'type': 'image',\n",
       " 'user': {'full_name': 'Bec | Rightupmystreet',\n",
       "  'id': '43060713',\n",
       "  'profile_picture': 'https://scontent.cdninstagram.com/t51.2885-19/s150x150/13402212_659074237581639_631285985_a.jpg',\n",
       "  'username': 'rightupmystreet'},\n",
       " 'user_has_liked': False,\n",
       " 'users_in_photo': [{'position': {'x': 0.4786666666666667,\n",
       "    'y': 0.4266666666666667},\n",
       "   'user': {'full_name': 'Visit Surrey',\n",
       "    'id': '1152278451',\n",
       "    'profile_picture': 'https://scontent.cdninstagram.com/t51.2885-19/s150x150/12237097_513518362142718_945923642_a.jpg',\n",
       "    'username': 'visitsurrey'}},\n",
       "  {'position': {'x': 0.652, 'y': 0.464},\n",
       "   'user': {'full_name': 'Grifco PR',\n",
       "    'id': '1210106463',\n",
       "    'profile_picture': 'https://scontent.cdninstagram.com/t51.2885-19/s150x150/13473325_298631150476823_1924373551_a.jpg',\n",
       "    'username': 'grifcopr'}},\n",
       "  {'position': {'x': 0.536, 'y': 0.6346666666666667},\n",
       "   'user': {'full_name': 'Surrey Social Media',\n",
       "    'id': '3245140736',\n",
       "    'profile_picture': 'https://scontent.cdninstagram.com/t51.2885-19/s150x150/13188102_906452622799487_2127369885_a.jpg',\n",
       "    'username': 'heysurrey'}}]}"
      ]
     },
     "execution_count": 20,
     "metadata": {},
     "output_type": "execute_result"
    }
   ],
   "source": [
    "coll.find_one({'timestamp': {'$gte': datetime.datetime(2016, 9, 5, 0,0,0)}})"
   ]
  },
  {
   "cell_type": "code",
   "execution_count": 21,
   "metadata": {
    "collapsed": false
   },
   "outputs": [],
   "source": [
    "#since I changed the range of the lat lngs returned from the lambda function, what I want is all the data after ~ 4th Sept 2016\n",
    "rawInstagramPosts = coll.find({'timestamp': {'$gte': datetime.datetime(2016, 9, 5, 0,0,0)}})"
   ]
  },
  {
   "cell_type": "code",
   "execution_count": 23,
   "metadata": {
    "collapsed": false
   },
   "outputs": [],
   "source": [
    "uniqueLocationsCursor = db.posts.aggregate([\n",
    "        {\"$match\": {'timestamp': {'$gte': datetime.datetime(2016, 9, 5, 0,0,0)}}},\n",
    "        {\"$group\": { \"_id\": {\"locationid\": \"$location.id\",\"lat\": \"$location.latitude\", \"lng\": \"$location.longitude\" }, \n",
    "                    \"count\": { \"$sum\": 1 }  }}\n",
    "    ]);\n",
    "\n",
    "uniqueLocations = list(uniqueLocationsCursor)"
   ]
  },
  {
   "cell_type": "code",
   "execution_count": 26,
   "metadata": {
    "collapsed": false
   },
   "outputs": [
    {
     "data": {
      "text/plain": [
       "41566"
      ]
     },
     "execution_count": 26,
     "metadata": {},
     "output_type": "execute_result"
    }
   ],
   "source": [
    "len(uniqueLocations)"
   ]
  },
  {
   "cell_type": "code",
   "execution_count": 27,
   "metadata": {
    "collapsed": true
   },
   "outputs": [],
   "source": [
    "#now use Geopandas to parse the locations into the london census output areas\n",
    "londonGeoDF = gpd.read_file('OA_2011_BGC_london.json')\n",
    "#now trim the londonGeo stuff to may it smaller... hopefully this will make any op faster\n",
    "londonDFSubset = londonGeoDF.ix[:,['OA11CD', 'POPDEN', 'WD11NM_BF', 'geometry']]"
   ]
  },
  {
   "cell_type": "code",
   "execution_count": 29,
   "metadata": {
    "collapsed": false
   },
   "outputs": [
    {
     "ename": "NameError",
     "evalue": "name 'pointCount' is not defined",
     "output_type": "error",
     "traceback": [
      "\u001b[0;31m---------------------------------------------------------------------------\u001b[0m",
      "\u001b[0;31mNameError\u001b[0m                                 Traceback (most recent call last)",
      "\u001b[0;32m<ipython-input-29-32a3bc888950>\u001b[0m in \u001b[0;36m<module>\u001b[0;34m()\u001b[0m\n\u001b[1;32m      2\u001b[0m \u001b[0mpostLocationpoints\u001b[0m \u001b[0;34m=\u001b[0m \u001b[0;34m[\u001b[0m\u001b[0mPoint\u001b[0m\u001b[0;34m(\u001b[0m\u001b[0mx\u001b[0m\u001b[0;34m[\u001b[0m\u001b[0;34m'_id'\u001b[0m\u001b[0;34m]\u001b[0m\u001b[0;34m[\u001b[0m\u001b[0;34m'lng'\u001b[0m\u001b[0;34m]\u001b[0m\u001b[0;34m,\u001b[0m \u001b[0mx\u001b[0m\u001b[0;34m[\u001b[0m\u001b[0;34m'_id'\u001b[0m\u001b[0;34m]\u001b[0m\u001b[0;34m[\u001b[0m\u001b[0;34m'lat'\u001b[0m\u001b[0;34m]\u001b[0m\u001b[0;34m)\u001b[0m \u001b[0;32mfor\u001b[0m \u001b[0mx\u001b[0m \u001b[0;32min\u001b[0m \u001b[0muniqueLocations\u001b[0m\u001b[0;34m]\u001b[0m\u001b[0;34m\u001b[0m\u001b[0m\n\u001b[1;32m      3\u001b[0m \u001b[0mlocationsDF\u001b[0m \u001b[0;34m=\u001b[0m \u001b[0mpd\u001b[0m\u001b[0;34m.\u001b[0m\u001b[0mDataFrame\u001b[0m\u001b[0;34m(\u001b[0m\u001b[0;34m{\u001b[0m\u001b[0;34m'geometry'\u001b[0m\u001b[0;34m:\u001b[0m \u001b[0mpostLocationpoints\u001b[0m\u001b[0;34m}\u001b[0m\u001b[0;34m)\u001b[0m\u001b[0;34m\u001b[0m\u001b[0m\n\u001b[0;32m----> 4\u001b[0;31m \u001b[0mlocationsDF\u001b[0m\u001b[0;34m[\u001b[0m\u001b[0;34m'locationCount'\u001b[0m\u001b[0;34m]\u001b[0m \u001b[0;34m=\u001b[0m \u001b[0mpointCount\u001b[0m\u001b[0;34m\u001b[0m\u001b[0m\n\u001b[0m\u001b[1;32m      5\u001b[0m \u001b[0mlocationsDF\u001b[0m\u001b[0;34m[\u001b[0m\u001b[0;34m'locationID'\u001b[0m\u001b[0;34m]\u001b[0m \u001b[0;34m=\u001b[0m \u001b[0;34m[\u001b[0m\u001b[0mx\u001b[0m\u001b[0;34m[\u001b[0m\u001b[0;34m'_id'\u001b[0m\u001b[0;34m]\u001b[0m\u001b[0;34m[\u001b[0m\u001b[0;34m'locationid'\u001b[0m\u001b[0;34m]\u001b[0m \u001b[0;32mfor\u001b[0m \u001b[0mx\u001b[0m \u001b[0;32min\u001b[0m \u001b[0muniqueLocations\u001b[0m\u001b[0;34m]\u001b[0m\u001b[0;34m\u001b[0m\u001b[0m\n\u001b[1;32m      6\u001b[0m \u001b[0mlocationsDF\u001b[0m \u001b[0;34m=\u001b[0m \u001b[0mgpd\u001b[0m\u001b[0;34m.\u001b[0m\u001b[0mGeoDataFrame\u001b[0m\u001b[0;34m(\u001b[0m\u001b[0mlocationsDF\u001b[0m\u001b[0;34m)\u001b[0m\u001b[0;34m\u001b[0m\u001b[0m\n",
      "\u001b[0;31mNameError\u001b[0m: name 'pointCount' is not defined"
     ]
    }
   ],
   "source": [
    "#using shapely, construct a geodataframe from the uniqueLocations\n",
    "postLocationpoints = [Point(x['_id']['lng'], x['_id']['lat']) for x in uniqueLocations]\n",
    "locationsDF = pd.DataFrame({'geometry': postLocationpoints})\n",
    "locationsDF['locationCount'] = pointCount\n",
    "locationsDF['locationID'] = [x['_id']['locationid'] for x in uniqueLocations]\n",
    "locationsDF = gpd.GeoDataFrame(locationsDF)\n",
    "\n",
    "#then add lat lng fields in the df for non Shapely ops\n",
    "locationsDF['lng'] = locationsDF['geometry'].map(lambda x: x.xy[0][0])\n",
    "locationsDF['lat'] = locationsDF['geometry'].map(lambda x: x.xy[1][0])"
   ]
  },
  {
   "cell_type": "code",
   "execution_count": null,
   "metadata": {
    "collapsed": true
   },
   "outputs": [],
   "source": []
  }
 ],
 "metadata": {
  "kernelspec": {
   "display_name": "Python 3",
   "language": "python",
   "name": "python3"
  },
  "language_info": {
   "codemirror_mode": {
    "name": "ipython",
    "version": 3
   },
   "file_extension": ".py",
   "mimetype": "text/x-python",
   "name": "python",
   "nbconvert_exporter": "python",
   "pygments_lexer": "ipython3",
   "version": "3.5.2"
  }
 },
 "nbformat": 4,
 "nbformat_minor": 0
}
