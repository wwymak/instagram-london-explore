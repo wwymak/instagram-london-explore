{
 "cells": [
  {
   "cell_type": "markdown",
   "metadata": {},
   "source": [
    "After some tweaking to the lambda api calls, plus based on the experiments I got from v1, now try v2 of analysis"
   ]
  },
  {
   "cell_type": "code",
   "execution_count": 1,
   "metadata": {
    "collapsed": true
   },
   "outputs": [],
   "source": [
    "import numpy as np\n",
    "import pandas as pd\n",
    "import pymongo\n",
    "from pymongo import MongoClient\n",
    "client = MongoClient()\n",
    "\n",
    "from pprint import pprint\n",
    "from bson.son import SON\n",
    "#for geo parsing\n",
    "import json\n",
    "from shapely.geometry import shape, Point\n",
    "import geopandas as gpd\n",
    "from shapely.ops import cascaded_union"
   ]
  },
  {
   "cell_type": "code",
   "execution_count": 2,
   "metadata": {
    "collapsed": true
   },
   "outputs": [],
   "source": [
    "import datetime"
   ]
  },
  {
   "cell_type": "code",
   "execution_count": 3,
   "metadata": {
    "collapsed": true
   },
   "outputs": [],
   "source": [
    "#db setup-- the posts collection is the only one for stashing everything returned from that api endpoint\n",
    "#note to self-- use mongoDatabase2\n",
    "db = client['instagram-london']\n",
    "coll = db.posts"
   ]
  },
  {
   "cell_type": "code",
   "execution_count": 4,
   "metadata": {
    "collapsed": false
   },
   "outputs": [
    {
     "data": {
      "text/plain": [
       "{'_id': ObjectId('57e808b5e6b178079dc2c447'),\n",
       " 'attribution': None,\n",
       " 'caption': {'created_time': '1474822692',\n",
       "  'from': {'full_name': 'Marco Perotti',\n",
       "   'id': '221313401',\n",
       "   'profile_picture': 'https://scontent.cdninstagram.com/t51.2885-19/10354293_749726858382492_1377793777_a.jpg',\n",
       "   'username': '_marcoperotti_'},\n",
       "  'id': '17863046944025263',\n",
       "  'text': '#coffeetime in #littlevenice ☕️ #regentscanal #london'},\n",
       " 'comments': {'count': 0},\n",
       " 'created_time': '1474822692',\n",
       " 'filter': 'Normal',\n",
       " 'id': '1347232848809173922_221313401',\n",
       " 'images': {'low_resolution': {'height': 320,\n",
       "   'url': 'https://scontent.cdninstagram.com/t51.2885-15/s320x320/e35/14262817_628480587358803_8893996333568884736_n.jpg?ig_cache_key=MTM0NzIzMjg0ODgwOTE3MzkyMg%3D%3D.2.l',\n",
       "   'width': 320},\n",
       "  'standard_resolution': {'height': 640,\n",
       "   'url': 'https://scontent.cdninstagram.com/t51.2885-15/s640x640/sh0.08/e35/14262817_628480587358803_8893996333568884736_n.jpg?ig_cache_key=MTM0NzIzMjg0ODgwOTE3MzkyMg%3D%3D.2.l',\n",
       "   'width': 640},\n",
       "  'thumbnail': {'height': 150,\n",
       "   'url': 'https://scontent.cdninstagram.com/t51.2885-15/s150x150/e35/c135.0.809.809/14482767_683513618478911_7849106278797279232_n.jpg?ig_cache_key=MTM0NzIzMjg0ODgwOTE3MzkyMg%3D%3D.2.c',\n",
       "   'width': 150}},\n",
       " 'likes': {'count': 0},\n",
       " 'link': 'https://www.instagram.com/p/BKyVSNXAiOi/',\n",
       " 'location': {'id': 228374058,\n",
       "  'latitude': 51.524406466102,\n",
       "  'longitude': -0.17729830557886,\n",
       "  'name': 'Little Venice, Maida Vale'},\n",
       " 'tags': ['london', 'littlevenice', 'coffeetime', 'regentscanal'],\n",
       " 'timestamp': datetime.datetime(2016, 9, 25, 16, 58, 12),\n",
       " 'type': 'image',\n",
       " 'user': {'full_name': 'Marco Perotti',\n",
       "  'id': '221313401',\n",
       "  'profile_picture': 'https://scontent.cdninstagram.com/t51.2885-19/10354293_749726858382492_1377793777_a.jpg',\n",
       "  'username': '_marcoperotti_'},\n",
       " 'user_has_liked': False,\n",
       " 'users_in_photo': []}"
      ]
     },
     "execution_count": 4,
     "metadata": {},
     "output_type": "execute_result"
    }
   ],
   "source": [
    "#to illustrate what one of these entries llok like\n",
    "coll.find_one({'timestamp': {'$gte': datetime.datetime(2016, 9, 5, 0,0,0)}})"
   ]
  },
  {
   "cell_type": "code",
   "execution_count": 5,
   "metadata": {
    "collapsed": false
   },
   "outputs": [],
   "source": [
    "#since I changed the range of the lat lngs returned from the lambda function, what I want is all the data after ~ 4th Sept 2016\n",
    "rawInstagramPosts = coll.find({'timestamp': {'$gte': datetime.datetime(2016, 9, 5, 0,0,0)}})"
   ]
  },
  {
   "cell_type": "code",
   "execution_count": 6,
   "metadata": {
    "collapsed": false
   },
   "outputs": [],
   "source": [
    "uniqueLocationsCursor = db.posts.aggregate([\n",
    "        {\"$match\": {'timestamp': {'$gte': datetime.datetime(2016, 9, 5, 0,0,0)}}},\n",
    "        {\"$group\": { \"_id\": {\"locationid\": \"$location.id\",\"lat\": \"$location.latitude\", \"lng\": \"$location.longitude\" }, \n",
    "                    \"count\": { \"$sum\": 1 }  }}\n",
    "    ]);\n",
    "\n",
    "uniqueLocations = list(uniqueLocationsCursor)"
   ]
  },
  {
   "cell_type": "code",
   "execution_count": 7,
   "metadata": {
    "collapsed": false
   },
   "outputs": [
    {
     "data": {
      "text/plain": [
       "61938"
      ]
     },
     "execution_count": 7,
     "metadata": {},
     "output_type": "execute_result"
    }
   ],
   "source": [
    "len(uniqueLocations)"
   ]
  },
  {
   "cell_type": "code",
   "execution_count": 27,
   "metadata": {
    "collapsed": true
   },
   "outputs": [],
   "source": [
    "#now use Geopandas to parse the locations into the london census output areas\n",
    "londonGeoDF = gpd.read_file('OA_2011_BGC_london.json')\n",
    "#now trim the londonGeo stuff to may it smaller... hopefully this will make any op faster\n",
    "londonDFSubset = londonGeoDF.ix[:,['OA11CD', 'POPDEN', 'WD11NM_BF', 'geometry']]"
   ]
  },
  {
   "cell_type": "code",
   "execution_count": 29,
   "metadata": {
    "collapsed": false
   },
   "outputs": [
    {
     "ename": "NameError",
     "evalue": "name 'pointCount' is not defined",
     "output_type": "error",
     "traceback": [
      "\u001b[0;31m---------------------------------------------------------------------------\u001b[0m",
      "\u001b[0;31mNameError\u001b[0m                                 Traceback (most recent call last)",
      "\u001b[0;32m<ipython-input-29-32a3bc888950>\u001b[0m in \u001b[0;36m<module>\u001b[0;34m()\u001b[0m\n\u001b[1;32m      2\u001b[0m \u001b[0mpostLocationpoints\u001b[0m \u001b[0;34m=\u001b[0m \u001b[0;34m[\u001b[0m\u001b[0mPoint\u001b[0m\u001b[0;34m(\u001b[0m\u001b[0mx\u001b[0m\u001b[0;34m[\u001b[0m\u001b[0;34m'_id'\u001b[0m\u001b[0;34m]\u001b[0m\u001b[0;34m[\u001b[0m\u001b[0;34m'lng'\u001b[0m\u001b[0;34m]\u001b[0m\u001b[0;34m,\u001b[0m \u001b[0mx\u001b[0m\u001b[0;34m[\u001b[0m\u001b[0;34m'_id'\u001b[0m\u001b[0;34m]\u001b[0m\u001b[0;34m[\u001b[0m\u001b[0;34m'lat'\u001b[0m\u001b[0;34m]\u001b[0m\u001b[0;34m)\u001b[0m \u001b[0;32mfor\u001b[0m \u001b[0mx\u001b[0m \u001b[0;32min\u001b[0m \u001b[0muniqueLocations\u001b[0m\u001b[0;34m]\u001b[0m\u001b[0;34m\u001b[0m\u001b[0m\n\u001b[1;32m      3\u001b[0m \u001b[0mlocationsDF\u001b[0m \u001b[0;34m=\u001b[0m \u001b[0mpd\u001b[0m\u001b[0;34m.\u001b[0m\u001b[0mDataFrame\u001b[0m\u001b[0;34m(\u001b[0m\u001b[0;34m{\u001b[0m\u001b[0;34m'geometry'\u001b[0m\u001b[0;34m:\u001b[0m \u001b[0mpostLocationpoints\u001b[0m\u001b[0;34m}\u001b[0m\u001b[0;34m)\u001b[0m\u001b[0;34m\u001b[0m\u001b[0m\n\u001b[0;32m----> 4\u001b[0;31m \u001b[0mlocationsDF\u001b[0m\u001b[0;34m[\u001b[0m\u001b[0;34m'locationCount'\u001b[0m\u001b[0;34m]\u001b[0m \u001b[0;34m=\u001b[0m \u001b[0mpointCount\u001b[0m\u001b[0;34m\u001b[0m\u001b[0m\n\u001b[0m\u001b[1;32m      5\u001b[0m \u001b[0mlocationsDF\u001b[0m\u001b[0;34m[\u001b[0m\u001b[0;34m'locationID'\u001b[0m\u001b[0;34m]\u001b[0m \u001b[0;34m=\u001b[0m \u001b[0;34m[\u001b[0m\u001b[0mx\u001b[0m\u001b[0;34m[\u001b[0m\u001b[0;34m'_id'\u001b[0m\u001b[0;34m]\u001b[0m\u001b[0;34m[\u001b[0m\u001b[0;34m'locationid'\u001b[0m\u001b[0;34m]\u001b[0m \u001b[0;32mfor\u001b[0m \u001b[0mx\u001b[0m \u001b[0;32min\u001b[0m \u001b[0muniqueLocations\u001b[0m\u001b[0;34m]\u001b[0m\u001b[0;34m\u001b[0m\u001b[0m\n\u001b[1;32m      6\u001b[0m \u001b[0mlocationsDF\u001b[0m \u001b[0;34m=\u001b[0m \u001b[0mgpd\u001b[0m\u001b[0;34m.\u001b[0m\u001b[0mGeoDataFrame\u001b[0m\u001b[0;34m(\u001b[0m\u001b[0mlocationsDF\u001b[0m\u001b[0;34m)\u001b[0m\u001b[0;34m\u001b[0m\u001b[0m\n",
      "\u001b[0;31mNameError\u001b[0m: name 'pointCount' is not defined"
     ]
    }
   ],
   "source": [
    "#using shapely, construct a geodataframe from the uniqueLocations\n",
    "postLocationpoints = [Point(x['_id']['lng'], x['_id']['lat']) for x in uniqueLocations]\n",
    "locationsDF = pd.DataFrame({'geometry': postLocationpoints})\n",
    "locationsDF['locationCount'] = pointCount\n",
    "locationsDF['locationID'] = [x['_id']['locationid'] for x in uniqueLocations]\n",
    "locationsDF = gpd.GeoDataFrame(locationsDF)\n",
    "\n",
    "#then add lat lng fields in the df for non Shapely ops\n",
    "locationsDF['lng'] = locationsDF['geometry'].map(lambda x: x.xy[0][0])\n",
    "locationsDF['lat'] = locationsDF['geometry'].map(lambda x: x.xy[1][0])"
   ]
  },
  {
   "cell_type": "code",
   "execution_count": 9,
   "metadata": {
    "collapsed": false
   },
   "outputs": [],
   "source": [
    "cursor =  db.posts.find({'$and': [{'timestamp': {'$gte': datetime.datetime(2016, 9, 10, 0,0,0)}},\n",
    "                         {'timestamp':{'$lt': datetime.datetime(2016, 9, 11, 0, 0, 0)}}, \n",
    "                         {'type': \"image\"}]}, \n",
    "               projection=['location','timestamp','likes.count','images.low_resolution','tags'])"
   ]
  },
  {
   "cell_type": "code",
   "execution_count": 10,
   "metadata": {
    "collapsed": true
   },
   "outputs": [],
   "source": [
    "oneDayData = pd.DataFrame(list(cursor))"
   ]
  },
  {
   "cell_type": "code",
   "execution_count": 12,
   "metadata": {
    "collapsed": false
   },
   "outputs": [
    {
     "data": {
      "text/html": [
       "<div>\n",
       "<table border=\"1\" class=\"dataframe\">\n",
       "  <thead>\n",
       "    <tr style=\"text-align: right;\">\n",
       "      <th></th>\n",
       "      <th>_id</th>\n",
       "      <th>images</th>\n",
       "      <th>likes</th>\n",
       "      <th>location</th>\n",
       "      <th>tags</th>\n",
       "      <th>timestamp</th>\n",
       "    </tr>\n",
       "  </thead>\n",
       "  <tbody>\n",
       "    <tr>\n",
       "      <th>0</th>\n",
       "      <td>57d88608d285908f0e1429af</td>\n",
       "      <td>{'low_resolution': {'width': 320, 'height': 32...</td>\n",
       "      <td>{'count': 44}</td>\n",
       "      <td>{'longitude': -0.23990477333333, 'latitude': 5...</td>\n",
       "      <td>[minimal_perfection, jj_indetail, igersoftheda...</td>\n",
       "      <td>2016-09-10 23:59:55</td>\n",
       "    </tr>\n",
       "    <tr>\n",
       "      <th>1</th>\n",
       "      <td>57d88608d285908f0e1424e2</td>\n",
       "      <td>{'low_resolution': {'width': 320, 'height': 32...</td>\n",
       "      <td>{'count': 29}</td>\n",
       "      <td>{'longitude': -0.3183405110173, 'latitude': 51...</td>\n",
       "      <td>[]</td>\n",
       "      <td>2016-09-10 23:59:50</td>\n",
       "    </tr>\n",
       "    <tr>\n",
       "      <th>2</th>\n",
       "      <td>57d885f9d285908f0e13c821</td>\n",
       "      <td>{'low_resolution': {'width': 320, 'height': 32...</td>\n",
       "      <td>{'count': 19}</td>\n",
       "      <td>{'longitude': 0.14031792365121, 'latitude': 51...</td>\n",
       "      <td>[]</td>\n",
       "      <td>2016-09-10 23:59:46</td>\n",
       "    </tr>\n",
       "    <tr>\n",
       "      <th>3</th>\n",
       "      <td>57d885f5d285908f0e13a7d0</td>\n",
       "      <td>{'low_resolution': {'width': 320, 'height': 32...</td>\n",
       "      <td>{'count': 4}</td>\n",
       "      <td>{'longitude': 0.11606, 'latitude': 51.49525, '...</td>\n",
       "      <td>[]</td>\n",
       "      <td>2016-09-10 23:59:36</td>\n",
       "    </tr>\n",
       "    <tr>\n",
       "      <th>4</th>\n",
       "      <td>57d88602d285908f0e1401d2</td>\n",
       "      <td>{'low_resolution': {'width': 320, 'height': 32...</td>\n",
       "      <td>{'count': 1}</td>\n",
       "      <td>{'longitude': -0.185, 'latitude': 51.583, 'id'...</td>\n",
       "      <td>[praisdentalcare, colgatebrightsmile, colgateb...</td>\n",
       "      <td>2016-09-10 23:59:33</td>\n",
       "    </tr>\n",
       "    <tr>\n",
       "      <th>5</th>\n",
       "      <td>57d88601d285908f0e13fa28</td>\n",
       "      <td>{'low_resolution': {'width': 320, 'height': 32...</td>\n",
       "      <td>{'count': 18}</td>\n",
       "      <td>{'longitude': -0.16990783261964, 'latitude': 5...</td>\n",
       "      <td>[londonliving, streetphotography, love, nighto...</td>\n",
       "      <td>2016-09-10 23:59:08</td>\n",
       "    </tr>\n",
       "    <tr>\n",
       "      <th>6</th>\n",
       "      <td>57d88608d285908f0e14292b</td>\n",
       "      <td>{'low_resolution': {'width': 320, 'height': 32...</td>\n",
       "      <td>{'count': 3}</td>\n",
       "      <td>{'longitude': -0.25005279108905, 'latitude': 5...</td>\n",
       "      <td>[djs, popup, foodie, nw10, platta, music]</td>\n",
       "      <td>2016-09-10 23:59:08</td>\n",
       "    </tr>\n",
       "    <tr>\n",
       "      <th>7</th>\n",
       "      <td>57d885fad285908f0e13c9b2</td>\n",
       "      <td>{'low_resolution': {'width': 320, 'height': 32...</td>\n",
       "      <td>{'count': 10}</td>\n",
       "      <td>{'longitude': -0.0003945, 'latitude': 51.61669...</td>\n",
       "      <td>[nomakeup, nofilter, needsomemakeupforfil, lov...</td>\n",
       "      <td>2016-09-10 23:59:07</td>\n",
       "    </tr>\n",
       "    <tr>\n",
       "      <th>8</th>\n",
       "      <td>57d88606d285908f0e141a2b</td>\n",
       "      <td>{'low_resolution': {'width': 320, 'height': 32...</td>\n",
       "      <td>{'count': 14}</td>\n",
       "      <td>{'longitude': -0.22422306363769, 'latitude': 5...</td>\n",
       "      <td>[saturdaynight, awesome, drink, tbt, partytime...</td>\n",
       "      <td>2016-09-10 23:58:56</td>\n",
       "    </tr>\n",
       "    <tr>\n",
       "      <th>9</th>\n",
       "      <td>57d885f7d285908f0e13b39e</td>\n",
       "      <td>{'low_resolution': {'width': 320, 'height': 32...</td>\n",
       "      <td>{'count': 20}</td>\n",
       "      <td>{'longitude': -0.50962436, 'latitude': 51.4288...</td>\n",
       "      <td>[crazygirl, thropepark, london]</td>\n",
       "      <td>2016-09-10 23:58:52</td>\n",
       "    </tr>\n",
       "    <tr>\n",
       "      <th>10</th>\n",
       "      <td>57d8860ed285908f0e14535e</td>\n",
       "      <td>{'low_resolution': {'width': 320, 'height': 32...</td>\n",
       "      <td>{'count': 2}</td>\n",
       "      <td>{'longitude': -0.04548, 'latitude': 51.55493, ...</td>\n",
       "      <td>[chatsworthroad, ilovechatsworthroadmagazine, ...</td>\n",
       "      <td>2016-09-10 23:58:51</td>\n",
       "    </tr>\n",
       "    <tr>\n",
       "      <th>11</th>\n",
       "      <td>57d8860ad285908f0e14341a</td>\n",
       "      <td>{'low_resolution': {'width': 320, 'height': 32...</td>\n",
       "      <td>{'count': 87}</td>\n",
       "      <td>{'longitude': -0.047657510158, 'latitude': 51....</td>\n",
       "      <td>[takemeback, throwbacksaturday, mykonos]</td>\n",
       "      <td>2016-09-10 23:58:29</td>\n",
       "    </tr>\n",
       "    <tr>\n",
       "      <th>12</th>\n",
       "      <td>57d88601d285908f0e13fa29</td>\n",
       "      <td>{'low_resolution': {'width': 320, 'height': 32...</td>\n",
       "      <td>{'count': 59}</td>\n",
       "      <td>{'longitude': -0.16990783261964, 'latitude': 5...</td>\n",
       "      <td>[]</td>\n",
       "      <td>2016-09-10 23:58:02</td>\n",
       "    </tr>\n",
       "    <tr>\n",
       "      <th>13</th>\n",
       "      <td>57d88601d285908f0e13fa2a</td>\n",
       "      <td>{'low_resolution': {'width': 320, 'height': 32...</td>\n",
       "      <td>{'count': 31}</td>\n",
       "      <td>{'longitude': -0.16990783261964, 'latitude': 5...</td>\n",
       "      <td>[lovemylife, style, evening, london, ciklabadz...</td>\n",
       "      <td>2016-09-10 23:57:56</td>\n",
       "    </tr>\n",
       "    <tr>\n",
       "      <th>14</th>\n",
       "      <td>57d88606d285908f0e141c2c</td>\n",
       "      <td>{'low_resolution': {'width': 320, 'height': 32...</td>\n",
       "      <td>{'count': 7}</td>\n",
       "      <td>{'longitude': 0.0011153121992114, 'latitude': ...</td>\n",
       "      <td>[footballsunday, thestar, cowboysnation, nfluk...</td>\n",
       "      <td>2016-09-10 23:57:47</td>\n",
       "    </tr>\n",
       "  </tbody>\n",
       "</table>\n",
       "</div>"
      ],
      "text/plain": [
       "                         _id  \\\n",
       "0   57d88608d285908f0e1429af   \n",
       "1   57d88608d285908f0e1424e2   \n",
       "2   57d885f9d285908f0e13c821   \n",
       "3   57d885f5d285908f0e13a7d0   \n",
       "4   57d88602d285908f0e1401d2   \n",
       "5   57d88601d285908f0e13fa28   \n",
       "6   57d88608d285908f0e14292b   \n",
       "7   57d885fad285908f0e13c9b2   \n",
       "8   57d88606d285908f0e141a2b   \n",
       "9   57d885f7d285908f0e13b39e   \n",
       "10  57d8860ed285908f0e14535e   \n",
       "11  57d8860ad285908f0e14341a   \n",
       "12  57d88601d285908f0e13fa29   \n",
       "13  57d88601d285908f0e13fa2a   \n",
       "14  57d88606d285908f0e141c2c   \n",
       "\n",
       "                                               images          likes  \\\n",
       "0   {'low_resolution': {'width': 320, 'height': 32...  {'count': 44}   \n",
       "1   {'low_resolution': {'width': 320, 'height': 32...  {'count': 29}   \n",
       "2   {'low_resolution': {'width': 320, 'height': 32...  {'count': 19}   \n",
       "3   {'low_resolution': {'width': 320, 'height': 32...   {'count': 4}   \n",
       "4   {'low_resolution': {'width': 320, 'height': 32...   {'count': 1}   \n",
       "5   {'low_resolution': {'width': 320, 'height': 32...  {'count': 18}   \n",
       "6   {'low_resolution': {'width': 320, 'height': 32...   {'count': 3}   \n",
       "7   {'low_resolution': {'width': 320, 'height': 32...  {'count': 10}   \n",
       "8   {'low_resolution': {'width': 320, 'height': 32...  {'count': 14}   \n",
       "9   {'low_resolution': {'width': 320, 'height': 32...  {'count': 20}   \n",
       "10  {'low_resolution': {'width': 320, 'height': 32...   {'count': 2}   \n",
       "11  {'low_resolution': {'width': 320, 'height': 32...  {'count': 87}   \n",
       "12  {'low_resolution': {'width': 320, 'height': 32...  {'count': 59}   \n",
       "13  {'low_resolution': {'width': 320, 'height': 32...  {'count': 31}   \n",
       "14  {'low_resolution': {'width': 320, 'height': 32...   {'count': 7}   \n",
       "\n",
       "                                             location  \\\n",
       "0   {'longitude': -0.23990477333333, 'latitude': 5...   \n",
       "1   {'longitude': -0.3183405110173, 'latitude': 51...   \n",
       "2   {'longitude': 0.14031792365121, 'latitude': 51...   \n",
       "3   {'longitude': 0.11606, 'latitude': 51.49525, '...   \n",
       "4   {'longitude': -0.185, 'latitude': 51.583, 'id'...   \n",
       "5   {'longitude': -0.16990783261964, 'latitude': 5...   \n",
       "6   {'longitude': -0.25005279108905, 'latitude': 5...   \n",
       "7   {'longitude': -0.0003945, 'latitude': 51.61669...   \n",
       "8   {'longitude': -0.22422306363769, 'latitude': 5...   \n",
       "9   {'longitude': -0.50962436, 'latitude': 51.4288...   \n",
       "10  {'longitude': -0.04548, 'latitude': 51.55493, ...   \n",
       "11  {'longitude': -0.047657510158, 'latitude': 51....   \n",
       "12  {'longitude': -0.16990783261964, 'latitude': 5...   \n",
       "13  {'longitude': -0.16990783261964, 'latitude': 5...   \n",
       "14  {'longitude': 0.0011153121992114, 'latitude': ...   \n",
       "\n",
       "                                                 tags           timestamp  \n",
       "0   [minimal_perfection, jj_indetail, igersoftheda... 2016-09-10 23:59:55  \n",
       "1                                                  [] 2016-09-10 23:59:50  \n",
       "2                                                  [] 2016-09-10 23:59:46  \n",
       "3                                                  [] 2016-09-10 23:59:36  \n",
       "4   [praisdentalcare, colgatebrightsmile, colgateb... 2016-09-10 23:59:33  \n",
       "5   [londonliving, streetphotography, love, nighto... 2016-09-10 23:59:08  \n",
       "6           [djs, popup, foodie, nw10, platta, music] 2016-09-10 23:59:08  \n",
       "7   [nomakeup, nofilter, needsomemakeupforfil, lov... 2016-09-10 23:59:07  \n",
       "8   [saturdaynight, awesome, drink, tbt, partytime... 2016-09-10 23:58:56  \n",
       "9                     [crazygirl, thropepark, london] 2016-09-10 23:58:52  \n",
       "10  [chatsworthroad, ilovechatsworthroadmagazine, ... 2016-09-10 23:58:51  \n",
       "11           [takemeback, throwbacksaturday, mykonos] 2016-09-10 23:58:29  \n",
       "12                                                 [] 2016-09-10 23:58:02  \n",
       "13  [lovemylife, style, evening, london, ciklabadz... 2016-09-10 23:57:56  \n",
       "14  [footballsunday, thestar, cowboysnation, nfluk... 2016-09-10 23:57:47  "
      ]
     },
     "execution_count": 12,
     "metadata": {},
     "output_type": "execute_result"
    }
   ],
   "source": [
    "oneDayData[:15]"
   ]
  },
  {
   "cell_type": "code",
   "execution_count": null,
   "metadata": {
    "collapsed": true
   },
   "outputs": [],
   "source": []
  }
 ],
 "metadata": {
  "kernelspec": {
   "display_name": "Python 3",
   "language": "python",
   "name": "python3"
  },
  "language_info": {
   "codemirror_mode": {
    "name": "ipython",
    "version": 3
   },
   "file_extension": ".py",
   "mimetype": "text/x-python",
   "name": "python",
   "nbconvert_exporter": "python",
   "pygments_lexer": "ipython3",
   "version": "3.5.2"
  }
 },
 "nbformat": 4,
 "nbformat_minor": 0
}
