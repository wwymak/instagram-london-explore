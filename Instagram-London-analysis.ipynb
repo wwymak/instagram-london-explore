{
 "cells": [
  {
   "cell_type": "markdown",
   "metadata": {},
   "source": [
    "This is an experiment in collecting instagram data to gather insights about London. One inspiration was from http://www.datascopeanalytics.com/blog/instagrams-blind-spot/, but I am also hoping to learn about what people are taking photos of, plus a bit of image analysis (colors of instagram viz comes to mind), and maybe eventually playing with doing some sort of image recognition with neural networks (if I ever get that far 😅)\n",
    "\n",
    "Anyways, what I've done is to call the media_search api endpoint to scrape photos from London -- instagram only seems to let you call 20 photos for this, so what I've done is to split up greater london into a grid of latlng pairs and hoover up stuff per grid. Obviously new photos are added all the time so to get the most out of it I set up a AWS lambda function that runs every hour to pick up new stuff. \n",
    "\n",
    "Obviously there will be duplications but I've imported all the files into a mongoDB with a unique index on the photo id to get unique posts\n",
    "\n",
    "The lambda and the parser is in nodejs since that's what I know most, but python comes with some handy tools (including scikit learn and notebooks...) so handing over to python for this bit...\n"
   ]
  },
  {
   "cell_type": "code",
   "execution_count": 1,
   "metadata": {
    "collapsed": true
   },
   "outputs": [],
   "source": [
    "import numpy as np\n",
    "import pandas as pd\n",
    "import pymongo\n",
    "from pymongo import MongoClient\n",
    "client = MongoClient()"
   ]
  },
  {
   "cell_type": "code",
   "execution_count": 2,
   "metadata": {
    "collapsed": true
   },
   "outputs": [],
   "source": [
    "from pprint import pprint"
   ]
  },
  {
   "cell_type": "code",
   "execution_count": 3,
   "metadata": {
    "collapsed": true
   },
   "outputs": [],
   "source": [
    "from bson.son import SON #needs sorting so..."
   ]
  },
  {
   "cell_type": "code",
   "execution_count": 121,
   "metadata": {
    "collapsed": false
   },
   "outputs": [],
   "source": [
    "#for geo parsing\n",
    "import json\n",
    "from shapely.geometry import shape, Point, mapping"
   ]
  },
  {
   "cell_type": "code",
   "execution_count": 31,
   "metadata": {
    "collapsed": false
   },
   "outputs": [],
   "source": [
    "%matplotlib inline\n",
    "\n",
    "import matplotlib as mpl\n",
    "import matplotlib.pyplot as plt\n",
    "from mpl_toolkits.basemap import Basemap\n",
    "import mplleaflet"
   ]
  },
  {
   "cell_type": "code",
   "execution_count": 48,
   "metadata": {
    "collapsed": false
   },
   "outputs": [],
   "source": [
    "import geopandas as gpd"
   ]
  },
  {
   "cell_type": "code",
   "execution_count": 6,
   "metadata": {
    "collapsed": true
   },
   "outputs": [],
   "source": [
    "#db setup-- the posts collection is the only one for stashing everything returned from that api endpoint\n",
    "db = client.instagramLondon\n",
    "coll = db.posts"
   ]
  },
  {
   "cell_type": "code",
   "execution_count": 8,
   "metadata": {
    "collapsed": false
   },
   "outputs": [
    {
     "name": "stdout",
     "output_type": "stream",
     "text": [
      "{'_id': ObjectId('57c46f2e4f084b83079167ac'),\n",
      " 'attribution': None,\n",
      " 'caption': {'created_time': '1472338156',\n",
      "             'from': {'full_name': 'Carlos Pinto @ London-Lisbon',\n",
      "                      'id': '245152137',\n",
      "                      'profile_picture': 'https://scontent.cdninstagram.com/t51.2885-19/10932399_451400081695046_252473917_a.jpg',\n",
      "                      'username': 'carlosmpinto10'},\n",
      "             'id': '17862561217003381',\n",
      "             'text': 'Category is \"west London realness\"! Thank you for coming '\n",
      "                     'and eating all my Portuguese saussages!!'},\n",
      " 'comments': {'count': 0},\n",
      " 'created_time': '1472338156',\n",
      " 'filter': 'Normal',\n",
      " 'id': '1326391051846276361_245152137',\n",
      " 'images': {'low_resolution': {'height': 320,\n",
      "                               'url': 'https://scontent.cdninstagram.com/t51.2885-15/s320x320/e35/14031729_1508980895794743_1117711764_n.jpg?ig_cache_key=MTMyNjM5MTA1MTg0NjI3NjM2MQ%3D%3D.2.l',\n",
      "                               'width': 320},\n",
      "            'standard_resolution': {'height': 640,\n",
      "                                    'url': 'https://scontent.cdninstagram.com/t51.2885-15/s640x640/sh0.08/e35/14031729_1508980895794743_1117711764_n.jpg?ig_cache_key=MTMyNjM5MTA1MTg0NjI3NjM2MQ%3D%3D.2.l',\n",
      "                                    'width': 640},\n",
      "            'thumbnail': {'height': 150,\n",
      "                          'url': 'https://scontent.cdninstagram.com/t51.2885-15/s150x150/e35/c135.0.810.810/14052465_1750888518533022_2599024_n.jpg?ig_cache_key=MTMyNjM5MTA1MTg0NjI3NjM2MQ%3D%3D.2.c',\n",
      "                          'width': 150}},\n",
      " 'likes': {'count': 6},\n",
      " 'link': 'https://www.instagram.com/p/BJoSaJWjdUJ/',\n",
      " 'location': {'id': 274501851,\n",
      "              'latitude': 51.479522539351,\n",
      "              'longitude': -0.21952589973828,\n",
      "              'name': 'Fullham, London'},\n",
      " 'tags': [],\n",
      " 'timestamp': datetime.datetime(2016, 8, 27, 22, 49, 16),\n",
      " 'type': 'image',\n",
      " 'user': {'full_name': 'Carlos Pinto @ London-Lisbon',\n",
      "          'id': '245152137',\n",
      "          'profile_picture': 'https://scontent.cdninstagram.com/t51.2885-19/10932399_451400081695046_252473917_a.jpg',\n",
      "          'username': 'carlosmpinto10'},\n",
      " 'user_has_liked': False,\n",
      " 'users_in_photo': []}\n"
     ]
    }
   ],
   "source": [
    "#here's what one record looks like\n",
    "pprint(coll.find_one())"
   ]
  },
  {
   "cell_type": "markdown",
   "metadata": {},
   "source": [
    "Some fields of interest here-- \n",
    "* tags (array) -- what are people talking about?\n",
    "* timestamp -- it's stored as a ISODate -- this is done in the parser from 'created_time'\n",
    "* images -- the url link to, would be really useful for color analysis\n",
    "* location -- for mapping, obviously 😄"
   ]
  },
  {
   "cell_type": "code",
   "execution_count": 9,
   "metadata": {
    "collapsed": false
   },
   "outputs": [
    {
     "name": "stdout",
     "output_type": "stream",
     "text": [
      "number of records: 96048\n"
     ]
    }
   ],
   "source": [
    "#some basic stats about the collection so far\n",
    "print('number of records: {}'.format(coll.count()))"
   ]
  },
  {
   "cell_type": "code",
   "execution_count": 10,
   "metadata": {
    "collapsed": false
   },
   "outputs": [
    {
     "data": {
      "text/plain": [
       "[{'_id': 'london', 'count': 25723},\n",
       " {'_id': 'uk', 'count': 3948},\n",
       " {'_id': 'travel', 'count': 3172},\n",
       " {'_id': 'love', 'count': 2908},\n",
       " {'_id': 'summer', 'count': 2735},\n",
       " {'_id': 'londonlife', 'count': 2606},\n",
       " {'_id': 'england', 'count': 2320},\n",
       " {'_id': 'instagood', 'count': 2318},\n",
       " {'_id': 'nottinghillcarnival', 'count': 2271},\n",
       " {'_id': 'carnival', 'count': 2092},\n",
       " {'_id': 'nottinghill', 'count': 2088},\n",
       " {'_id': 'art', 'count': 1967},\n",
       " {'_id': 'photooftheday', 'count': 1790},\n",
       " {'_id': 'architecture', 'count': 1761},\n",
       " {'_id': 'thisislondon', 'count': 1663},\n",
       " {'_id': 'photography', 'count': 1657},\n",
       " {'_id': 'fashion', 'count': 1632},\n",
       " {'_id': 'bankholiday', 'count': 1631},\n",
       " {'_id': 'picoftheday', 'count': 1572},\n",
       " {'_id': 'instadaily', 'count': 1499}]"
      ]
     },
     "execution_count": 10,
     "metadata": {},
     "output_type": "execute_result"
    }
   ],
   "source": [
    "#what are the top tags?\n",
    "pipeline = [ \n",
    "    {\"$unwind\": \"$tags\"}, \n",
    "    {\"$group\": {\"_id\": \"$tags\", \"count\": { \"$sum\": 1 }}}, \n",
    "    {\"$sort\" : SON({ \"count\" : -1}) }, \n",
    "    {\"$limit\": 20}]\n",
    "aggCursor = db.posts.aggregate(pipeline)\n",
    "toptags = list(aggCursor)\n",
    "toptags"
   ]
  },
  {
   "cell_type": "markdown",
   "metadata": {},
   "source": [
    "unsurprisingly, london comes top as a tag...\n",
    "However, there are some that I expect to be more 'seasonal'. e.g nottinghillcarnival (27-28 Aug 2016), bankholiday (29-8-2016)\n",
    "It would also be interesting to see which locations have a higher density of tags e.g. west end with 'theatre' maybe? Or 'bigben' around Westminster?"
   ]
  },
  {
   "cell_type": "code",
   "execution_count": 11,
   "metadata": {
    "collapsed": false
   },
   "outputs": [
    {
     "data": {
      "text/plain": [
       "datetime.datetime(2016, 8, 19, 15, 42, 48)"
      ]
     },
     "execution_count": 11,
     "metadata": {},
     "output_type": "execute_result"
    }
   ],
   "source": [
    "#min date:\n",
    "list(db.posts.find().sort(\"timestamp\", pymongo.ASCENDING).limit(1))[0]['timestamp']"
   ]
  },
  {
   "cell_type": "code",
   "execution_count": 12,
   "metadata": {
    "collapsed": false
   },
   "outputs": [
    {
     "data": {
      "text/plain": [
       "datetime.datetime(2016, 8, 31, 21, 54, 59)"
      ]
     },
     "execution_count": 12,
     "metadata": {},
     "output_type": "execute_result"
    }
   ],
   "source": [
    "#max date so far:\n",
    "list(db.posts.find().sort(\"timestamp\", pymongo.DESCENDING).limit(1))[0]['timestamp']"
   ]
  },
  {
   "cell_type": "code",
   "execution_count": 13,
   "metadata": {
    "collapsed": false
   },
   "outputs": [
    {
     "data": {
      "text/plain": [
       "[{'_id': {'name': '💕11/03/2016💕', 'userid': '1800822004'}, 'count': 96},\n",
       " {'_id': {'name': 'JUNJUN∵ゞ(´ε`⚫️)', 'userid': '1235345995'}, 'count': 57},\n",
       " {'_id': {'name': 'Nav Sandhu', 'userid': '2284422920'}, 'count': 53},\n",
       " {'_id': {'name': 'Irina Richie London', 'userid': '1274480976'}, 'count': 46},\n",
       " {'_id': {'name': 'Will Hammond', 'userid': '1562996357'}, 'count': 42},\n",
       " {'_id': {'name': 'Wim Deman', 'userid': '3571195078'}, 'count': 38},\n",
       " {'_id': {'name': '', 'userid': '355544734'}, 'count': 35},\n",
       " {'_id': {'name': 'Şirvan Uslu', 'userid': '1688297718'}, 'count': 32},\n",
       " {'_id': {'name': 'Ellz M', 'userid': '241533014'}, 'count': 31},\n",
       " {'_id': {'name': 'Nico', 'userid': '721280469'}, 'count': 31},\n",
       " {'_id': {'name': 'вrian 😷💉', 'userid': '7115543'}, 'count': 30},\n",
       " {'_id': {'name': '', 'userid': '2234850097'}, 'count': 30},\n",
       " {'_id': {'name': 'Jang', 'userid': '3261681681'}, 'count': 30},\n",
       " {'_id': {'name': 'Isabel Levin', 'userid': '1496882725'}, 'count': 28},\n",
       " {'_id': {'name': 'Silvia Vetrucci🌹', 'userid': '419499035'}, 'count': 27},\n",
       " {'_id': {'name': '✯N⋆I⋆C⋆O⋆U⋆K✯', 'userid': '3683701425'}, 'count': 27},\n",
       " {'_id': {'name': '', 'userid': '2136476461'}, 'count': 26},\n",
       " {'_id': {'name': 'Paint The World wz My MOB', 'userid': '19219735'},\n",
       "  'count': 25},\n",
       " {'_id': {'name': 'Quentin', 'userid': '2137043671'}, 'count': 25},\n",
       " {'_id': {'name': 'Rampage Sound', 'userid': '528218567'}, 'count': 25}]"
      ]
     },
     "execution_count": 13,
     "metadata": {},
     "output_type": "execute_result"
    }
   ],
   "source": [
    "#similar to tags, lets see who the top users are:\n",
    "pipeline = [\n",
    "    {\"$group\": {\"_id\": {\"userid\" :\"$user.id\", \"name\" : \"$user.full_name\"}, \"count\": { \"$sum\": 1 }}}, \n",
    "    {\"$sort\" : SON({ \"count\" : -1}) }, \n",
    "    {\"$limit\": 20}]\n",
    "aggCursor = db.posts.aggregate(pipeline)\n",
    "topUsers = list(aggCursor)\n",
    "topUsers"
   ]
  },
  {
   "cell_type": "code",
   "execution_count": 14,
   "metadata": {
    "collapsed": false
   },
   "outputs": [
    {
     "data": {
      "text/plain": [
       "{'_id': ObjectId('57c46f434f084b830791ead5'),\n",
       " 'attribution': None,\n",
       " 'caption': {'created_time': '1472347035',\n",
       "  'from': {'full_name': '',\n",
       "   'id': '3665940198',\n",
       "   'profile_picture': 'https://scontent.cdninstagram.com/t51.2885-19/s150x150/14052574_154788661623879_146262989_a.jpg',\n",
       "   'username': '30_30_europe'},\n",
       "  'id': '17851887115098564',\n",
       "  'text': '.\\n예약해 둔 스카이가든 가기 전에 들른 버로우마켓. 식료품 전문이라 들어가는 순간 맛있는 음식들이 천지삐까리! -\\n\\n#유럽여행 #런던여행 #버로우마켓 #boroughmarket'},\n",
       " 'comments': {'count': 0},\n",
       " 'created_time': '1472347035',\n",
       " 'filter': 'Normal',\n",
       " 'id': '1326465530261260760_3665940198',\n",
       " 'images': {'low_resolution': {'height': 320,\n",
       "   'url': 'https://scontent.cdninstagram.com/t51.2885-15/s320x320/e35/14031706_1254496294594574_1241856600_n.jpg?ig_cache_key=MTMyNjQ2NTUzMDI2MTI2MDc2MA%3D%3D.2.l',\n",
       "   'width': 320},\n",
       "  'standard_resolution': {'height': 640,\n",
       "   'url': 'https://scontent.cdninstagram.com/t51.2885-15/s640x640/sh0.08/e35/14031706_1254496294594574_1241856600_n.jpg?ig_cache_key=MTMyNjQ2NTUzMDI2MTI2MDc2MA%3D%3D.2.l',\n",
       "   'width': 640},\n",
       "  'thumbnail': {'height': 150,\n",
       "   'url': 'https://scontent.cdninstagram.com/t51.2885-15/s150x150/e35/c236.0.607.607/14072950_1809250425965221_2069712911_n.jpg?ig_cache_key=MTMyNjQ2NTUzMDI2MTI2MDc2MA%3D%3D.2.c',\n",
       "   'width': 150}},\n",
       " 'likes': {'count': 1},\n",
       " 'link': 'https://www.instagram.com/p/BJojV8yBcnY/',\n",
       " 'location': {'id': 1241986,\n",
       "  'latitude': 51.505598123459,\n",
       "  'longitude': -0.090366115224291,\n",
       "  'name': 'Borough Market'},\n",
       " 'tags': ['런던여행', '유럽여행', '버로우마켓', 'boroughmarket'],\n",
       " 'timestamp': datetime.datetime(2016, 8, 28, 1, 17, 15),\n",
       " 'type': 'image',\n",
       " 'user': {'full_name': '',\n",
       "  'id': '3665940198',\n",
       "  'profile_picture': 'https://scontent.cdninstagram.com/t51.2885-19/s150x150/14052574_154788661623879_146262989_a.jpg',\n",
       "  'username': '30_30_europe'},\n",
       " 'user_has_liked': False,\n",
       " 'users_in_photo': []}"
      ]
     },
     "execution_count": 14,
     "metadata": {},
     "output_type": "execute_result"
    }
   ],
   "source": [
    "#hmm, weirdly some users don't seem to have a name?? Lets check:\n",
    "coll.find_one({\"user.id\": '3665940198'})"
   ]
  },
  {
   "cell_type": "code",
   "execution_count": 15,
   "metadata": {
    "collapsed": false
   },
   "outputs": [
    {
     "data": {
      "text/plain": [
       "[{'_id': {'displayname': '💕11/03/2016💕',\n",
       "   'name': 'iwantsel2know',\n",
       "   'userid': '1800822004'},\n",
       "  'count': 96},\n",
       " {'_id': {'displayname': 'JUNJUN∵ゞ(´ε`⚫️)',\n",
       "   'name': 'junejunejunesay',\n",
       "   'userid': '1235345995'},\n",
       "  'count': 57},\n",
       " {'_id': {'displayname': 'Nav Sandhu',\n",
       "   'name': 'nav_77_sandhu',\n",
       "   'userid': '2284422920'},\n",
       "  'count': 53},\n",
       " {'_id': {'displayname': 'Irina Richie London',\n",
       "   'name': 'angelgol888',\n",
       "   'userid': '1274480976'},\n",
       "  'count': 46},\n",
       " {'_id': {'displayname': 'Will Hammond',\n",
       "   'name': 'the_face50',\n",
       "   'userid': '1562996357'},\n",
       "  'count': 42},\n",
       " {'_id': {'displayname': 'Wim Deman',\n",
       "   'name': 'wimbaland',\n",
       "   'userid': '3571195078'},\n",
       "  'count': 38},\n",
       " {'_id': {'displayname': '', 'name': 'me_eunk', 'userid': '355544734'},\n",
       "  'count': 35},\n",
       " {'_id': {'displayname': 'Şirvan Uslu',\n",
       "   'name': 'sirvanuslu',\n",
       "   'userid': '1688297718'},\n",
       "  'count': 32},\n",
       " {'_id': {'displayname': 'Ellz M', 'name': 'rawdoku', 'userid': '241533014'},\n",
       "  'count': 31},\n",
       " {'_id': {'displayname': 'Nico', 'name': 'nico.show', 'userid': '721280469'},\n",
       "  'count': 31},\n",
       " {'_id': {'displayname': 'Jang', 'name': 'namedcpot', 'userid': '3261681681'},\n",
       "  'count': 30},\n",
       " {'_id': {'displayname': 'вrian 😷💉',\n",
       "   'name': 'teethpuller',\n",
       "   'userid': '7115543'},\n",
       "  'count': 30},\n",
       " {'_id': {'displayname': '', 'name': 'quackhistory', 'userid': '2234850097'},\n",
       "  'count': 30},\n",
       " {'_id': {'displayname': 'Isabel Levin',\n",
       "   'name': 'miamibelka',\n",
       "   'userid': '1496882725'},\n",
       "  'count': 28},\n",
       " {'_id': {'displayname': '✯N⋆I⋆C⋆O⋆U⋆K✯',\n",
       "   'name': 'nicophotocomukofficial',\n",
       "   'userid': '3683701425'},\n",
       "  'count': 27},\n",
       " {'_id': {'displayname': 'Silvia Vetrucci🌹',\n",
       "   'name': 'instasivi__',\n",
       "   'userid': '419499035'},\n",
       "  'count': 27},\n",
       " {'_id': {'displayname': 'Quentin',\n",
       "   'name': 'q.langelot',\n",
       "   'userid': '2137043671'},\n",
       "  'count': 25},\n",
       " {'_id': {'displayname': 'Rampage Sound',\n",
       "   'name': 'rampagesound',\n",
       "   'userid': '528218567'},\n",
       "  'count': 25},\n",
       " {'_id': {'displayname': 'Paint The World wz My MOB',\n",
       "   'name': 'othellox',\n",
       "   'userid': '19219735'},\n",
       "  'count': 25},\n",
       " {'_id': {'displayname': '', 'name': 'hellowooya', 'userid': '1510125336'},\n",
       "  'count': 24}]"
      ]
     },
     "execution_count": 15,
     "metadata": {},
     "output_type": "execute_result"
    }
   ],
   "source": [
    "#aha-- I should have used the 'username' field rather than the full_name-- try again\n",
    "pipeline = [\n",
    "    {\"$group\": {\"_id\": {\"userid\" :\"$user.id\", \"name\" : \"$user.username\", \"displayname\":  \"$user.full_name\"}, \"count\": { \"$sum\": 1 }}}, \n",
    "    {\"$sort\" : SON({ \"count\" : -1}) }, \n",
    "    {\"$limit\": 20}]\n",
    "aggCursor = db.posts.aggregate(pipeline)\n",
    "topUsers = list(aggCursor)\n",
    "topUsers"
   ]
  },
  {
   "cell_type": "markdown",
   "metadata": {},
   "source": [
    "locations-- now here come the interesting part. If I use the census output areas polygons the location has to be mapped to each polygon... and with that many entries...?\n",
    "\n",
    "interstingly, each location has an id, so a more efficient way may be to check for unique ids and see what they are like first"
   ]
  },
  {
   "cell_type": "code",
   "execution_count": 8,
   "metadata": {
    "collapsed": false
   },
   "outputs": [
    {
     "data": {
      "text/plain": [
       "12473"
      ]
     },
     "execution_count": 8,
     "metadata": {},
     "output_type": "execute_result"
    }
   ],
   "source": [
    "distinctLocations = db.posts.distinct('location.id')\n",
    "len(distinctLocations)"
   ]
  },
  {
   "cell_type": "markdown",
   "metadata": {},
   "source": [
    "still a lot but quite a bit smaller than the number of entries...\n",
    "tools wise-- off the top of my head, explore turf.js. Also ogr and python has some geo tools too I think..."
   ]
  },
  {
   "cell_type": "markdown",
   "metadata": {},
   "source": [
    "london datastore has a stash of gis files relating to the OA in london-- can use these to get the right polygons\n",
    "using a combination of https://gist.github.com/benbalter/5858851 and https://github.com/mapbox/geojson-merge, I managed to get a geojson file with all the oa polygons in it. Now to figure out how to assign points to the polygons... there's shapely / basemap in python that may do the job..."
   ]
  },
  {
   "cell_type": "code",
   "execution_count": 17,
   "metadata": {
    "collapsed": false
   },
   "outputs": [],
   "source": [
    "with open('OA_2011_BGC_london.json', 'r') as f:\n",
    "    geojsonLondon = json.load(f)"
   ]
  },
  {
   "cell_type": "code",
   "execution_count": 18,
   "metadata": {
    "collapsed": false
   },
   "outputs": [
    {
     "data": {
      "text/plain": [
       "dict_keys(['type', 'features'])"
      ]
     },
     "execution_count": 18,
     "metadata": {},
     "output_type": "execute_result"
    }
   ],
   "source": [
    "#as per normal for geojson, the fields are 'features' and 'type'\n",
    "geojsonLondon.keys()"
   ]
  },
  {
   "cell_type": "code",
   "execution_count": 19,
   "metadata": {
    "collapsed": false
   },
   "outputs": [
    {
     "data": {
      "text/plain": [
       "{'geometry': {'coordinates': [[[0.123626833290036, 51.54779654745277],\n",
       "    [0.12335574483778, 51.547152580307085],\n",
       "    [0.124461441009959, 51.54699949469959],\n",
       "    [0.124735067322051, 51.546485385256254],\n",
       "    [0.124260323507369, 51.546072464300984],\n",
       "    [0.12317806894117, 51.54672764976483],\n",
       "    [0.122411920235362, 51.54611423142708],\n",
       "    [0.120869568613431, 51.54600154289857],\n",
       "    [0.120582018615427, 51.546843636735105],\n",
       "    [0.121599655706706, 51.546774408971245],\n",
       "    [0.121919852670241, 51.54739286050572],\n",
       "    [0.122225107444166, 51.54802445915372],\n",
       "    [0.123626833290036, 51.54779654745277]]],\n",
       "  'type': 'Polygon'},\n",
       " 'properties': {'AVHHOLDSZ': 2.4,\n",
       "  'COMESTRES': 0,\n",
       "  'HHOLDRES': 291,\n",
       "  'HHOLDS': 123,\n",
       "  'LAD11CD': 'E09000002',\n",
       "  'LAD11NM': 'Barking and Dagenham',\n",
       "  'LSOA11CD': 'E01000074',\n",
       "  'LSOA11NM': 'Barking and Dagenham 012C',\n",
       "  'MSOA11CD': 'E02000013',\n",
       "  'MSOA11NM': 'Barking and Dagenham 012',\n",
       "  'OA11CD': 'E00000371',\n",
       "  'POPDEN': 85.8,\n",
       "  'RGN11CD': 'E12000007',\n",
       "  'RGN11NM': 'London',\n",
       "  'USUALRES': 291,\n",
       "  'WD11CD_BF': 'E05000036',\n",
       "  'WD11NM_BF': 'Mayesbrook'},\n",
       " 'type': 'Feature'}"
      ]
     },
     "execution_count": 19,
     "metadata": {},
     "output_type": "execute_result"
    }
   ],
   "source": [
    "#inspecting what one of these areas look like-- the OA11CD is the smallest resolution one and is the one I would need...\n",
    "geojsonLondon['features'][0]"
   ]
  },
  {
   "cell_type": "code",
   "execution_count": 7,
   "metadata": {
    "collapsed": false
   },
   "outputs": [],
   "source": [
    "#one of the points:\n",
    "locations = db.posts.aggregate([{\"$group\": { \"_id\": {\"locationid\": \"$location.id\",\"lat\": \"$location.latitude\", \"lng\": \"$location.longitude\" } , \"count\": { \"$sum\": 1 }  }}]);"
   ]
  },
  {
   "cell_type": "code",
   "execution_count": 8,
   "metadata": {
    "collapsed": false
   },
   "outputs": [],
   "source": [
    "locations = list(locations)"
   ]
  },
  {
   "cell_type": "code",
   "execution_count": 21,
   "metadata": {
    "collapsed": false
   },
   "outputs": [
    {
     "data": {
      "text/plain": [
       "{'_id': {'lat': 28.950551311129,\n",
       "  'lng': -13.60872499554,\n",
       "  'locationid': 257558453},\n",
       " 'count': 1}"
      ]
     },
     "execution_count": 21,
     "metadata": {},
     "output_type": "execute_result"
    }
   ],
   "source": [
    "locations[1000]"
   ]
  },
  {
   "cell_type": "code",
   "execution_count": 35,
   "metadata": {
    "collapsed": false
   },
   "outputs": [
    {
     "name": "stdout",
     "output_type": "stream",
     "text": [
      "Found containing polygon:\n",
      "E00013442\n"
     ]
    }
   ],
   "source": [
    "#a quick test of the point finding routine with the first point in the locations list\n",
    "testPoint = Point(locations[0]['_id']['lng'], locations[0]['_id']['lat'])  #remember geojson is in [lng, lat]!!\n",
    "for feature in geojsonLondon['features']:\n",
    "    polygon = shape(feature['geometry'])\n",
    "    if polygon.contains(testPoint):\n",
    "        print( 'Found containing polygon:')\n",
    "        print(feature['properties']['OA11CD'])"
   ]
  },
  {
   "cell_type": "code",
   "execution_count": 36,
   "metadata": {
    "collapsed": false
   },
   "outputs": [],
   "source": [
    "#function for finding the OA11cd code for each point...\n",
    "def findContainingPolygon(lng, lat):\n",
    "    testPoint = Point(lng, lat)\n",
    "    for feature in geojsonLondon['features']:\n",
    "        polygon = shape(feature['geometry'])\n",
    "        if polygon.contains(testPoint):\n",
    "            return (feature['properties']['OA11CD'])\n",
    "    return \"\""
   ]
  },
  {
   "cell_type": "code",
   "execution_count": 37,
   "metadata": {
    "collapsed": false
   },
   "outputs": [
    {
     "data": {
      "text/plain": [
       "'E00013442'"
      ]
     },
     "execution_count": 37,
     "metadata": {},
     "output_type": "execute_result"
    }
   ],
   "source": [
    "#testing it again on point 1\n",
    "findContainingPolygon(locations[0]['_id']['lng'], locations[0]['_id']['lat'])"
   ]
  },
  {
   "cell_type": "code",
   "execution_count": 10,
   "metadata": {
    "collapsed": true
   },
   "outputs": [],
   "source": [
    "#lets try plotting a dot density map with Basemap first before going into full scale geospatial analysis...\n",
    "map = Basemap(urcrnrlat=51.531074,     # top\n",
    "              urcrnrlon=-0.069970,   # bottom\n",
    "              llcrnrlat=51.481157,     # left\n",
    "              llcrnrlon=-0.219215,   # right\n",
    "              epsg=3857)\n",
    "# map = Basemap(urcrnrlat=37.821981,     # top\n",
    "#               urcrnrlon=-122.343189,   # bottom\n",
    "#               llcrnrlat=37.697940,     # left\n",
    "#               llcrnrlon=-122.574915,   # right\n",
    "#               epsg=3857)\n"
   ]
  },
  {
   "cell_type": "code",
   "execution_count": 11,
   "metadata": {
    "collapsed": false
   },
   "outputs": [
    {
     "data": {
      "text/plain": [
       "<matplotlib.figure.Figure at 0x106547198>"
      ]
     },
     "metadata": {},
     "output_type": "display_data"
    }
   ],
   "source": [
    "width = 100\n",
    "height = 100\n",
    "\n",
    "fig = plt.gcf()\n",
    "fig.set_size_inches(width, height);\n"
   ]
  },
  {
   "cell_type": "code",
   "execution_count": 12,
   "metadata": {
    "collapsed": false,
    "scrolled": true
   },
   "outputs": [
    {
     "name": "stdout",
     "output_type": "stream",
     "text": [
      "http://server.arcgisonline.com/arcgis/rest/services/Canvas/World_Light_Gray_Base/MapServer/export?bbox=-24402.902174247465,6706850.231189484,-7789.024770805353,6715777.7024310045&bboxSR=3857&imageSR=3857&size=9600,5158&dpi=96&format=png32&f=image\n"
     ]
    },
    {
     "data": {
      "image/png": "[encoded data removed]",
      "text/plain": [
       "<matplotlib.figure.Figure at 0x10652ba58>"
      ]
     },
     "metadata": {},
     "output_type": "display_data"
    }
   ],
   "source": [
    "dpi = 96\n",
    "xpixels = dpi * width\n",
    "map.arcgisimage(server='http://server.arcgisonline.com/arcgis', service='Canvas/World_Light_Gray_Base', xpixels=xpixels, dpi=96, verbose=True)\n",
    "# map.arcgisimage(service='Canvas/World_Light_Gray_Base', xpixels=xpixels)\n",
    "plt.show();"
   ]
  },
  {
   "cell_type": "code",
   "execution_count": 13,
   "metadata": {
    "collapsed": false
   },
   "outputs": [],
   "source": [
    "lngPoints = [x['_id']['lng'] for x in locations]\n",
    "latPoints = [x['_id']['lat'] for x in locations]\n",
    "pointCount = [x['count'] for x in locations]"
   ]
  },
  {
   "cell_type": "code",
   "execution_count": 24,
   "metadata": {
    "collapsed": false
   },
   "outputs": [
    {
     "data": {
      "text/plain": [
       "-0.10764048"
      ]
     },
     "execution_count": 24,
     "metadata": {},
     "output_type": "execute_result"
    }
   ],
   "source": [
    "x, y = map(lngPoints, latPoints)"
   ]
  },
  {
   "cell_type": "code",
   "execution_count": 39,
   "metadata": {
    "collapsed": false
   },
   "outputs": [
    {
     "data": {
      "text/html": [
       "<iframe src=\"data:text/html;base64,PGhlYWQ+CiAgICA8c2NyaXB0IHNyYz0iaHR0cHM6Ly9jZG5qcy5jbG91ZGZsYXJlLmNvbS9hamF4L2xpYnMvbGVhZmxldC8wLjcuMy9sZWFmbGV0LmpzIj48L3NjcmlwdD4KICAgIDxsaW5rIHJlbD0ic3R5bGVzaGVldCIgaHJlZj0iaHR0cHM6Ly9jZG5qcy5jbG91ZGZsYXJlLmNvbS9hamF4L2xpYnMvbGVhZmxldC8wLjcuMy9sZWFmbGV0LmNzcyIgLz4KICA8c3R5bGU+CiAgICAjbWFwOTk4MzJiNjU3Nzg4NDU3NmJhY2QwNTM2ODE5OTNjZWIgewogICAgICBoZWlnaHQ6MTAwJTsKICAgIH0KICA8L3N0eWxlPiAKPC9oZWFkPgo8Ym9keT4KICA8ZGl2IGlkPSJtYXA5OTgzMmI2NTc3ODg0NTc2YmFjZDA1MzY4MTk5M2NlYiI+PC9kaXY+CjxzY3JpcHQgdGV4dD0idGV4dC9qYXZhc2NyaXB0Ij4KdmFyIG1hcCA9IEwubWFwKCdtYXA5OTgzMmI2NTc3ODg0NTc2YmFjZDA1MzY4MTk5M2NlYicpOwpMLnRpbGVMYXllcigKICAiaHR0cDovL3tzfS50aWxlLm9wZW5zdHJlZXRtYXAub3JnL3t6fS97eH0ve3l9LnBuZyIsCiAge21heFpvb206MTksIGF0dHJpYnV0aW9uOiAnPGEgaHJlZj0iaHR0cHM6Ly9naXRodWIuY29tL2p3YXNzL21wbGxlYWZsZXQiPm1wbGxlYWZsZXQ8L2E+IHwgTWFwIGRhdGEgKGMpIDxhIGhyZWY9Imh0dHA6Ly9vcGVuc3RyZWV0bWFwLm9yZyI+T3BlblN0cmVldE1hcDwvYT4gY29udHJpYnV0b3JzJ30pLmFkZFRvKG1hcCk7CnZhciBnakRhdGEgPSB7ImZlYXR1cmVzIjogW3sicHJvcGVydGllcyI6IHsiYW5jaG9yX3kiOiA0LjAsICJhbmNob3JfeCI6IDQuMCwgImh0bWwiOiAiPHN2ZyB3aWR0aD1cIjhweFwiIGhlaWdodD1cIjhweFwiIHZpZXdCb3g9XCItNC4wIC00LjAgOC4wIDguMFwiIHhtbG5zPVwiaHR0cDovL3d3dy53My5vcmcvMjAwMC9zdmdcIiB2ZXJzaW9uPVwiMS4xXCI+ICA8cGF0aCBkPVwiTSAtMy4xMDU2NDk5Njg3NSAzLjEwNTY0OTk2ODc1IEwgMy4xMDU2NDk5Njg3NSAzLjEwNTY0OTk2ODc1IEwgMy4xMDU2NDk5Njg3NSAtMy4xMDU2NDk5Njg3NSBMIC0zLjEwNTY0OTk2ODc1IC0zLjEwNTY0OTk2ODc1IFpcIiBzdHJva2Utd2lkdGg9XCIwLjBcIiBmaWxsLW9wYWNpdHk9XCIwLjlcIiBzdHJva2Utb3BhY2l0eT1cIjAuOVwiIHN0cm9rZT1cIiNGRjAwMDBcIiBmaWxsPVwiI0ZGMDAwMFwiIC8+PC9zdmc+In0sICJnZW9tZXRyeSI6IHsidHlwZSI6ICJQb2ludCIsICJjb29yZGluYXRlcyI6IFstMC4xMDc2NDA0OCwgNTEuNTI4NzM5MTUxNzJdfSwgInR5cGUiOiAiRmVhdHVyZSJ9LCB7InByb3BlcnRpZXMiOiB7ImFuY2hvcl95IjogNC4wLCAiYW5jaG9yX3giOiA0LjAsICJodG1sIjogIjxzdmcgd2lkdGg9XCI4cHhcIiBoZWlnaHQ9XCI4cHhcIiB2aWV3Qm94PVwiLTQuMCAtNC4wIDguMCA4LjBcIiB4bWxucz1cImh0dHA6Ly93d3cudzMub3JnLzIwMDAvc3ZnXCIgdmVyc2lvbj1cIjEuMVwiPiAgPHBhdGggZD1cIk0gLTMuMTA1NjQ5OTY4NzUgMy4xMDU2NDk5Njg3NSBMIDMuMTA1NjQ5OTY4NzUgMy4xMDU2NDk5Njg3NSBMIDMuMTA1NjQ5OTY4NzUgLTMuMTA1NjQ5OTY4NzUgTCAtMy4xMDU2NDk5Njg3NSAtMy4xMDU2NDk5Njg3NSBaXCIgc3Ryb2tlLXdpZHRoPVwiMC4wXCIgZmlsbC1vcGFjaXR5PVwiMC45XCIgc3Ryb2tlLW9wYWNpdHk9XCIwLjlcIiBzdHJva2U9XCIjRkYwMDAwXCIgZmlsbD1cIiNGRjAwMDBcIiAvPjwvc3ZnPiJ9LCAiZ2VvbWV0cnkiOiB7InR5cGUiOiAiUG9pbnQiLCAiY29vcmRpbmF0ZXMiOiBbLTAuMTI2MTYwMDgxNzM1OTcsIDUxLjUyODYzNDE0NTQ2NF19LCAidHlwZSI6ICJGZWF0dXJlIn0sIHsicHJvcGVydGllcyI6IHsiYW5jaG9yX3kiOiA0LjAsICJhbmNob3JfeCI6IDQuMCwgImh0bWwiOiAiPHN2ZyB3aWR0aD1cIjhweFwiIGhlaWdodD1cIjhweFwiIHZpZXdCb3g9XCItNC4wIC00LjAgOC4wIDguMFwiIHhtbG5zPVwiaHR0cDovL3d3dy53My5vcmcvMjAwMC9zdmdcIiB2ZXJzaW9uPVwiMS4xXCI+ICA8cGF0aCBkPVwiTSAtMy4xMDU2NDk5Njg3NSAzLjEwNTY0OTk2ODc1IEwgMy4xMDU2NDk5Njg3NSAzLjEwNTY0OTk2ODc1IEwgMy4xMDU2NDk5Njg3NSAtMy4xMDU2NDk5Njg3NSBMIC0zLjEwNTY0OTk2ODc1IC0zLjEwNTY0OTk2ODc1IFpcIiBzdHJva2Utd2lkdGg9XCIwLjBcIiBmaWxsLW9wYWNpdHk9XCIwLjlcIiBzdHJva2Utb3BhY2l0eT1cIjAuOVwiIHN0cm9rZT1cIiNGRjAwMDBcIiBmaWxsPVwiI0ZGMDAwMFwiIC8+PC9zdmc+In0sICJnZW9tZXRyeSI6IHsidHlwZSI6ICJQb2ludCIsICJjb29yZGluYXRlcyI6IFstMC4xNTM2MzEzMTE5NjA0LCA1MS41MjA3MDQ2MDcxNTldfSwgInR5cGUiOiAiRmVhdHVyZSJ9LCB7InByb3BlcnRpZXMiOiB7ImFuY2hvcl95IjogNC4wLCAiYW5jaG9yX3giOiA0LjAsICJodG1sIjogIjxzdmcgd2lkdGg9XCI4cHhcIiBoZWlnaHQ9XCI4cHhcIiB2aWV3Qm94PVwiLTQuMCAtNC4wIDguMCA4LjBcIiB4bWxucz1cImh0dHA6Ly93d3cudzMub3JnLzIwMDAvc3ZnXCIgdmVyc2lvbj1cIjEuMVwiPiAgPHBhdGggZD1cIk0gLTMuMTA1NjQ5OTY4NzUgMy4xMDU2NDk5Njg3NSBMIDMuMTA1NjQ5OTY4NzUgMy4xMDU2NDk5Njg3NSBMIDMuMTA1NjQ5OTY4NzUgLTMuMTA1NjQ5OTY4NzUgTCAtMy4xMDU2NDk5Njg3NSAtMy4xMDU2NDk5Njg3NSBaXCIgc3Ryb2tlLXdpZHRoPVwiMC4wXCIgZmlsbC1vcGFjaXR5PVwiMC45XCIgc3Ryb2tlLW9wYWNpdHk9XCIwLjlcIiBzdHJva2U9XCIjRkYwMDAwXCIgZmlsbD1cIiNGRjAwMDBcIiAvPjwvc3ZnPiJ9LCAiZ2VvbWV0cnkiOiB7InR5cGUiOiAiUG9pbnQiLCAiY29vcmRpbmF0ZXMiOiBbLTAuMTc0MjA3NTEsIDUxLjUyNzY3MzUyXX0sICJ0eXBlIjogIkZlYXR1cmUifSwgeyJwcm9wZXJ0aWVzIjogeyJhbmNob3JfeSI6IDQuMCwgImFuY2hvcl94IjogNC4wLCAiaHRtbCI6ICI8c3ZnIHdpZHRoPVwiOHB4XCIgaGVpZ2h0PVwiOHB4XCIgdmlld0JveD1cIi00LjAgLTQuMCA4LjAgOC4wXCIgeG1sbnM9XCJodHRwOi8vd3d3LnczLm9yZy8yMDAwL3N2Z1wiIHZlcnNpb249XCIxLjFcIj4gIDxwYXRoIGQ9XCJNIC0zLjEwNTY0OTk2ODc1IDMuMTA1NjQ5OTY4NzUgTCAzLjEwNTY0OTk2ODc1IDMuMTA1NjQ5OTY4NzUgTCAzLjEwNTY0OTk2ODc1IC0zLjEwNTY0OTk2ODc1IEwgLTMuMTA1NjQ5OTY4NzUgLTMuMTA1NjQ5OTY4NzUgWlwiIHN0cm9rZS13aWR0aD1cIjAuMFwiIGZpbGwtb3BhY2l0eT1cIjAuOVwiIHN0cm9rZS1vcGFjaXR5PVwiMC45XCIgc3Ryb2tlPVwiI0ZGMDAwMFwiIGZpbGw9XCIjRkYwMDAwXCIgLz48L3N2Zz4ifSwgImdlb21ldHJ5IjogeyJ0eXBlIjogIlBvaW50IiwgImNvb3JkaW5hdGVzIjogWy0wLjA4NzExNDQsIDUxLjUyMzMxMjVdfSwgInR5cGUiOiAiRmVhdHVyZSJ9LCB7InByb3BlcnRpZXMiOiB7ImFuY2hvcl95IjogNC4wLCAiYW5jaG9yX3giOiA0LjAsICJodG1sIjogIjxzdmcgd2lkdGg9XCI4cHhcIiBoZWlnaHQ9XCI4cHhcIiB2aWV3Qm94PVwiLTQuMCAtNC4wIDguMCA4LjBcIiB4bWxucz1cImh0dHA6Ly93d3cudzMub3JnLzIwMDAvc3ZnXCIgdmVyc2lvbj1cIjEuMVwiPiAgPHBhdGggZD1cIk0gLTMuMTA1NjQ5OTY4NzUgMy4xMDU2NDk5Njg3NSBMIDMuMTA1NjQ5OTY4NzUgMy4xMDU2NDk5Njg3NSBMIDMuMTA1NjQ5OTY4NzUgLTMuMTA1NjQ5OTY4NzUgTCAtMy4xMDU2NDk5Njg3NSAtMy4xMDU2NDk5Njg3NSBaXCIgc3Ryb2tlLXdpZHRoPVwiMC4wXCIgZmlsbC1vcGFjaXR5PVwiMC45XCIgc3Ryb2tlLW9wYWNpdHk9XCIwLjlcIiBzdHJva2U9XCIjRkYwMDAwXCIgZmlsbD1cIiNGRjAwMDBcIiAvPjwvc3ZnPiJ9LCAiZ2VvbWV0cnkiOiB7InR5cGUiOiAiUG9pbnQiLCAiY29vcmRpbmF0ZXMiOiBbLTAuMTIzNTUxLCA1MS41MjM5MDVdfSwgInR5cGUiOiAiRmVhdHVyZSJ9LCB7InByb3BlcnRpZXMiOiB7ImFuY2hvcl95IjogNC4wLCAiYW5jaG9yX3giOiA0LjAsICJodG1sIjogIjxzdmcgd2lkdGg9XCI4cHhcIiBoZWlnaHQ9XCI4cHhcIiB2aWV3Qm94PVwiLTQuMCAtNC4wIDguMCA4LjBcIiB4bWxucz1cImh0dHA6Ly93d3cudzMub3JnLzIwMDAvc3ZnXCIgdmVyc2lvbj1cIjEuMVwiPiAgPHBhdGggZD1cIk0gLTMuMTA1NjQ5OTY4NzUgMy4xMDU2NDk5Njg3NSBMIDMuMTA1NjQ5OTY4NzUgMy4xMDU2NDk5Njg3NSBMIDMuMTA1NjQ5OTY4NzUgLTMuMTA1NjQ5OTY4NzUgTCAtMy4xMDU2NDk5Njg3NSAtMy4xMDU2NDk5Njg3NSBaXCIgc3Ryb2tlLXdpZHRoPVwiMC4wXCIgZmlsbC1vcGFjaXR5PVwiMC45XCIgc3Ryb2tlLW9wYWNpdHk9XCIwLjlcIiBzdHJva2U9XCIjRkYwMDAwXCIgZmlsbD1cIiNGRjAwMDBcIiAvPjwvc3ZnPiJ9LCAiZ2VvbWV0cnkiOiB7InR5cGUiOiAiUG9pbnQiLCAiY29vcmRpbmF0ZXMiOiBbLTAuMTM5Mzg1MzU4MTEwNjcsIDUxLjUyMzA0MDQyNzg3NV19LCAidHlwZSI6ICJGZWF0dXJlIn0sIHsicHJvcGVydGllcyI6IHsiYW5jaG9yX3kiOiA0LjAsICJhbmNob3JfeCI6IDQuMCwgImh0bWwiOiAiPHN2ZyB3aWR0aD1cIjhweFwiIGhlaWdodD1cIjhweFwiIHZpZXdCb3g9XCItNC4wIC00LjAgOC4wIDguMFwiIHhtbG5zPVwiaHR0cDovL3d3dy53My5vcmcvMjAwMC9zdmdcIiB2ZXJzaW9uPVwiMS4xXCI+ICA8cGF0aCBkPVwiTSAtMy4xMDU2NDk5Njg3NSAzLjEwNTY0OTk2ODc1IEwgMy4xMDU2NDk5Njg3NSAzLjEwNTY0OTk2ODc1IEwgMy4xMDU2NDk5Njg3NSAtMy4xMDU2NDk5Njg3NSBMIC0zLjEwNTY0OTk2ODc1IC0zLjEwNTY0OTk2ODc1IFpcIiBzdHJva2Utd2lkdGg9XCIwLjBcIiBmaWxsLW9wYWNpdHk9XCIwLjlcIiBzdHJva2Utb3BhY2l0eT1cIjAuOVwiIHN0cm9rZT1cIiNGRjAwMDBcIiBmaWxsPVwiI0ZGMDAwMFwiIC8+PC9zdmc+In0sICJnZW9tZXRyeSI6IHsidHlwZSI6ICJQb2ludCIsICJjb29yZGluYXRlcyI6IFstMC4xNDM2LCA1MS41MjI3XX0sICJ0eXBlIjogIkZlYXR1cmUifSwgeyJwcm9wZXJ0aWVzIjogeyJhbmNob3JfeSI6IDQuMCwgImFuY2hvcl94IjogNC4wLCAiaHRtbCI6ICI8c3ZnIHdpZHRoPVwiOHB4XCIgaGVpZ2h0PVwiOHB4XCIgdmlld0JveD1cIi00LjAgLTQuMCA4LjAgOC4wXCIgeG1sbnM9XCJodHRwOi8vd3d3LnczLm9yZy8yMDAwL3N2Z1wiIHZlcnNpb249XCIxLjFcIj4gIDxwYXRoIGQ9XCJNIC0zLjEwNTY0OTk2ODc1IDMuMTA1NjQ5OTY4NzUgTCAzLjEwNTY0OTk2ODc1IDMuMTA1NjQ5OTY4NzUgTCAzLjEwNTY0OTk2ODc1IC0zLjEwNTY0OTk2ODc1IEwgLTMuMTA1NjQ5OTY4NzUgLTMuMTA1NjQ5OTY4NzUgWlwiIHN0cm9rZS13aWR0aD1cIjAuMFwiIGZpbGwtb3BhY2l0eT1cIjAuOVwiIHN0cm9rZS1vcGFjaXR5PVwiMC45XCIgc3Ryb2tlPVwiI0ZGMDAwMFwiIGZpbGw9XCIjRkYwMDAwXCIgLz48L3N2Zz4ifSwgImdlb21ldHJ5IjogeyJ0eXBlIjogIlBvaW50IiwgImNvb3JkaW5hdGVzIjogWy0wLjIxNDU5ODE3ODg2MzUzLCA1MS41MjU1NTM0OTMyOF19LCAidHlwZSI6ICJGZWF0dXJlIn0sIHsicHJvcGVydGllcyI6IHsiYW5jaG9yX3kiOiA0LjAsICJhbmNob3JfeCI6IDQuMCwgImh0bWwiOiAiPHN2ZyB3aWR0aD1cIjhweFwiIGhlaWdodD1cIjhweFwiIHZpZXdCb3g9XCItNC4wIC00LjAgOC4wIDguMFwiIHhtbG5zPVwiaHR0cDovL3d3dy53My5vcmcvMjAwMC9zdmdcIiB2ZXJzaW9uPVwiMS4xXCI+ICA8cGF0aCBkPVwiTSAtMy4xMDU2NDk5Njg3NSAzLjEwNTY0OTk2ODc1IEwgMy4xMDU2NDk5Njg3NSAzLjEwNTY0OTk2ODc1IEwgMy4xMDU2NDk5Njg3NSAtMy4xMDU2NDk5Njg3NSBMIC0zLjEwNTY0OTk2ODc1IC0zLjEwNTY0OTk2ODc1IFpcIiBzdHJva2Utd2lkdGg9XCIwLjBcIiBmaWxsLW9wYWNpdHk9XCIwLjlcIiBzdHJva2Utb3BhY2l0eT1cIjAuOVwiIHN0cm9rZT1cIiNGRjAwMDBcIiBmaWxsPVwiI0ZGMDAwMFwiIC8+PC9zdmc+In0sICJnZW9tZXRyeSI6IHsidHlwZSI6ICJQb2ludCIsICJjb29yZGluYXRlcyI6IFstMC4wNzY3OTcsIDUxLjUxOTQzMl19LCAidHlwZSI6ICJGZWF0dXJlIn0sIHsicHJvcGVydGllcyI6IHsiYW5jaG9yX3kiOiA0LjAsICJhbmNob3JfeCI6IDQuMCwgImh0bWwiOiAiPHN2ZyB3aWR0aD1cIjhweFwiIGhlaWdodD1cIjhweFwiIHZpZXdCb3g9XCItNC4wIC00LjAgOC4wIDguMFwiIHhtbG5zPVwiaHR0cDovL3d3dy53My5vcmcvMjAwMC9zdmdcIiB2ZXJzaW9uPVwiMS4xXCI+ICA8cGF0aCBkPVwiTSAtMy4xMDU2NDk5Njg3NSAzLjEwNTY0OTk2ODc1IEwgMy4xMDU2NDk5Njg3NSAzLjEwNTY0OTk2ODc1IEwgMy4xMDU2NDk5Njg3NSAtMy4xMDU2NDk5Njg3NSBMIC0zLjEwNTY0OTk2ODc1IC0zLjEwNTY0OTk2ODc1IFpcIiBzdHJva2Utd2lkdGg9XCIwLjBcIiBmaWxsLW9wYWNpdHk9XCIwLjlcIiBzdHJva2Utb3BhY2l0eT1cIjAuOVwiIHN0cm9rZT1cIiNGRjAwMDBcIiBmaWxsPVwiI0ZGMDAwMFwiIC8+PC9zdmc+In0sICJnZW9tZXRyeSI6IHsidHlwZSI6ICJQb2ludCIsICJjb29yZGluYXRlcyI6IFstMC4xMDc2MTkxLCA1MS41MjEzMTU5XX0sICJ0eXBlIjogIkZlYXR1cmUifSwgeyJwcm9wZXJ0aWVzIjogeyJhbmNob3JfeSI6IDQuMCwgImFuY2hvcl94IjogNC4wLCAiaHRtbCI6ICI8c3ZnIHdpZHRoPVwiOHB4XCIgaGVpZ2h0PVwiOHB4XCIgdmlld0JveD1cIi00LjAgLTQuMCA4LjAgOC4wXCIgeG1sbnM9XCJodHRwOi8vd3d3LnczLm9yZy8yMDAwL3N2Z1wiIHZlcnNpb249XCIxLjFcIj4gIDxwYXRoIGQ9XCJNIC0zLjEwNTY0OTk2ODc1IDMuMTA1NjQ5OTY4NzUgTCAzLjEwNTY0OTk2ODc1IDMuMTA1NjQ5OTY4NzUgTCAzLjEwNTY0OTk2ODc1IC0zLjEwNTY0OTk2ODc1IEwgLTMuMTA1NjQ5OTY4NzUgLTMuMTA1NjQ5OTY4NzUgWlwiIHN0cm9rZS13aWR0aD1cIjAuMFwiIGZpbGwtb3BhY2l0eT1cIjAuOVwiIHN0cm9rZS1vcGFjaXR5PVwiMC45XCIgc3Ryb2tlPVwiI0ZGMDAwMFwiIGZpbGw9XCIjRkYwMDAwXCIgLz48L3N2Zz4ifSwgImdlb21ldHJ5IjogeyJ0eXBlIjogIlBvaW50IiwgImNvb3JkaW5hdGVzIjogWy0wLjE1NDYxMDcwMjg0MDM3LCA1MS41MjAwOTQ4MDgxODNdfSwgInR5cGUiOiAiRmVhdHVyZSJ9LCB7InByb3BlcnRpZXMiOiB7ImFuY2hvcl95IjogNC4wLCAiYW5jaG9yX3giOiA0LjAsICJodG1sIjogIjxzdmcgd2lkdGg9XCI4cHhcIiBoZWlnaHQ9XCI4cHhcIiB2aWV3Qm94PVwiLTQuMCAtNC4wIDguMCA4LjBcIiB4bWxucz1cImh0dHA6Ly93d3cudzMub3JnLzIwMDAvc3ZnXCIgdmVyc2lvbj1cIjEuMVwiPiAgPHBhdGggZD1cIk0gLTMuMTA1NjQ5OTY4NzUgMy4xMDU2NDk5Njg3NSBMIDMuMTA1NjQ5OTY4NzUgMy4xMDU2NDk5Njg3NSBMIDMuMTA1NjQ5OTY4NzUgLTMuMTA1NjQ5OTY4NzUgTCAtMy4xMDU2NDk5Njg3NSAtMy4xMDU2NDk5Njg3NSBaXCIgc3Ryb2tlLXdpZHRoPVwiMC4wXCIgZmlsbC1vcGFjaXR5PVwiMC45XCIgc3Ryb2tlLW9wYWNpdHk9XCIwLjlcIiBzdHJva2U9XCIjRkYwMDAwXCIgZmlsbD1cIiNGRjAwMDBcIiAvPjwvc3ZnPiJ9LCAiZ2VvbWV0cnkiOiB7InR5cGUiOiAiUG9pbnQiLCAiY29vcmRpbmF0ZXMiOiBbLTAuMTY3NDgzOTQsIDUxLjUxODA2NTA0MzMzM119LCAidHlwZSI6ICJGZWF0dXJlIn0sIHsicHJvcGVydGllcyI6IHsiYW5jaG9yX3kiOiA0LjAsICJhbmNob3JfeCI6IDQuMCwgImh0bWwiOiAiPHN2ZyB3aWR0aD1cIjhweFwiIGhlaWdodD1cIjhweFwiIHZpZXdCb3g9XCItNC4wIC00LjAgOC4wIDguMFwiIHhtbG5zPVwiaHR0cDovL3d3dy53My5vcmcvMjAwMC9zdmdcIiB2ZXJzaW9uPVwiMS4xXCI+ICA8cGF0aCBkPVwiTSAtMy4xMDU2NDk5Njg3NSAzLjEwNTY0OTk2ODc1IEwgMy4xMDU2NDk5Njg3NSAzLjEwNTY0OTk2ODc1IEwgMy4xMDU2NDk5Njg3NSAtMy4xMDU2NDk5Njg3NSBMIC0zLjEwNTY0OTk2ODc1IC0zLjEwNTY0OTk2ODc1IFpcIiBzdHJva2Utd2lkdGg9XCIwLjBcIiBmaWxsLW9wYWNpdHk9XCIwLjlcIiBzdHJva2Utb3BhY2l0eT1cIjAuOVwiIHN0cm9rZT1cIiNGRjAwMDBcIiBmaWxsPVwiI0ZGMDAwMFwiIC8+PC9zdmc+In0sICJnZW9tZXRyeSI6IHsidHlwZSI6ICJQb2ludCIsICJjb29yZGluYXRlcyI6IFstMC4wODQxNzQ2LCA1MS41MTM3NzM4XX0sICJ0eXBlIjogIkZlYXR1cmUifSwgeyJwcm9wZXJ0aWVzIjogeyJhbmNob3JfeSI6IDQuMCwgImFuY2hvcl94IjogNC4wLCAiaHRtbCI6ICI8c3ZnIHdpZHRoPVwiOHB4XCIgaGVpZ2h0PVwiOHB4XCIgdmlld0JveD1cIi00LjAgLTQuMCA4LjAgOC4wXCIgeG1sbnM9XCJodHRwOi8vd3d3LnczLm9yZy8yMDAwL3N2Z1wiIHZlcnNpb249XCIxLjFcIj4gIDxwYXRoIGQ9XCJNIC0zLjEwNTY0OTk2ODc1IDMuMTA1NjQ5OTY4NzUgTCAzLjEwNTY0OTk2ODc1IDMuMTA1NjQ5OTY4NzUgTCAzLjEwNTY0OTk2ODc1IC0zLjEwNTY0OTk2ODc1IEwgLTMuMTA1NjQ5OTY4NzUgLTMuMTA1NjQ5OTY4NzUgWlwiIHN0cm9rZS13aWR0aD1cIjAuMFwiIGZpbGwtb3BhY2l0eT1cIjAuOVwiIHN0cm9rZS1vcGFjaXR5PVwiMC45XCIgc3Ryb2tlPVwiI0ZGMDAwMFwiIGZpbGw9XCIjRkYwMDAwXCIgLz48L3N2Zz4ifSwgImdlb21ldHJ5IjogeyJ0eXBlIjogIlBvaW50IiwgImNvb3JkaW5hdGVzIjogWy0wLjEyMzY0OTExMTExMTExLCA1MS41MTAwNDAyMjIyMjJdfSwgInR5cGUiOiAiRmVhdHVyZSJ9LCB7InByb3BlcnRpZXMiOiB7ImFuY2hvcl95IjogNC4wLCAiYW5jaG9yX3giOiA0LjAsICJodG1sIjogIjxzdmcgd2lkdGg9XCI4cHhcIiBoZWlnaHQ9XCI4cHhcIiB2aWV3Qm94PVwiLTQuMCAtNC4wIDguMCA4LjBcIiB4bWxucz1cImh0dHA6Ly93d3cudzMub3JnLzIwMDAvc3ZnXCIgdmVyc2lvbj1cIjEuMVwiPiAgPHBhdGggZD1cIk0gLTMuMTA1NjQ5OTY4NzUgMy4xMDU2NDk5Njg3NSBMIDMuMTA1NjQ5OTY4NzUgMy4xMDU2NDk5Njg3NSBMIDMuMTA1NjQ5OTY4NzUgLTMuMTA1NjQ5OTY4NzUgTCAtMy4xMDU2NDk5Njg3NSAtMy4xMDU2NDk5Njg3NSBaXCIgc3Ryb2tlLXdpZHRoPVwiMC4wXCIgZmlsbC1vcGFjaXR5PVwiMC45XCIgc3Ryb2tlLW9wYWNpdHk9XCIwLjlcIiBzdHJva2U9XCIjRkYwMDAwXCIgZmlsbD1cIiNGRjAwMDBcIiAvPjwvc3ZnPiJ9LCAiZ2VvbWV0cnkiOiB7InR5cGUiOiAiUG9pbnQiLCAiY29vcmRpbmF0ZXMiOiBbLTAuMTIyNjA1MDY3ODA0ODUsIDUxLjUxMTc1MDE1NTkwNV19LCAidHlwZSI6ICJGZWF0dXJlIn0sIHsicHJvcGVydGllcyI6IHsiYW5jaG9yX3kiOiA0LjAsICJhbmNob3JfeCI6IDQuMCwgImh0bWwiOiAiPHN2ZyB3aWR0aD1cIjhweFwiIGhlaWdodD1cIjhweFwiIHZpZXdCb3g9XCItNC4wIC00LjAgOC4wIDguMFwiIHhtbG5zPVwiaHR0cDovL3d3dy53My5vcmcvMjAwMC9zdmdcIiB2ZXJzaW9uPVwiMS4xXCI+ICA8cGF0aCBkPVwiTSAtMy4xMDU2NDk5Njg3NSAzLjEwNTY0OTk2ODc1IEwgMy4xMDU2NDk5Njg3NSAzLjEwNTY0OTk2ODc1IEwgMy4xMDU2NDk5Njg3NSAtMy4xMDU2NDk5Njg3NSBMIC0zLjEwNTY0OTk2ODc1IC0zLjEwNTY0OTk2ODc1IFpcIiBzdHJva2Utd2lkdGg9XCIwLjBcIiBmaWxsLW9wYWNpdHk9XCIwLjlcIiBzdHJva2Utb3BhY2l0eT1cIjAuOVwiIHN0cm9rZT1cIiNGRjAwMDBcIiBmaWxsPVwiI0ZGMDAwMFwiIC8+PC9zdmc+In0sICJnZW9tZXRyeSI6IHsidHlwZSI6ICJQb2ludCIsICJjb29yZGluYXRlcyI6IFstMC4xMTkyMDEyMDg1OTM4OCwgNTEuNTE3MjY1Mzc3MzA5XX0sICJ0eXBlIjogIkZlYXR1cmUifSwgeyJwcm9wZXJ0aWVzIjogeyJhbmNob3JfeSI6IDQuMCwgImFuY2hvcl94IjogNC4wLCAiaHRtbCI6ICI8c3ZnIHdpZHRoPVwiOHB4XCIgaGVpZ2h0PVwiOHB4XCIgdmlld0JveD1cIi00LjAgLTQuMCA4LjAgOC4wXCIgeG1sbnM9XCJodHRwOi8vd3d3LnczLm9yZy8yMDAwL3N2Z1wiIHZlcnNpb249XCIxLjFcIj4gIDxwYXRoIGQ9XCJNIC0zLjEwNTY0OTk2ODc1IDMuMTA1NjQ5OTY4NzUgTCAzLjEwNTY0OTk2ODc1IDMuMTA1NjQ5OTY4NzUgTCAzLjEwNTY0OTk2ODc1IC0zLjEwNTY0OTk2ODc1IEwgLTMuMTA1NjQ5OTY4NzUgLTMuMTA1NjQ5OTY4NzUgWlwiIHN0cm9rZS13aWR0aD1cIjAuMFwiIGZpbGwtb3BhY2l0eT1cIjAuOVwiIHN0cm9rZS1vcGFjaXR5PVwiMC45XCIgc3Ryb2tlPVwiI0ZGMDAwMFwiIGZpbGw9XCIjRkYwMDAwXCIgLz48L3N2Zz4ifSwgImdlb21ldHJ5IjogeyJ0eXBlIjogIlBvaW50IiwgImNvb3JkaW5hdGVzIjogWy0wLjEyNTIzNzAzMTI5ODE3LCA1MS41MTIwODE3ODQ4OTddfSwgInR5cGUiOiAiRmVhdHVyZSJ9LCB7InByb3BlcnRpZXMiOiB7ImFuY2hvcl95IjogNC4wLCAiYW5jaG9yX3giOiA0LjAsICJodG1sIjogIjxzdmcgd2lkdGg9XCI4cHhcIiBoZWlnaHQ9XCI4cHhcIiB2aWV3Qm94PVwiLTQuMCAtNC4wIDguMCA4LjBcIiB4bWxucz1cImh0dHA6Ly93d3cudzMub3JnLzIwMDAvc3ZnXCIgdmVyc2lvbj1cIjEuMVwiPiAgPHBhdGggZD1cIk0gLTMuMTA1NjQ5OTY4NzUgMy4xMDU2NDk5Njg3NSBMIDMuMTA1NjQ5OTY4NzUgMy4xMDU2NDk5Njg3NSBMIDMuMTA1NjQ5OTY4NzUgLTMuMTA1NjQ5OTY4NzUgTCAtMy4xMDU2NDk5Njg3NSAtMy4xMDU2NDk5Njg3NSBaXCIgc3Ryb2tlLXdpZHRoPVwiMC4wXCIgZmlsbC1vcGFjaXR5PVwiMC45XCIgc3Ryb2tlLW9wYWNpdHk9XCIwLjlcIiBzdHJva2U9XCIjRkYwMDAwXCIgZmlsbD1cIiNGRjAwMDBcIiAvPjwvc3ZnPiJ9LCAiZ2VvbWV0cnkiOiB7InR5cGUiOiAiUG9pbnQiLCAiY29vcmRpbmF0ZXMiOiBbLTAuMTI2MTM4MTAxMjM5OTUsIDUxLjUxNjA0MjM1MjU5NV19LCAidHlwZSI6ICJGZWF0dXJlIn0sIHsicHJvcGVydGllcyI6IHsiYW5jaG9yX3kiOiA0LjAsICJhbmNob3JfeCI6IDQuMCwgImh0bWwiOiAiPHN2ZyB3aWR0aD1cIjhweFwiIGhlaWdodD1cIjhweFwiIHZpZXdCb3g9XCItNC4wIC00LjAgOC4wIDguMFwiIHhtbG5zPVwiaHR0cDovL3d3dy53My5vcmcvMjAwMC9zdmdcIiB2ZXJzaW9uPVwiMS4xXCI+ICA8cGF0aCBkPVwiTSAtMy4xMDU2NDk5Njg3NSAzLjEwNTY0OTk2ODc1IEwgMy4xMDU2NDk5Njg3NSAzLjEwNTY0OTk2ODc1IEwgMy4xMDU2NDk5Njg3NSAtMy4xMDU2NDk5Njg3NSBMIC0zLjEwNTY0OTk2ODc1IC0zLjEwNTY0OTk2ODc1IFpcIiBzdHJva2Utd2lkdGg9XCIwLjBcIiBmaWxsLW9wYWNpdHk9XCIwLjlcIiBzdHJva2Utb3BhY2l0eT1cIjAuOVwiIHN0cm9rZT1cIiNGRjAwMDBcIiBmaWxsPVwiI0ZGMDAwMFwiIC8+PC9zdmc+In0sICJnZW9tZXRyeSI6IHsidHlwZSI6ICJQb2ludCIsICJjb29yZGluYXRlcyI6IFstMC4xNTA5MzU2MTI2MTkwNiwgNTEuNTE1NDQ5MTc4NDUzXX0sICJ0eXBlIjogIkZlYXR1cmUifSwgeyJwcm9wZXJ0aWVzIjogeyJhbmNob3JfeSI6IDQuMCwgImFuY2hvcl94IjogNC4wLCAiaHRtbCI6ICI8c3ZnIHdpZHRoPVwiOHB4XCIgaGVpZ2h0PVwiOHB4XCIgdmlld0JveD1cIi00LjAgLTQuMCA4LjAgOC4wXCIgeG1sbnM9XCJodHRwOi8vd3d3LnczLm9yZy8yMDAwL3N2Z1wiIHZlcnNpb249XCIxLjFcIj4gIDxwYXRoIGQ9XCJNIC0zLjEwNTY0OTk2ODc1IDMuMTA1NjQ5OTY4NzUgTCAzLjEwNTY0OTk2ODc1IDMuMTA1NjQ5OTY4NzUgTCAzLjEwNTY0OTk2ODc1IC0zLjEwNTY0OTk2ODc1IEwgLTMuMTA1NjQ5OTY4NzUgLTMuMTA1NjQ5OTY4NzUgWlwiIHN0cm9rZS13aWR0aD1cIjAuMFwiIGZpbGwtb3BhY2l0eT1cIjAuOVwiIHN0cm9rZS1vcGFjaXR5PVwiMC45XCIgc3Ryb2tlPVwiI0ZGMDAwMFwiIGZpbGw9XCIjRkYwMDAwXCIgLz48L3N2Zz4ifSwgImdlb21ldHJ5IjogeyJ0eXBlIjogIlBvaW50IiwgImNvb3JkaW5hdGVzIjogWy0wLjE3Njg4MzUsIDUxLjUxNTgxODZdfSwgInR5cGUiOiAiRmVhdHVyZSJ9LCB7InByb3BlcnRpZXMiOiB7ImFuY2hvcl95IjogNC4wLCAiYW5jaG9yX3giOiA0LjAsICJodG1sIjogIjxzdmcgd2lkdGg9XCI4cHhcIiBoZWlnaHQ9XCI4cHhcIiB2aWV3Qm94PVwiLTQuMCAtNC4wIDguMCA4LjBcIiB4bWxucz1cImh0dHA6Ly93d3cudzMub3JnLzIwMDAvc3ZnXCIgdmVyc2lvbj1cIjEuMVwiPiAgPHBhdGggZD1cIk0gLTMuMTA1NjQ5OTY4NzUgMy4xMDU2NDk5Njg3NSBMIDMuMTA1NjQ5OTY4NzUgMy4xMDU2NDk5Njg3NSBMIDMuMTA1NjQ5OTY4NzUgLTMuMTA1NjQ5OTY4NzUgTCAtMy4xMDU2NDk5Njg3NSAtMy4xMDU2NDk5Njg3NSBaXCIgc3Ryb2tlLXdpZHRoPVwiMC4wXCIgZmlsbC1vcGFjaXR5PVwiMC45XCIgc3Ryb2tlLW9wYWNpdHk9XCIwLjlcIiBzdHJva2U9XCIjRkYwMDAwXCIgZmlsbD1cIiNGRjAwMDBcIiAvPjwvc3ZnPiJ9LCAiZ2VvbWV0cnkiOiB7InR5cGUiOiAiUG9pbnQiLCAiY29vcmRpbmF0ZXMiOiBbLTAuMTM5Mzc4NywgNTEuNTEyNDg1NF19LCAidHlwZSI6ICJGZWF0dXJlIn0sIHsicHJvcGVydGllcyI6IHsiYW5jaG9yX3kiOiA0LjAsICJhbmNob3JfeCI6IDQuMCwgImh0bWwiOiAiPHN2ZyB3aWR0aD1cIjhweFwiIGhlaWdodD1cIjhweFwiIHZpZXdCb3g9XCItNC4wIC00LjAgOC4wIDguMFwiIHhtbG5zPVwiaHR0cDovL3d3dy53My5vcmcvMjAwMC9zdmdcIiB2ZXJzaW9uPVwiMS4xXCI+ICA8cGF0aCBkPVwiTSAtMy4xMDU2NDk5Njg3NSAzLjEwNTY0OTk2ODc1IEwgMy4xMDU2NDk5Njg3NSAzLjEwNTY0OTk2ODc1IEwgMy4xMDU2NDk5Njg3NSAtMy4xMDU2NDk5Njg3NSBMIC0zLjEwNTY0OTk2ODc1IC0zLjEwNTY0OTk2ODc1IFpcIiBzdHJva2Utd2lkdGg9XCIwLjBcIiBmaWxsLW9wYWNpdHk9XCIwLjlcIiBzdHJva2Utb3BhY2l0eT1cIjAuOVwiIHN0cm9rZT1cIiNGRjAwMDBcIiBmaWxsPVwiI0ZGMDAwMFwiIC8+PC9zdmc+In0sICJnZW9tZXRyeSI6IHsidHlwZSI6ICJQb2ludCIsICJjb29yZGluYXRlcyI6IFstMC4wODc3Nzc3Nzc3Nzc3NzgsIDUxLjUwODA1NTU1NTU1Nl19LCAidHlwZSI6ICJGZWF0dXJlIn0sIHsicHJvcGVydGllcyI6IHsiYW5jaG9yX3kiOiA0LjAsICJhbmNob3JfeCI6IDQuMCwgImh0bWwiOiAiPHN2ZyB3aWR0aD1cIjhweFwiIGhlaWdodD1cIjhweFwiIHZpZXdCb3g9XCItNC4wIC00LjAgOC4wIDguMFwiIHhtbG5zPVwiaHR0cDovL3d3dy53My5vcmcvMjAwMC9zdmdcIiB2ZXJzaW9uPVwiMS4xXCI+ICA8cGF0aCBkPVwiTSAtMy4xMDU2NDk5Njg3NSAzLjEwNTY0OTk2ODc1IEwgMy4xMDU2NDk5Njg3NSAzLjEwNTY0OTk2ODc1IEwgMy4xMDU2NDk5Njg3NSAtMy4xMDU2NDk5Njg3NSBMIC0zLjEwNTY0OTk2ODc1IC0zLjEwNTY0OTk2ODc1IFpcIiBzdHJva2Utd2lkdGg9XCIwLjBcIiBmaWxsLW9wYWNpdHk9XCIwLjlcIiBzdHJva2Utb3BhY2l0eT1cIjAuOVwiIHN0cm9rZT1cIiNGRjAwMDBcIiBmaWxsPVwiI0ZGMDAwMFwiIC8+PC9zdmc+In0sICJnZW9tZXRyeSI6IHsidHlwZSI6ICJQb2ludCIsICJjb29yZGluYXRlcyI6IFstMC4xNTI3NDkzNTA1NzkxLCA1MS41MDcyMDE5Mzk3NDZdfSwgInR5cGUiOiAiRmVhdHVyZSJ9LCB7InByb3BlcnRpZXMiOiB7ImFuY2hvcl95IjogNC4wLCAiYW5jaG9yX3giOiA0LjAsICJodG1sIjogIjxzdmcgd2lkdGg9XCI4cHhcIiBoZWlnaHQ9XCI4cHhcIiB2aWV3Qm94PVwiLTQuMCAtNC4wIDguMCA4LjBcIiB4bWxucz1cImh0dHA6Ly93d3cudzMub3JnLzIwMDAvc3ZnXCIgdmVyc2lvbj1cIjEuMVwiPiAgPHBhdGggZD1cIk0gLTMuMTA1NjQ5OTY4NzUgMy4xMDU2NDk5Njg3NSBMIDMuMTA1NjQ5OTY4NzUgMy4xMDU2NDk5Njg3NSBMIDMuMTA1NjQ5OTY4NzUgLTMuMTA1NjQ5OTY4NzUgTCAtMy4xMDU2NDk5Njg3NSAtMy4xMDU2NDk5Njg3NSBaXCIgc3Ryb2tlLXdpZHRoPVwiMC4wXCIgZmlsbC1vcGFjaXR5PVwiMC45XCIgc3Ryb2tlLW9wYWNpdHk9XCIwLjlcIiBzdHJva2U9XCIjRkYwMDAwXCIgZmlsbD1cIiNGRjAwMDBcIiAvPjwvc3ZnPiJ9LCAiZ2VvbWV0cnkiOiB7InR5cGUiOiAiUG9pbnQiLCAiY29vcmRpbmF0ZXMiOiBbLTAuMjA0MywgNTEuNTA5Nl19LCAidHlwZSI6ICJGZWF0dXJlIn0sIHsicHJvcGVydGllcyI6IHsiYW5jaG9yX3kiOiA0LjAsICJhbmNob3JfeCI6IDQuMCwgImh0bWwiOiAiPHN2ZyB3aWR0aD1cIjhweFwiIGhlaWdodD1cIjhweFwiIHZpZXdCb3g9XCItNC4wIC00LjAgOC4wIDguMFwiIHhtbG5zPVwiaHR0cDovL3d3dy53My5vcmcvMjAwMC9zdmdcIiB2ZXJzaW9uPVwiMS4xXCI+ICA8cGF0aCBkPVwiTSAtMy4xMDU2NDk5Njg3NSAzLjEwNTY0OTk2ODc1IEwgMy4xMDU2NDk5Njg3NSAzLjEwNTY0OTk2ODc1IEwgMy4xMDU2NDk5Njg3NSAtMy4xMDU2NDk5Njg3NSBMIC0zLjEwNTY0OTk2ODc1IC0zLjEwNTY0OTk2ODc1IFpcIiBzdHJva2Utd2lkdGg9XCIwLjBcIiBmaWxsLW9wYWNpdHk9XCIwLjlcIiBzdHJva2Utb3BhY2l0eT1cIjAuOVwiIHN0cm9rZT1cIiNGRjAwMDBcIiBmaWxsPVwiI0ZGMDAwMFwiIC8+PC9zdmc+In0sICJnZW9tZXRyeSI6IHsidHlwZSI6ICJQb2ludCIsICJjb29yZGluYXRlcyI6IFstMC4xMTA3NTkxMzQ5NDU1NywgNTEuNTA0NzY2ODU5Nzk0XX0sICJ0eXBlIjogIkZlYXR1cmUifSwgeyJwcm9wZXJ0aWVzIjogeyJhbmNob3JfeSI6IDQuMCwgImFuY2hvcl94IjogNC4wLCAiaHRtbCI6ICI8c3ZnIHdpZHRoPVwiOHB4XCIgaGVpZ2h0PVwiOHB4XCIgdmlld0JveD1cIi00LjAgLTQuMCA4LjAgOC4wXCIgeG1sbnM9XCJodHRwOi8vd3d3LnczLm9yZy8yMDAwL3N2Z1wiIHZlcnNpb249XCIxLjFcIj4gIDxwYXRoIGQ9XCJNIC0zLjEwNTY0OTk2ODc1IDMuMTA1NjQ5OTY4NzUgTCAzLjEwNTY0OTk2ODc1IDMuMTA1NjQ5OTY4NzUgTCAzLjEwNTY0OTk2ODc1IC0zLjEwNTY0OTk2ODc1IEwgLTMuMTA1NjQ5OTY4NzUgLTMuMTA1NjQ5OTY4NzUgWlwiIHN0cm9rZS13aWR0aD1cIjAuMFwiIGZpbGwtb3BhY2l0eT1cIjAuOVwiIHN0cm9rZS1vcGFjaXR5PVwiMC45XCIgc3Ryb2tlPVwiI0ZGMDAwMFwiIGZpbGw9XCIjRkYwMDAwXCIgLz48L3N2Zz4ifSwgImdlb21ldHJ5IjogeyJ0eXBlIjogIlBvaW50IiwgImNvb3JkaW5hdGVzIjogWy0wLjE4Nzk0NzgsIDUxLjUwMjIzMzVdfSwgInR5cGUiOiAiRmVhdHVyZSJ9LCB7InByb3BlcnRpZXMiOiB7ImFuY2hvcl95IjogNC4wLCAiYW5jaG9yX3giOiA0LjAsICJodG1sIjogIjxzdmcgd2lkdGg9XCI4cHhcIiBoZWlnaHQ9XCI4cHhcIiB2aWV3Qm94PVwiLTQuMCAtNC4wIDguMCA4LjBcIiB4bWxucz1cImh0dHA6Ly93d3cudzMub3JnLzIwMDAvc3ZnXCIgdmVyc2lvbj1cIjEuMVwiPiAgPHBhdGggZD1cIk0gLTMuMTA1NjQ5OTY4NzUgMy4xMDU2NDk5Njg3NSBMIDMuMTA1NjQ5OTY4NzUgMy4xMDU2NDk5Njg3NSBMIDMuMTA1NjQ5OTY4NzUgLTMuMTA1NjQ5OTY4NzUgTCAtMy4xMDU2NDk5Njg3NSAtMy4xMDU2NDk5Njg3NSBaXCIgc3Ryb2tlLXdpZHRoPVwiMC4wXCIgZmlsbC1vcGFjaXR5PVwiMC45XCIgc3Ryb2tlLW9wYWNpdHk9XCIwLjlcIiBzdHJva2U9XCIjRkYwMDAwXCIgZmlsbD1cIiNGRjAwMDBcIiAvPjwvc3ZnPiJ9LCAiZ2VvbWV0cnkiOiB7InR5cGUiOiAiUG9pbnQiLCAiY29vcmRpbmF0ZXMiOiBbLTAuMDgyNDEsIDUxLjUwMDE1XX0sICJ0eXBlIjogIkZlYXR1cmUifSwgeyJwcm9wZXJ0aWVzIjogeyJhbmNob3JfeSI6IDQuMCwgImFuY2hvcl94IjogNC4wLCAiaHRtbCI6ICI8c3ZnIHdpZHRoPVwiOHB4XCIgaGVpZ2h0PVwiOHB4XCIgdmlld0JveD1cIi00LjAgLTQuMCA4LjAgOC4wXCIgeG1sbnM9XCJodHRwOi8vd3d3LnczLm9yZy8yMDAwL3N2Z1wiIHZlcnNpb249XCIxLjFcIj4gIDxwYXRoIGQ9XCJNIC0zLjEwNTY0OTk2ODc1IDMuMTA1NjQ5OTY4NzUgTCAzLjEwNTY0OTk2ODc1IDMuMTA1NjQ5OTY4NzUgTCAzLjEwNTY0OTk2ODc1IC0zLjEwNTY0OTk2ODc1IEwgLTMuMTA1NjQ5OTY4NzUgLTMuMTA1NjQ5OTY4NzUgWlwiIHN0cm9rZS13aWR0aD1cIjAuMFwiIGZpbGwtb3BhY2l0eT1cIjAuOVwiIHN0cm9rZS1vcGFjaXR5PVwiMC45XCIgc3Ryb2tlPVwiI0ZGMDAwMFwiIGZpbGw9XCIjRkYwMDAwXCIgLz48L3N2Zz4ifSwgImdlb21ldHJ5IjogeyJ0eXBlIjogIlBvaW50IiwgImNvb3JkaW5hdGVzIjogWy0wLjEwNTg0OTQ4NjkyODYxLCA1MS41MDE2Mzc3NDgwNDNdfSwgInR5cGUiOiAiRmVhdHVyZSJ9LCB7InByb3BlcnRpZXMiOiB7ImFuY2hvcl95IjogNC4wLCAiYW5jaG9yX3giOiA0LjAsICJodG1sIjogIjxzdmcgd2lkdGg9XCI4cHhcIiBoZWlnaHQ9XCI4cHhcIiB2aWV3Qm94PVwiLTQuMCAtNC4wIDguMCA4LjBcIiB4bWxucz1cImh0dHA6Ly93d3cudzMub3JnLzIwMDAvc3ZnXCIgdmVyc2lvbj1cIjEuMVwiPiAgPHBhdGggZD1cIk0gLTMuMTA1NjQ5OTY4NzUgMy4xMDU2NDk5Njg3NSBMIDMuMTA1NjQ5OTY4NzUgMy4xMDU2NDk5Njg3NSBMIDMuMTA1NjQ5OTY4NzUgLTMuMTA1NjQ5OTY4NzUgTCAtMy4xMDU2NDk5Njg3NSAtMy4xMDU2NDk5Njg3NSBaXCIgc3Ryb2tlLXdpZHRoPVwiMC4wXCIgZmlsbC1vcGFjaXR5PVwiMC45XCIgc3Ryb2tlLW9wYWNpdHk9XCIwLjlcIiBzdHJva2U9XCIjRkYwMDAwXCIgZmlsbD1cIiNGRjAwMDBcIiAvPjwvc3ZnPiJ9LCAiZ2VvbWV0cnkiOiB7InR5cGUiOiAiUG9pbnQiLCAiY29vcmRpbmF0ZXMiOiBbLTAuMTQzNTI1NTM3MjYxNzYsIDUxLjQ5ODIzNjk3Njc2NV19LCAidHlwZSI6ICJGZWF0dXJlIn0sIHsicHJvcGVydGllcyI6IHsiYW5jaG9yX3kiOiA0LjAsICJhbmNob3JfeCI6IDQuMCwgImh0bWwiOiAiPHN2ZyB3aWR0aD1cIjhweFwiIGhlaWdodD1cIjhweFwiIHZpZXdCb3g9XCItNC4wIC00LjAgOC4wIDguMFwiIHhtbG5zPVwiaHR0cDovL3d3dy53My5vcmcvMjAwMC9zdmdcIiB2ZXJzaW9uPVwiMS4xXCI+ICA8cGF0aCBkPVwiTSAtMy4xMDU2NDk5Njg3NSAzLjEwNTY0OTk2ODc1IEwgMy4xMDU2NDk5Njg3NSAzLjEwNTY0OTk2ODc1IEwgMy4xMDU2NDk5Njg3NSAtMy4xMDU2NDk5Njg3NSBMIC0zLjEwNTY0OTk2ODc1IC0zLjEwNTY0OTk2ODc1IFpcIiBzdHJva2Utd2lkdGg9XCIwLjBcIiBmaWxsLW9wYWNpdHk9XCIwLjlcIiBzdHJva2Utb3BhY2l0eT1cIjAuOVwiIHN0cm9rZT1cIiNGRjAwMDBcIiBmaWxsPVwiI0ZGMDAwMFwiIC8+PC9zdmc+In0sICJnZW9tZXRyeSI6IHsidHlwZSI6ICJQb2ludCIsICJjb29yZGluYXRlcyI6IFstMC4xOTI1NzU5NjQyNjAyMSwgNTEuNDk5Mzk0MTQ4NjQ3XX0sICJ0eXBlIjogIkZlYXR1cmUifSwgeyJwcm9wZXJ0aWVzIjogeyJhbmNob3JfeSI6IDQuMCwgImFuY2hvcl94IjogNC4wLCAiaHRtbCI6ICI8c3ZnIHdpZHRoPVwiOHB4XCIgaGVpZ2h0PVwiOHB4XCIgdmlld0JveD1cIi00LjAgLTQuMCA4LjAgOC4wXCIgeG1sbnM9XCJodHRwOi8vd3d3LnczLm9yZy8yMDAwL3N2Z1wiIHZlcnNpb249XCIxLjFcIj4gIDxwYXRoIGQ9XCJNIC0zLjEwNTY0OTk2ODc1IDMuMTA1NjQ5OTY4NzUgTCAzLjEwNTY0OTk2ODc1IDMuMTA1NjQ5OTY4NzUgTCAzLjEwNTY0OTk2ODc1IC0zLjEwNTY0OTk2ODc1IEwgLTMuMTA1NjQ5OTY4NzUgLTMuMTA1NjQ5OTY4NzUgWlwiIHN0cm9rZS13aWR0aD1cIjAuMFwiIGZpbGwtb3BhY2l0eT1cIjAuOVwiIHN0cm9rZS1vcGFjaXR5PVwiMC45XCIgc3Ryb2tlPVwiI0ZGMDAwMFwiIGZpbGw9XCIjRkYwMDAwXCIgLz48L3N2Zz4ifSwgImdlb21ldHJ5IjogeyJ0eXBlIjogIlBvaW50IiwgImNvb3JkaW5hdGVzIjogWy0wLjE2Mzk5OTU4MDA3Mzg1LCA1MS40OTc1MzczMzMzNzVdfSwgInR5cGUiOiAiRmVhdHVyZSJ9LCB7InByb3BlcnRpZXMiOiB7ImFuY2hvcl95IjogNC4wLCAiYW5jaG9yX3giOiA0LjAsICJodG1sIjogIjxzdmcgd2lkdGg9XCI4cHhcIiBoZWlnaHQ9XCI4cHhcIiB2aWV3Qm94PVwiLTQuMCAtNC4wIDguMCA4LjBcIiB4bWxucz1cImh0dHA6Ly93d3cudzMub3JnLzIwMDAvc3ZnXCIgdmVyc2lvbj1cIjEuMVwiPiAgPHBhdGggZD1cIk0gLTMuMTA1NjQ5OTY4NzUgMy4xMDU2NDk5Njg3NSBMIDMuMTA1NjQ5OTY4NzUgMy4xMDU2NDk5Njg3NSBMIDMuMTA1NjQ5OTY4NzUgLTMuMTA1NjQ5OTY4NzUgTCAtMy4xMDU2NDk5Njg3NSAtMy4xMDU2NDk5Njg3NSBaXCIgc3Ryb2tlLXdpZHRoPVwiMC4wXCIgZmlsbC1vcGFjaXR5PVwiMC45XCIgc3Ryb2tlLW9wYWNpdHk9XCIwLjlcIiBzdHJva2U9XCIjRkYwMDAwXCIgZmlsbD1cIiNGRjAwMDBcIiAvPjwvc3ZnPiJ9LCAiZ2VvbWV0cnkiOiB7InR5cGUiOiAiUG9pbnQiLCAiY29vcmRpbmF0ZXMiOiBbLTAuMTg1NjIxNjE1MzYwOTEsIDUxLjQ5Njc3Mzc3MDU0XX0sICJ0eXBlIjogIkZlYXR1cmUifSwgeyJwcm9wZXJ0aWVzIjogeyJhbmNob3JfeSI6IDQuMCwgImFuY2hvcl94IjogNC4wLCAiaHRtbCI6ICI8c3ZnIHdpZHRoPVwiOHB4XCIgaGVpZ2h0PVwiOHB4XCIgdmlld0JveD1cIi00LjAgLTQuMCA4LjAgOC4wXCIgeG1sbnM9XCJodHRwOi8vd3d3LnczLm9yZy8yMDAwL3N2Z1wiIHZlcnNpb249XCIxLjFcIj4gIDxwYXRoIGQ9XCJNIC0zLjEwNTY0OTk2ODc1IDMuMTA1NjQ5OTY4NzUgTCAzLjEwNTY0OTk2ODc1IDMuMTA1NjQ5OTY4NzUgTCAzLjEwNTY0OTk2ODc1IC0zLjEwNTY0OTk2ODc1IEwgLTMuMTA1NjQ5OTY4NzUgLTMuMTA1NjQ5OTY4NzUgWlwiIHN0cm9rZS13aWR0aD1cIjAuMFwiIGZpbGwtb3BhY2l0eT1cIjAuOVwiIHN0cm9rZS1vcGFjaXR5PVwiMC45XCIgc3Ryb2tlPVwiI0ZGMDAwMFwiIGZpbGw9XCIjRkYwMDAwXCIgLz48L3N2Zz4ifSwgImdlb21ldHJ5IjogeyJ0eXBlIjogIlBvaW50IiwgImNvb3JkaW5hdGVzIjogWy0wLjE4OTczNzEsIDUxLjQ5NDUzNTJdfSwgInR5cGUiOiAiRmVhdHVyZSJ9LCB7InByb3BlcnRpZXMiOiB7ImFuY2hvcl95IjogNC4wLCAiYW5jaG9yX3giOiA0LjAsICJodG1sIjogIjxzdmcgd2lkdGg9XCI4cHhcIiBoZWlnaHQ9XCI4cHhcIiB2aWV3Qm94PVwiLTQuMCAtNC4wIDguMCA4LjBcIiB4bWxucz1cImh0dHA6Ly93d3cudzMub3JnLzIwMDAvc3ZnXCIgdmVyc2lvbj1cIjEuMVwiPiAgPHBhdGggZD1cIk0gLTMuMTA1NjQ5OTY4NzUgMy4xMDU2NDk5Njg3NSBMIDMuMTA1NjQ5OTY4NzUgMy4xMDU2NDk5Njg3NSBMIDMuMTA1NjQ5OTY4NzUgLTMuMTA1NjQ5OTY4NzUgTCAtMy4xMDU2NDk5Njg3NSAtMy4xMDU2NDk5Njg3NSBaXCIgc3Ryb2tlLXdpZHRoPVwiMC4wXCIgZmlsbC1vcGFjaXR5PVwiMC45XCIgc3Ryb2tlLW9wYWNpdHk9XCIwLjlcIiBzdHJva2U9XCIjRkYwMDAwXCIgZmlsbD1cIiNGRjAwMDBcIiAvPjwvc3ZnPiJ9LCAiZ2VvbWV0cnkiOiB7InR5cGUiOiAiUG9pbnQiLCAiY29vcmRpbmF0ZXMiOiBbLTAuMTMzMjA4NDcwNjEyMTYsIDUxLjQ5MTcxOTgwODgyN119LCAidHlwZSI6ICJGZWF0dXJlIn0sIHsicHJvcGVydGllcyI6IHsiYW5jaG9yX3kiOiA0LjAsICJhbmNob3JfeCI6IDQuMCwgImh0bWwiOiAiPHN2ZyB3aWR0aD1cIjhweFwiIGhlaWdodD1cIjhweFwiIHZpZXdCb3g9XCItNC4wIC00LjAgOC4wIDguMFwiIHhtbG5zPVwiaHR0cDovL3d3dy53My5vcmcvMjAwMC9zdmdcIiB2ZXJzaW9uPVwiMS4xXCI+ICA8cGF0aCBkPVwiTSAtMy4xMDU2NDk5Njg3NSAzLjEwNTY0OTk2ODc1IEwgMy4xMDU2NDk5Njg3NSAzLjEwNTY0OTk2ODc1IEwgMy4xMDU2NDk5Njg3NSAtMy4xMDU2NDk5Njg3NSBMIC0zLjEwNTY0OTk2ODc1IC0zLjEwNTY0OTk2ODc1IFpcIiBzdHJva2Utd2lkdGg9XCIwLjBcIiBmaWxsLW9wYWNpdHk9XCIwLjlcIiBzdHJva2Utb3BhY2l0eT1cIjAuOVwiIHN0cm9rZT1cIiNGRjAwMDBcIiBmaWxsPVwiI0ZGMDAwMFwiIC8+PC9zdmc+In0sICJnZW9tZXRyeSI6IHsidHlwZSI6ICJQb2ludCIsICJjb29yZGluYXRlcyI6IFstMC4xMzg2MjgxLCA1MS40OTA3NDUxXX0sICJ0eXBlIjogIkZlYXR1cmUifSwgeyJwcm9wZXJ0aWVzIjogeyJhbmNob3JfeSI6IDQuMCwgImFuY2hvcl94IjogNC4wLCAiaHRtbCI6ICI8c3ZnIHdpZHRoPVwiOHB4XCIgaGVpZ2h0PVwiOHB4XCIgdmlld0JveD1cIi00LjAgLTQuMCA4LjAgOC4wXCIgeG1sbnM9XCJodHRwOi8vd3d3LnczLm9yZy8yMDAwL3N2Z1wiIHZlcnNpb249XCIxLjFcIj4gIDxwYXRoIGQ9XCJNIC0zLjEwNTY0OTk2ODc1IDMuMTA1NjQ5OTY4NzUgTCAzLjEwNTY0OTk2ODc1IDMuMTA1NjQ5OTY4NzUgTCAzLjEwNTY0OTk2ODc1IC0zLjEwNTY0OTk2ODc1IEwgLTMuMTA1NjQ5OTY4NzUgLTMuMTA1NjQ5OTY4NzUgWlwiIHN0cm9rZS13aWR0aD1cIjAuMFwiIGZpbGwtb3BhY2l0eT1cIjAuOVwiIHN0cm9rZS1vcGFjaXR5PVwiMC45XCIgc3Ryb2tlPVwiI0ZGMDAwMFwiIGZpbGw9XCIjRkYwMDAwXCIgLz48L3N2Zz4ifSwgImdlb21ldHJ5IjogeyJ0eXBlIjogIlBvaW50IiwgImNvb3JkaW5hdGVzIjogWy0wLjE5NTg0NzIyMjIyMjIyLCA1MS40OTA2MTY2NjY2NjddfSwgInR5cGUiOiAiRmVhdHVyZSJ9LCB7InByb3BlcnRpZXMiOiB7ImFuY2hvcl95IjogNC4wLCAiYW5jaG9yX3giOiA0LjAsICJodG1sIjogIjxzdmcgd2lkdGg9XCI4cHhcIiBoZWlnaHQ9XCI4cHhcIiB2aWV3Qm94PVwiLTQuMCAtNC4wIDguMCA4LjBcIiB4bWxucz1cImh0dHA6Ly93d3cudzMub3JnLzIwMDAvc3ZnXCIgdmVyc2lvbj1cIjEuMVwiPiAgPHBhdGggZD1cIk0gLTMuMTA1NjQ5OTY4NzUgMy4xMDU2NDk5Njg3NSBMIDMuMTA1NjQ5OTY4NzUgMy4xMDU2NDk5Njg3NSBMIDMuMTA1NjQ5OTY4NzUgLTMuMTA1NjQ5OTY4NzUgTCAtMy4xMDU2NDk5Njg3NSAtMy4xMDU2NDk5Njg3NSBaXCIgc3Ryb2tlLXdpZHRoPVwiMC4wXCIgZmlsbC1vcGFjaXR5PVwiMC45XCIgc3Ryb2tlLW9wYWNpdHk9XCIwLjlcIiBzdHJva2U9XCIjRkYwMDAwXCIgZmlsbD1cIiNGRjAwMDBcIiAvPjwvc3ZnPiJ9LCAiZ2VvbWV0cnkiOiB7InR5cGUiOiAiUG9pbnQiLCAiY29vcmRpbmF0ZXMiOiBbLTAuMTQzODcwODg4ODUxLCA1MS40ODYxMTIwMDAxXX0sICJ0eXBlIjogIkZlYXR1cmUifSwgeyJwcm9wZXJ0aWVzIjogeyJhbmNob3JfeSI6IDQuMCwgImFuY2hvcl94IjogNC4wLCAiaHRtbCI6ICI8c3ZnIHdpZHRoPVwiOHB4XCIgaGVpZ2h0PVwiOHB4XCIgdmlld0JveD1cIi00LjAgLTQuMCA4LjAgOC4wXCIgeG1sbnM9XCJodHRwOi8vd3d3LnczLm9yZy8yMDAwL3N2Z1wiIHZlcnNpb249XCIxLjFcIj4gIDxwYXRoIGQ9XCJNIC0zLjEwNTY0OTk2ODc1IDMuMTA1NjQ5OTY4NzUgTCAzLjEwNTY0OTk2ODc1IDMuMTA1NjQ5OTY4NzUgTCAzLjEwNTY0OTk2ODc1IC0zLjEwNTY0OTk2ODc1IEwgLTMuMTA1NjQ5OTY4NzUgLTMuMTA1NjQ5OTY4NzUgWlwiIHN0cm9rZS13aWR0aD1cIjAuMFwiIGZpbGwtb3BhY2l0eT1cIjAuOVwiIHN0cm9rZS1vcGFjaXR5PVwiMC45XCIgc3Ryb2tlPVwiI0ZGMDAwMFwiIGZpbGw9XCIjRkYwMDAwXCIgLz48L3N2Zz4ifSwgImdlb21ldHJ5IjogeyJ0eXBlIjogIlBvaW50IiwgImNvb3JkaW5hdGVzIjogWy0wLjIwMzQ0MjMsIDUxLjQ4Njg5MjJdfSwgInR5cGUiOiAiRmVhdHVyZSJ9LCB7InByb3BlcnRpZXMiOiB7ImFuY2hvcl95IjogNC4wLCAiYW5jaG9yX3giOiA0LjAsICJodG1sIjogIjxzdmcgd2lkdGg9XCI4cHhcIiBoZWlnaHQ9XCI4cHhcIiB2aWV3Qm94PVwiLTQuMCAtNC4wIDguMCA4LjBcIiB4bWxucz1cImh0dHA6Ly93d3cudzMub3JnLzIwMDAvc3ZnXCIgdmVyc2lvbj1cIjEuMVwiPiAgPHBhdGggZD1cIk0gLTMuMTA1NjQ5OTY4NzUgMy4xMDU2NDk5Njg3NSBMIDMuMTA1NjQ5OTY4NzUgMy4xMDU2NDk5Njg3NSBMIDMuMTA1NjQ5OTY4NzUgLTMuMTA1NjQ5OTY4NzUgTCAtMy4xMDU2NDk5Njg3NSAtMy4xMDU2NDk5Njg3NSBaXCIgc3Ryb2tlLXdpZHRoPVwiMC4wXCIgZmlsbC1vcGFjaXR5PVwiMC45XCIgc3Ryb2tlLW9wYWNpdHk9XCIwLjlcIiBzdHJva2U9XCIjRkYwMDAwXCIgZmlsbD1cIiNGRjAwMDBcIiAvPjwvc3ZnPiJ9LCAiZ2VvbWV0cnkiOiB7InR5cGUiOiAiUG9pbnQiLCAiY29vcmRpbmF0ZXMiOiBbLTAuMDgwODAyNywgNTEuNTI2ODcyNF19LCAidHlwZSI6ICJGZWF0dXJlIn0sIHsicHJvcGVydGllcyI6IHsiYW5jaG9yX3kiOiA0LjAsICJhbmNob3JfeCI6IDQuMCwgImh0bWwiOiAiPHN2ZyB3aWR0aD1cIjhweFwiIGhlaWdodD1cIjhweFwiIHZpZXdCb3g9XCItNC4wIC00LjAgOC4wIDguMFwiIHhtbG5zPVwiaHR0cDovL3d3dy53My5vcmcvMjAwMC9zdmdcIiB2ZXJzaW9uPVwiMS4xXCI+ICA8cGF0aCBkPVwiTSAtMy4xMDU2NDk5Njg3NSAzLjEwNTY0OTk2ODc1IEwgMy4xMDU2NDk5Njg3NSAzLjEwNTY0OTk2ODc1IEwgMy4xMDU2NDk5Njg3NSAtMy4xMDU2NDk5Njg3NSBMIC0zLjEwNTY0OTk2ODc1IC0zLjEwNTY0OTk2ODc1IFpcIiBzdHJva2Utd2lkdGg9XCIwLjBcIiBmaWxsLW9wYWNpdHk9XCIwLjlcIiBzdHJva2Utb3BhY2l0eT1cIjAuOVwiIHN0cm9rZT1cIiNGRjAwMDBcIiBmaWxsPVwiI0ZGMDAwMFwiIC8+PC9zdmc+In0sICJnZW9tZXRyeSI6IHsidHlwZSI6ICJQb2ludCIsICJjb29yZGluYXRlcyI6IFstMC4xNDA3ODMsIDUxLjUyNTg5NV19LCAidHlwZSI6ICJGZWF0dXJlIn0sIHsicHJvcGVydGllcyI6IHsiYW5jaG9yX3kiOiA0LjAsICJhbmNob3JfeCI6IDQuMCwgImh0bWwiOiAiPHN2ZyB3aWR0aD1cIjhweFwiIGhlaWdodD1cIjhweFwiIHZpZXdCb3g9XCItNC4wIC00LjAgOC4wIDguMFwiIHhtbG5zPVwiaHR0cDovL3d3dy53My5vcmcvMjAwMC9zdmdcIiB2ZXJzaW9uPVwiMS4xXCI+ICA8cGF0aCBkPVwiTSAtMy4xMDU2NDk5Njg3NSAzLjEwNTY0OTk2ODc1IEwgMy4xMDU2NDk5Njg3NSAzLjEwNTY0OTk2ODc1IEwgMy4xMDU2NDk5Njg3NSAtMy4xMDU2NDk5Njg3NSBMIC0zLjEwNTY0OTk2ODc1IC0zLjEwNTY0OTk2ODc1IFpcIiBzdHJva2Utd2lkdGg9XCIwLjBcIiBmaWxsLW9wYWNpdHk9XCIwLjlcIiBzdHJva2Utb3BhY2l0eT1cIjAuOVwiIHN0cm9rZT1cIiNGRjAwMDBcIiBmaWxsPVwiI0ZGMDAwMFwiIC8+PC9zdmc+In0sICJnZW9tZXRyeSI6IHsidHlwZSI6ICJQb2ludCIsICJjb29yZGluYXRlcyI6IFstMC4wODY5Njc4NTAyNDcxMjMsIDUxLjUyMjAwNzQ3OTA3M119LCAidHlwZSI6ICJGZWF0dXJlIn0sIHsicHJvcGVydGllcyI6IHsiYW5jaG9yX3kiOiA0LjAsICJhbmNob3JfeCI6IDQuMCwgImh0bWwiOiAiPHN2ZyB3aWR0aD1cIjhweFwiIGhlaWdodD1cIjhweFwiIHZpZXdCb3g9XCItNC4wIC00LjAgOC4wIDguMFwiIHhtbG5zPVwiaHR0cDovL3d3dy53My5vcmcvMjAwMC9zdmdcIiB2ZXJzaW9uPVwiMS4xXCI+ICA8cGF0aCBkPVwiTSAtMy4xMDU2NDk5Njg3NSAzLjEwNTY0OTk2ODc1IEwgMy4xMDU2NDk5Njg3NSAzLjEwNTY0OTk2ODc1IEwgMy4xMDU2NDk5Njg3NSAtMy4xMDU2NDk5Njg3NSBMIC0zLjEwNTY0OTk2ODc1IC0zLjEwNTY0OTk2ODc1IFpcIiBzdHJva2Utd2lkdGg9XCIwLjBcIiBmaWxsLW9wYWNpdHk9XCIwLjlcIiBzdHJva2Utb3BhY2l0eT1cIjAuOVwiIHN0cm9rZT1cIiNGRjAwMDBcIiBmaWxsPVwiI0ZGMDAwMFwiIC8+PC9zdmc+In0sICJnZW9tZXRyeSI6IHsidHlwZSI6ICJQb2ludCIsICJjb29yZGluYXRlcyI6IFstMC4xMDEzNDk0MzI2NjY2NywgNTEuNTIzMjYxNjk4OTQyXX0sICJ0eXBlIjogIkZlYXR1cmUifSwgeyJwcm9wZXJ0aWVzIjogeyJhbmNob3JfeSI6IDQuMCwgImFuY2hvcl94IjogNC4wLCAiaHRtbCI6ICI8c3ZnIHdpZHRoPVwiOHB4XCIgaGVpZ2h0PVwiOHB4XCIgdmlld0JveD1cIi00LjAgLTQuMCA4LjAgOC4wXCIgeG1sbnM9XCJodHRwOi8vd3d3LnczLm9yZy8yMDAwL3N2Z1wiIHZlcnNpb249XCIxLjFcIj4gIDxwYXRoIGQ9XCJNIC0zLjEwNTY0OTk2ODc1IDMuMTA1NjQ5OTY4NzUgTCAzLjEwNTY0OTk2ODc1IDMuMTA1NjQ5OTY4NzUgTCAzLjEwNTY0OTk2ODc1IC0zLjEwNTY0OTk2ODc1IEwgLTMuMTA1NjQ5OTY4NzUgLTMuMTA1NjQ5OTY4NzUgWlwiIHN0cm9rZS13aWR0aD1cIjAuMFwiIGZpbGwtb3BhY2l0eT1cIjAuOVwiIHN0cm9rZS1vcGFjaXR5PVwiMC45XCIgc3Ryb2tlPVwiI0ZGMDAwMFwiIGZpbGw9XCIjRkYwMDAwXCIgLz48L3N2Zz4ifSwgImdlb21ldHJ5IjogeyJ0eXBlIjogIlBvaW50IiwgImNvb3JkaW5hdGVzIjogWy0wLjEzODksIDUxLjUyMTVdfSwgInR5cGUiOiAiRmVhdHVyZSJ9LCB7InByb3BlcnRpZXMiOiB7ImFuY2hvcl95IjogNC4wLCAiYW5jaG9yX3giOiA0LjAsICJodG1sIjogIjxzdmcgd2lkdGg9XCI4cHhcIiBoZWlnaHQ9XCI4cHhcIiB2aWV3Qm94PVwiLTQuMCAtNC4wIDguMCA4LjBcIiB4bWxucz1cImh0dHA6Ly93d3cudzMub3JnLzIwMDAvc3ZnXCIgdmVyc2lvbj1cIjEuMVwiPiAgPHBhdGggZD1cIk0gLTMuMTA1NjQ5OTY4NzUgMy4xMDU2NDk5Njg3NSBMIDMuMTA1NjQ5OTY4NzUgMy4xMDU2NDk5Njg3NSBMIDMuMTA1NjQ5OTY4NzUgLTMuMTA1NjQ5OTY4NzUgTCAtMy4xMDU2NDk5Njg3NSAtMy4xMDU2NDk5Njg3NSBaXCIgc3Ryb2tlLXdpZHRoPVwiMC4wXCIgZmlsbC1vcGFjaXR5PVwiMC45XCIgc3Ryb2tlLW9wYWNpdHk9XCIwLjlcIiBzdHJva2U9XCIjRkYwMDAwXCIgZmlsbD1cIiNGRjAwMDBcIiAvPjwvc3ZnPiJ9LCAiZ2VvbWV0cnkiOiB7InR5cGUiOiAiUG9pbnQiLCAiY29vcmRpbmF0ZXMiOiBbLTAuMTQ2OTAxMjgzMzMzMzMsIDUxLjUyMzYyMzI4MzMzM119LCAidHlwZSI6ICJGZWF0dXJlIn0sIHsicHJvcGVydGllcyI6IHsiYW5jaG9yX3kiOiA0LjAsICJhbmNob3JfeCI6IDQuMCwgImh0bWwiOiAiPHN2ZyB3aWR0aD1cIjhweFwiIGhlaWdodD1cIjhweFwiIHZpZXdCb3g9XCItNC4wIC00LjAgOC4wIDguMFwiIHhtbG5zPVwiaHR0cDovL3d3dy53My5vcmcvMjAwMC9zdmdcIiB2ZXJzaW9uPVwiMS4xXCI+ICA8cGF0aCBkPVwiTSAtMy4xMDU2NDk5Njg3NSAzLjEwNTY0OTk2ODc1IEwgMy4xMDU2NDk5Njg3NSAzLjEwNTY0OTk2ODc1IEwgMy4xMDU2NDk5Njg3NSAtMy4xMDU2NDk5Njg3NSBMIC0zLjEwNTY0OTk2ODc1IC0zLjEwNTY0OTk2ODc1IFpcIiBzdHJva2Utd2lkdGg9XCIwLjBcIiBmaWxsLW9wYWNpdHk9XCIwLjlcIiBzdHJva2Utb3BhY2l0eT1cIjAuOVwiIHN0cm9rZT1cIiNGRjAwMDBcIiBmaWxsPVwiI0ZGMDAwMFwiIC8+PC9zdmc+In0sICJnZW9tZXRyeSI6IHsidHlwZSI6ICJQb2ludCIsICJjb29yZGluYXRlcyI6IFstMC4wOTA3NzAxLCA1MS41MjA5OTYzXX0sICJ0eXBlIjogIkZlYXR1cmUifSwgeyJwcm9wZXJ0aWVzIjogeyJhbmNob3JfeSI6IDQuMCwgImFuY2hvcl94IjogNC4wLCAiaHRtbCI6ICI8c3ZnIHdpZHRoPVwiOHB4XCIgaGVpZ2h0PVwiOHB4XCIgdmlld0JveD1cIi00LjAgLTQuMCA4LjAgOC4wXCIgeG1sbnM9XCJodHRwOi8vd3d3LnczLm9yZy8yMDAwL3N2Z1wiIHZlcnNpb249XCIxLjFcIj4gIDxwYXRoIGQ9XCJNIC0zLjEwNTY0OTk2ODc1IDMuMTA1NjQ5OTY4NzUgTCAzLjEwNTY0OTk2ODc1IDMuMTA1NjQ5OTY4NzUgTCAzLjEwNTY0OTk2ODc1IC0zLjEwNTY0OTk2ODc1IEwgLTMuMTA1NjQ5OTY4NzUgLTMuMTA1NjQ5OTY4NzUgWlwiIHN0cm9rZS13aWR0aD1cIjAuMFwiIGZpbGwtb3BhY2l0eT1cIjAuOVwiIHN0cm9rZS1vcGFjaXR5PVwiMC45XCIgc3Ryb2tlPVwiI0ZGMDAwMFwiIGZpbGw9XCIjRkYwMDAwXCIgLz48L3N2Zz4ifSwgImdlb21ldHJ5IjogeyJ0eXBlIjogIlBvaW50IiwgImNvb3JkaW5hdGVzIjogWy0wLjEwMzQyMjIyMjIyMjIyLCA1MS41MTg2ODYxMTExMTFdfSwgInR5cGUiOiAiRmVhdHVyZSJ9LCB7InByb3BlcnRpZXMiOiB7ImFuY2hvcl95IjogNC4wLCAiYW5jaG9yX3giOiA0LjAsICJodG1sIjogIjxzdmcgd2lkdGg9XCI4cHhcIiBoZWlnaHQ9XCI4cHhcIiB2aWV3Qm94PVwiLTQuMCAtNC4wIDguMCA4LjBcIiB4bWxucz1cImh0dHA6Ly93d3cudzMub3JnLzIwMDAvc3ZnXCIgdmVyc2lvbj1cIjEuMVwiPiAgPHBhdGggZD1cIk0gLTMuMTA1NjQ5OTY4NzUgMy4xMDU2NDk5Njg3NSBMIDMuMTA1NjQ5OTY4NzUgMy4xMDU2NDk5Njg3NSBMIDMuMTA1NjQ5OTY4NzUgLTMuMTA1NjQ5OTY4NzUgTCAtMy4xMDU2NDk5Njg3NSAtMy4xMDU2NDk5Njg3NSBaXCIgc3Ryb2tlLXdpZHRoPVwiMC4wXCIgZmlsbC1vcGFjaXR5PVwiMC45XCIgc3Ryb2tlLW9wYWNpdHk9XCIwLjlcIiBzdHJva2U9XCIjRkYwMDAwXCIgZmlsbD1cIiNGRjAwMDBcIiAvPjwvc3ZnPiJ9LCAiZ2VvbWV0cnkiOiB7InR5cGUiOiAiUG9pbnQiLCAiY29vcmRpbmF0ZXMiOiBbLTAuMTA1ODU1NywgNTEuNTE5NzEwNF19LCAidHlwZSI6ICJGZWF0dXJlIn0sIHsicHJvcGVydGllcyI6IHsiYW5jaG9yX3kiOiA0LjAsICJhbmNob3JfeCI6IDQuMCwgImh0bWwiOiAiPHN2ZyB3aWR0aD1cIjhweFwiIGhlaWdodD1cIjhweFwiIHZpZXdCb3g9XCItNC4wIC00LjAgOC4wIDguMFwiIHhtbG5zPVwiaHR0cDovL3d3dy53My5vcmcvMjAwMC9zdmdcIiB2ZXJzaW9uPVwiMS4xXCI+ICA8cGF0aCBkPVwiTSAtMy4xMDU2NDk5Njg3NSAzLjEwNTY0OTk2ODc1IEwgMy4xMDU2NDk5Njg3NSAzLjEwNTY0OTk2ODc1IEwgMy4xMDU2NDk5Njg3NSAtMy4xMDU2NDk5Njg3NSBMIC0zLjEwNTY0OTk2ODc1IC0zLjEwNTY0OTk2ODc1IFpcIiBzdHJva2Utd2lkdGg9XCIwLjBcIiBmaWxsLW9wYWNpdHk9XCIwLjlcIiBzdHJva2Utb3BhY2l0eT1cIjAuOVwiIHN0cm9rZT1cIiNGRjAwMDBcIiBmaWxsPVwiI0ZGMDAwMFwiIC8+PC9zdmc+In0sICJnZW9tZXRyeSI6IHsidHlwZSI6ICJQb2ludCIsICJjb29yZGluYXRlcyI6IFstMC4xMDk5NzQ1OTAzNDAzMywgNTEuNTE4MDY4NjAxMzY5XX0sICJ0eXBlIjogIkZlYXR1cmUifSwgeyJwcm9wZXJ0aWVzIjogeyJhbmNob3JfeSI6IDQuMCwgImFuY2hvcl94IjogNC4wLCAiaHRtbCI6ICI8c3ZnIHdpZHRoPVwiOHB4XCIgaGVpZ2h0PVwiOHB4XCIgdmlld0JveD1cIi00LjAgLTQuMCA4LjAgOC4wXCIgeG1sbnM9XCJodHRwOi8vd3d3LnczLm9yZy8yMDAwL3N2Z1wiIHZlcnNpb249XCIxLjFcIj4gIDxwYXRoIGQ9XCJNIC0zLjEwNTY0OTk2ODc1IDMuMTA1NjQ5OTY4NzUgTCAzLjEwNTY0OTk2ODc1IDMuMTA1NjQ5OTY4NzUgTCAzLjEwNTY0OTk2ODc1IC0zLjEwNTY0OTk2ODc1IEwgLTMuMTA1NjQ5OTY4NzUgLTMuMTA1NjQ5OTY4NzUgWlwiIHN0cm9rZS13aWR0aD1cIjAuMFwiIGZpbGwtb3BhY2l0eT1cIjAuOVwiIHN0cm9rZS1vcGFjaXR5PVwiMC45XCIgc3Ryb2tlPVwiI0ZGMDAwMFwiIGZpbGw9XCIjRkYwMDAwXCIgLz48L3N2Zz4ifSwgImdlb21ldHJ5IjogeyJ0eXBlIjogIlBvaW50IiwgImNvb3JkaW5hdGVzIjogWy0wLjE0NTg1MzQ0NTQwNDQxLCA1MS41MTU5NzI0NTc5NTddfSwgInR5cGUiOiAiRmVhdHVyZSJ9LCB7InByb3BlcnRpZXMiOiB7ImFuY2hvcl95IjogNC4wLCAiYW5jaG9yX3giOiA0LjAsICJodG1sIjogIjxzdmcgd2lkdGg9XCI4cHhcIiBoZWlnaHQ9XCI4cHhcIiB2aWV3Qm94PVwiLTQuMCAtNC4wIDguMCA4LjBcIiB4bWxucz1cImh0dHA6Ly93d3cudzMub3JnLzIwMDAvc3ZnXCIgdmVyc2lvbj1cIjEuMVwiPiAgPHBhdGggZD1cIk0gLTMuMTA1NjQ5OTY4NzUgMy4xMDU2NDk5Njg3NSBMIDMuMTA1NjQ5OTY4NzUgMy4xMDU2NDk5Njg3NSBMIDMuMTA1NjQ5OTY4NzUgLTMuMTA1NjQ5OTY4NzUgTCAtMy4xMDU2NDk5Njg3NSAtMy4xMDU2NDk5Njg3NSBaXCIgc3Ryb2tlLXdpZHRoPVwiMC4wXCIgZmlsbC1vcGFjaXR5PVwiMC45XCIgc3Ryb2tlLW9wYWNpdHk9XCIwLjlcIiBzdHJva2U9XCIjRkYwMDAwXCIgZmlsbD1cIiNGRjAwMDBcIiAvPjwvc3ZnPiJ9LCAiZ2VvbWV0cnkiOiB7InR5cGUiOiAiUG9pbnQiLCAiY29vcmRpbmF0ZXMiOiBbLTAuMTY3NTk4NiwgNTEuNTE4NDEzNF19LCAidHlwZSI6ICJGZWF0dXJlIn0sIHsicHJvcGVydGllcyI6IHsiYW5jaG9yX3kiOiA0LjAsICJhbmNob3JfeCI6IDQuMCwgImh0bWwiOiAiPHN2ZyB3aWR0aD1cIjhweFwiIGhlaWdodD1cIjhweFwiIHZpZXdCb3g9XCItNC4wIC00LjAgOC4wIDguMFwiIHhtbG5zPVwiaHR0cDovL3d3dy53My5vcmcvMjAwMC9zdmdcIiB2ZXJzaW9uPVwiMS4xXCI+ICA8cGF0aCBkPVwiTSAtMy4xMDU2NDk5Njg3NSAzLjEwNTY0OTk2ODc1IEwgMy4xMDU2NDk5Njg3NSAzLjEwNTY0OTk2ODc1IEwgMy4xMDU2NDk5Njg3NSAtMy4xMDU2NDk5Njg3NSBMIC0zLjEwNTY0OTk2ODc1IC0zLjEwNTY0OTk2ODc1IFpcIiBzdHJva2Utd2lkdGg9XCIwLjBcIiBmaWxsLW9wYWNpdHk9XCIwLjlcIiBzdHJva2Utb3BhY2l0eT1cIjAuOVwiIHN0cm9rZT1cIiNGRjAwMDBcIiBmaWxsPVwiI0ZGMDAwMFwiIC8+PC9zdmc+In0sICJnZW9tZXRyeSI6IHsidHlwZSI6ICJQb2ludCIsICJjb29yZGluYXRlcyI6IFstMC4xODAzNzAwMSwgNTEuNTE4MzU0NzddfSwgInR5cGUiOiAiRmVhdHVyZSJ9LCB7InByb3BlcnRpZXMiOiB7ImFuY2hvcl95IjogNC4wLCAiYW5jaG9yX3giOiA0LjAsICJodG1sIjogIjxzdmcgd2lkdGg9XCI4cHhcIiBoZWlnaHQ9XCI4cHhcIiB2aWV3Qm94PVwiLTQuMCAtNC4wIDguMCA4LjBcIiB4bWxucz1cImh0dHA6Ly93d3cudzMub3JnLzIwMDAvc3ZnXCIgdmVyc2lvbj1cIjEuMVwiPiAgPHBhdGggZD1cIk0gLTMuMTA1NjQ5OTY4NzUgMy4xMDU2NDk5Njg3NSBMIDMuMTA1NjQ5OTY4NzUgMy4xMDU2NDk5Njg3NSBMIDMuMTA1NjQ5OTY4NzUgLTMuMTA1NjQ5OTY4NzUgTCAtMy4xMDU2NDk5Njg3NSAtMy4xMDU2NDk5Njg3NSBaXCIgc3Ryb2tlLXdpZHRoPVwiMC4wXCIgZmlsbC1vcGFjaXR5PVwiMC45XCIgc3Ryb2tlLW9wYWNpdHk9XCIwLjlcIiBzdHJva2U9XCIjRkYwMDAwXCIgZmlsbD1cIiNGRjAwMDBcIiAvPjwvc3ZnPiJ9LCAiZ2VvbWV0cnkiOiB7InR5cGUiOiAiUG9pbnQiLCAiY29vcmRpbmF0ZXMiOiBbLTAuMDk3MzY5Mzk0NDMyMzg0LCA1MS41MTUwMjUxMDU1OTRdfSwgInR5cGUiOiAiRmVhdHVyZSJ9LCB7InByb3BlcnRpZXMiOiB7ImFuY2hvcl95IjogNC4wLCAiYW5jaG9yX3giOiA0LjAsICJodG1sIjogIjxzdmcgd2lkdGg9XCI4cHhcIiBoZWlnaHQ9XCI4cHhcIiB2aWV3Qm94PVwiLTQuMCAtNC4wIDguMCA4LjBcIiB4bWxucz1cImh0dHA6Ly93d3cudzMub3JnLzIwMDAvc3ZnXCIgdmVyc2lvbj1cIjEuMVwiPiAgPHBhdGggZD1cIk0gLTMuMTA1NjQ5OTY4NzUgMy4xMDU2NDk5Njg3NSBMIDMuMTA1NjQ5OTY4NzUgMy4xMDU2NDk5Njg3NSBMIDMuMTA1NjQ5OTY4NzUgLTMuMTA1NjQ5OTY4NzUgTCAtMy4xMDU2NDk5Njg3NSAtMy4xMDU2NDk5Njg3NSBaXCIgc3Ryb2tlLXdpZHRoPVwiMC4wXCIgZmlsbC1vcGFjaXR5PVwiMC45XCIgc3Ryb2tlLW9wYWNpdHk9XCIwLjlcIiBzdHJva2U9XCIjRkYwMDAwXCIgZmlsbD1cIiNGRjAwMDBcIiAvPjwvc3ZnPiJ9LCAiZ2VvbWV0cnkiOiB7InR5cGUiOiAiUG9pbnQiLCAiY29vcmRpbmF0ZXMiOiBbLTAuMTAwODc5OTExMTk0MzUsIDUxLjUxMzczMTkwMzk5XX0sICJ0eXBlIjogIkZlYXR1cmUifSwgeyJwcm9wZXJ0aWVzIjogeyJhbmNob3JfeSI6IDQuMCwgImFuY2hvcl94IjogNC4wLCAiaHRtbCI6ICI8c3ZnIHdpZHRoPVwiOHB4XCIgaGVpZ2h0PVwiOHB4XCIgdmlld0JveD1cIi00LjAgLTQuMCA4LjAgOC4wXCIgeG1sbnM9XCJodHRwOi8vd3d3LnczLm9yZy8yMDAwL3N2Z1wiIHZlcnNpb249XCIxLjFcIj4gIDxwYXRoIGQ9XCJNIC0zLjEwNTY0OTk2ODc1IDMuMTA1NjQ5OTY4NzUgTCAzLjEwNTY0OTk2ODc1IDMuMTA1NjQ5OTY4NzUgTCAzLjEwNTY0OTk2ODc1IC0zLjEwNTY0OTk2ODc1IEwgLTMuMTA1NjQ5OTY4NzUgLTMuMTA1NjQ5OTY4NzUgWlwiIHN0cm9rZS13aWR0aD1cIjAuMFwiIGZpbGwtb3BhY2l0eT1cIjAuOVwiIHN0cm9rZS1vcGFjaXR5PVwiMC45XCIgc3Ryb2tlPVwiI0ZGMDAwMFwiIGZpbGw9XCIjRkYwMDAwXCIgLz48L3N2Zz4ifSwgImdlb21ldHJ5IjogeyJ0eXBlIjogIlBvaW50IiwgImNvb3JkaW5hdGVzIjogWy0wLjExMjAxNDAxMjEyMDU2LCA1MS41MTQ1MDI4MDY4NzddfSwgInR5cGUiOiAiRmVhdHVyZSJ9LCB7InByb3BlcnRpZXMiOiB7ImFuY2hvcl95IjogNC4wLCAiYW5jaG9yX3giOiA0LjAsICJodG1sIjogIjxzdmcgd2lkdGg9XCI4cHhcIiBoZWlnaHQ9XCI4cHhcIiB2aWV3Qm94PVwiLTQuMCAtNC4wIDguMCA4LjBcIiB4bWxucz1cImh0dHA6Ly93d3cudzMub3JnLzIwMDAvc3ZnXCIgdmVyc2lvbj1cIjEuMVwiPiAgPHBhdGggZD1cIk0gLTMuMTA1NjQ5OTY4NzUgMy4xMDU2NDk5Njg3NSBMIDMuMTA1NjQ5OTY4NzUgMy4xMDU2NDk5Njg3NSBMIDMuMTA1NjQ5OTY4NzUgLTMuMTA1NjQ5OTY4NzUgTCAtMy4xMDU2NDk5Njg3NSAtMy4xMDU2NDk5Njg3NSBaXCIgc3Ryb2tlLXdpZHRoPVwiMC4wXCIgZmlsbC1vcGFjaXR5PVwiMC45XCIgc3Ryb2tlLW9wYWNpdHk9XCIwLjlcIiBzdHJva2U9XCIjRkYwMDAwXCIgZmlsbD1cIiNGRjAwMDBcIiAvPjwvc3ZnPiJ9LCAiZ2VvbWV0cnkiOiB7InR5cGUiOiAiUG9pbnQiLCAiY29vcmRpbmF0ZXMiOiBbLTAuMTIzODI4NDU3NDQ1LCA1MS41MTAwODAyMDYzMDddfSwgInR5cGUiOiAiRmVhdHVyZSJ9LCB7InByb3BlcnRpZXMiOiB7ImFuY2hvcl95IjogNC4wLCAiYW5jaG9yX3giOiA0LjAsICJodG1sIjogIjxzdmcgd2lkdGg9XCI4cHhcIiBoZWlnaHQ9XCI4cHhcIiB2aWV3Qm94PVwiLTQuMCAtNC4wIDguMCA4LjBcIiB4bWxucz1cImh0dHA6Ly93d3cudzMub3JnLzIwMDAvc3ZnXCIgdmVyc2lvbj1cIjEuMVwiPiAgPHBhdGggZD1cIk0gLTMuMTA1NjQ5OTY4NzUgMy4xMDU2NDk5Njg3NSBMIDMuMTA1NjQ5OTY4NzUgMy4xMDU2NDk5Njg3NSBMIDMuMTA1NjQ5OTY4NzUgLTMuMTA1NjQ5OTY4NzUgTCAtMy4xMDU2NDk5Njg3NSAtMy4xMDU2NDk5Njg3NSBaXCIgc3Ryb2tlLXdpZHRoPVwiMC4wXCIgZmlsbC1vcGFjaXR5PVwiMC45XCIgc3Ryb2tlLW9wYWNpdHk9XCIwLjlcIiBzdHJva2U9XCIjRkYwMDAwXCIgZmlsbD1cIiNGRjAwMDBcIiAvPjwvc3ZnPiJ9LCAiZ2VvbWV0cnkiOiB7InR5cGUiOiAiUG9pbnQiLCAiY29vcmRpbmF0ZXMiOiBbLTAuMTI5NDA2NzI0NjE3MDIsIDUxLjUxMzk1MzYwOTg1N119LCAidHlwZSI6ICJGZWF0dXJlIn0sIHsicHJvcGVydGllcyI6IHsiYW5jaG9yX3kiOiA0LjAsICJhbmNob3JfeCI6IDQuMCwgImh0bWwiOiAiPHN2ZyB3aWR0aD1cIjhweFwiIGhlaWdodD1cIjhweFwiIHZpZXdCb3g9XCItNC4wIC00LjAgOC4wIDguMFwiIHhtbG5zPVwiaHR0cDovL3d3dy53My5vcmcvMjAwMC9zdmdcIiB2ZXJzaW9uPVwiMS4xXCI+ICA8cGF0aCBkPVwiTSAtMy4xMDU2NDk5Njg3NSAzLjEwNTY0OTk2ODc1IEwgMy4xMDU2NDk5Njg3NSAzLjEwNTY0OTk2ODc1IEwgMy4xMDU2NDk5Njg3NSAtMy4xMDU2NDk5Njg3NSBMIC0zLjEwNTY0OTk2ODc1IC0zLjEwNTY0OTk2ODc1IFpcIiBzdHJva2Utd2lkdGg9XCIwLjBcIiBmaWxsLW9wYWNpdHk9XCIwLjlcIiBzdHJva2Utb3BhY2l0eT1cIjAuOVwiIHN0cm9rZT1cIiNGRjAwMDBcIiBmaWxsPVwiI0ZGMDAwMFwiIC8+PC9zdmc+In0sICJnZW9tZXRyeSI6IHsidHlwZSI6ICJQb2ludCIsICJjb29yZGluYXRlcyI6IFstMC4xMzA1MzQzNDA1OTU5OSwgNTEuNTE2Nzc4ODk5OTczXX0sICJ0eXBlIjogIkZlYXR1cmUifSwgeyJwcm9wZXJ0aWVzIjogeyJhbmNob3JfeSI6IDQuMCwgImFuY2hvcl94IjogNC4wLCAiaHRtbCI6ICI8c3ZnIHdpZHRoPVwiOHB4XCIgaGVpZ2h0PVwiOHB4XCIgdmlld0JveD1cIi00LjAgLTQuMCA4LjAgOC4wXCIgeG1sbnM9XCJodHRwOi8vd3d3LnczLm9yZy8yMDAwL3N2Z1wiIHZlcnNpb249XCIxLjFcIj4gIDxwYXRoIGQ9XCJNIC0zLjEwNTY0OTk2ODc1IDMuMTA1NjQ5OTY4NzUgTCAzLjEwNTY0OTk2ODc1IDMuMTA1NjQ5OTY4NzUgTCAzLjEwNTY0OTk2ODc1IC0zLjEwNTY0OTk2ODc1IEwgLTMuMTA1NjQ5OTY4NzUgLTMuMTA1NjQ5OTY4NzUgWlwiIHN0cm9rZS13aWR0aD1cIjAuMFwiIGZpbGwtb3BhY2l0eT1cIjAuOVwiIHN0cm9rZS1vcGFjaXR5PVwiMC45XCIgc3Ryb2tlPVwiI0ZGMDAwMFwiIGZpbGw9XCIjRkYwMDAwXCIgLz48L3N2Zz4ifSwgImdlb21ldHJ5IjogeyJ0eXBlIjogIlBvaW50IiwgImNvb3JkaW5hdGVzIjogWy0wLjEzMTA2MTMwNzUyODU1LCA1MS41MTcyNTYyNzkwNDZdfSwgInR5cGUiOiAiRmVhdHVyZSJ9LCB7InByb3BlcnRpZXMiOiB7ImFuY2hvcl95IjogNC4wLCAiYW5jaG9yX3giOiA0LjAsICJodG1sIjogIjxzdmcgd2lkdGg9XCI4cHhcIiBoZWlnaHQ9XCI4cHhcIiB2aWV3Qm94PVwiLTQuMCAtNC4wIDguMCA4LjBcIiB4bWxucz1cImh0dHA6Ly93d3cudzMub3JnLzIwMDAvc3ZnXCIgdmVyc2lvbj1cIjEuMVwiPiAgPHBhdGggZD1cIk0gLTMuMTA1NjQ5OTY4NzUgMy4xMDU2NDk5Njg3NSBMIDMuMTA1NjQ5OTY4NzUgMy4xMDU2NDk5Njg3NSBMIDMuMTA1NjQ5OTY4NzUgLTMuMTA1NjQ5OTY4NzUgTCAtMy4xMDU2NDk5Njg3NSAtMy4xMDU2NDk5Njg3NSBaXCIgc3Ryb2tlLXdpZHRoPVwiMC4wXCIgZmlsbC1vcGFjaXR5PVwiMC45XCIgc3Ryb2tlLW9wYWNpdHk9XCIwLjlcIiBzdHJva2U9XCIjRkYwMDAwXCIgZmlsbD1cIiNGRjAwMDBcIiAvPjwvc3ZnPiJ9LCAiZ2VvbWV0cnkiOiB7InR5cGUiOiAiUG9pbnQiLCAiY29vcmRpbmF0ZXMiOiBbLTAuMTU3MzI4NjMxMjM3NDYsIDUxLjUxMzcxMjk5MjE0N119LCAidHlwZSI6ICJGZWF0dXJlIn0sIHsicHJvcGVydGllcyI6IHsiYW5jaG9yX3kiOiA0LjAsICJhbmNob3JfeCI6IDQuMCwgImh0bWwiOiAiPHN2ZyB3aWR0aD1cIjhweFwiIGhlaWdodD1cIjhweFwiIHZpZXdCb3g9XCItNC4wIC00LjAgOC4wIDguMFwiIHhtbG5zPVwiaHR0cDovL3d3dy53My5vcmcvMjAwMC9zdmdcIiB2ZXJzaW9uPVwiMS4xXCI+ICA8cGF0aCBkPVwiTSAtMy4xMDU2NDk5Njg3NSAzLjEwNTY0OTk2ODc1IEwgMy4xMDU2NDk5Njg3NSAzLjEwNTY0OTk2ODc1IEwgMy4xMDU2NDk5Njg3NSAtMy4xMDU2NDk5Njg3NSBMIC0zLjEwNTY0OTk2ODc1IC0zLjEwNTY0OTk2ODc1IFpcIiBzdHJva2Utd2lkdGg9XCIwLjBcIiBmaWxsLW9wYWNpdHk9XCIwLjlcIiBzdHJva2Utb3BhY2l0eT1cIjAuOVwiIHN0cm9rZT1cIiNGRjAwMDBcIiBmaWxsPVwiI0ZGMDAwMFwiIC8+PC9zdmc+In0sICJnZW9tZXRyeSI6IHsidHlwZSI6ICJQb2ludCIsICJjb29yZGluYXRlcyI6IFstMC4xOTc2NywgNTEuNTE0NzFdfSwgInR5cGUiOiAiRmVhdHVyZSJ9LCB7InByb3BlcnRpZXMiOiB7ImFuY2hvcl95IjogNC4wLCAiYW5jaG9yX3giOiA0LjAsICJodG1sIjogIjxzdmcgd2lkdGg9XCI4cHhcIiBoZWlnaHQ9XCI4cHhcIiB2aWV3Qm94PVwiLTQuMCAtNC4wIDguMCA4LjBcIiB4bWxucz1cImh0dHA6Ly93d3cudzMub3JnLzIwMDAvc3ZnXCIgdmVyc2lvbj1cIjEuMVwiPiAgPHBhdGggZD1cIk0gLTMuMTA1NjQ5OTY4NzUgMy4xMDU2NDk5Njg3NSBMIDMuMTA1NjQ5OTY4NzUgMy4xMDU2NDk5Njg3NSBMIDMuMTA1NjQ5OTY4NzUgLTMuMTA1NjQ5OTY4NzUgTCAtMy4xMDU2NDk5Njg3NSAtMy4xMDU2NDk5Njg3NSBaXCIgc3Ryb2tlLXdpZHRoPVwiMC4wXCIgZmlsbC1vcGFjaXR5PVwiMC45XCIgc3Ryb2tlLW9wYWNpdHk9XCIwLjlcIiBzdHJva2U9XCIjRkYwMDAwXCIgZmlsbD1cIiNGRjAwMDBcIiAvPjwvc3ZnPiJ9LCAiZ2VvbWV0cnkiOiB7InR5cGUiOiAiUG9pbnQiLCAiY29vcmRpbmF0ZXMiOiBbLTAuMTIwMDA5MjA0ODI3NTksIDUxLjUxMDIwMzYxNjIwN119LCAidHlwZSI6ICJGZWF0dXJlIn0sIHsicHJvcGVydGllcyI6IHsiYW5jaG9yX3kiOiA0LjAsICJhbmNob3JfeCI6IDQuMCwgImh0bWwiOiAiPHN2ZyB3aWR0aD1cIjhweFwiIGhlaWdodD1cIjhweFwiIHZpZXdCb3g9XCItNC4wIC00LjAgOC4wIDguMFwiIHhtbG5zPVwiaHR0cDovL3d3dy53My5vcmcvMjAwMC9zdmdcIiB2ZXJzaW9uPVwiMS4xXCI+ICA8cGF0aCBkPVwiTSAtMy4xMDU2NDk5Njg3NSAzLjEwNTY0OTk2ODc1IEwgMy4xMDU2NDk5Njg3NSAzLjEwNTY0OTk2ODc1IEwgMy4xMDU2NDk5Njg3NSAtMy4xMDU2NDk5Njg3NSBMIC0zLjEwNTY0OTk2ODc1IC0zLjEwNTY0OTk2ODc1IFpcIiBzdHJva2Utd2lkdGg9XCIwLjBcIiBmaWxsLW9wYWNpdHk9XCIwLjlcIiBzdHJva2Utb3BhY2l0eT1cIjAuOVwiIHN0cm9rZT1cIiNGRjAwMDBcIiBmaWxsPVwiI0ZGMDAwMFwiIC8+PC9zdmc+In0sICJnZW9tZXRyeSI6IHsidHlwZSI6ICJQb2ludCIsICJjb29yZGluYXRlcyI6IFstMC4xMzkzNCwgNTEuNTEyNjYxXX0sICJ0eXBlIjogIkZlYXR1cmUifSwgeyJwcm9wZXJ0aWVzIjogeyJhbmNob3JfeSI6IDQuMCwgImFuY2hvcl94IjogNC4wLCAiaHRtbCI6ICI8c3ZnIHdpZHRoPVwiOHB4XCIgaGVpZ2h0PVwiOHB4XCIgdmlld0JveD1cIi00LjAgLTQuMCA4LjAgOC4wXCIgeG1sbnM9XCJodHRwOi8vd3d3LnczLm9yZy8yMDAwL3N2Z1wiIHZlcnNpb249XCIxLjFcIj4gIDxwYXRoIGQ9XCJNIC0zLjEwNTY0OTk2ODc1IDMuMTA1NjQ5OTY4NzUgTCAzLjEwNTY0OTk2ODc1IDMuMTA1NjQ5OTY4NzUgTCAzLjEwNTY0OTk2ODc1IC0zLjEwNTY0OTk2ODc1IEwgLTMuMTA1NjQ5OTY4NzUgLTMuMTA1NjQ5OTY4NzUgWlwiIHN0cm9rZS13aWR0aD1cIjAuMFwiIGZpbGwtb3BhY2l0eT1cIjAuOVwiIHN0cm9rZS1vcGFjaXR5PVwiMC45XCIgc3Ryb2tlPVwiI0ZGMDAwMFwiIGZpbGw9XCIjRkYwMDAwXCIgLz48L3N2Zz4ifSwgImdlb21ldHJ5IjogeyJ0eXBlIjogIlBvaW50IiwgImNvb3JkaW5hdGVzIjogWy0wLjE5MzI5MDk2NjU3NDUzLCA1MS41MDk2NDM4NTc1NzldfSwgInR5cGUiOiAiRmVhdHVyZSJ9LCB7InByb3BlcnRpZXMiOiB7ImFuY2hvcl95IjogNC4wLCAiYW5jaG9yX3giOiA0LjAsICJodG1sIjogIjxzdmcgd2lkdGg9XCI4cHhcIiBoZWlnaHQ9XCI4cHhcIiB2aWV3Qm94PVwiLTQuMCAtNC4wIDguMCA4LjBcIiB4bWxucz1cImh0dHA6Ly93d3cudzMub3JnLzIwMDAvc3ZnXCIgdmVyc2lvbj1cIjEuMVwiPiAgPHBhdGggZD1cIk0gLTMuMTA1NjQ5OTY4NzUgMy4xMDU2NDk5Njg3NSBMIDMuMTA1NjQ5OTY4NzUgMy4xMDU2NDk5Njg3NSBMIDMuMTA1NjQ5OTY4NzUgLTMuMTA1NjQ5OTY4NzUgTCAtMy4xMDU2NDk5Njg3NSAtMy4xMDU2NDk5Njg3NSBaXCIgc3Ryb2tlLXdpZHRoPVwiMC4wXCIgZmlsbC1vcGFjaXR5PVwiMC45XCIgc3Ryb2tlLW9wYWNpdHk9XCIwLjlcIiBzdHJva2U9XCIjRkYwMDAwXCIgZmlsbD1cIiNGRjAwMDBcIiAvPjwvc3ZnPiJ9LCAiZ2VvbWV0cnkiOiB7InR5cGUiOiAiUG9pbnQiLCAiY29vcmRpbmF0ZXMiOiBbLTAuMTg2NDQ1NzEzMDQzMjEsIDUxLjUxMjQ1NTAzOTkxMl19LCAidHlwZSI6ICJGZWF0dXJlIn0sIHsicHJvcGVydGllcyI6IHsiYW5jaG9yX3kiOiA0LjAsICJhbmNob3JfeCI6IDQuMCwgImh0bWwiOiAiPHN2ZyB3aWR0aD1cIjhweFwiIGhlaWdodD1cIjhweFwiIHZpZXdCb3g9XCItNC4wIC00LjAgOC4wIDguMFwiIHhtbG5zPVwiaHR0cDovL3d3dy53My5vcmcvMjAwMC9zdmdcIiB2ZXJzaW9uPVwiMS4xXCI+ICA8cGF0aCBkPVwiTSAtMy4xMDU2NDk5Njg3NSAzLjEwNTY0OTk2ODc1IEwgMy4xMDU2NDk5Njg3NSAzLjEwNTY0OTk2ODc1IEwgMy4xMDU2NDk5Njg3NSAtMy4xMDU2NDk5Njg3NSBMIC0zLjEwNTY0OTk2ODc1IC0zLjEwNTY0OTk2ODc1IFpcIiBzdHJva2Utd2lkdGg9XCIwLjBcIiBmaWxsLW9wYWNpdHk9XCIwLjlcIiBzdHJva2Utb3BhY2l0eT1cIjAuOVwiIHN0cm9rZT1cIiNGRjAwMDBcIiBmaWxsPVwiI0ZGMDAwMFwiIC8+PC9zdmc+In0sICJnZW9tZXRyeSI6IHsidHlwZSI6ICJQb2ludCIsICJjb29yZGluYXRlcyI6IFstMC4wODczMjMsIDUxLjUwNjgxNl19LCAidHlwZSI6ICJGZWF0dXJlIn0sIHsicHJvcGVydGllcyI6IHsiYW5jaG9yX3kiOiA0LjAsICJhbmNob3JfeCI6IDQuMCwgImh0bWwiOiAiPHN2ZyB3aWR0aD1cIjhweFwiIGhlaWdodD1cIjhweFwiIHZpZXdCb3g9XCItNC4wIC00LjAgOC4wIDguMFwiIHhtbG5zPVwiaHR0cDovL3d3dy53My5vcmcvMjAwMC9zdmdcIiB2ZXJzaW9uPVwiMS4xXCI+ICA8cGF0aCBkPVwiTSAtMy4xMDU2NDk5Njg3NSAzLjEwNTY0OTk2ODc1IEwgMy4xMDU2NDk5Njg3NSAzLjEwNTY0OTk2ODc1IEwgMy4xMDU2NDk5Njg3NSAtMy4xMDU2NDk5Njg3NSBMIC0zLjEwNTY0OTk2ODc1IC0zLjEwNTY0OTk2ODc1IFpcIiBzdHJva2Utd2lkdGg9XCIwLjBcIiBmaWxsLW9wYWNpdHk9XCIwLjlcIiBzdHJva2Utb3BhY2l0eT1cIjAuOVwiIHN0cm9rZT1cIiNGRjAwMDBcIiBmaWxsPVwiI0ZGMDAwMFwiIC8+PC9zdmc+In0sICJnZW9tZXRyeSI6IHsidHlwZSI6ICJQb2ludCIsICJjb29yZGluYXRlcyI6IFstMC4xMTc2ODQ1ODc4MzA1NCwgNTEuNTA1Nzg2NjcxODE4XX0sICJ0eXBlIjogIkZlYXR1cmUifSwgeyJwcm9wZXJ0aWVzIjogeyJhbmNob3JfeSI6IDQuMCwgImFuY2hvcl94IjogNC4wLCAiaHRtbCI6ICI8c3ZnIHdpZHRoPVwiOHB4XCIgaGVpZ2h0PVwiOHB4XCIgdmlld0JveD1cIi00LjAgLTQuMCA4LjAgOC4wXCIgeG1sbnM9XCJodHRwOi8vd3d3LnczLm9yZy8yMDAwL3N2Z1wiIHZlcnNpb249XCIxLjFcIj4gIDxwYXRoIGQ9XCJNIC0zLjEwNTY0OTk2ODc1IDMuMTA1NjQ5OTY4NzUgTCAzLjEwNTY0OTk2ODc1IDMuMTA1NjQ5OTY4NzUgTCAzLjEwNTY0OTk2ODc1IC0zLjEwNTY0OTk2ODc1IEwgLTMuMTA1NjQ5OTY4NzUgLTMuMTA1NjQ5OTY4NzUgWlwiIHN0cm9rZS13aWR0aD1cIjAuMFwiIGZpbGwtb3BhY2l0eT1cIjAuOVwiIHN0cm9rZS1vcGFjaXR5PVwiMC45XCIgc3Ryb2tlPVwiI0ZGMDAwMFwiIGZpbGw9XCIjRkYwMDAwXCIgLz48L3N2Zz4ifSwgImdlb21ldHJ5IjogeyJ0eXBlIjogIlBvaW50IiwgImNvb3JkaW5hdGVzIjogWy0wLjE0MTM0NTE0NSwgNTEuNTA3NjM4ODc3NV19LCAidHlwZSI6ICJGZWF0dXJlIn0sIHsicHJvcGVydGllcyI6IHsiYW5jaG9yX3kiOiA0LjAsICJhbmNob3JfeCI6IDQuMCwgImh0bWwiOiAiPHN2ZyB3aWR0aD1cIjhweFwiIGhlaWdodD1cIjhweFwiIHZpZXdCb3g9XCItNC4wIC00LjAgOC4wIDguMFwiIHhtbG5zPVwiaHR0cDovL3d3dy53My5vcmcvMjAwMC9zdmdcIiB2ZXJzaW9uPVwiMS4xXCI+ICA8cGF0aCBkPVwiTSAtMy4xMDU2NDk5Njg3NSAzLjEwNTY0OTk2ODc1IEwgMy4xMDU2NDk5Njg3NSAzLjEwNTY0OTk2ODc1IEwgMy4xMDU2NDk5Njg3NSAtMy4xMDU2NDk5Njg3NSBMIC0zLjEwNTY0OTk2ODc1IC0zLjEwNTY0OTk2ODc1IFpcIiBzdHJva2Utd2lkdGg9XCIwLjBcIiBmaWxsLW9wYWNpdHk9XCIwLjlcIiBzdHJva2Utb3BhY2l0eT1cIjAuOVwiIHN0cm9rZT1cIiNGRjAwMDBcIiBmaWxsPVwiI0ZGMDAwMFwiIC8+PC9zdmc+In0sICJnZW9tZXRyeSI6IHsidHlwZSI6ICJQb2ludCIsICJjb29yZGluYXRlcyI6IFstMC4xOTQzNDI4LCA1MS41MDk2MDI1XX0sICJ0eXBlIjogIkZlYXR1cmUifSwgeyJwcm9wZXJ0aWVzIjogeyJhbmNob3JfeSI6IDQuMCwgImFuY2hvcl94IjogNC4wLCAiaHRtbCI6ICI8c3ZnIHdpZHRoPVwiOHB4XCIgaGVpZ2h0PVwiOHB4XCIgdmlld0JveD1cIi00LjAgLTQuMCA4LjAgOC4wXCIgeG1sbnM9XCJodHRwOi8vd3d3LnczLm9yZy8yMDAwL3N2Z1wiIHZlcnNpb249XCIxLjFcIj4gIDxwYXRoIGQ9XCJNIC0zLjEwNTY0OTk2ODc1IDMuMTA1NjQ5OTY4NzUgTCAzLjEwNTY0OTk2ODc1IDMuMTA1NjQ5OTY4NzUgTCAzLjEwNTY0OTk2ODc1IC0zLjEwNTY0OTk2ODc1IEwgLTMuMTA1NjQ5OTY4NzUgLTMuMTA1NjQ5OTY4NzUgWlwiIHN0cm9rZS13aWR0aD1cIjAuMFwiIGZpbGwtb3BhY2l0eT1cIjAuOVwiIHN0cm9rZS1vcGFjaXR5PVwiMC45XCIgc3Ryb2tlPVwiI0ZGMDAwMFwiIGZpbGw9XCIjRkYwMDAwXCIgLz48L3N2Zz4ifSwgImdlb21ldHJ5IjogeyJ0eXBlIjogIlBvaW50IiwgImNvb3JkaW5hdGVzIjogWy0wLjEwOTI4NDEsIDUxLjUwNDM3NTVdfSwgInR5cGUiOiAiRmVhdHVyZSJ9LCB7InByb3BlcnRpZXMiOiB7ImFuY2hvcl95IjogNC4wLCAiYW5jaG9yX3giOiA0LjAsICJodG1sIjogIjxzdmcgd2lkdGg9XCI4cHhcIiBoZWlnaHQ9XCI4cHhcIiB2aWV3Qm94PVwiLTQuMCAtNC4wIDguMCA4LjBcIiB4bWxucz1cImh0dHA6Ly93d3cudzMub3JnLzIwMDAvc3ZnXCIgdmVyc2lvbj1cIjEuMVwiPiAgPHBhdGggZD1cIk0gLTMuMTA1NjQ5OTY4NzUgMy4xMDU2NDk5Njg3NSBMIDMuMTA1NjQ5OTY4NzUgMy4xMDU2NDk5Njg3NSBMIDMuMTA1NjQ5OTY4NzUgLTMuMTA1NjQ5OTY4NzUgTCAtMy4xMDU2NDk5Njg3NSAtMy4xMDU2NDk5Njg3NSBaXCIgc3Ryb2tlLXdpZHRoPVwiMC4wXCIgZmlsbC1vcGFjaXR5PVwiMC45XCIgc3Ryb2tlLW9wYWNpdHk9XCIwLjlcIiBzdHJva2U9XCIjRkYwMDAwXCIgZmlsbD1cIiNGRjAwMDBcIiAvPjwvc3ZnPiJ9LCAiZ2VvbWV0cnkiOiB7InR5cGUiOiAiUG9pbnQiLCAiY29vcmRpbmF0ZXMiOiBbLTAuMTQ1NDg5NjY1ODM4NTEsIDUxLjQ5NjcxMDMxODY0XX0sICJ0eXBlIjogIkZlYXR1cmUifSwgeyJwcm9wZXJ0aWVzIjogeyJhbmNob3JfeSI6IDQuMCwgImFuY2hvcl94IjogNC4wLCAiaHRtbCI6ICI8c3ZnIHdpZHRoPVwiOHB4XCIgaGVpZ2h0PVwiOHB4XCIgdmlld0JveD1cIi00LjAgLTQuMCA4LjAgOC4wXCIgeG1sbnM9XCJodHRwOi8vd3d3LnczLm9yZy8yMDAwL3N2Z1wiIHZlcnNpb249XCIxLjFcIj4gIDxwYXRoIGQ9XCJNIC0zLjEwNTY0OTk2ODc1IDMuMTA1NjQ5OTY4NzUgTCAzLjEwNTY0OTk2ODc1IDMuMTA1NjQ5OTY4NzUgTCAzLjEwNTY0OTk2ODc1IC0zLjEwNTY0OTk2ODc1IEwgLTMuMTA1NjQ5OTY4NzUgLTMuMTA1NjQ5OTY4NzUgWlwiIHN0cm9rZS13aWR0aD1cIjAuMFwiIGZpbGwtb3BhY2l0eT1cIjAuOVwiIHN0cm9rZS1vcGFjaXR5PVwiMC45XCIgc3Ryb2tlPVwiI0ZGMDAwMFwiIGZpbGw9XCIjRkYwMDAwXCIgLz48L3N2Zz4ifSwgImdlb21ldHJ5IjogeyJ0eXBlIjogIlBvaW50IiwgImNvb3JkaW5hdGVzIjogWy0wLjE0NzA0Mzk5NzU1MzIxLCA1MS41MDQ5MzEyNzQ4MjddfSwgInR5cGUiOiAiRmVhdHVyZSJ9LCB7InByb3BlcnRpZXMiOiB7ImFuY2hvcl95IjogNC4wLCAiYW5jaG9yX3giOiA0LjAsICJodG1sIjogIjxzdmcgd2lkdGg9XCI4cHhcIiBoZWlnaHQ9XCI4cHhcIiB2aWV3Qm94PVwiLTQuMCAtNC4wIDguMCA4LjBcIiB4bWxucz1cImh0dHA6Ly93d3cudzMub3JnLzIwMDAvc3ZnXCIgdmVyc2lvbj1cIjEuMVwiPiAgPHBhdGggZD1cIk0gLTMuMTA1NjQ5OTY4NzUgMy4xMDU2NDk5Njg3NSBMIDMuMTA1NjQ5OTY4NzUgMy4xMDU2NDk5Njg3NSBMIDMuMTA1NjQ5OTY4NzUgLTMuMTA1NjQ5OTY4NzUgTCAtMy4xMDU2NDk5Njg3NSAtMy4xMDU2NDk5Njg3NSBaXCIgc3Ryb2tlLXdpZHRoPVwiMC4wXCIgZmlsbC1vcGFjaXR5PVwiMC45XCIgc3Ryb2tlLW9wYWNpdHk9XCIwLjlcIiBzdHJva2U9XCIjRkYwMDAwXCIgZmlsbD1cIiNGRjAwMDBcIiAvPjwvc3ZnPiJ9LCAiZ2VvbWV0cnkiOiB7InR5cGUiOiAiUG9pbnQiLCAiY29vcmRpbmF0ZXMiOiBbLTAuMDgxODU3OTQ0Mjg2Mjg4LCA1MS41MDA5NzEzNDU1OV19LCAidHlwZSI6ICJGZWF0dXJlIn0sIHsicHJvcGVydGllcyI6IHsiYW5jaG9yX3kiOiA0LjAsICJhbmNob3JfeCI6IDQuMCwgImh0bWwiOiAiPHN2ZyB3aWR0aD1cIjhweFwiIGhlaWdodD1cIjhweFwiIHZpZXdCb3g9XCItNC4wIC00LjAgOC4wIDguMFwiIHhtbG5zPVwiaHR0cDovL3d3dy53My5vcmcvMjAwMC9zdmdcIiB2ZXJzaW9uPVwiMS4xXCI+ICA8cGF0aCBkPVwiTSAtMy4xMDU2NDk5Njg3NSAzLjEwNTY0OTk2ODc1IEwgMy4xMDU2NDk5Njg3NSAzLjEwNTY0OTk2ODc1IEwgMy4xMDU2NDk5Njg3NSAtMy4xMDU2NDk5Njg3NSBMIC0zLjEwNTY0OTk2ODc1IC0zLjEwNTY0OTk2ODc1IFpcIiBzdHJva2Utd2lkdGg9XCIwLjBcIiBmaWxsLW9wYWNpdHk9XCIwLjlcIiBzdHJva2Utb3BhY2l0eT1cIjAuOVwiIHN0cm9rZT1cIiNGRjAwMDBcIiBmaWxsPVwiI0ZGMDAwMFwiIC8+PC9zdmc+In0sICJnZW9tZXRyeSI6IHsidHlwZSI6ICJQb2ludCIsICJjb29yZGluYXRlcyI6IFstMC4xNjUxNDIyOTY4MDc1MywgNTEuNDk4ODM3OTc5MzY2XX0sICJ0eXBlIjogIkZlYXR1cmUifSwgeyJwcm9wZXJ0aWVzIjogeyJhbmNob3JfeSI6IDQuMCwgImFuY2hvcl94IjogNC4wLCAiaHRtbCI6ICI8c3ZnIHdpZHRoPVwiOHB4XCIgaGVpZ2h0PVwiOHB4XCIgdmlld0JveD1cIi00LjAgLTQuMCA4LjAgOC4wXCIgeG1sbnM9XCJodHRwOi8vd3d3LnczLm9yZy8yMDAwL3N2Z1wiIHZlcnNpb249XCIxLjFcIj4gIDxwYXRoIGQ9XCJNIC0zLjEwNTY0OTk2ODc1IDMuMTA1NjQ5OTY4NzUgTCAzLjEwNTY0OTk2ODc1IDMuMTA1NjQ5OTY4NzUgTCAzLjEwNTY0OTk2ODc1IC0zLjEwNTY0OTk2ODc1IEwgLTMuMTA1NjQ5OTY4NzUgLTMuMTA1NjQ5OTY4NzUgWlwiIHN0cm9rZS13aWR0aD1cIjAuMFwiIGZpbGwtb3BhY2l0eT1cIjAuOVwiIHN0cm9rZS1vcGFjaXR5PVwiMC45XCIgc3Ryb2tlPVwiI0ZGMDAwMFwiIGZpbGw9XCIjRkYwMDAwXCIgLz48L3N2Zz4ifSwgImdlb21ldHJ5IjogeyJ0eXBlIjogIlBvaW50IiwgImNvb3JkaW5hdGVzIjogWy0wLjE2NDMyMzQxMzA1NTE1LCA1MS40OTkwOTUxMjY4OTFdfSwgInR5cGUiOiAiRmVhdHVyZSJ9LCB7InByb3BlcnRpZXMiOiB7ImFuY2hvcl95IjogNC4wLCAiYW5jaG9yX3giOiA0LjAsICJodG1sIjogIjxzdmcgd2lkdGg9XCI4cHhcIiBoZWlnaHQ9XCI4cHhcIiB2aWV3Qm94PVwiLTQuMCAtNC4wIDguMCA4LjBcIiB4bWxucz1cImh0dHA6Ly93d3cudzMub3JnLzIwMDAvc3ZnXCIgdmVyc2lvbj1cIjEuMVwiPiAgPHBhdGggZD1cIk0gLTMuMTA1NjQ5OTY4NzUgMy4xMDU2NDk5Njg3NSBMIDMuMTA1NjQ5OTY4NzUgMy4xMDU2NDk5Njg3NSBMIDMuMTA1NjQ5OTY4NzUgLTMuMTA1NjQ5OTY4NzUgTCAtMy4xMDU2NDk5Njg3NSAtMy4xMDU2NDk5Njg3NSBaXCIgc3Ryb2tlLXdpZHRoPVwiMC4wXCIgZmlsbC1vcGFjaXR5PVwiMC45XCIgc3Ryb2tlLW9wYWNpdHk9XCIwLjlcIiBzdHJva2U9XCIjRkYwMDAwXCIgZmlsbD1cIiNGRjAwMDBcIiAvPjwvc3ZnPiJ9LCAiZ2VvbWV0cnkiOiB7InR5cGUiOiAiUG9pbnQiLCAiY29vcmRpbmF0ZXMiOiBbLTAuMTI1NjExMTExMTExMTEsIDUxLjQ5Mzk3MjIyMjIyMl19LCAidHlwZSI6ICJGZWF0dXJlIn0sIHsicHJvcGVydGllcyI6IHsiYW5jaG9yX3kiOiA0LjAsICJhbmNob3JfeCI6IDQuMCwgImh0bWwiOiAiPHN2ZyB3aWR0aD1cIjhweFwiIGhlaWdodD1cIjhweFwiIHZpZXdCb3g9XCItNC4wIC00LjAgOC4wIDguMFwiIHhtbG5zPVwiaHR0cDovL3d3dy53My5vcmcvMjAwMC9zdmdcIiB2ZXJzaW9uPVwiMS4xXCI+ICA8cGF0aCBkPVwiTSAtMy4xMDU2NDk5Njg3NSAzLjEwNTY0OTk2ODc1IEwgMy4xMDU2NDk5Njg3NSAzLjEwNTY0OTk2ODc1IEwgMy4xMDU2NDk5Njg3NSAtMy4xMDU2NDk5Njg3NSBMIC0zLjEwNTY0OTk2ODc1IC0zLjEwNTY0OTk2ODc1IFpcIiBzdHJva2Utd2lkdGg9XCIwLjBcIiBmaWxsLW9wYWNpdHk9XCIwLjlcIiBzdHJva2Utb3BhY2l0eT1cIjAuOVwiIHN0cm9rZT1cIiNGRjAwMDBcIiBmaWxsPVwiI0ZGMDAwMFwiIC8+PC9zdmc+In0sICJnZW9tZXRyeSI6IHsidHlwZSI6ICJQb2ludCIsICJjb29yZGluYXRlcyI6IFstMC4xNzYxNTE3LCA1MS40OTM2ODYzXX0sICJ0eXBlIjogIkZlYXR1cmUifSwgeyJwcm9wZXJ0aWVzIjogeyJhbmNob3JfeSI6IDQuMCwgImFuY2hvcl94IjogNC4wLCAiaHRtbCI6ICI8c3ZnIHdpZHRoPVwiOHB4XCIgaGVpZ2h0PVwiOHB4XCIgdmlld0JveD1cIi00LjAgLTQuMCA4LjAgOC4wXCIgeG1sbnM9XCJodHRwOi8vd3d3LnczLm9yZy8yMDAwL3N2Z1wiIHZlcnNpb249XCIxLjFcIj4gIDxwYXRoIGQ9XCJNIC0zLjEwNTY0OTk2ODc1IDMuMTA1NjQ5OTY4NzUgTCAzLjEwNTY0OTk2ODc1IDMuMTA1NjQ5OTY4NzUgTCAzLjEwNTY0OTk2ODc1IC0zLjEwNTY0OTk2ODc1IEwgLTMuMTA1NjQ5OTY4NzUgLTMuMTA1NjQ5OTY4NzUgWlwiIHN0cm9rZS13aWR0aD1cIjAuMFwiIGZpbGwtb3BhY2l0eT1cIjAuOVwiIHN0cm9rZS1vcGFjaXR5PVwiMC45XCIgc3Ryb2tlPVwiI0ZGMDAwMFwiIGZpbGw9XCIjRkYwMDAwXCIgLz48L3N2Zz4ifSwgImdlb21ldHJ5IjogeyJ0eXBlIjogIlBvaW50IiwgImNvb3JkaW5hdGVzIjogWy0wLjEzNDgyOTQsIDUxLjQ5MTA1ODddfSwgInR5cGUiOiAiRmVhdHVyZSJ9LCB7InByb3BlcnRpZXMiOiB7ImFuY2hvcl95IjogNC4wLCAiYW5jaG9yX3giOiA0LjAsICJodG1sIjogIjxzdmcgd2lkdGg9XCI4cHhcIiBoZWlnaHQ9XCI4cHhcIiB2aWV3Qm94PVwiLTQuMCAtNC4wIDguMCA4LjBcIiB4bWxucz1cImh0dHA6Ly93d3cudzMub3JnLzIwMDAvc3ZnXCIgdmVyc2lvbj1cIjEuMVwiPiAgPHBhdGggZD1cIk0gLTMuMTA1NjQ5OTY4NzUgMy4xMDU2NDk5Njg3NSBMIDMuMTA1NjQ5OTY4NzUgMy4xMDU2NDk5Njg3NSBMIDMuMTA1NjQ5OTY4NzUgLTMuMTA1NjQ5OTY4NzUgTCAtMy4xMDU2NDk5Njg3NSAtMy4xMDU2NDk5Njg3NSBaXCIgc3Ryb2tlLXdpZHRoPVwiMC4wXCIgZmlsbC1vcGFjaXR5PVwiMC45XCIgc3Ryb2tlLW9wYWNpdHk9XCIwLjlcIiBzdHJva2U9XCIjRkYwMDAwXCIgZmlsbD1cIiNGRjAwMDBcIiAvPjwvc3ZnPiJ9LCAiZ2VvbWV0cnkiOiB7InR5cGUiOiAiUG9pbnQiLCAiY29vcmRpbmF0ZXMiOiBbLTAuMTExNDY1OTg5NzM0MjcsIDUxLjQ4NzYyMjg5OTkxOV19LCAidHlwZSI6ICJGZWF0dXJlIn0sIHsicHJvcGVydGllcyI6IHsiYW5jaG9yX3kiOiA0LjAsICJhbmNob3JfeCI6IDQuMCwgImh0bWwiOiAiPHN2ZyB3aWR0aD1cIjhweFwiIGhlaWdodD1cIjhweFwiIHZpZXdCb3g9XCItNC4wIC00LjAgOC4wIDguMFwiIHhtbG5zPVwiaHR0cDovL3d3dy53My5vcmcvMjAwMC9zdmdcIiB2ZXJzaW9uPVwiMS4xXCI+ICA8cGF0aCBkPVwiTSAtMy4xMDU2NDk5Njg3NSAzLjEwNTY0OTk2ODc1IEwgMy4xMDU2NDk5Njg3NSAzLjEwNTY0OTk2ODc1IEwgMy4xMDU2NDk5Njg3NSAtMy4xMDU2NDk5Njg3NSBMIC0zLjEwNTY0OTk2ODc1IC0zLjEwNTY0OTk2ODc1IFpcIiBzdHJva2Utd2lkdGg9XCIwLjBcIiBmaWxsLW9wYWNpdHk9XCIwLjlcIiBzdHJva2Utb3BhY2l0eT1cIjAuOVwiIHN0cm9rZT1cIiNGRjAwMDBcIiBmaWxsPVwiI0ZGMDAwMFwiIC8+PC9zdmc+In0sICJnZW9tZXRyeSI6IHsidHlwZSI6ICJQb2ludCIsICJjb29yZGluYXRlcyI6IFstMC4xMjczNTEsIDUxLjUyMzQxMjFdfSwgInR5cGUiOiAiRmVhdHVyZSJ9LCB7InByb3BlcnRpZXMiOiB7ImFuY2hvcl95IjogNC4wLCAiYW5jaG9yX3giOiA0LjAsICJodG1sIjogIjxzdmcgd2lkdGg9XCI4cHhcIiBoZWlnaHQ9XCI4cHhcIiB2aWV3Qm94PVwiLTQuMCAtNC4wIDguMCA4LjBcIiB4bWxucz1cImh0dHA6Ly93d3cudzMub3JnLzIwMDAvc3ZnXCIgdmVyc2lvbj1cIjEuMVwiPiAgPHBhdGggZD1cIk0gLTMuMTA1NjQ5OTY4NzUgMy4xMDU2NDk5Njg3NSBMIDMuMTA1NjQ5OTY4NzUgMy4xMDU2NDk5Njg3NSBMIDMuMTA1NjQ5OTY4NzUgLTMuMTA1NjQ5OTY4NzUgTCAtMy4xMDU2NDk5Njg3NSAtMy4xMDU2NDk5Njg3NSBaXCIgc3Ryb2tlLXdpZHRoPVwiMC4wXCIgZmlsbC1vcGFjaXR5PVwiMC45XCIgc3Ryb2tlLW9wYWNpdHk9XCIwLjlcIiBzdHJva2U9XCIjRkYwMDAwXCIgZmlsbD1cIiNGRjAwMDBcIiAvPjwvc3ZnPiJ9LCAiZ2VvbWV0cnkiOiB7InR5cGUiOiAiUG9pbnQiLCAiY29vcmRpbmF0ZXMiOiBbLTAuMTkyNzg3Nzg5NTE3NDMsIDUxLjQ3ODk5MzU1NjA4Nl19LCAidHlwZSI6ICJGZWF0dXJlIn0sIHsicHJvcGVydGllcyI6IHsiYW5jaG9yX3kiOiA0LjAsICJhbmNob3JfeCI6IDQuMCwgImh0bWwiOiAiPHN2ZyB3aWR0aD1cIjhweFwiIGhlaWdodD1cIjhweFwiIHZpZXdCb3g9XCItNC4wIC00LjAgOC4wIDguMFwiIHhtbG5zPVwiaHR0cDovL3d3dy53My5vcmcvMjAwMC9zdmdcIiB2ZXJzaW9uPVwiMS4xXCI+ICA8cGF0aCBkPVwiTSAtMy4xMDU2NDk5Njg3NSAzLjEwNTY0OTk2ODc1IEwgMy4xMDU2NDk5Njg3NSAzLjEwNTY0OTk2ODc1IEwgMy4xMDU2NDk5Njg3NSAtMy4xMDU2NDk5Njg3NSBMIC0zLjEwNTY0OTk2ODc1IC0zLjEwNTY0OTk2ODc1IFpcIiBzdHJva2Utd2lkdGg9XCIwLjBcIiBmaWxsLW9wYWNpdHk9XCIwLjlcIiBzdHJva2Utb3BhY2l0eT1cIjAuOVwiIHN0cm9rZT1cIiNGRjAwMDBcIiBmaWxsPVwiI0ZGMDAwMFwiIC8+PC9zdmc+In0sICJnZW9tZXRyeSI6IHsidHlwZSI6ICJQb2ludCIsICJjb29yZGluYXRlcyI6IFstMC4wNzc5MzI3NTgwOTY2NzksIDUxLjUyNjA2MjAxMjEwN119LCAidHlwZSI6ICJGZWF0dXJlIn0sIHsicHJvcGVydGllcyI6IHsiYW5jaG9yX3kiOiA0LjAsICJhbmNob3JfeCI6IDQuMCwgImh0bWwiOiAiPHN2ZyB3aWR0aD1cIjhweFwiIGhlaWdodD1cIjhweFwiIHZpZXdCb3g9XCItNC4wIC00LjAgOC4wIDguMFwiIHhtbG5zPVwiaHR0cDovL3d3dy53My5vcmcvMjAwMC9zdmdcIiB2ZXJzaW9uPVwiMS4xXCI+ICA8cGF0aCBkPVwiTSAtMy4xMDU2NDk5Njg3NSAzLjEwNTY0OTk2ODc1IEwgMy4xMDU2NDk5Njg3NSAzLjEwNTY0OTk2ODc1IEwgMy4xMDU2NDk5Njg3NSAtMy4xMDU2NDk5Njg3NSBMIC0zLjEwNTY0OTk2ODc1IC0zLjEwNTY0OTk2ODc1IFpcIiBzdHJva2Utd2lkdGg9XCIwLjBcIiBmaWxsLW9wYWNpdHk9XCIwLjlcIiBzdHJva2Utb3BhY2l0eT1cIjAuOVwiIHN0cm9rZT1cIiNGRjAwMDBcIiBmaWxsPVwiI0ZGMDAwMFwiIC8+PC9zdmc+In0sICJnZW9tZXRyeSI6IHsidHlwZSI6ICJQb2ludCIsICJjb29yZGluYXRlcyI6IFstMC4wOTQ4MywgNTEuNTI2Nl19LCAidHlwZSI6ICJGZWF0dXJlIn0sIHsicHJvcGVydGllcyI6IHsiYW5jaG9yX3kiOiA0LjAsICJhbmNob3JfeCI6IDQuMCwgImh0bWwiOiAiPHN2ZyB3aWR0aD1cIjhweFwiIGhlaWdodD1cIjhweFwiIHZpZXdCb3g9XCItNC4wIC00LjAgOC4wIDguMFwiIHhtbG5zPVwiaHR0cDovL3d3dy53My5vcmcvMjAwMC9zdmdcIiB2ZXJzaW9uPVwiMS4xXCI+ICA8cGF0aCBkPVwiTSAtMy4xMDU2NDk5Njg3NSAzLjEwNTY0OTk2ODc1IEwgMy4xMDU2NDk5Njg3NSAzLjEwNTY0OTk2ODc1IEwgMy4xMDU2NDk5Njg3NSAtMy4xMDU2NDk5Njg3NSBMIC0zLjEwNTY0OTk2ODc1IC0zLjEwNTY0OTk2ODc1IFpcIiBzdHJva2Utd2lkdGg9XCIwLjBcIiBmaWxsLW9wYWNpdHk9XCIwLjlcIiBzdHJva2Utb3BhY2l0eT1cIjAuOVwiIHN0cm9rZT1cIiNGRjAwMDBcIiBmaWxsPVwiI0ZGMDAwMFwiIC8+PC9zdmc+In0sICJnZW9tZXRyeSI6IHsidHlwZSI6ICJQb2ludCIsICJjb29yZGluYXRlcyI6IFstMC4xMjg0OTAyMDQxMDgzMywgNTEuNTIzNDEzMjQ0NDIzXX0sICJ0eXBlIjogIkZlYXR1cmUifSwgeyJwcm9wZXJ0aWVzIjogeyJhbmNob3JfeSI6IDQuMCwgImFuY2hvcl94IjogNC4wLCAiaHRtbCI6ICI8c3ZnIHdpZHRoPVwiOHB4XCIgaGVpZ2h0PVwiOHB4XCIgdmlld0JveD1cIi00LjAgLTQuMCA4LjAgOC4wXCIgeG1sbnM9XCJodHRwOi8vd3d3LnczLm9yZy8yMDAwL3N2Z1wiIHZlcnNpb249XCIxLjFcIj4gIDxwYXRoIGQ9XCJNIC0zLjEwNTY0OTk2ODc1IDMuMTA1NjQ5OTY4NzUgTCAzLjEwNTY0OTk2ODc1IDMuMTA1NjQ5OTY4NzUgTCAzLjEwNTY0OTk2ODc1IC0zLjEwNTY0OTk2ODc1IEwgLTMuMTA1NjQ5OTY4NzUgLTMuMTA1NjQ5OTY4NzUgWlwiIHN0cm9rZS13aWR0aD1cIjAuMFwiIGZpbGwtb3BhY2l0eT1cIjAuOVwiIHN0cm9rZS1vcGFjaXR5PVwiMC45XCIgc3Ryb2tlPVwiI0ZGMDAwMFwiIGZpbGw9XCIjRkYwMDAwXCIgLz48L3N2Zz4ifSwgImdlb21ldHJ5IjogeyJ0eXBlIjogIlBvaW50IiwgImNvb3JkaW5hdGVzIjogWy0wLjEzMzkxMzk3NzIyMjIyLCA1MS41MjYwNTI1NjY2NjddfSwgInR5cGUiOiAiRmVhdHVyZSJ9LCB7InByb3BlcnRpZXMiOiB7ImFuY2hvcl95IjogNC4wLCAiYW5jaG9yX3giOiA0LjAsICJodG1sIjogIjxzdmcgd2lkdGg9XCI4cHhcIiBoZWlnaHQ9XCI4cHhcIiB2aWV3Qm94PVwiLTQuMCAtNC4wIDguMCA4LjBcIiB4bWxucz1cImh0dHA6Ly93d3cudzMub3JnLzIwMDAvc3ZnXCIgdmVyc2lvbj1cIjEuMVwiPiAgPHBhdGggZD1cIk0gLTMuMTA1NjQ5OTY4NzUgMy4xMDU2NDk5Njg3NSBMIDMuMTA1NjQ5OTY4NzUgMy4xMDU2NDk5Njg3NSBMIDMuMTA1NjQ5OTY4NzUgLTMuMTA1NjQ5OTY4NzUgTCAtMy4xMDU2NDk5Njg3NSAtMy4xMDU2NDk5Njg3NSBaXCIgc3Ryb2tlLXdpZHRoPVwiMC4wXCIgZmlsbC1vcGFjaXR5PVwiMC45XCIgc3Ryb2tlLW9wYWNpdHk9XCIwLjlcIiBzdHJva2U9XCIjRkYwMDAwXCIgZmlsbD1cIiNGRjAwMDBcIiAvPjwvc3ZnPiJ9LCAiZ2VvbWV0cnkiOiB7InR5cGUiOiAiUG9pbnQiLCAiY29vcmRpbmF0ZXMiOiBbLTAuMTQ4NTY5NzQyMjAyOTQsIDUxLjUyOTMyNTYzMDUyMl19LCAidHlwZSI6ICJGZWF0dXJlIn0sIHsicHJvcGVydGllcyI6IHsiYW5jaG9yX3kiOiA0LjAsICJhbmNob3JfeCI6IDQuMCwgImh0bWwiOiAiPHN2ZyB3aWR0aD1cIjhweFwiIGhlaWdodD1cIjhweFwiIHZpZXdCb3g9XCItNC4wIC00LjAgOC4wIDguMFwiIHhtbG5zPVwiaHR0cDovL3d3dy53My5vcmcvMjAwMC9zdmdcIiB2ZXJzaW9uPVwiMS4xXCI+ICA8cGF0aCBkPVwiTSAtMy4xMDU2NDk5Njg3NSAzLjEwNTY0OTk2ODc1IEwgMy4xMDU2NDk5Njg3NSAzLjEwNTY0OTk2ODc1IEwgMy4xMDU2NDk5Njg3NSAtMy4xMDU2NDk5Njg3NSBMIC0zLjEwNTY0OTk2ODc1IC0zLjEwNTY0OTk2ODc1IFpcIiBzdHJva2Utd2lkdGg9XCIwLjBcIiBmaWxsLW9wYWNpdHk9XCIwLjlcIiBzdHJva2Utb3BhY2l0eT1cIjAuOVwiIHN0cm9rZT1cIiNGRjAwMDBcIiBmaWxsPVwiI0ZGMDAwMFwiIC8+PC9zdmc+In0sICJnZW9tZXRyeSI6IHsidHlwZSI6ICJQb2ludCIsICJjb29yZGluYXRlcyI6IFstMC4xNjUyNDU5MTkzNTY4NywgNTEuNTI4NzIzOTQ4MzldfSwgInR5cGUiOiAiRmVhdHVyZSJ9LCB7InByb3BlcnRpZXMiOiB7ImFuY2hvcl95IjogNC4wLCAiYW5jaG9yX3giOiA0LjAsICJodG1sIjogIjxzdmcgd2lkdGg9XCI4cHhcIiBoZWlnaHQ9XCI4cHhcIiB2aWV3Qm94PVwiLTQuMCAtNC4wIDguMCA4LjBcIiB4bWxucz1cImh0dHA6Ly93d3cudzMub3JnLzIwMDAvc3ZnXCIgdmVyc2lvbj1cIjEuMVwiPiAgPHBhdGggZD1cIk0gLTMuMTA1NjQ5OTY4NzUgMy4xMDU2NDk5Njg3NSBMIDMuMTA1NjQ5OTY4NzUgMy4xMDU2NDk5Njg3NSBMIDMuMTA1NjQ5OTY4NzUgLTMuMTA1NjQ5OTY4NzUgTCAtMy4xMDU2NDk5Njg3NSAtMy4xMDU2NDk5Njg3NSBaXCIgc3Ryb2tlLXdpZHRoPVwiMC4wXCIgZmlsbC1vcGFjaXR5PVwiMC45XCIgc3Ryb2tlLW9wYWNpdHk9XCIwLjlcIiBzdHJva2U9XCIjRkYwMDAwXCIgZmlsbD1cIiNGRjAwMDBcIiAvPjwvc3ZnPiJ9LCAiZ2VvbWV0cnkiOiB7InR5cGUiOiAiUG9pbnQiLCAiY29vcmRpbmF0ZXMiOiBbLTAuMjE1MzU2LCA1MS41Mjc1MjZdfSwgInR5cGUiOiAiRmVhdHVyZSJ9LCB7InByb3BlcnRpZXMiOiB7ImFuY2hvcl95IjogNC4wLCAiYW5jaG9yX3giOiA0LjAsICJodG1sIjogIjxzdmcgd2lkdGg9XCI4cHhcIiBoZWlnaHQ9XCI4cHhcIiB2aWV3Qm94PVwiLTQuMCAtNC4wIDguMCA4LjBcIiB4bWxucz1cImh0dHA6Ly93d3cudzMub3JnLzIwMDAvc3ZnXCIgdmVyc2lvbj1cIjEuMVwiPiAgPHBhdGggZD1cIk0gLTMuMTA1NjQ5OTY4NzUgMy4xMDU2NDk5Njg3NSBMIDMuMTA1NjQ5OTY4NzUgMy4xMDU2NDk5Njg3NSBMIDMuMTA1NjQ5OTY4NzUgLTMuMTA1NjQ5OTY4NzUgTCAtMy4xMDU2NDk5Njg3NSAtMy4xMDU2NDk5Njg3NSBaXCIgc3Ryb2tlLXdpZHRoPVwiMC4wXCIgZmlsbC1vcGFjaXR5PVwiMC45XCIgc3Ryb2tlLW9wYWNpdHk9XCIwLjlcIiBzdHJva2U9XCIjRkYwMDAwXCIgZmlsbD1cIiNGRjAwMDBcIiAvPjwvc3ZnPiJ9LCAiZ2VvbWV0cnkiOiB7InR5cGUiOiAiUG9pbnQiLCAiY29vcmRpbmF0ZXMiOiBbLTAuMTMyMjExMDMyODg1MjIsIDUxLjUxNTI2NjA3Mzk4Nl19LCAidHlwZSI6ICJGZWF0dXJlIn0sIHsicHJvcGVydGllcyI6IHsiYW5jaG9yX3kiOiA0LjAsICJhbmNob3JfeCI6IDQuMCwgImh0bWwiOiAiPHN2ZyB3aWR0aD1cIjhweFwiIGhlaWdodD1cIjhweFwiIHZpZXdCb3g9XCItNC4wIC00LjAgOC4wIDguMFwiIHhtbG5zPVwiaHR0cDovL3d3dy53My5vcmcvMjAwMC9zdmdcIiB2ZXJzaW9uPVwiMS4xXCI+ICA8cGF0aCBkPVwiTSAtMy4xMDU2NDk5Njg3NSAzLjEwNTY0OTk2ODc1IEwgMy4xMDU2NDk5Njg3NSAzLjEwNTY0OTk2ODc1IEwgMy4xMDU2NDk5Njg3NSAtMy4xMDU2NDk5Njg3NSBMIC0zLjEwNTY0OTk2ODc1IC0zLjEwNTY0OTk2ODc1IFpcIiBzdHJva2Utd2lkdGg9XCIwLjBcIiBmaWxsLW9wYWNpdHk9XCIwLjlcIiBzdHJva2Utb3BhY2l0eT1cIjAuOVwiIHN0cm9rZT1cIiNGRjAwMDBcIiBmaWxsPVwiI0ZGMDAwMFwiIC8+PC9zdmc+In0sICJnZW9tZXRyeSI6IHsidHlwZSI6ICJQb2ludCIsICJjb29yZGluYXRlcyI6IFstMC4xNTE5NjExOTQyODU3MSwgNTEuNTE4NDQ3MTddfSwgInR5cGUiOiAiRmVhdHVyZSJ9LCB7InByb3BlcnRpZXMiOiB7ImFuY2hvcl95IjogNC4wLCAiYW5jaG9yX3giOiA0LjAsICJodG1sIjogIjxzdmcgd2lkdGg9XCI4cHhcIiBoZWlnaHQ9XCI4cHhcIiB2aWV3Qm94PVwiLTQuMCAtNC4wIDguMCA4LjBcIiB4bWxucz1cImh0dHA6Ly93d3cudzMub3JnLzIwMDAvc3ZnXCIgdmVyc2lvbj1cIjEuMVwiPiAgPHBhdGggZD1cIk0gLTMuMTA1NjQ5OTY4NzUgMy4xMDU2NDk5Njg3NSBMIDMuMTA1NjQ5OTY4NzUgMy4xMDU2NDk5Njg3NSBMIDMuMTA1NjQ5OTY4NzUgLTMuMTA1NjQ5OTY4NzUgTCAtMy4xMDU2NDk5Njg3NSAtMy4xMDU2NDk5Njg3NSBaXCIgc3Ryb2tlLXdpZHRoPVwiMC4wXCIgZmlsbC1vcGFjaXR5PVwiMC45XCIgc3Ryb2tlLW9wYWNpdHk9XCIwLjlcIiBzdHJva2U9XCIjRkYwMDAwXCIgZmlsbD1cIiNGRjAwMDBcIiAvPjwvc3ZnPiJ9LCAiZ2VvbWV0cnkiOiB7InR5cGUiOiAiUG9pbnQiLCAiY29vcmRpbmF0ZXMiOiBbLTAuMTA3NDg5ODY1MTk0ODEsIDUxLjUxNzA0MDk3NzY2Ml19LCAidHlwZSI6ICJGZWF0dXJlIn0sIHsicHJvcGVydGllcyI6IHsiYW5jaG9yX3kiOiA0LjAsICJhbmNob3JfeCI6IDQuMCwgImh0bWwiOiAiPHN2ZyB3aWR0aD1cIjhweFwiIGhlaWdodD1cIjhweFwiIHZpZXdCb3g9XCItNC4wIC00LjAgOC4wIDguMFwiIHhtbG5zPVwiaHR0cDovL3d3dy53My5vcmcvMjAwMC9zdmdcIiB2ZXJzaW9uPVwiMS4xXCI+ICA8cGF0aCBkPVwiTSAtMy4xMDU2NDk5Njg3NSAzLjEwNTY0OTk2ODc1IEwgMy4xMDU2NDk5Njg3NSAzLjEwNTY0OTk2ODc1IEwgMy4xMDU2NDk5Njg3NSAtMy4xMDU2NDk5Njg3NSBMIC0zLjEwNTY0OTk2ODc1IC0zLjEwNTY0OTk2ODc1IFpcIiBzdHJva2Utd2lkdGg9XCIwLjBcIiBmaWxsLW9wYWNpdHk9XCIwLjlcIiBzdHJva2Utb3BhY2l0eT1cIjAuOVwiIHN0cm9rZT1cIiNGRjAwMDBcIiBmaWxsPVwiI0ZGMDAwMFwiIC8+PC9zdmc+In0sICJnZW9tZXRyeSI6IHsidHlwZSI6ICJQb2ludCIsICJjb29yZGluYXRlcyI6IFstMC4xMTg4NzUwODcwNjEzMSwgNTEuNTE2Nzk4OTc4NDA1XX0sICJ0eXBlIjogIkZlYXR1cmUifSwgeyJwcm9wZXJ0aWVzIjogeyJhbmNob3JfeSI6IDQuMCwgImFuY2hvcl94IjogNC4wLCAiaHRtbCI6ICI8c3ZnIHdpZHRoPVwiOHB4XCIgaGVpZ2h0PVwiOHB4XCIgdmlld0JveD1cIi00LjAgLTQuMCA4LjAgOC4wXCIgeG1sbnM9XCJodHRwOi8vd3d3LnczLm9yZy8yMDAwL3N2Z1wiIHZlcnNpb249XCIxLjFcIj4gIDxwYXRoIGQ9XCJNIC0zLjEwNTY0OTk2ODc1IDMuMTA1NjQ5OTY4NzUgTCAzLjEwNTY0OTk2ODc1IDMuMTA1NjQ5OTY4NzUgTCAzLjEwNTY0OTk2ODc1IC0zLjEwNTY0OTk2ODc1IEwgLTMuMTA1NjQ5OTY4NzUgLTMuMTA1NjQ5OTY4NzUgWlwiIHN0cm9rZS13aWR0aD1cIjAuMFwiIGZpbGwtb3BhY2l0eT1cIjAuOVwiIHN0cm9rZS1vcGFjaXR5PVwiMC45XCIgc3Ryb2tlPVwiI0ZGMDAwMFwiIGZpbGw9XCIjRkYwMDAwXCIgLz48L3N2Zz4ifSwgImdlb21ldHJ5IjogeyJ0eXBlIjogIlBvaW50IiwgImNvb3JkaW5hdGVzIjogWy0wLjEyMDg4MiwgNTEuNTE1Nzk2N119LCAidHlwZSI6ICJGZWF0dXJlIn0sIHsicHJvcGVydGllcyI6IHsiYW5jaG9yX3kiOiA0LjAsICJhbmNob3JfeCI6IDQuMCwgImh0bWwiOiAiPHN2ZyB3aWR0aD1cIjhweFwiIGhlaWdodD1cIjhweFwiIHZpZXdCb3g9XCItNC4wIC00LjAgOC4wIDguMFwiIHhtbG5zPVwiaHR0cDovL3d3dy53My5vcmcvMjAwMC9zdmdcIiB2ZXJzaW9uPVwiMS4xXCI+ICA8cGF0aCBkPVwiTSAtMy4xMDU2NDk5Njg3NSAzLjEwNTY0OTk2ODc1IEwgMy4xMDU2NDk5Njg3NSAzLjEwNTY0OTk2ODc1IEwgMy4xMDU2NDk5Njg3NSAtMy4xMDU2NDk5Njg3NSBMIC0zLjEwNTY0OTk2ODc1IC0zLjEwNTY0OTk2ODc1IFpcIiBzdHJva2Utd2lkdGg9XCIwLjBcIiBmaWxsLW9wYWNpdHk9XCIwLjlcIiBzdHJva2Utb3BhY2l0eT1cIjAuOVwiIHN0cm9rZT1cIiNGRjAwMDBcIiBmaWxsPVwiI0ZGMDAwMFwiIC8+PC9zdmc+In0sICJnZW9tZXRyeSI6IHsidHlwZSI6ICJQb2ludCIsICJjb29yZGluYXRlcyI6IFstMC4xMjcwNiwgNTEuNTE0NV19LCAidHlwZSI6ICJGZWF0dXJlIn0sIHsicHJvcGVydGllcyI6IHsiYW5jaG9yX3kiOiA0LjAsICJhbmNob3JfeCI6IDQuMCwgImh0bWwiOiAiPHN2ZyB3aWR0aD1cIjhweFwiIGhlaWdodD1cIjhweFwiIHZpZXdCb3g9XCItNC4wIC00LjAgOC4wIDguMFwiIHhtbG5zPVwiaHR0cDovL3d3dy53My5vcmcvMjAwMC9zdmdcIiB2ZXJzaW9uPVwiMS4xXCI+ICA8cGF0aCBkPVwiTSAtMy4xMDU2NDk5Njg3NSAzLjEwNTY0OTk2ODc1IEwgMy4xMDU2NDk5Njg3NSAzLjEwNTY0OTk2ODc1IEwgMy4xMDU2NDk5Njg3NSAtMy4xMDU2NDk5Njg3NSBMIC0zLjEwNTY0OTk2ODc1IC0zLjEwNTY0OTk2ODc1IFpcIiBzdHJva2Utd2lkdGg9XCIwLjBcIiBmaWxsLW9wYWNpdHk9XCIwLjlcIiBzdHJva2Utb3BhY2l0eT1cIjAuOVwiIHN0cm9rZT1cIiNGRjAwMDBcIiBmaWxsPVwiI0ZGMDAwMFwiIC8+PC9zdmc+In0sICJnZW9tZXRyeSI6IHsidHlwZSI6ICJQb2ludCIsICJjb29yZGluYXRlcyI6IFstMC4xMjYxNzI2LCA1MS41MTQ5MTY4XX0sICJ0eXBlIjogIkZlYXR1cmUifSwgeyJwcm9wZXJ0aWVzIjogeyJhbmNob3JfeSI6IDQuMCwgImFuY2hvcl94IjogNC4wLCAiaHRtbCI6ICI8c3ZnIHdpZHRoPVwiOHB4XCIgaGVpZ2h0PVwiOHB4XCIgdmlld0JveD1cIi00LjAgLTQuMCA4LjAgOC4wXCIgeG1sbnM9XCJodHRwOi8vd3d3LnczLm9yZy8yMDAwL3N2Z1wiIHZlcnNpb249XCIxLjFcIj4gIDxwYXRoIGQ9XCJNIC0zLjEwNTY0OTk2ODc1IDMuMTA1NjQ5OTY4NzUgTCAzLjEwNTY0OTk2ODc1IDMuMTA1NjQ5OTY4NzUgTCAzLjEwNTY0OTk2ODc1IC0zLjEwNTY0OTk2ODc1IEwgLTMuMTA1NjQ5OTY4NzUgLTMuMTA1NjQ5OTY4NzUgWlwiIHN0cm9rZS13aWR0aD1cIjAuMFwiIGZpbGwtb3BhY2l0eT1cIjAuOVwiIHN0cm9rZS1vcGFjaXR5PVwiMC45XCIgc3Ryb2tlPVwiI0ZGMDAwMFwiIGZpbGw9XCIjRkYwMDAwXCIgLz48L3N2Zz4ifSwgImdlb21ldHJ5IjogeyJ0eXBlIjogIlBvaW50IiwgImNvb3JkaW5hdGVzIjogWy0wLjEzMTA1OTAxNDU4MzMzLCA1MS41MTQ0NjExMzgwNTZdfSwgInR5cGUiOiAiRmVhdHVyZSJ9LCB7InByb3BlcnRpZXMiOiB7ImFuY2hvcl95IjogNC4wLCAiYW5jaG9yX3giOiA0LjAsICJodG1sIjogIjxzdmcgd2lkdGg9XCI4cHhcIiBoZWlnaHQ9XCI4cHhcIiB2aWV3Qm94PVwiLTQuMCAtNC4wIDguMCA4LjBcIiB4bWxucz1cImh0dHA6Ly93d3cudzMub3JnLzIwMDAvc3ZnXCIgdmVyc2lvbj1cIjEuMVwiPiAgPHBhdGggZD1cIk0gLTMuMTA1NjQ5OTY4NzUgMy4xMDU2NDk5Njg3NSBMIDMuMTA1NjQ5OTY4NzUgMy4xMDU2NDk5Njg3NSBMIDMuMTA1NjQ5OTY4NzUgLTMuMTA1NjQ5OTY4NzUgTCAtMy4xMDU2NDk5Njg3NSAtMy4xMDU2NDk5Njg3NSBaXCIgc3Ryb2tlLXdpZHRoPVwiMC4wXCIgZmlsbC1vcGFjaXR5PVwiMC45XCIgc3Ryb2tlLW9wYWNpdHk9XCIwLjlcIiBzdHJva2U9XCIjRkYwMDAwXCIgZmlsbD1cIiNGRjAwMDBcIiAvPjwvc3ZnPiJ9LCAiZ2VvbWV0cnkiOiB7InR5cGUiOiAiUG9pbnQiLCAiY29vcmRpbmF0ZXMiOiBbLTAuMTAxNDg2OCwgNTEuNTEzMDY2MV19LCAidHlwZSI6ICJGZWF0dXJlIn0sIHsicHJvcGVydGllcyI6IHsiYW5jaG9yX3kiOiA0LjAsICJhbmNob3JfeCI6IDQuMCwgImh0bWwiOiAiPHN2ZyB3aWR0aD1cIjhweFwiIGhlaWdodD1cIjhweFwiIHZpZXdCb3g9XCItNC4wIC00LjAgOC4wIDguMFwiIHhtbG5zPVwiaHR0cDovL3d3dy53My5vcmcvMjAwMC9zdmdcIiB2ZXJzaW9uPVwiMS4xXCI+ICA8cGF0aCBkPVwiTSAtMy4xMDU2NDk5Njg3NSAzLjEwNTY0OTk2ODc1IEwgMy4xMDU2NDk5Njg3NSAzLjEwNTY0OTk2ODc1IEwgMy4xMDU2NDk5Njg3NSAtMy4xMDU2NDk5Njg3NSBMIC0zLjEwNTY0OTk2ODc1IC0zLjEwNTY0OTk2ODc1IFpcIiBzdHJva2Utd2lkdGg9XCIwLjBcIiBmaWxsLW9wYWNpdHk9XCIwLjlcIiBzdHJva2Utb3BhY2l0eT1cIjAuOVwiIHN0cm9rZT1cIiNGRjAwMDBcIiBmaWxsPVwiI0ZGMDAwMFwiIC8+PC9zdmc+In0sICJnZW9tZXRyeSI6IHsidHlwZSI6ICJQb2ludCIsICJjb29yZGluYXRlcyI6IFstMC4xMzE4NTY3MzE0NTgxNCwgNTEuNTA5ODAzMzY5MjAyXX0sICJ0eXBlIjogIkZlYXR1cmUifSwgeyJwcm9wZXJ0aWVzIjogeyJhbmNob3JfeSI6IDQuMCwgImFuY2hvcl94IjogNC4wLCAiaHRtbCI6ICI8c3ZnIHdpZHRoPVwiOHB4XCIgaGVpZ2h0PVwiOHB4XCIgdmlld0JveD1cIi00LjAgLTQuMCA4LjAgOC4wXCIgeG1sbnM9XCJodHRwOi8vd3d3LnczLm9yZy8yMDAwL3N2Z1wiIHZlcnNpb249XCIxLjFcIj4gIDxwYXRoIGQ9XCJNIC0zLjEwNTY0OTk2ODc1IDMuMTA1NjQ5OTY4NzUgTCAzLjEwNTY0OTk2ODc1IDMuMTA1NjQ5OTY4NzUgTCAzLjEwNTY0OTk2ODc1IC0zLjEwNTY0OTk2ODc1IEwgLTMuMTA1NjQ5OTY4NzUgLTMuMTA1NjQ5OTY4NzUgWlwiIHN0cm9rZS13aWR0aD1cIjAuMFwiIGZpbGwtb3BhY2l0eT1cIjAuOVwiIHN0cm9rZS1vcGFjaXR5PVwiMC45XCIgc3Ryb2tlPVwiI0ZGMDAwMFwiIGZpbGw9XCIjRkYwMDAwXCIgLz48L3N2Zz4ifSwgImdlb21ldHJ5IjogeyJ0eXBlIjogIlBvaW50IiwgImNvb3JkaW5hdGVzIjogWy0wLjE0MzEyMTczNzA0MDc5LCA1MS41MTExMTgzODU2NTddfSwgInR5cGUiOiAiRmVhdHVyZSJ9LCB7InByb3BlcnRpZXMiOiB7ImFuY2hvcl95IjogNC4wLCAiYW5jaG9yX3giOiA0LjAsICJodG1sIjogIjxzdmcgd2lkdGg9XCI4cHhcIiBoZWlnaHQ9XCI4cHhcIiB2aWV3Qm94PVwiLTQuMCAtNC4wIDguMCA4LjBcIiB4bWxucz1cImh0dHA6Ly93d3cudzMub3JnLzIwMDAvc3ZnXCIgdmVyc2lvbj1cIjEuMVwiPiAgPHBhdGggZD1cIk0gLTMuMTA1NjQ5OTY4NzUgMy4xMDU2NDk5Njg3NSBMIDMuMTA1NjQ5OTY4NzUgMy4xMDU2NDk5Njg3NSBMIDMuMTA1NjQ5OTY4NzUgLTMuMTA1NjQ5OTY4NzUgTCAtMy4xMDU2NDk5Njg3NSAtMy4xMDU2NDk5Njg3NSBaXCIgc3Ryb2tlLXdpZHRoPVwiMC4wXCIgZmlsbC1vcGFjaXR5PVwiMC45XCIgc3Ryb2tlLW9wYWNpdHk9XCIwLjlcIiBzdHJva2U9XCIjRkYwMDAwXCIgZmlsbD1cIiNGRjAwMDBcIiAvPjwvc3ZnPiJ9LCAiZ2VvbWV0cnkiOiB7InR5cGUiOiAiUG9pbnQiLCAiY29vcmRpbmF0ZXMiOiBbLTAuMTQ3NDE3OSwgNTEuNTExMTk5XX0sICJ0eXBlIjogIkZlYXR1cmUifSwgeyJwcm9wZXJ0aWVzIjogeyJhbmNob3JfeSI6IDQuMCwgImFuY2hvcl94IjogNC4wLCAiaHRtbCI6ICI8c3ZnIHdpZHRoPVwiOHB4XCIgaGVpZ2h0PVwiOHB4XCIgdmlld0JveD1cIi00LjAgLTQuMCA4LjAgOC4wXCIgeG1sbnM9XCJodHRwOi8vd3d3LnczLm9yZy8yMDAwL3N2Z1wiIHZlcnNpb249XCIxLjFcIj4gIDxwYXRoIGQ9XCJNIC0zLjEwNTY0OTk2ODc1IDMuMTA1NjQ5OTY4NzUgTCAzLjEwNTY0OTk2ODc1IDMuMTA1NjQ5OTY4NzUgTCAzLjEwNTY0OTk2ODc1IC0zLjEwNTY0OTk2ODc1IEwgLTMuMTA1NjQ5OTY4NzUgLTMuMTA1NjQ5OTY4NzUgWlwiIHN0cm9rZS13aWR0aD1cIjAuMFwiIGZpbGwtb3BhY2l0eT1cIjAuOVwiIHN0cm9rZS1vcGFjaXR5PVwiMC45XCIgc3Ryb2tlPVwiI0ZGMDAwMFwiIGZpbGw9XCIjRkYwMDAwXCIgLz48L3N2Zz4ifSwgImdlb21ldHJ5IjogeyJ0eXBlIjogIlBvaW50IiwgImNvb3JkaW5hdGVzIjogWy0wLjEyNTY3MjcwMzA3MDUsIDUxLjQ5NjgzNzg3NTUwOV19LCAidHlwZSI6ICJGZWF0dXJlIn0sIHsicHJvcGVydGllcyI6IHsiYW5jaG9yX3kiOiA0LjAsICJhbmNob3JfeCI6IDQuMCwgImh0bWwiOiAiPHN2ZyB3aWR0aD1cIjhweFwiIGhlaWdodD1cIjhweFwiIHZpZXdCb3g9XCItNC4wIC00LjAgOC4wIDguMFwiIHhtbG5zPVwiaHR0cDovL3d3dy53My5vcmcvMjAwMC9zdmdcIiB2ZXJzaW9uPVwiMS4xXCI+ICA8cGF0aCBkPVwiTSAtMy4xMDU2NDk5Njg3NSAzLjEwNTY0OTk2ODc1IEwgMy4xMDU2NDk5Njg3NSAzLjEwNTY0OTk2ODc1IEwgMy4xMDU2NDk5Njg3NSAtMy4xMDU2NDk5Njg3NSBMIC0zLjEwNTY0OTk2ODc1IC0zLjEwNTY0OTk2ODc1IFpcIiBzdHJva2Utd2lkdGg9XCIwLjBcIiBmaWxsLW9wYWNpdHk9XCIwLjlcIiBzdHJva2Utb3BhY2l0eT1cIjAuOVwiIHN0cm9rZT1cIiNGRjAwMDBcIiBmaWxsPVwiI0ZGMDAwMFwiIC8+PC9zdmc+In0sICJnZW9tZXRyeSI6IHsidHlwZSI6ICJQb2ludCIsICJjb29yZGluYXRlcyI6IFstMC4xNDk5MDUyLCA1MS41MTA3MDExXX0sICJ0eXBlIjogIkZlYXR1cmUifSwgeyJwcm9wZXJ0aWVzIjogeyJhbmNob3JfeSI6IDQuMCwgImFuY2hvcl94IjogNC4wLCAiaHRtbCI6ICI8c3ZnIHdpZHRoPVwiOHB4XCIgaGVpZ2h0PVwiOHB4XCIgdmlld0JveD1cIi00LjAgLTQuMCA4LjAgOC4wXCIgeG1sbnM9XCJodHRwOi8vd3d3LnczLm9yZy8yMDAwL3N2Z1wiIHZlcnNpb249XCIxLjFcIj4gIDxwYXRoIGQ9XCJNIC0zLjEwNTY0OTk2ODc1IDMuMTA1NjQ5OTY4NzUgTCAzLjEwNTY0OTk2ODc1IDMuMTA1NjQ5OTY4NzUgTCAzLjEwNTY0OTk2ODc1IC0zLjEwNTY0OTk2ODc1IEwgLTMuMTA1NjQ5OTY4NzUgLTMuMTA1NjQ5OTY4NzUgWlwiIHN0cm9rZS13aWR0aD1cIjAuMFwiIGZpbGwtb3BhY2l0eT1cIjAuOVwiIHN0cm9rZS1vcGFjaXR5PVwiMC45XCIgc3Ryb2tlPVwiI0ZGMDAwMFwiIGZpbGw9XCIjRkYwMDAwXCIgLz48L3N2Zz4ifSwgImdlb21ldHJ5IjogeyJ0eXBlIjogIlBvaW50IiwgImNvb3JkaW5hdGVzIjogWy0wLjE4NzEyNjcsIDUxLjUxMDM2MTVdfSwgInR5cGUiOiAiRmVhdHVyZSJ9LCB7InByb3BlcnRpZXMiOiB7ImFuY2hvcl95IjogNC4wLCAiYW5jaG9yX3giOiA0LjAsICJodG1sIjogIjxzdmcgd2lkdGg9XCI4cHhcIiBoZWlnaHQ9XCI4cHhcIiB2aWV3Qm94PVwiLTQuMCAtNC4wIDguMCA4LjBcIiB4bWxucz1cImh0dHA6Ly93d3cudzMub3JnLzIwMDAvc3ZnXCIgdmVyc2lvbj1cIjEuMVwiPiAgPHBhdGggZD1cIk0gLTMuMTA1NjQ5OTY4NzUgMy4xMDU2NDk5Njg3NSBMIDMuMTA1NjQ5OTY4NzUgMy4xMDU2NDk5Njg3NSBMIDMuMTA1NjQ5OTY4NzUgLTMuMTA1NjQ5OTY4NzUgTCAtMy4xMDU2NDk5Njg3NSAtMy4xMDU2NDk5Njg3NSBaXCIgc3Ryb2tlLXdpZHRoPVwiMC4wXCIgZmlsbC1vcGFjaXR5PVwiMC45XCIgc3Ryb2tlLW9wYWNpdHk9XCIwLjlcIiBzdHJva2U9XCIjRkYwMDAwXCIgZmlsbD1cIiNGRjAwMDBcIiAvPjwvc3ZnPiJ9LCAiZ2VvbWV0cnkiOiB7InR5cGUiOiAiUG9pbnQiLCAiY29vcmRpbmF0ZXMiOiBbLTAuMTE1NDE2Mzg3NTAwNDgsIDUxLjUwNjUyMjM5NDI2Ml19LCAidHlwZSI6ICJGZWF0dXJlIn0sIHsicHJvcGVydGllcyI6IHsiYW5jaG9yX3kiOiA0LjAsICJhbmNob3JfeCI6IDQuMCwgImh0bWwiOiAiPHN2ZyB3aWR0aD1cIjhweFwiIGhlaWdodD1cIjhweFwiIHZpZXdCb3g9XCItNC4wIC00LjAgOC4wIDguMFwiIHhtbG5zPVwiaHR0cDovL3d3dy53My5vcmcvMjAwMC9zdmdcIiB2ZXJzaW9uPVwiMS4xXCI+ICA8cGF0aCBkPVwiTSAtMy4xMDU2NDk5Njg3NSAzLjEwNTY0OTk2ODc1IEwgMy4xMDU2NDk5Njg3NSAzLjEwNTY0OTk2ODc1IEwgMy4xMDU2NDk5Njg3NSAtMy4xMDU2NDk5Njg3NSBMIC0zLjEwNTY0OTk2ODc1IC0zLjEwNTY0OTk2ODc1IFpcIiBzdHJva2Utd2lkdGg9XCIwLjBcIiBmaWxsLW9wYWNpdHk9XCIwLjlcIiBzdHJva2Utb3BhY2l0eT1cIjAuOVwiIHN0cm9rZT1cIiNGRjAwMDBcIiBmaWxsPVwiI0ZGMDAwMFwiIC8+PC9zdmc+In0sICJnZW9tZXRyeSI6IHsidHlwZSI6ICJQb2ludCIsICJjb29yZGluYXRlcyI6IFstMC4xMTc5NTUwMSwgNTEuNTA2MjA5MDhdfSwgInR5cGUiOiAiRmVhdHVyZSJ9LCB7InByb3BlcnRpZXMiOiB7ImFuY2hvcl95IjogNC4wLCAiYW5jaG9yX3giOiA0LjAsICJodG1sIjogIjxzdmcgd2lkdGg9XCI4cHhcIiBoZWlnaHQ9XCI4cHhcIiB2aWV3Qm94PVwiLTQuMCAtNC4wIDguMCA4LjBcIiB4bWxucz1cImh0dHA6Ly93d3cudzMub3JnLzIwMDAvc3ZnXCIgdmVyc2lvbj1cIjEuMVwiPiAgPHBhdGggZD1cIk0gLTMuMTA1NjQ5OTY4NzUgMy4xMDU2NDk5Njg3NSBMIDMuMTA1NjQ5OTY4NzUgMy4xMDU2NDk5Njg3NSBMIDMuMTA1NjQ5OTY4NzUgLTMuMTA1NjQ5OTY4NzUgTCAtMy4xMDU2NDk5Njg3NSAtMy4xMDU2NDk5Njg3NSBaXCIgc3Ryb2tlLXdpZHRoPVwiMC4wXCIgZmlsbC1vcGFjaXR5PVwiMC45XCIgc3Ryb2tlLW9wYWNpdHk9XCIwLjlcIiBzdHJva2U9XCIjRkYwMDAwXCIgZmlsbD1cIiNGRjAwMDBcIiAvPjwvc3ZnPiJ9LCAiZ2VvbWV0cnkiOiB7InR5cGUiOiAiUG9pbnQiLCAiY29vcmRpbmF0ZXMiOiBbLTAuMTQ4MTkyOTEzNjU5MzIsIDUxLjUwNjY3NTEwMjQ4XX0sICJ0eXBlIjogIkZlYXR1cmUifSwgeyJwcm9wZXJ0aWVzIjogeyJhbmNob3JfeSI6IDQuMCwgImFuY2hvcl94IjogNC4wLCAiaHRtbCI6ICI8c3ZnIHdpZHRoPVwiOHB4XCIgaGVpZ2h0PVwiOHB4XCIgdmlld0JveD1cIi00LjAgLTQuMCA4LjAgOC4wXCIgeG1sbnM9XCJodHRwOi8vd3d3LnczLm9yZy8yMDAwL3N2Z1wiIHZlcnNpb249XCIxLjFcIj4gIDxwYXRoIGQ9XCJNIC0zLjEwNTY0OTk2ODc1IDMuMTA1NjQ5OTY4NzUgTCAzLjEwNTY0OTk2ODc1IDMuMTA1NjQ5OTY4NzUgTCAzLjEwNTY0OTk2ODc1IC0zLjEwNTY0OTk2ODc1IEwgLTMuMTA1NjQ5OTY4NzUgLTMuMTA1NjQ5OTY4NzUgWlwiIHN0cm9rZS13aWR0aD1cIjAuMFwiIGZpbGwtb3BhY2l0eT1cIjAuOVwiIHN0cm9rZS1vcGFjaXR5PVwiMC45XCIgc3Ryb2tlPVwiI0ZGMDAwMFwiIGZpbGw9XCIjRkYwMDAwXCIgLz48L3N2Zz4ifSwgImdlb21ldHJ5IjogeyJ0eXBlIjogIlBvaW50IiwgImNvb3JkaW5hdGVzIjogWy0wLjE0MzkxNTAwODMzMzMzLCA1MS41MDg3MjMzNzY2NjddfSwgInR5cGUiOiAiRmVhdHVyZSJ9LCB7InByb3BlcnRpZXMiOiB7ImFuY2hvcl95IjogNC4wLCAiYW5jaG9yX3giOiA0LjAsICJodG1sIjogIjxzdmcgd2lkdGg9XCI4cHhcIiBoZWlnaHQ9XCI4cHhcIiB2aWV3Qm94PVwiLTQuMCAtNC4wIDguMCA4LjBcIiB4bWxucz1cImh0dHA6Ly93d3cudzMub3JnLzIwMDAvc3ZnXCIgdmVyc2lvbj1cIjEuMVwiPiAgPHBhdGggZD1cIk0gLTMuMTA1NjQ5OTY4NzUgMy4xMDU2NDk5Njg3NSBMIDMuMTA1NjQ5OTY4NzUgMy4xMDU2NDk5Njg3NSBMIDMuMTA1NjQ5OTY4NzUgLTMuMTA1NjQ5OTY4NzUgTCAtMy4xMDU2NDk5Njg3NSAtMy4xMDU2NDk5Njg3NSBaXCIgc3Ryb2tlLXdpZHRoPVwiMC4wXCIgZmlsbC1vcGFjaXR5PVwiMC45XCIgc3Ryb2tlLW9wYWNpdHk9XCIwLjlcIiBzdHJva2U9XCIjRkYwMDAwXCIgZmlsbD1cIiNGRjAwMDBcIiAvPjwvc3ZnPiJ9LCAiZ2VvbWV0cnkiOiB7InR5cGUiOiAiUG9pbnQiLCAiY29vcmRpbmF0ZXMiOiBbLTAuMTU4MTE4LCA1MS41MDg3MDJdfSwgInR5cGUiOiAiRmVhdHVyZSJ9LCB7InByb3BlcnRpZXMiOiB7ImFuY2hvcl95IjogNC4wLCAiYW5jaG9yX3giOiA0LjAsICJodG1sIjogIjxzdmcgd2lkdGg9XCI4cHhcIiBoZWlnaHQ9XCI4cHhcIiB2aWV3Qm94PVwiLTQuMCAtNC4wIDguMCA4LjBcIiB4bWxucz1cImh0dHA6Ly93d3cudzMub3JnLzIwMDAvc3ZnXCIgdmVyc2lvbj1cIjEuMVwiPiAgPHBhdGggZD1cIk0gLTMuMTA1NjQ5OTY4NzUgMy4xMDU2NDk5Njg3NSBMIDMuMTA1NjQ5OTY4NzUgMy4xMDU2NDk5Njg3NSBMIDMuMTA1NjQ5OTY4NzUgLTMuMTA1NjQ5OTY4NzUgTCAtMy4xMDU2NDk5Njg3NSAtMy4xMDU2NDk5Njg3NSBaXCIgc3Ryb2tlLXdpZHRoPVwiMC4wXCIgZmlsbC1vcGFjaXR5PVwiMC45XCIgc3Ryb2tlLW9wYWNpdHk9XCIwLjlcIiBzdHJva2U9XCIjRkYwMDAwXCIgZmlsbD1cIiNGRjAwMDBcIiAvPjwvc3ZnPiJ9LCAiZ2VvbWV0cnkiOiB7InR5cGUiOiAiUG9pbnQiLCAiY29vcmRpbmF0ZXMiOiBbLTAuMDgwOTIxODQxODE1MDAyLCA1MS41MDM3NTU2NTAxNjZdfSwgInR5cGUiOiAiRmVhdHVyZSJ9LCB7InByb3BlcnRpZXMiOiB7ImFuY2hvcl95IjogNC4wLCAiYW5jaG9yX3giOiA0LjAsICJodG1sIjogIjxzdmcgd2lkdGg9XCI4cHhcIiBoZWlnaHQ9XCI4cHhcIiB2aWV3Qm94PVwiLTQuMCAtNC4wIDguMCA4LjBcIiB4bWxucz1cImh0dHA6Ly93d3cudzMub3JnLzIwMDAvc3ZnXCIgdmVyc2lvbj1cIjEuMVwiPiAgPHBhdGggZD1cIk0gLTMuMTA1NjQ5OTY4NzUgMy4xMDU2NDk5Njg3NSBMIDMuMTA1NjQ5OTY4NzUgMy4xMDU2NDk5Njg3NSBMIDMuMTA1NjQ5OTY4NzUgLTMuMTA1NjQ5OTY4NzUgTCAtMy4xMDU2NDk5Njg3NSAtMy4xMDU2NDk5Njg3NSBaXCIgc3Ryb2tlLXdpZHRoPVwiMC4wXCIgZmlsbC1vcGFjaXR5PVwiMC45XCIgc3Ryb2tlLW9wYWNpdHk9XCIwLjlcIiBzdHJva2U9XCIjRkYwMDAwXCIgZmlsbD1cIiNGRjAwMDBcIiAvPjwvc3ZnPiJ9LCAiZ2VvbWV0cnkiOiB7InR5cGUiOiAiUG9pbnQiLCAiY29vcmRpbmF0ZXMiOiBbLTAuMDkwNzExLCA1MS41MDU1MjhdfSwgInR5cGUiOiAiRmVhdHVyZSJ9LCB7InByb3BlcnRpZXMiOiB7ImFuY2hvcl95IjogNC4wLCAiYW5jaG9yX3giOiA0LjAsICJodG1sIjogIjxzdmcgd2lkdGg9XCI4cHhcIiBoZWlnaHQ9XCI4cHhcIiB2aWV3Qm94PVwiLTQuMCAtNC4wIDguMCA4LjBcIiB4bWxucz1cImh0dHA6Ly93d3cudzMub3JnLzIwMDAvc3ZnXCIgdmVyc2lvbj1cIjEuMVwiPiAgPHBhdGggZD1cIk0gLTMuMTA1NjQ5OTY4NzUgMy4xMDU2NDk5Njg3NSBMIDMuMTA1NjQ5OTY4NzUgMy4xMDU2NDk5Njg3NSBMIDMuMTA1NjQ5OTY4NzUgLTMuMTA1NjQ5OTY4NzUgTCAtMy4xMDU2NDk5Njg3NSAtMy4xMDU2NDk5Njg3NSBaXCIgc3Ryb2tlLXdpZHRoPVwiMC4wXCIgZmlsbC1vcGFjaXR5PVwiMC45XCIgc3Ryb2tlLW9wYWNpdHk9XCIwLjlcIiBzdHJva2U9XCIjRkYwMDAwXCIgZmlsbD1cIiNGRjAwMDBcIiAvPjwvc3ZnPiJ9LCAiZ2VvbWV0cnkiOiB7InR5cGUiOiAiUG9pbnQiLCAiY29vcmRpbmF0ZXMiOiBbLTAuMDkxODc4MDUwODA4OTg3LCA1MS41MDI5MTY5MTgzODZdfSwgInR5cGUiOiAiRmVhdHVyZSJ9LCB7InByb3BlcnRpZXMiOiB7ImFuY2hvcl95IjogNC4wLCAiYW5jaG9yX3giOiA0LjAsICJodG1sIjogIjxzdmcgd2lkdGg9XCI4cHhcIiBoZWlnaHQ9XCI4cHhcIiB2aWV3Qm94PVwiLTQuMCAtNC4wIDguMCA4LjBcIiB4bWxucz1cImh0dHA6Ly93d3cudzMub3JnLzIwMDAvc3ZnXCIgdmVyc2lvbj1cIjEuMVwiPiAgPHBhdGggZD1cIk0gLTMuMTA1NjQ5OTY4NzUgMy4xMDU2NDk5Njg3NSBMIDMuMTA1NjQ5OTY4NzUgMy4xMDU2NDk5Njg3NSBMIDMuMTA1NjQ5OTY4NzUgLTMuMTA1NjQ5OTY4NzUgTCAtMy4xMDU2NDk5Njg3NSAtMy4xMDU2NDk5Njg3NSBaXCIgc3Ryb2tlLXdpZHRoPVwiMC4wXCIgZmlsbC1vcGFjaXR5PVwiMC45XCIgc3Ryb2tlLW9wYWNpdHk9XCIwLjlcIiBzdHJva2U9XCIjRkYwMDAwXCIgZmlsbD1cIiNGRjAwMDBcIiAvPjwvc3ZnPiJ9LCAiZ2VvbWV0cnkiOiB7InR5cGUiOiAiUG9pbnQiLCAiY29vcmRpbmF0ZXMiOiBbLTAuMTA0ODg3MTk5MTYwODgsIDUxLjUwMzQ1NzAzOTNdfSwgInR5cGUiOiAiRmVhdHVyZSJ9LCB7InByb3BlcnRpZXMiOiB7ImFuY2hvcl95IjogNC4wLCAiYW5jaG9yX3giOiA0LjAsICJodG1sIjogIjxzdmcgd2lkdGg9XCI4cHhcIiBoZWlnaHQ9XCI4cHhcIiB2aWV3Qm94PVwiLTQuMCAtNC4wIDguMCA4LjBcIiB4bWxucz1cImh0dHA6Ly93d3cudzMub3JnLzIwMDAvc3ZnXCIgdmVyc2lvbj1cIjEuMVwiPiAgPHBhdGggZD1cIk0gLTMuMTA1NjQ5OTY4NzUgMy4xMDU2NDk5Njg3NSBMIDMuMTA1NjQ5OTY4NzUgMy4xMDU2NDk5Njg3NSBMIDMuMTA1NjQ5OTY4NzUgLTMuMTA1NjQ5OTY4NzUgTCAtMy4xMDU2NDk5Njg3NSAtMy4xMDU2NDk5Njg3NSBaXCIgc3Ryb2tlLXdpZHRoPVwiMC4wXCIgZmlsbC1vcGFjaXR5PVwiMC45XCIgc3Ryb2tlLW9wYWNpdHk9XCIwLjlcIiBzdHJva2U9XCIjRkYwMDAwXCIgZmlsbD1cIiNGRjAwMDBcIiAvPjwvc3ZnPiJ9LCAiZ2VvbWV0cnkiOiB7InR5cGUiOiAiUG9pbnQiLCAiY29vcmRpbmF0ZXMiOiBbLTAuMTA2NjI2NiwgNTEuNTAzMTUxN119LCAidHlwZSI6ICJGZWF0dXJlIn0sIHsicHJvcGVydGllcyI6IHsiYW5jaG9yX3kiOiA0LjAsICJhbmNob3JfeCI6IDQuMCwgImh0bWwiOiAiPHN2ZyB3aWR0aD1cIjhweFwiIGhlaWdodD1cIjhweFwiIHZpZXdCb3g9XCItNC4wIC00LjAgOC4wIDguMFwiIHhtbG5zPVwiaHR0cDovL3d3dy53My5vcmcvMjAwMC9zdmdcIiB2ZXJzaW9uPVwiMS4xXCI+ICA8cGF0aCBkPVwiTSAtMy4xMDU2NDk5Njg3NSAzLjEwNTY0OTk2ODc1IEwgMy4xMDU2NDk5Njg3NSAzLjEwNTY0OTk2ODc1IEwgMy4xMDU2NDk5Njg3NSAtMy4xMDU2NDk5Njg3NSBMIC0zLjEwNTY0OTk2ODc1IC0zLjEwNTY0OTk2ODc1IFpcIiBzdHJva2Utd2lkdGg9XCIwLjBcIiBmaWxsLW9wYWNpdHk9XCIwLjlcIiBzdHJva2Utb3BhY2l0eT1cIjAuOVwiIHN0cm9rZT1cIiNGRjAwMDBcIiBmaWxsPVwiI0ZGMDAwMFwiIC8+PC9zdmc+In0sICJnZW9tZXRyeSI6IHsidHlwZSI6ICJQb2ludCIsICJjb29yZGluYXRlcyI6IFstMC4xMTg5MzUxMDI0NjY0MSwgNTEuNTAyNzY3NzgwODQ0XX0sICJ0eXBlIjogIkZlYXR1cmUifSwgeyJwcm9wZXJ0aWVzIjogeyJhbmNob3JfeSI6IDQuMCwgImFuY2hvcl94IjogNC4wLCAiaHRtbCI6ICI8c3ZnIHdpZHRoPVwiOHB4XCIgaGVpZ2h0PVwiOHB4XCIgdmlld0JveD1cIi00LjAgLTQuMCA4LjAgOC4wXCIgeG1sbnM9XCJodHRwOi8vd3d3LnczLm9yZy8yMDAwL3N2Z1wiIHZlcnNpb249XCIxLjFcIj4gIDxwYXRoIGQ9XCJNIC0zLjEwNTY0OTk2ODc1IDMuMTA1NjQ5OTY4NzUgTCAzLjEwNTY0OTk2ODc1IDMuMTA1NjQ5OTY4NzUgTCAzLjEwNTY0OTk2ODc1IC0zLjEwNTY0OTk2ODc1IEwgLTMuMTA1NjQ5OTY4NzUgLTMuMTA1NjQ5OTY4NzUgWlwiIHN0cm9rZS13aWR0aD1cIjAuMFwiIGZpbGwtb3BhY2l0eT1cIjAuOVwiIHN0cm9rZS1vcGFjaXR5PVwiMC45XCIgc3Ryb2tlPVwiI0ZGMDAwMFwiIGZpbGw9XCIjRkYwMDAwXCIgLz48L3N2Zz4ifSwgImdlb21ldHJ5IjogeyJ0eXBlIjogIlBvaW50IiwgImNvb3JkaW5hdGVzIjogWy0wLjE3NzQ0NzgzLCA1MS41MDA5ODg5Nl19LCAidHlwZSI6ICJGZWF0dXJlIn0sIHsicHJvcGVydGllcyI6IHsiYW5jaG9yX3kiOiA0LjAsICJhbmNob3JfeCI6IDQuMCwgImh0bWwiOiAiPHN2ZyB3aWR0aD1cIjhweFwiIGhlaWdodD1cIjhweFwiIHZpZXdCb3g9XCItNC4wIC00LjAgOC4wIDguMFwiIHhtbG5zPVwiaHR0cDovL3d3dy53My5vcmcvMjAwMC9zdmdcIiB2ZXJzaW9uPVwiMS4xXCI+ICA8cGF0aCBkPVwiTSAtMy4xMDU2NDk5Njg3NSAzLjEwNTY0OTk2ODc1IEwgMy4xMDU2NDk5Njg3NSAzLjEwNTY0OTk2ODc1IEwgMy4xMDU2NDk5Njg3NSAtMy4xMDU2NDk5Njg3NSBMIC0zLjEwNTY0OTk2ODc1IC0zLjEwNTY0OTk2ODc1IFpcIiBzdHJva2Utd2lkdGg9XCIwLjBcIiBmaWxsLW9wYWNpdHk9XCIwLjlcIiBzdHJva2Utb3BhY2l0eT1cIjAuOVwiIHN0cm9rZT1cIiNGRjAwMDBcIiBmaWxsPVwiI0ZGMDAwMFwiIC8+PC9zdmc+In0sICJnZW9tZXRyeSI6IHsidHlwZSI6ICJQb2ludCIsICJjb29yZGluYXRlcyI6IFstMC4xMDcxNDcsIDUxLjUwMDg2Nl19LCAidHlwZSI6ICJGZWF0dXJlIn0sIHsicHJvcGVydGllcyI6IHsiYW5jaG9yX3kiOiA0LjAsICJhbmNob3JfeCI6IDQuMCwgImh0bWwiOiAiPHN2ZyB3aWR0aD1cIjhweFwiIGhlaWdodD1cIjhweFwiIHZpZXdCb3g9XCItNC4wIC00LjAgOC4wIDguMFwiIHhtbG5zPVwiaHR0cDovL3d3dy53My5vcmcvMjAwMC9zdmdcIiB2ZXJzaW9uPVwiMS4xXCI+ICA8cGF0aCBkPVwiTSAtMy4xMDU2NDk5Njg3NSAzLjEwNTY0OTk2ODc1IEwgMy4xMDU2NDk5Njg3NSAzLjEwNTY0OTk2ODc1IEwgMy4xMDU2NDk5Njg3NSAtMy4xMDU2NDk5Njg3NSBMIC0zLjEwNTY0OTk2ODc1IC0zLjEwNTY0OTk2ODc1IFpcIiBzdHJva2Utd2lkdGg9XCIwLjBcIiBmaWxsLW9wYWNpdHk9XCIwLjlcIiBzdHJva2Utb3BhY2l0eT1cIjAuOVwiIHN0cm9rZT1cIiNGRjAwMDBcIiBmaWxsPVwiI0ZGMDAwMFwiIC8+PC9zdmc+In0sICJnZW9tZXRyeSI6IHsidHlwZSI6ICJQb2ludCIsICJjb29yZGluYXRlcyI6IFstMC4xNTMzNjM4MTExNzg5OSwgNTEuNTAwOTkyMjAxNDQyXX0sICJ0eXBlIjogIkZlYXR1cmUifSwgeyJwcm9wZXJ0aWVzIjogeyJhbmNob3JfeSI6IDQuMCwgImFuY2hvcl94IjogNC4wLCAiaHRtbCI6ICI8c3ZnIHdpZHRoPVwiOHB4XCIgaGVpZ2h0PVwiOHB4XCIgdmlld0JveD1cIi00LjAgLTQuMCA4LjAgOC4wXCIgeG1sbnM9XCJodHRwOi8vd3d3LnczLm9yZy8yMDAwL3N2Z1wiIHZlcnNpb249XCIxLjFcIj4gIDxwYXRoIGQ9XCJNIC0zLjEwNTY0OTk2ODc1IDMuMTA1NjQ5OTY4NzUgTCAzLjEwNTY0OTk2ODc1IDMuMTA1NjQ5OTY4NzUgTCAzLjEwNTY0OTk2ODc1IC0zLjEwNTY0OTk2ODc1IEwgLTMuMTA1NjQ5OTY4NzUgLTMuMTA1NjQ5OTY4NzUgWlwiIHN0cm9rZS13aWR0aD1cIjAuMFwiIGZpbGwtb3BhY2l0eT1cIjAuOVwiIHN0cm9rZS1vcGFjaXR5PVwiMC45XCIgc3Ryb2tlPVwiI0ZGMDAwMFwiIGZpbGw9XCIjRkYwMDAwXCIgLz48L3N2Zz4ifSwgImdlb21ldHJ5IjogeyJ0eXBlIjogIlBvaW50IiwgImNvb3JkaW5hdGVzIjogWy0wLjIwOTU0OTQ0OTI4MDUyLCA1MS40OTkwNTQ1XX0sICJ0eXBlIjogIkZlYXR1cmUifSwgeyJwcm9wZXJ0aWVzIjogeyJhbmNob3JfeSI6IDQuMCwgImFuY2hvcl94IjogNC4wLCAiaHRtbCI6ICI8c3ZnIHdpZHRoPVwiOHB4XCIgaGVpZ2h0PVwiOHB4XCIgdmlld0JveD1cIi00LjAgLTQuMCA4LjAgOC4wXCIgeG1sbnM9XCJodHRwOi8vd3d3LnczLm9yZy8yMDAwL3N2Z1wiIHZlcnNpb249XCIxLjFcIj4gIDxwYXRoIGQ9XCJNIC0zLjEwNTY0OTk2ODc1IDMuMTA1NjQ5OTY4NzUgTCAzLjEwNTY0OTk2ODc1IDMuMTA1NjQ5OTY4NzUgTCAzLjEwNTY0OTk2ODc1IC0zLjEwNTY0OTk2ODc1IEwgLTMuMTA1NjQ5OTY4NzUgLTMuMTA1NjQ5OTY4NzUgWlwiIHN0cm9rZS13aWR0aD1cIjAuMFwiIGZpbGwtb3BhY2l0eT1cIjAuOVwiIHN0cm9rZS1vcGFjaXR5PVwiMC45XCIgc3Ryb2tlPVwiI0ZGMDAwMFwiIGZpbGw9XCIjRkYwMDAwXCIgLz48L3N2Zz4ifSwgImdlb21ldHJ5IjogeyJ0eXBlIjogIlBvaW50IiwgImNvb3JkaW5hdGVzIjogWy0wLjE3NDcyODAwMzcwOTQ0LCA1MS40OTcyOTI0NjQ3MzJdfSwgInR5cGUiOiAiRmVhdHVyZSJ9LCB7InByb3BlcnRpZXMiOiB7ImFuY2hvcl95IjogNC4wLCAiYW5jaG9yX3giOiA0LjAsICJodG1sIjogIjxzdmcgd2lkdGg9XCI4cHhcIiBoZWlnaHQ9XCI4cHhcIiB2aWV3Qm94PVwiLTQuMCAtNC4wIDguMCA4LjBcIiB4bWxucz1cImh0dHA6Ly93d3cudzMub3JnLzIwMDAvc3ZnXCIgdmVyc2lvbj1cIjEuMVwiPiAgPHBhdGggZD1cIk0gLTMuMTA1NjQ5OTY4NzUgMy4xMDU2NDk5Njg3NSBMIDMuMTA1NjQ5OTY4NzUgMy4xMDU2NDk5Njg3NSBMIDMuMTA1NjQ5OTY4NzUgLTMuMTA1NjQ5OTY4NzUgTCAtMy4xMDU2NDk5Njg3NSAtMy4xMDU2NDk5Njg3NSBaXCIgc3Ryb2tlLXdpZHRoPVwiMC4wXCIgZmlsbC1vcGFjaXR5PVwiMC45XCIgc3Ryb2tlLW9wYWNpdHk9XCIwLjlcIiBzdHJva2U9XCIjRkYwMDAwXCIgZmlsbD1cIiNGRjAwMDBcIiAvPjwvc3ZnPiJ9LCAiZ2VvbWV0cnkiOiB7InR5cGUiOiAiUG9pbnQiLCAiY29vcmRpbmF0ZXMiOiBbLTAuMTg3NTE1NTYxODczNzEsIDUxLjQ5NDM0NDMxMjgyNV19LCAidHlwZSI6ICJGZWF0dXJlIn0sIHsicHJvcGVydGllcyI6IHsiYW5jaG9yX3kiOiA0LjAsICJhbmNob3JfeCI6IDQuMCwgImh0bWwiOiAiPHN2ZyB3aWR0aD1cIjhweFwiIGhlaWdodD1cIjhweFwiIHZpZXdCb3g9XCItNC4wIC00LjAgOC4wIDguMFwiIHhtbG5zPVwiaHR0cDovL3d3dy53My5vcmcvMjAwMC9zdmdcIiB2ZXJzaW9uPVwiMS4xXCI+ICA8cGF0aCBkPVwiTSAtMy4xMDU2NDk5Njg3NSAzLjEwNTY0OTk2ODc1IEwgMy4xMDU2NDk5Njg3NSAzLjEwNTY0OTk2ODc1IEwgMy4xMDU2NDk5Njg3NSAtMy4xMDU2NDk5Njg3NSBMIC0zLjEwNTY0OTk2ODc1IC0zLjEwNTY0OTk2ODc1IFpcIiBzdHJva2Utd2lkdGg9XCIwLjBcIiBmaWxsLW9wYWNpdHk9XCIwLjlcIiBzdHJva2Utb3BhY2l0eT1cIjAuOVwiIHN0cm9rZT1cIiNGRjAwMDBcIiBmaWxsPVwiI0ZGMDAwMFwiIC8+PC9zdmc+In0sICJnZW9tZXRyeSI6IHsidHlwZSI6ICJQb2ludCIsICJjb29yZGluYXRlcyI6IFstMC4wOTg2MywgNTEuNDkzNDZdfSwgInR5cGUiOiAiRmVhdHVyZSJ9LCB7InByb3BlcnRpZXMiOiB7ImFuY2hvcl95IjogNC4wLCAiYW5jaG9yX3giOiA0LjAsICJodG1sIjogIjxzdmcgd2lkdGg9XCI4cHhcIiBoZWlnaHQ9XCI4cHhcIiB2aWV3Qm94PVwiLTQuMCAtNC4wIDguMCA4LjBcIiB4bWxucz1cImh0dHA6Ly93d3cudzMub3JnLzIwMDAvc3ZnXCIgdmVyc2lvbj1cIjEuMVwiPiAgPHBhdGggZD1cIk0gLTMuMTA1NjQ5OTY4NzUgMy4xMDU2NDk5Njg3NSBMIDMuMTA1NjQ5OTY4NzUgMy4xMDU2NDk5Njg3NSBMIDMuMTA1NjQ5OTY4NzUgLTMuMTA1NjQ5OTY4NzUgTCAtMy4xMDU2NDk5Njg3NSAtMy4xMDU2NDk5Njg3NSBaXCIgc3Ryb2tlLXdpZHRoPVwiMC4wXCIgZmlsbC1vcGFjaXR5PVwiMC45XCIgc3Ryb2tlLW9wYWNpdHk9XCIwLjlcIiBzdHJva2U9XCIjRkYwMDAwXCIgZmlsbD1cIiNGRjAwMDBcIiAvPjwvc3ZnPiJ9LCAiZ2VvbWV0cnkiOiB7InR5cGUiOiAiUG9pbnQiLCAiY29vcmRpbmF0ZXMiOiBbLTAuMTIxMzQzNTYyODE2MTIsIDUxLjQ4NjA4ODYzMzQ5Nl19LCAidHlwZSI6ICJGZWF0dXJlIn0sIHsicHJvcGVydGllcyI6IHsiYW5jaG9yX3kiOiA0LjAsICJhbmNob3JfeCI6IDQuMCwgImh0bWwiOiAiPHN2ZyB3aWR0aD1cIjhweFwiIGhlaWdodD1cIjhweFwiIHZpZXdCb3g9XCItNC4wIC00LjAgOC4wIDguMFwiIHhtbG5zPVwiaHR0cDovL3d3dy53My5vcmcvMjAwMC9zdmdcIiB2ZXJzaW9uPVwiMS4xXCI+ICA8cGF0aCBkPVwiTSAtMy4xMDU2NDk5Njg3NSAzLjEwNTY0OTk2ODc1IEwgMy4xMDU2NDk5Njg3NSAzLjEwNTY0OTk2ODc1IEwgMy4xMDU2NDk5Njg3NSAtMy4xMDU2NDk5Njg3NSBMIC0zLjEwNTY0OTk2ODc1IC0zLjEwNTY0OTk2ODc1IFpcIiBzdHJva2Utd2lkdGg9XCIwLjBcIiBmaWxsLW9wYWNpdHk9XCIwLjlcIiBzdHJva2Utb3BhY2l0eT1cIjAuOVwiIHN0cm9rZT1cIiNGRjAwMDBcIiBmaWxsPVwiI0ZGMDAwMFwiIC8+PC9zdmc+In0sICJnZW9tZXRyeSI6IHsidHlwZSI6ICJQb2ludCIsICJjb29yZGluYXRlcyI6IFstMC4xNjE0OCwgNTEuNDg1ODgzM119LCAidHlwZSI6ICJGZWF0dXJlIn0sIHsicHJvcGVydGllcyI6IHsiYW5jaG9yX3kiOiA0LjAsICJhbmNob3JfeCI6IDQuMCwgImh0bWwiOiAiPHN2ZyB3aWR0aD1cIjhweFwiIGhlaWdodD1cIjhweFwiIHZpZXdCb3g9XCItNC4wIC00LjAgOC4wIDguMFwiIHhtbG5zPVwiaHR0cDovL3d3dy53My5vcmcvMjAwMC9zdmdcIiB2ZXJzaW9uPVwiMS4xXCI+ICA8cGF0aCBkPVwiTSAtMy4xMDU2NDk5Njg3NSAzLjEwNTY0OTk2ODc1IEwgMy4xMDU2NDk5Njg3NSAzLjEwNTY0OTk2ODc1IEwgMy4xMDU2NDk5Njg3NSAtMy4xMDU2NDk5Njg3NSBMIC0zLjEwNTY0OTk2ODc1IC0zLjEwNTY0OTk2ODc1IFpcIiBzdHJva2Utd2lkdGg9XCIwLjBcIiBmaWxsLW9wYWNpdHk9XCIwLjlcIiBzdHJva2Utb3BhY2l0eT1cIjAuOVwiIHN0cm9rZT1cIiNGRjAwMDBcIiBmaWxsPVwiI0ZGMDAwMFwiIC8+PC9zdmc+In0sICJnZW9tZXRyeSI6IHsidHlwZSI6ICJQb2ludCIsICJjb29yZGluYXRlcyI6IFstMC4xOTIyNzQ3ODIzNzYxMSwgNTEuNDc3MTY5MDMxNTY0XX0sICJ0eXBlIjogIkZlYXR1cmUifSwgeyJwcm9wZXJ0aWVzIjogeyJhbmNob3JfeSI6IDQuMCwgImFuY2hvcl94IjogNC4wLCAiaHRtbCI6ICI8c3ZnIHdpZHRoPVwiOHB4XCIgaGVpZ2h0PVwiOHB4XCIgdmlld0JveD1cIi00LjAgLTQuMCA4LjAgOC4wXCIgeG1sbnM9XCJodHRwOi8vd3d3LnczLm9yZy8yMDAwL3N2Z1wiIHZlcnNpb249XCIxLjFcIj4gIDxwYXRoIGQ9XCJNIC0zLjEwNTY0OTk2ODc1IDMuMTA1NjQ5OTY4NzUgTCAzLjEwNTY0OTk2ODc1IDMuMTA1NjQ5OTY4NzUgTCAzLjEwNTY0OTk2ODc1IC0zLjEwNTY0OTk2ODc1IEwgLTMuMTA1NjQ5OTY4NzUgLTMuMTA1NjQ5OTY4NzUgWlwiIHN0cm9rZS13aWR0aD1cIjAuMFwiIGZpbGwtb3BhY2l0eT1cIjAuOVwiIHN0cm9rZS1vcGFjaXR5PVwiMC45XCIgc3Ryb2tlPVwiI0ZGMDAwMFwiIGZpbGw9XCIjRkYwMDAwXCIgLz48L3N2Zz4ifSwgImdlb21ldHJ5IjogeyJ0eXBlIjogIlBvaW50IiwgImNvb3JkaW5hdGVzIjogWy0wLjEyMDY0ODQxNzY4NTMyLCA1MS41Mjc4MzU4NDcwMDZdfSwgInR5cGUiOiAiRmVhdHVyZSJ9LCB7InByb3BlcnRpZXMiOiB7ImFuY2hvcl95IjogNC4wLCAiYW5jaG9yX3giOiA0LjAsICJodG1sIjogIjxzdmcgd2lkdGg9XCI4cHhcIiBoZWlnaHQ9XCI4cHhcIiB2aWV3Qm94PVwiLTQuMCAtNC4wIDguMCA4LjBcIiB4bWxucz1cImh0dHA6Ly93d3cudzMub3JnLzIwMDAvc3ZnXCIgdmVyc2lvbj1cIjEuMVwiPiAgPHBhdGggZD1cIk0gLTMuMTA1NjQ5OTY4NzUgMy4xMDU2NDk5Njg3NSBMIDMuMTA1NjQ5OTY4NzUgMy4xMDU2NDk5Njg3NSBMIDMuMTA1NjQ5OTY4NzUgLTMuMTA1NjQ5OTY4NzUgTCAtMy4xMDU2NDk5Njg3NSAtMy4xMDU2NDk5Njg3NSBaXCIgc3Ryb2tlLXdpZHRoPVwiMC4wXCIgZmlsbC1vcGFjaXR5PVwiMC45XCIgc3Ryb2tlLW9wYWNpdHk9XCIwLjlcIiBzdHJva2U9XCIjRkYwMDAwXCIgZmlsbD1cIiNGRjAwMDBcIiAvPjwvc3ZnPiJ9LCAiZ2VvbWV0cnkiOiB7InR5cGUiOiAiUG9pbnQiLCAiY29vcmRpbmF0ZXMiOiBbLTAuMTkzNzA5NiwgNTEuNTI2NzMxOV19LCAidHlwZSI6ICJGZWF0dXJlIn0sIHsicHJvcGVydGllcyI6IHsiYW5jaG9yX3kiOiA0LjAsICJhbmNob3JfeCI6IDQuMCwgImh0bWwiOiAiPHN2ZyB3aWR0aD1cIjhweFwiIGhlaWdodD1cIjhweFwiIHZpZXdCb3g9XCItNC4wIC00LjAgOC4wIDguMFwiIHhtbG5zPVwiaHR0cDovL3d3dy53My5vcmcvMjAwMC9zdmdcIiB2ZXJzaW9uPVwiMS4xXCI+ICA8cGF0aCBkPVwiTSAtMy4xMDU2NDk5Njg3NSAzLjEwNTY0OTk2ODc1IEwgMy4xMDU2NDk5Njg3NSAzLjEwNTY0OTk2ODc1IEwgMy4xMDU2NDk5Njg3NSAtMy4xMDU2NDk5Njg3NSBMIC0zLjEwNTY0OTk2ODc1IC0zLjEwNTY0OTk2ODc1IFpcIiBzdHJva2Utd2lkdGg9XCIwLjBcIiBmaWxsLW9wYWNpdHk9XCIwLjlcIiBzdHJva2Utb3BhY2l0eT1cIjAuOVwiIHN0cm9rZT1cIiNGRjAwMDBcIiBmaWxsPVwiI0ZGMDAwMFwiIC8+PC9zdmc+In0sICJnZW9tZXRyeSI6IHsidHlwZSI6ICJQb2ludCIsICJjb29yZGluYXRlcyI6IFstMC4xMjgyMDgzNzYxMzYzNiwgNTEuNTE2NzE2NDQ2OTMyXX0sICJ0eXBlIjogIkZlYXR1cmUifSwgeyJwcm9wZXJ0aWVzIjogeyJhbmNob3JfeSI6IDQuMCwgImFuY2hvcl94IjogNC4wLCAiaHRtbCI6ICI8c3ZnIHdpZHRoPVwiOHB4XCIgaGVpZ2h0PVwiOHB4XCIgdmlld0JveD1cIi00LjAgLTQuMCA4LjAgOC4wXCIgeG1sbnM9XCJodHRwOi8vd3d3LnczLm9yZy8yMDAwL3N2Z1wiIHZlcnNpb249XCIxLjFcIj4gIDxwYXRoIGQ9XCJNIC0zLjEwNTY0OTk2ODc1IDMuMTA1NjQ5OTY4NzUgTCAzLjEwNTY0OTk2ODc1IDMuMTA1NjQ5OTY4NzUgTCAzLjEwNTY0OTk2ODc1IC0zLjEwNTY0OTk2ODc1IEwgLTMuMTA1NjQ5OTY4NzUgLTMuMTA1NjQ5OTY4NzUgWlwiIHN0cm9rZS13aWR0aD1cIjAuMFwiIGZpbGwtb3BhY2l0eT1cIjAuOVwiIHN0cm9rZS1vcGFjaXR5PVwiMC45XCIgc3Ryb2tlPVwiI0ZGMDAwMFwiIGZpbGw9XCIjRkYwMDAwXCIgLz48L3N2Zz4ifSwgImdlb21ldHJ5IjogeyJ0eXBlIjogIlBvaW50IiwgImNvb3JkaW5hdGVzIjogWy0wLjEzODI1MDM5NjQzNzQ4LCA1MS41MjMyNjgxNDU0ODVdfSwgInR5cGUiOiAiRmVhdHVyZSJ9LCB7InByb3BlcnRpZXMiOiB7ImFuY2hvcl95IjogNC4wLCAiYW5jaG9yX3giOiA0LjAsICJodG1sIjogIjxzdmcgd2lkdGg9XCI4cHhcIiBoZWlnaHQ9XCI4cHhcIiB2aWV3Qm94PVwiLTQuMCAtNC4wIDguMCA4LjBcIiB4bWxucz1cImh0dHA6Ly93d3cudzMub3JnLzIwMDAvc3ZnXCIgdmVyc2lvbj1cIjEuMVwiPiAgPHBhdGggZD1cIk0gLTMuMTA1NjQ5OTY4NzUgMy4xMDU2NDk5Njg3NSBMIDMuMTA1NjQ5OTY4NzUgMy4xMDU2NDk5Njg3NSBMIDMuMTA1NjQ5OTY4NzUgLTMuMTA1NjQ5OTY4NzUgTCAtMy4xMDU2NDk5Njg3NSAtMy4xMDU2NDk5Njg3NSBaXCIgc3Ryb2tlLXdpZHRoPVwiMC4wXCIgZmlsbC1vcGFjaXR5PVwiMC45XCIgc3Ryb2tlLW9wYWNpdHk9XCIwLjlcIiBzdHJva2U9XCIjRkYwMDAwXCIgZmlsbD1cIiNGRjAwMDBcIiAvPjwvc3ZnPiJ9LCAiZ2VvbWV0cnkiOiB7InR5cGUiOiAiUG9pbnQiLCAiY29vcmRpbmF0ZXMiOiBbLTAuMDc4MDA1NjY2OTg2MDc3LCA1MS41MjAzNTE2Nzc1OF19LCAidHlwZSI6ICJGZWF0dXJlIn0sIHsicHJvcGVydGllcyI6IHsiYW5jaG9yX3kiOiA0LjAsICJhbmNob3JfeCI6IDQuMCwgImh0bWwiOiAiPHN2ZyB3aWR0aD1cIjhweFwiIGhlaWdodD1cIjhweFwiIHZpZXdCb3g9XCItNC4wIC00LjAgOC4wIDguMFwiIHhtbG5zPVwiaHR0cDovL3d3dy53My5vcmcvMjAwMC9zdmdcIiB2ZXJzaW9uPVwiMS4xXCI+ICA8cGF0aCBkPVwiTSAtMy4xMDU2NDk5Njg3NSAzLjEwNTY0OTk2ODc1IEwgMy4xMDU2NDk5Njg3NSAzLjEwNTY0OTk2ODc1IEwgMy4xMDU2NDk5Njg3NSAtMy4xMDU2NDk5Njg3NSBMIC0zLjEwNTY0OTk2ODc1IC0zLjEwNTY0OTk2ODc1IFpcIiBzdHJva2Utd2lkdGg9XCIwLjBcIiBmaWxsLW9wYWNpdHk9XCIwLjlcIiBzdHJva2Utb3BhY2l0eT1cIjAuOVwiIHN0cm9rZT1cIiNGRjAwMDBcIiBmaWxsPVwiI0ZGMDAwMFwiIC8+PC9zdmc+In0sICJnZW9tZXRyeSI6IHsidHlwZSI6ICJQb2ludCIsICJjb29yZGluYXRlcyI6IFstMC4xMDEyMTc2LCA1MS41MTg1NTEzMl19LCAidHlwZSI6ICJGZWF0dXJlIn0sIHsicHJvcGVydGllcyI6IHsiYW5jaG9yX3kiOiA0LjAsICJhbmNob3JfeCI6IDQuMCwgImh0bWwiOiAiPHN2ZyB3aWR0aD1cIjhweFwiIGhlaWdodD1cIjhweFwiIHZpZXdCb3g9XCItNC4wIC00LjAgOC4wIDguMFwiIHhtbG5zPVwiaHR0cDovL3d3dy53My5vcmcvMjAwMC9zdmdcIiB2ZXJzaW9uPVwiMS4xXCI+ICA8cGF0aCBkPVwiTSAtMy4xMDU2NDk5Njg3NSAzLjEwNTY0OTk2ODc1IEwgMy4xMDU2NDk5Njg3NSAzLjEwNTY0OTk2ODc1IEwgMy4xMDU2NDk5Njg3NSAtMy4xMDU2NDk5Njg3NSBMIC0zLjEwNTY0OTk2ODc1IC0zLjEwNTY0OTk2ODc1IFpcIiBzdHJva2Utd2lkdGg9XCIwLjBcIiBmaWxsLW9wYWNpdHk9XCIwLjlcIiBzdHJva2Utb3BhY2l0eT1cIjAuOVwiIHN0cm9rZT1cIiNGRjAwMDBcIiBmaWxsPVwiI0ZGMDAwMFwiIC8+PC9zdmc+In0sICJnZW9tZXRyeSI6IHsidHlwZSI6ICJQb2ludCIsICJjb29yZGluYXRlcyI6IFstMC4xMjIwMzE1MDg2NDUwMSwgNTEuNTE0NzAyNzczNTA5XX0sICJ0eXBlIjogIkZlYXR1cmUifSwgeyJwcm9wZXJ0aWVzIjogeyJhbmNob3JfeSI6IDQuMCwgImFuY2hvcl94IjogNC4wLCAiaHRtbCI6ICI8c3ZnIHdpZHRoPVwiOHB4XCIgaGVpZ2h0PVwiOHB4XCIgdmlld0JveD1cIi00LjAgLTQuMCA4LjAgOC4wXCIgeG1sbnM9XCJodHRwOi8vd3d3LnczLm9yZy8yMDAwL3N2Z1wiIHZlcnNpb249XCIxLjFcIj4gIDxwYXRoIGQ9XCJNIC0zLjEwNTY0OTk2ODc1IDMuMTA1NjQ5OTY4NzUgTCAzLjEwNTY0OTk2ODc1IDMuMTA1NjQ5OTY4NzUgTCAzLjEwNTY0OTk2ODc1IC0zLjEwNTY0OTk2ODc1IEwgLTMuMTA1NjQ5OTY4NzUgLTMuMTA1NjQ5OTY4NzUgWlwiIHN0cm9rZS13aWR0aD1cIjAuMFwiIGZpbGwtb3BhY2l0eT1cIjAuOVwiIHN0cm9rZS1vcGFjaXR5PVwiMC45XCIgc3Ryb2tlPVwiI0ZGMDAwMFwiIGZpbGw9XCIjRkYwMDAwXCIgLz48L3N2Zz4ifSwgImdlb21ldHJ5IjogeyJ0eXBlIjogIlBvaW50IiwgImNvb3JkaW5hdGVzIjogWy0wLjEzMjUsIDUxLjUyMDZdfSwgInR5cGUiOiAiRmVhdHVyZSJ9LCB7InByb3BlcnRpZXMiOiB7ImFuY2hvcl95IjogNC4wLCAiYW5jaG9yX3giOiA0LjAsICJodG1sIjogIjxzdmcgd2lkdGg9XCI4cHhcIiBoZWlnaHQ9XCI4cHhcIiB2aWV3Qm94PVwiLTQuMCAtNC4wIDguMCA4LjBcIiB4bWxucz1cImh0dHA6Ly93d3cudzMub3JnLzIwMDAvc3ZnXCIgdmVyc2lvbj1cIjEuMVwiPiAgPHBhdGggZD1cIk0gLTMuMTA1NjQ5OTY4NzUgMy4xMDU2NDk5Njg3NSBMIDMuMTA1NjQ5OTY4NzUgMy4xMDU2NDk5Njg3NSBMIDMuMTA1NjQ5OTY4NzUgLTMuMTA1NjQ5OTY4NzUgTCAtMy4xMDU2NDk5Njg3NSAtMy4xMDU2NDk5Njg3NSBaXCIgc3Ryb2tlLXdpZHRoPVwiMC4wXCIgZmlsbC1vcGFjaXR5PVwiMC45XCIgc3Ryb2tlLW9wYWNpdHk9XCIwLjlcIiBzdHJva2U9XCIjRkYwMDAwXCIgZmlsbD1cIiNGRjAwMDBcIiAvPjwvc3ZnPiJ9LCAiZ2VvbWV0cnkiOiB7InR5cGUiOiAiUG9pbnQiLCAiY29vcmRpbmF0ZXMiOiBbLTAuMDg5NzUwNSwgNTEuNTE1MTI5N119LCAidHlwZSI6ICJGZWF0dXJlIn0sIHsicHJvcGVydGllcyI6IHsiYW5jaG9yX3kiOiA0LjAsICJhbmNob3JfeCI6IDQuMCwgImh0bWwiOiAiPHN2ZyB3aWR0aD1cIjhweFwiIGhlaWdodD1cIjhweFwiIHZpZXdCb3g9XCItNC4wIC00LjAgOC4wIDguMFwiIHhtbG5zPVwiaHR0cDovL3d3dy53My5vcmcvMjAwMC9zdmdcIiB2ZXJzaW9uPVwiMS4xXCI+ICA8cGF0aCBkPVwiTSAtMy4xMDU2NDk5Njg3NSAzLjEwNTY0OTk2ODc1IEwgMy4xMDU2NDk5Njg3NSAzLjEwNTY0OTk2ODc1IEwgMy4xMDU2NDk5Njg3NSAtMy4xMDU2NDk5Njg3NSBMIC0zLjEwNTY0OTk2ODc1IC0zLjEwNTY0OTk2ODc1IFpcIiBzdHJva2Utd2lkdGg9XCIwLjBcIiBmaWxsLW9wYWNpdHk9XCIwLjlcIiBzdHJva2Utb3BhY2l0eT1cIjAuOVwiIHN0cm9rZT1cIiNGRjAwMDBcIiBmaWxsPVwiI0ZGMDAwMFwiIC8+PC9zdmc+In0sICJnZW9tZXRyeSI6IHsidHlwZSI6ICJQb2ludCIsICJjb29yZGluYXRlcyI6IFsxMy4zODg2MjUyMywgNTIuNTA2NTQ1NDZdfSwgInR5cGUiOiAiRmVhdHVyZSJ9LCB7InByb3BlcnRpZXMiOiB7ImFuY2hvcl95IjogNC4wLCAiYW5jaG9yX3giOiA0LjAsICJodG1sIjogIjxzdmcgd2lkdGg9XCI4cHhcIiBoZWlnaHQ9XCI4cHhcIiB2aWV3Qm94PVwiLTQuMCAtNC4wIDguMCA4LjBcIiB4bWxucz1cImh0dHA6Ly93d3cudzMub3JnLzIwMDAvc3ZnXCIgdmVyc2lvbj1cIjEuMVwiPiAgPHBhdGggZD1cIk0gLTMuMTA1NjQ5OTY4NzUgMy4xMDU2NDk5Njg3NSBMIDMuMTA1NjQ5OTY4NzUgMy4xMDU2NDk5Njg3NSBMIDMuMTA1NjQ5OTY4NzUgLTMuMTA1NjQ5OTY4NzUgTCAtMy4xMDU2NDk5Njg3NSAtMy4xMDU2NDk5Njg3NSBaXCIgc3Ryb2tlLXdpZHRoPVwiMC4wXCIgZmlsbC1vcGFjaXR5PVwiMC45XCIgc3Ryb2tlLW9wYWNpdHk9XCIwLjlcIiBzdHJva2U9XCIjRkYwMDAwXCIgZmlsbD1cIiNGRjAwMDBcIiAvPjwvc3ZnPiJ9LCAiZ2VvbWV0cnkiOiB7InR5cGUiOiAiUG9pbnQiLCAiY29vcmRpbmF0ZXMiOiBbLTAuMTMzMDg0NiwgNTEuNTE2MjM1NV19LCAidHlwZSI6ICJGZWF0dXJlIn0sIHsicHJvcGVydGllcyI6IHsiYW5jaG9yX3kiOiA0LjAsICJhbmNob3JfeCI6IDQuMCwgImh0bWwiOiAiPHN2ZyB3aWR0aD1cIjhweFwiIGhlaWdodD1cIjhweFwiIHZpZXdCb3g9XCItNC4wIC00LjAgOC4wIDguMFwiIHhtbG5zPVwiaHR0cDovL3d3dy53My5vcmcvMjAwMC9zdmdcIiB2ZXJzaW9uPVwiMS4xXCI+ICA8cGF0aCBkPVwiTSAtMy4xMDU2NDk5Njg3NSAzLjEwNTY0OTk2ODc1IEwgMy4xMDU2NDk5Njg3NSAzLjEwNTY0OTk2ODc1IEwgMy4xMDU2NDk5Njg3NSAtMy4xMDU2NDk5Njg3NSBMIC0zLjEwNTY0OTk2ODc1IC0zLjEwNTY0OTk2ODc1IFpcIiBzdHJva2Utd2lkdGg9XCIwLjBcIiBmaWxsLW9wYWNpdHk9XCIwLjlcIiBzdHJva2Utb3BhY2l0eT1cIjAuOVwiIHN0cm9rZT1cIiNGRjAwMDBcIiBmaWxsPVwiI0ZGMDAwMFwiIC8+PC9zdmc+In0sICJnZW9tZXRyeSI6IHsidHlwZSI6ICJQb2ludCIsICJjb29yZGluYXRlcyI6IFstMC4wNzgwODczODQwNTI3ODEsIDUxLjUyNzI3MzEyODg5NF19LCAidHlwZSI6ICJGZWF0dXJlIn0sIHsicHJvcGVydGllcyI6IHsiYW5jaG9yX3kiOiA0LjAsICJhbmNob3JfeCI6IDQuMCwgImh0bWwiOiAiPHN2ZyB3aWR0aD1cIjhweFwiIGhlaWdodD1cIjhweFwiIHZpZXdCb3g9XCItNC4wIC00LjAgOC4wIDguMFwiIHhtbG5zPVwiaHR0cDovL3d3dy53My5vcmcvMjAwMC9zdmdcIiB2ZXJzaW9uPVwiMS4xXCI+ICA8cGF0aCBkPVwiTSAtMy4xMDU2NDk5Njg3NSAzLjEwNTY0OTk2ODc1IEwgMy4xMDU2NDk5Njg3NSAzLjEwNTY0OTk2ODc1IEwgMy4xMDU2NDk5Njg3NSAtMy4xMDU2NDk5Njg3NSBMIC0zLjEwNTY0OTk2ODc1IC0zLjEwNTY0OTk2ODc1IFpcIiBzdHJva2Utd2lkdGg9XCIwLjBcIiBmaWxsLW9wYWNpdHk9XCIwLjlcIiBzdHJva2Utb3BhY2l0eT1cIjAuOVwiIHN0cm9rZT1cIiNGRjAwMDBcIiBmaWxsPVwiI0ZGMDAwMFwiIC8+PC9zdmc+In0sICJnZW9tZXRyeSI6IHsidHlwZSI6ICJQb2ludCIsICJjb29yZGluYXRlcyI6IFstMC4xNDU0MTM5NTYzNzY1MiwgNTEuNTE3MzUwNzI5NTE4XX0sICJ0eXBlIjogIkZlYXR1cmUifSwgeyJwcm9wZXJ0aWVzIjogeyJhbmNob3JfeSI6IDQuMCwgImFuY2hvcl94IjogNC4wLCAiaHRtbCI6ICI8c3ZnIHdpZHRoPVwiOHB4XCIgaGVpZ2h0PVwiOHB4XCIgdmlld0JveD1cIi00LjAgLTQuMCA4LjAgOC4wXCIgeG1sbnM9XCJodHRwOi8vd3d3LnczLm9yZy8yMDAwL3N2Z1wiIHZlcnNpb249XCIxLjFcIj4gIDxwYXRoIGQ9XCJNIC0zLjEwNTY0OTk2ODc1IDMuMTA1NjQ5OTY4NzUgTCAzLjEwNTY0OTk2ODc1IDMuMTA1NjQ5OTY4NzUgTCAzLjEwNTY0OTk2ODc1IC0zLjEwNTY0OTk2ODc1IEwgLTMuMTA1NjQ5OTY4NzUgLTMuMTA1NjQ5OTY4NzUgWlwiIHN0cm9rZS13aWR0aD1cIjAuMFwiIGZpbGwtb3BhY2l0eT1cIjAuOVwiIHN0cm9rZS1vcGFjaXR5PVwiMC45XCIgc3Ryb2tlPVwiI0ZGMDAwMFwiIGZpbGw9XCIjRkYwMDAwXCIgLz48L3N2Zz4ifSwgImdlb21ldHJ5IjogeyJ0eXBlIjogIlBvaW50IiwgImNvb3JkaW5hdGVzIjogWy0wLjA4MzcxMzksIDUxLjUxMTUyMDVdfSwgInR5cGUiOiAiRmVhdHVyZSJ9LCB7InByb3BlcnRpZXMiOiB7ImFuY2hvcl95IjogNC4wLCAiYW5jaG9yX3giOiA0LjAsICJodG1sIjogIjxzdmcgd2lkdGg9XCI4cHhcIiBoZWlnaHQ9XCI4cHhcIiB2aWV3Qm94PVwiLTQuMCAtNC4wIDguMCA4LjBcIiB4bWxucz1cImh0dHA6Ly93d3cudzMub3JnLzIwMDAvc3ZnXCIgdmVyc2lvbj1cIjEuMVwiPiAgPHBhdGggZD1cIk0gLTMuMTA1NjQ5OTY4NzUgMy4xMDU2NDk5Njg3NSBMIDMuMTA1NjQ5OTY4NzUgMy4xMDU2NDk5Njg3NSBMIDMuMTA1NjQ5OTY4NzUgLTMuMTA1NjQ5OTY4NzUgTCAtMy4xMDU2NDk5Njg3NSAtMy4xMDU2NDk5Njg3NSBaXCIgc3Ryb2tlLXdpZHRoPVwiMC4wXCIgZmlsbC1vcGFjaXR5PVwiMC45XCIgc3Ryb2tlLW9wYWNpdHk9XCIwLjlcIiBzdHJva2U9XCIjRkYwMDAwXCIgZmlsbD1cIiNGRjAwMDBcIiAvPjwvc3ZnPiJ9LCAiZ2VvbWV0cnkiOiB7InR5cGUiOiAiUG9pbnQiLCAiY29vcmRpbmF0ZXMiOiBbLTAuMTMxOTYwMywgNTEuNTEzMTUwMV19LCAidHlwZSI6ICJGZWF0dXJlIn0sIHsicHJvcGVydGllcyI6IHsiYW5jaG9yX3kiOiA0LjAsICJhbmNob3JfeCI6IDQuMCwgImh0bWwiOiAiPHN2ZyB3aWR0aD1cIjhweFwiIGhlaWdodD1cIjhweFwiIHZpZXdCb3g9XCItNC4wIC00LjAgOC4wIDguMFwiIHhtbG5zPVwiaHR0cDovL3d3dy53My5vcmcvMjAwMC9zdmdcIiB2ZXJzaW9uPVwiMS4xXCI+ICA8cGF0aCBkPVwiTSAtMy4xMDU2NDk5Njg3NSAzLjEwNTY0OTk2ODc1IEwgMy4xMDU2NDk5Njg3NSAzLjEwNTY0OTk2ODc1IEwgMy4xMDU2NDk5Njg3NSAtMy4xMDU2NDk5Njg3NSBMIC0zLjEwNTY0OTk2ODc1IC0zLjEwNTY0OTk2ODc1IFpcIiBzdHJva2Utd2lkdGg9XCIwLjBcIiBmaWxsLW9wYWNpdHk9XCIwLjlcIiBzdHJva2Utb3BhY2l0eT1cIjAuOVwiIHN0cm9rZT1cIiNGRjAwMDBcIiBmaWxsPVwiI0ZGMDAwMFwiIC8+PC9zdmc+In0sICJnZW9tZXRyeSI6IHsidHlwZSI6ICJQb2ludCIsICJjb29yZGluYXRlcyI6IFstMC4xMzUwMjc0NzU2MzY2MSwgNTEuNTEwMjYyMDcyNzg1XX0sICJ0eXBlIjogIkZlYXR1cmUifSwgeyJwcm9wZXJ0aWVzIjogeyJhbmNob3JfeSI6IDQuMCwgImFuY2hvcl94IjogNC4wLCAiaHRtbCI6ICI8c3ZnIHdpZHRoPVwiOHB4XCIgaGVpZ2h0PVwiOHB4XCIgdmlld0JveD1cIi00LjAgLTQuMCA4LjAgOC4wXCIgeG1sbnM9XCJodHRwOi8vd3d3LnczLm9yZy8yMDAwL3N2Z1wiIHZlcnNpb249XCIxLjFcIj4gIDxwYXRoIGQ9XCJNIC0zLjEwNTY0OTk2ODc1IDMuMTA1NjQ5OTY4NzUgTCAzLjEwNTY0OTk2ODc1IDMuMTA1NjQ5OTY4NzUgTCAzLjEwNTY0OTk2ODc1IC0zLjEwNTY0OTk2ODc1IEwgLTMuMTA1NjQ5OTY4NzUgLTMuMTA1NjQ5OTY4NzUgWlwiIHN0cm9rZS13aWR0aD1cIjAuMFwiIGZpbGwtb3BhY2l0eT1cIjAuOVwiIHN0cm9rZS1vcGFjaXR5PVwiMC45XCIgc3Ryb2tlPVwiI0ZGMDAwMFwiIGZpbGw9XCIjRkYwMDAwXCIgLz48L3N2Zz4ifSwgImdlb21ldHJ5IjogeyJ0eXBlIjogIlBvaW50IiwgImNvb3JkaW5hdGVzIjogWy0wLjE0ODMwMDQ5NDUzNjEzLCA1MS41MTAxODkzOTg1NjhdfSwgInR5cGUiOiAiRmVhdHVyZSJ9LCB7InByb3BlcnRpZXMiOiB7ImFuY2hvcl95IjogNC4wLCAiYW5jaG9yX3giOiA0LjAsICJodG1sIjogIjxzdmcgd2lkdGg9XCI4cHhcIiBoZWlnaHQ9XCI4cHhcIiB2aWV3Qm94PVwiLTQuMCAtNC4wIDguMCA4LjBcIiB4bWxucz1cImh0dHA6Ly93d3cudzMub3JnLzIwMDAvc3ZnXCIgdmVyc2lvbj1cIjEuMVwiPiAgPHBhdGggZD1cIk0gLTMuMTA1NjQ5OTY4NzUgMy4xMDU2NDk5Njg3NSBMIDMuMTA1NjQ5OTY4NzUgMy4xMDU2NDk5Njg3NSBMIDMuMTA1NjQ5OTY4NzUgLTMuMTA1NjQ5OTY4NzUgTCAtMy4xMDU2NDk5Njg3NSAtMy4xMDU2NDk5Njg3NSBaXCIgc3Ryb2tlLXdpZHRoPVwiMC4wXCIgZmlsbC1vcGFjaXR5PVwiMC45XCIgc3Ryb2tlLW9wYWNpdHk9XCIwLjlcIiBzdHJva2U9XCIjRkYwMDAwXCIgZmlsbD1cIiNGRjAwMDBcIiAvPjwvc3ZnPiJ9LCAiZ2VvbWV0cnkiOiB7InR5cGUiOiAiUG9pbnQiLCAiY29vcmRpbmF0ZXMiOiBbLTAuMTQ1ODIwODc4NDE2NjcsIDUxLjUxMjAwMDIyOTk0XX0sICJ0eXBlIjogIkZlYXR1cmUifSwgeyJwcm9wZXJ0aWVzIjogeyJhbmNob3JfeSI6IDQuMCwgImFuY2hvcl94IjogNC4wLCAiaHRtbCI6ICI8c3ZnIHdpZHRoPVwiOHB4XCIgaGVpZ2h0PVwiOHB4XCIgdmlld0JveD1cIi00LjAgLTQuMCA4LjAgOC4wXCIgeG1sbnM9XCJodHRwOi8vd3d3LnczLm9yZy8yMDAwL3N2Z1wiIHZlcnNpb249XCIxLjFcIj4gIDxwYXRoIGQ9XCJNIC0zLjEwNTY0OTk2ODc1IDMuMTA1NjQ5OTY4NzUgTCAzLjEwNTY0OTk2ODc1IDMuMTA1NjQ5OTY4NzUgTCAzLjEwNTY0OTk2ODc1IC0zLjEwNTY0OTk2ODc1IEwgLTMuMTA1NjQ5OTY4NzUgLTMuMTA1NjQ5OTY4NzUgWlwiIHN0cm9rZS13aWR0aD1cIjAuMFwiIGZpbGwtb3BhY2l0eT1cIjAuOVwiIHN0cm9rZS1vcGFjaXR5PVwiMC45XCIgc3Ryb2tlPVwiI0ZGMDAwMFwiIGZpbGw9XCIjRkYwMDAwXCIgLz48L3N2Zz4ifSwgImdlb21ldHJ5IjogeyJ0eXBlIjogIlBvaW50IiwgImNvb3JkaW5hdGVzIjogWy0wLjIxMDEzOTEsIDUxLjUxMDUwNjJdfSwgInR5cGUiOiAiRmVhdHVyZSJ9LCB7InByb3BlcnRpZXMiOiB7ImFuY2hvcl95IjogNC4wLCAiYW5jaG9yX3giOiA0LjAsICJodG1sIjogIjxzdmcgd2lkdGg9XCI4cHhcIiBoZWlnaHQ9XCI4cHhcIiB2aWV3Qm94PVwiLTQuMCAtNC4wIDguMCA4LjBcIiB4bWxucz1cImh0dHA6Ly93d3cudzMub3JnLzIwMDAvc3ZnXCIgdmVyc2lvbj1cIjEuMVwiPiAgPHBhdGggZD1cIk0gLTMuMTA1NjQ5OTY4NzUgMy4xMDU2NDk5Njg3NSBMIDMuMTA1NjQ5OTY4NzUgMy4xMDU2NDk5Njg3NSBMIDMuMTA1NjQ5OTY4NzUgLTMuMTA1NjQ5OTY4NzUgTCAtMy4xMDU2NDk5Njg3NSAtMy4xMDU2NDk5Njg3NSBaXCIgc3Ryb2tlLXdpZHRoPVwiMC4wXCIgZmlsbC1vcGFjaXR5PVwiMC45XCIgc3Ryb2tlLW9wYWNpdHk9XCIwLjlcIiBzdHJva2U9XCIjRkYwMDAwXCIgZmlsbD1cIiNGRjAwMDBcIiAvPjwvc3ZnPiJ9LCAiZ2VvbWV0cnkiOiB7InR5cGUiOiAiUG9pbnQiLCAiY29vcmRpbmF0ZXMiOiBbLTAuMTExNjkzODg4ODM0NzUsIDUxLjUwNzkxNDk1NTc4NF19LCAidHlwZSI6ICJGZWF0dXJlIn0sIHsicHJvcGVydGllcyI6IHsiYW5jaG9yX3kiOiA0LjAsICJhbmNob3JfeCI6IDQuMCwgImh0bWwiOiAiPHN2ZyB3aWR0aD1cIjhweFwiIGhlaWdodD1cIjhweFwiIHZpZXdCb3g9XCItNC4wIC00LjAgOC4wIDguMFwiIHhtbG5zPVwiaHR0cDovL3d3dy53My5vcmcvMjAwMC9zdmdcIiB2ZXJzaW9uPVwiMS4xXCI+ICA8cGF0aCBkPVwiTSAtMy4xMDU2NDk5Njg3NSAzLjEwNTY0OTk2ODc1IEwgMy4xMDU2NDk5Njg3NSAzLjEwNTY0OTk2ODc1IEwgMy4xMDU2NDk5Njg3NSAtMy4xMDU2NDk5Njg3NSBMIC0zLjEwNTY0OTk2ODc1IC0zLjEwNTY0OTk2ODc1IFpcIiBzdHJva2Utd2lkdGg9XCIwLjBcIiBmaWxsLW9wYWNpdHk9XCIwLjlcIiBzdHJva2Utb3BhY2l0eT1cIjAuOVwiIHN0cm9rZT1cIiNGRjAwMDBcIiBmaWxsPVwiI0ZGMDAwMFwiIC8+PC9zdmc+In0sICJnZW9tZXRyeSI6IHsidHlwZSI6ICJQb2ludCIsICJjb29yZGluYXRlcyI6IFstMC4xMDc2ODg4ODcwNjMsIDUxLjUwNzkzMjMwNTQ3NF19LCAidHlwZSI6ICJGZWF0dXJlIn0sIHsicHJvcGVydGllcyI6IHsiYW5jaG9yX3kiOiA0LjAsICJhbmNob3JfeCI6IDQuMCwgImh0bWwiOiAiPHN2ZyB3aWR0aD1cIjhweFwiIGhlaWdodD1cIjhweFwiIHZpZXdCb3g9XCItNC4wIC00LjAgOC4wIDguMFwiIHhtbG5zPVwiaHR0cDovL3d3dy53My5vcmcvMjAwMC9zdmdcIiB2ZXJzaW9uPVwiMS4xXCI+ICA8cGF0aCBkPVwiTSAtMy4xMDU2NDk5Njg3NSAzLjEwNTY0OTk2ODc1IEwgMy4xMDU2NDk5Njg3NSAzLjEwNTY0OTk2ODc1IEwgMy4xMDU2NDk5Njg3NSAtMy4xMDU2NDk5Njg3NSBMIC0zLjEwNTY0OTk2ODc1IC0zLjEwNTY0OTk2ODc1IFpcIiBzdHJva2Utd2lkdGg9XCIwLjBcIiBmaWxsLW9wYWNpdHk9XCIwLjlcIiBzdHJva2Utb3BhY2l0eT1cIjAuOVwiIHN0cm9rZT1cIiNGRjAwMDBcIiBmaWxsPVwiI0ZGMDAwMFwiIC8+PC9zdmc+In0sICJnZW9tZXRyeSI6IHsidHlwZSI6ICJQb2ludCIsICJjb29yZGluYXRlcyI6IFstMC4xMDc3OTkzMTMzMzMzMywgNTEuNTA5NjIyMzg2NjY3XX0sICJ0eXBlIjogIkZlYXR1cmUifSwgeyJwcm9wZXJ0aWVzIjogeyJhbmNob3JfeSI6IDQuMCwgImFuY2hvcl94IjogNC4wLCAiaHRtbCI6ICI8c3ZnIHdpZHRoPVwiOHB4XCIgaGVpZ2h0PVwiOHB4XCIgdmlld0JveD1cIi00LjAgLTQuMCA4LjAgOC4wXCIgeG1sbnM9XCJodHRwOi8vd3d3LnczLm9yZy8yMDAwL3N2Z1wiIHZlcnNpb249XCIxLjFcIj4gIDxwYXRoIGQ9XCJNIC0zLjEwNTY0OTk2ODc1IDMuMTA1NjQ5OTY4NzUgTCAzLjEwNTY0OTk2ODc1IDMuMTA1NjQ5OTY4NzUgTCAzLjEwNTY0OTk2ODc1IC0zLjEwNTY0OTk2ODc1IEwgLTMuMTA1NjQ5OTY4NzUgLTMuMTA1NjQ5OTY4NzUgWlwiIHN0cm9rZS13aWR0aD1cIjAuMFwiIGZpbGwtb3BhY2l0eT1cIjAuOVwiIHN0cm9rZS1vcGFjaXR5PVwiMC45XCIgc3Ryb2tlPVwiI0ZGMDAwMFwiIGZpbGw9XCIjRkYwMDAwXCIgLz48L3N2Zz4ifSwgImdlb21ldHJ5IjogeyJ0eXBlIjogIlBvaW50IiwgImNvb3JkaW5hdGVzIjogWy0wLjE5NzA3MzYyMjk2OTgxLCA1MS41MDg3MTU0MjA0MThdfSwgInR5cGUiOiAiRmVhdHVyZSJ9LCB7InByb3BlcnRpZXMiOiB7ImFuY2hvcl95IjogNC4wLCAiYW5jaG9yX3giOiA0LjAsICJodG1sIjogIjxzdmcgd2lkdGg9XCI4cHhcIiBoZWlnaHQ9XCI4cHhcIiB2aWV3Qm94PVwiLTQuMCAtNC4wIDguMCA4LjBcIiB4bWxucz1cImh0dHA6Ly93d3cudzMub3JnLzIwMDAvc3ZnXCIgdmVyc2lvbj1cIjEuMVwiPiAgPHBhdGggZD1cIk0gLTMuMTA1NjQ5OTY4NzUgMy4xMDU2NDk5Njg3NSBMIDMuMTA1NjQ5OTY4NzUgMy4xMDU2NDk5Njg3NSBMIDMuMTA1NjQ5OTY4NzUgLTMuMTA1NjQ5OTY4NzUgTCAtMy4xMDU2NDk5Njg3NSAtMy4xMDU2NDk5Njg3NSBaXCIgc3Ryb2tlLXdpZHRoPVwiMC4wXCIgZmlsbC1vcGFjaXR5PVwiMC45XCIgc3Ryb2tlLW9wYWNpdHk9XCIwLjlcIiBzdHJva2U9XCIjRkYwMDAwXCIgZmlsbD1cIiNGRjAwMDBcIiAvPjwvc3ZnPiJ9LCAiZ2VvbWV0cnkiOiB7InR5cGUiOiAiUG9pbnQiLCAiY29vcmRpbmF0ZXMiOiBbLTAuMDg0MjAxOTg3NSwgNTEuNTEyODE2MjQ4NzVdfSwgInR5cGUiOiAiRmVhdHVyZSJ9LCB7InByb3BlcnRpZXMiOiB7ImFuY2hvcl95IjogNC4wLCAiYW5jaG9yX3giOiA0LjAsICJodG1sIjogIjxzdmcgd2lkdGg9XCI4cHhcIiBoZWlnaHQ9XCI4cHhcIiB2aWV3Qm94PVwiLTQuMCAtNC4wIDguMCA4LjBcIiB4bWxucz1cImh0dHA6Ly93d3cudzMub3JnLzIwMDAvc3ZnXCIgdmVyc2lvbj1cIjEuMVwiPiAgPHBhdGggZD1cIk0gLTMuMTA1NjQ5OTY4NzUgMy4xMDU2NDk5Njg3NSBMIDMuMTA1NjQ5OTY4NzUgMy4xMDU2NDk5Njg3NSBMIDMuMTA1NjQ5OTY4NzUgLTMuMTA1NjQ5OTY4NzUgTCAtMy4xMDU2NDk5Njg3NSAtMy4xMDU2NDk5Njg3NSBaXCIgc3Ryb2tlLXdpZHRoPVwiMC4wXCIgZmlsbC1vcGFjaXR5PVwiMC45XCIgc3Ryb2tlLW9wYWNpdHk9XCIwLjlcIiBzdHJva2U9XCIjRkYwMDAwXCIgZmlsbD1cIiNGRjAwMDBcIiAvPjwvc3ZnPiJ9LCAiZ2VvbWV0cnkiOiB7InR5cGUiOiAiUG9pbnQiLCAiY29vcmRpbmF0ZXMiOiBbLTAuMjA2NTY5OTIxOTI5OTIsIDUxLjUwODk0MDI3NDcwM119LCAidHlwZSI6ICJGZWF0dXJlIn0sIHsicHJvcGVydGllcyI6IHsiYW5jaG9yX3kiOiA0LjAsICJhbmNob3JfeCI6IDQuMCwgImh0bWwiOiAiPHN2ZyB3aWR0aD1cIjhweFwiIGhlaWdodD1cIjhweFwiIHZpZXdCb3g9XCItNC4wIC00LjAgOC4wIDguMFwiIHhtbG5zPVwiaHR0cDovL3d3dy53My5vcmcvMjAwMC9zdmdcIiB2ZXJzaW9uPVwiMS4xXCI+ICA8cGF0aCBkPVwiTSAtMy4xMDU2NDk5Njg3NSAzLjEwNTY0OTk2ODc1IEwgMy4xMDU2NDk5Njg3NSAzLjEwNTY0OTk2ODc1IEwgMy4xMDU2NDk5Njg3NSAtMy4xMDU2NDk5Njg3NSBMIC0zLjEwNTY0OTk2ODc1IC0zLjEwNTY0OTk2ODc1IFpcIiBzdHJva2Utd2lkdGg9XCIwLjBcIiBmaWxsLW9wYWNpdHk9XCIwLjlcIiBzdHJva2Utb3BhY2l0eT1cIjAuOVwiIHN0cm9rZT1cIiNGRjAwMDBcIiBmaWxsPVwiI0ZGMDAwMFwiIC8+PC9zdmc+In0sICJnZW9tZXRyeSI6IHsidHlwZSI6ICJQb2ludCIsICJjb29yZGluYXRlcyI6IFstMC4yMjE1NDQyODYxMjU3OSwgNTEuNTA2NTg0Mzc0OTkyXX0sICJ0eXBlIjogIkZlYXR1cmUifSwgeyJwcm9wZXJ0aWVzIjogeyJhbmNob3JfeSI6IDQuMCwgImFuY2hvcl94IjogNC4wLCAiaHRtbCI6ICI8c3ZnIHdpZHRoPVwiOHB4XCIgaGVpZ2h0PVwiOHB4XCIgdmlld0JveD1cIi00LjAgLTQuMCA4LjAgOC4wXCIgeG1sbnM9XCJodHRwOi8vd3d3LnczLm9yZy8yMDAwL3N2Z1wiIHZlcnNpb249XCIxLjFcIj4gIDxwYXRoIGQ9XCJNIC0zLjEwNTY0OTk2ODc1IDMuMTA1NjQ5OTY4NzUgTCAzLjEwNTY0OTk2ODc1IDMuMTA1NjQ5OTY4NzUgTCAzLjEwNTY0OTk2ODc1IC0zLjEwNTY0OTk2ODc1IEwgLTMuMTA1NjQ5OTY4NzUgLTMuMTA1NjQ5OTY4NzUgWlwiIHN0cm9rZS13aWR0aD1cIjAuMFwiIGZpbGwtb3BhY2l0eT1cIjAuOVwiIHN0cm9rZS1vcGFjaXR5PVwiMC45XCIgc3Ryb2tlPVwiI0ZGMDAwMFwiIGZpbGw9XCIjRkYwMDAwXCIgLz48L3N2Zz4ifSwgImdlb21ldHJ5IjogeyJ0eXBlIjogIlBvaW50IiwgImNvb3JkaW5hdGVzIjogWy0wLjA5MTc1NzE3ODAxMDIwOCwgNTEuNTA1NjA5OTkwMDY4XX0sICJ0eXBlIjogIkZlYXR1cmUifSwgeyJwcm9wZXJ0aWVzIjogeyJhbmNob3JfeSI6IDQuMCwgImFuY2hvcl94IjogNC4wLCAiaHRtbCI6ICI8c3ZnIHdpZHRoPVwiOHB4XCIgaGVpZ2h0PVwiOHB4XCIgdmlld0JveD1cIi00LjAgLTQuMCA4LjAgOC4wXCIgeG1sbnM9XCJodHRwOi8vd3d3LnczLm9yZy8yMDAwL3N2Z1wiIHZlcnNpb249XCIxLjFcIj4gIDxwYXRoIGQ9XCJNIC0zLjEwNTY0OTk2ODc1IDMuMTA1NjQ5OTY4NzUgTCAzLjEwNTY0OTk2ODc1IDMuMTA1NjQ5OTY4NzUgTCAzLjEwNTY0OTk2ODc1IC0zLjEwNTY0OTk2ODc1IEwgLTMuMTA1NjQ5OTY4NzUgLTMuMTA1NjQ5OTY4NzUgWlwiIHN0cm9rZS13aWR0aD1cIjAuMFwiIGZpbGwtb3BhY2l0eT1cIjAuOVwiIHN0cm9rZS1vcGFjaXR5PVwiMC45XCIgc3Ryb2tlPVwiI0ZGMDAwMFwiIGZpbGw9XCIjRkYwMDAwXCIgLz48L3N2Zz4ifSwgImdlb21ldHJ5IjogeyJ0eXBlIjogIlBvaW50IiwgImNvb3JkaW5hdGVzIjogWy0wLjEwMTM1OSwgNTEuNTA0NDYxXX0sICJ0eXBlIjogIkZlYXR1cmUifSwgeyJwcm9wZXJ0aWVzIjogeyJhbmNob3JfeSI6IDQuMCwgImFuY2hvcl94IjogNC4wLCAiaHRtbCI6ICI8c3ZnIHdpZHRoPVwiOHB4XCIgaGVpZ2h0PVwiOHB4XCIgdmlld0JveD1cIi00LjAgLTQuMCA4LjAgOC4wXCIgeG1sbnM9XCJodHRwOi8vd3d3LnczLm9yZy8yMDAwL3N2Z1wiIHZlcnNpb249XCIxLjFcIj4gIDxwYXRoIGQ9XCJNIC0zLjEwNTY0OTk2ODc1IDMuMTA1NjQ5OTY4NzUgTCAzLjEwNTY0OTk2ODc1IDMuMTA1NjQ5OTY4NzUgTCAzLjEwNTY0OTk2ODc1IC0zLjEwNTY0OTk2ODc1IEwgLTMuMTA1NjQ5OTY4NzUgLTMuMTA1NjQ5OTY4NzUgWlwiIHN0cm9rZS13aWR0aD1cIjAuMFwiIGZpbGwtb3BhY2l0eT1cIjAuOVwiIHN0cm9rZS1vcGFjaXR5PVwiMC45XCIgc3Ryb2tlPVwiI0ZGMDAwMFwiIGZpbGw9XCIjRkYwMDAwXCIgLz48L3N2Zz4ifSwgImdlb21ldHJ5IjogeyJ0eXBlIjogIlBvaW50IiwgImNvb3JkaW5hdGVzIjogWy0wLjE0MjEyLCA1MS41MDE4XX0sICJ0eXBlIjogIkZlYXR1cmUifSwgeyJwcm9wZXJ0aWVzIjogeyJhbmNob3JfeSI6IDQuMCwgImFuY2hvcl94IjogNC4wLCAiaHRtbCI6ICI8c3ZnIHdpZHRoPVwiOHB4XCIgaGVpZ2h0PVwiOHB4XCIgdmlld0JveD1cIi00LjAgLTQuMCA4LjAgOC4wXCIgeG1sbnM9XCJodHRwOi8vd3d3LnczLm9yZy8yMDAwL3N2Z1wiIHZlcnNpb249XCIxLjFcIj4gIDxwYXRoIGQ9XCJNIC0zLjEwNTY0OTk2ODc1IDMuMTA1NjQ5OTY4NzUgTCAzLjEwNTY0OTk2ODc1IDMuMTA1NjQ5OTY4NzUgTCAzLjEwNTY0OTk2ODc1IC0zLjEwNTY0OTk2ODc1IEwgLTMuMTA1NjQ5OTY4NzUgLTMuMTA1NjQ5OTY4NzUgWlwiIHN0cm9rZS13aWR0aD1cIjAuMFwiIGZpbGwtb3BhY2l0eT1cIjAuOVwiIHN0cm9rZS1vcGFjaXR5PVwiMC45XCIgc3Ryb2tlPVwiI0ZGMDAwMFwiIGZpbGw9XCIjRkYwMDAwXCIgLz48L3N2Zz4ifSwgImdlb21ldHJ5IjogeyJ0eXBlIjogIlBvaW50IiwgImNvb3JkaW5hdGVzIjogWy0wLjE1NTk3OSwgNTEuNTAyMTEzXX0sICJ0eXBlIjogIkZlYXR1cmUifSwgeyJwcm9wZXJ0aWVzIjogeyJhbmNob3JfeSI6IDQuMCwgImFuY2hvcl94IjogNC4wLCAiaHRtbCI6ICI8c3ZnIHdpZHRoPVwiOHB4XCIgaGVpZ2h0PVwiOHB4XCIgdmlld0JveD1cIi00LjAgLTQuMCA4LjAgOC4wXCIgeG1sbnM9XCJodHRwOi8vd3d3LnczLm9yZy8yMDAwL3N2Z1wiIHZlcnNpb249XCIxLjFcIj4gIDxwYXRoIGQ9XCJNIC0zLjEwNTY0OTk2ODc1IDMuMTA1NjQ5OTY4NzUgTCAzLjEwNTY0OTk2ODc1IDMuMTA1NjQ5OTY4NzUgTCAzLjEwNTY0OTk2ODc1IC0zLjEwNTY0OTk2ODc1IEwgLTMuMTA1NjQ5OTY4NzUgLTMuMTA1NjQ5OTY4NzUgWlwiIHN0cm9rZS13aWR0aD1cIjAuMFwiIGZpbGwtb3BhY2l0eT1cIjAuOVwiIHN0cm9rZS1vcGFjaXR5PVwiMC45XCIgc3Ryb2tlPVwiI0ZGMDAwMFwiIGZpbGw9XCIjRkYwMDAwXCIgLz48L3N2Zz4ifSwgImdlb21ldHJ5IjogeyJ0eXBlIjogIlBvaW50IiwgImNvb3JkaW5hdGVzIjogWy0wLjEwMDUxNjIwMTkyODM1LCA1MS40OTg5OTk0MDAxMTJdfSwgInR5cGUiOiAiRmVhdHVyZSJ9LCB7InByb3BlcnRpZXMiOiB7ImFuY2hvcl95IjogNC4wLCAiYW5jaG9yX3giOiA0LjAsICJodG1sIjogIjxzdmcgd2lkdGg9XCI4cHhcIiBoZWlnaHQ9XCI4cHhcIiB2aWV3Qm94PVwiLTQuMCAtNC4wIDguMCA4LjBcIiB4bWxucz1cImh0dHA6Ly93d3cudzMub3JnLzIwMDAvc3ZnXCIgdmVyc2lvbj1cIjEuMVwiPiAgPHBhdGggZD1cIk0gLTMuMTA1NjQ5OTY4NzUgMy4xMDU2NDk5Njg3NSBMIDMuMTA1NjQ5OTY4NzUgMy4xMDU2NDk5Njg3NSBMIDMuMTA1NjQ5OTY4NzUgLTMuMTA1NjQ5OTY4NzUgTCAtMy4xMDU2NDk5Njg3NSAtMy4xMDU2NDk5Njg3NSBaXCIgc3Ryb2tlLXdpZHRoPVwiMC4wXCIgZmlsbC1vcGFjaXR5PVwiMC45XCIgc3Ryb2tlLW9wYWNpdHk9XCIwLjlcIiBzdHJva2U9XCIjRkYwMDAwXCIgZmlsbD1cIiNGRjAwMDBcIiAvPjwvc3ZnPiJ9LCAiZ2VvbWV0cnkiOiB7InR5cGUiOiAiUG9pbnQiLCAiY29vcmRpbmF0ZXMiOiBbLTAuMTYwMTk5NzY2NjY2NjcsIDUxLjUwMDU3NTA1XX0sICJ0eXBlIjogIkZlYXR1cmUifSwgeyJwcm9wZXJ0aWVzIjogeyJhbmNob3JfeSI6IDQuMCwgImFuY2hvcl94IjogNC4wLCAiaHRtbCI6ICI8c3ZnIHdpZHRoPVwiOHB4XCIgaGVpZ2h0PVwiOHB4XCIgdmlld0JveD1cIi00LjAgLTQuMCA4LjAgOC4wXCIgeG1sbnM9XCJodHRwOi8vd3d3LnczLm9yZy8yMDAwL3N2Z1wiIHZlcnNpb249XCIxLjFcIj4gIDxwYXRoIGQ9XCJNIC0zLjEwNTY0OTk2ODc1IDMuMTA1NjQ5OTY4NzUgTCAzLjEwNTY0OTk2ODc1IDMuMTA1NjQ5OTY4NzUgTCAzLjEwNTY0OTk2ODc1IC0zLjEwNTY0OTk2ODc1IEwgLTMuMTA1NjQ5OTY4NzUgLTMuMTA1NjQ5OTY4NzUgWlwiIHN0cm9rZS13aWR0aD1cIjAuMFwiIGZpbGwtb3BhY2l0eT1cIjAuOVwiIHN0cm9rZS1vcGFjaXR5PVwiMC45XCIgc3Ryb2tlPVwiI0ZGMDAwMFwiIGZpbGw9XCIjRkYwMDAwXCIgLz48L3N2Zz4ifSwgImdlb21ldHJ5IjogeyJ0eXBlIjogIlBvaW50IiwgImNvb3JkaW5hdGVzIjogWy0wLjE2NjQ5LCA1MS40OTc5MzA3XX0sICJ0eXBlIjogIkZlYXR1cmUifSwgeyJwcm9wZXJ0aWVzIjogeyJhbmNob3JfeSI6IDQuMCwgImFuY2hvcl94IjogNC4wLCAiaHRtbCI6ICI8c3ZnIHdpZHRoPVwiOHB4XCIgaGVpZ2h0PVwiOHB4XCIgdmlld0JveD1cIi00LjAgLTQuMCA4LjAgOC4wXCIgeG1sbnM9XCJodHRwOi8vd3d3LnczLm9yZy8yMDAwL3N2Z1wiIHZlcnNpb249XCIxLjFcIj4gIDxwYXRoIGQ9XCJNIC0zLjEwNTY0OTk2ODc1IDMuMTA1NjQ5OTY4NzUgTCAzLjEwNTY0OTk2ODc1IDMuMTA1NjQ5OTY4NzUgTCAzLjEwNTY0OTk2ODc1IC0zLjEwNTY0OTk2ODc1IEwgLTMuMTA1NjQ5OTY4NzUgLTMuMTA1NjQ5OTY4NzUgWlwiIHN0cm9rZS13aWR0aD1cIjAuMFwiIGZpbGwtb3BhY2l0eT1cIjAuOVwiIHN0cm9rZS1vcGFjaXR5PVwiMC45XCIgc3Ryb2tlPVwiI0ZGMDAwMFwiIGZpbGw9XCIjRkYwMDAwXCIgLz48L3N2Zz4ifSwgImdlb21ldHJ5IjogeyJ0eXBlIjogIlBvaW50IiwgImNvb3JkaW5hdGVzIjogWy0wLjE4MjQ2OTM2Njc0NjQyLCA1MS40OTg2OTIxMjQ4MTNdfSwgInR5cGUiOiAiRmVhdHVyZSJ9LCB7InByb3BlcnRpZXMiOiB7ImFuY2hvcl95IjogNC4wLCAiYW5jaG9yX3giOiA0LjAsICJodG1sIjogIjxzdmcgd2lkdGg9XCI4cHhcIiBoZWlnaHQ9XCI4cHhcIiB2aWV3Qm94PVwiLTQuMCAtNC4wIDguMCA4LjBcIiB4bWxucz1cImh0dHA6Ly93d3cudzMub3JnLzIwMDAvc3ZnXCIgdmVyc2lvbj1cIjEuMVwiPiAgPHBhdGggZD1cIk0gLTMuMTA1NjQ5OTY4NzUgMy4xMDU2NDk5Njg3NSBMIDMuMTA1NjQ5OTY4NzUgMy4xMDU2NDk5Njg3NSBMIDMuMTA1NjQ5OTY4NzUgLTMuMTA1NjQ5OTY4NzUgTCAtMy4xMDU2NDk5Njg3NSAtMy4xMDU2NDk5Njg3NSBaXCIgc3Ryb2tlLXdpZHRoPVwiMC4wXCIgZmlsbC1vcGFjaXR5PVwiMC45XCIgc3Ryb2tlLW9wYWNpdHk9XCIwLjlcIiBzdHJva2U9XCIjRkYwMDAwXCIgZmlsbD1cIiNGRjAwMDBcIiAvPjwvc3ZnPiJ9LCAiZ2VvbWV0cnkiOiB7InR5cGUiOiAiUG9pbnQiLCAiY29vcmRpbmF0ZXMiOiBbLTAuMTgzNzIxNiwgNTEuNDk3OTcxMl19LCAidHlwZSI6ICJGZWF0dXJlIn0sIHsicHJvcGVydGllcyI6IHsiYW5jaG9yX3kiOiA0LjAsICJhbmNob3JfeCI6IDQuMCwgImh0bWwiOiAiPHN2ZyB3aWR0aD1cIjhweFwiIGhlaWdodD1cIjhweFwiIHZpZXdCb3g9XCItNC4wIC00LjAgOC4wIDguMFwiIHhtbG5zPVwiaHR0cDovL3d3dy53My5vcmcvMjAwMC9zdmdcIiB2ZXJzaW9uPVwiMS4xXCI+ICA8cGF0aCBkPVwiTSAtMy4xMDU2NDk5Njg3NSAzLjEwNTY0OTk2ODc1IEwgMy4xMDU2NDk5Njg3NSAzLjEwNTY0OTk2ODc1IEwgMy4xMDU2NDk5Njg3NSAtMy4xMDU2NDk5Njg3NSBMIC0zLjEwNTY0OTk2ODc1IC0zLjEwNTY0OTk2ODc1IFpcIiBzdHJva2Utd2lkdGg9XCIwLjBcIiBmaWxsLW9wYWNpdHk9XCIwLjlcIiBzdHJva2Utb3BhY2l0eT1cIjAuOVwiIHN0cm9rZT1cIiNGRjAwMDBcIiBmaWxsPVwiI0ZGMDAwMFwiIC8+PC9zdmc+In0sICJnZW9tZXRyeSI6IHsidHlwZSI6ICJQb2ludCIsICJjb29yZGluYXRlcyI6IFstMC4xMDEsIDUxLjQ5NV19LCAidHlwZSI6ICJGZWF0dXJlIn0sIHsicHJvcGVydGllcyI6IHsiYW5jaG9yX3kiOiA0LjAsICJhbmNob3JfeCI6IDQuMCwgImh0bWwiOiAiPHN2ZyB3aWR0aD1cIjhweFwiIGhlaWdodD1cIjhweFwiIHZpZXdCb3g9XCItNC4wIC00LjAgOC4wIDguMFwiIHhtbG5zPVwiaHR0cDovL3d3dy53My5vcmcvMjAwMC9zdmdcIiB2ZXJzaW9uPVwiMS4xXCI+ICA8cGF0aCBkPVwiTSAtMy4xMDU2NDk5Njg3NSAzLjEwNTY0OTk2ODc1IEwgMy4xMDU2NDk5Njg3NSAzLjEwNTY0OTk2ODc1IEwgMy4xMDU2NDk5Njg3NSAtMy4xMDU2NDk5Njg3NSBMIC0zLjEwNTY0OTk2ODc1IC0zLjEwNTY0OTk2ODc1IFpcIiBzdHJva2Utd2lkdGg9XCIwLjBcIiBmaWxsLW9wYWNpdHk9XCIwLjlcIiBzdHJva2Utb3BhY2l0eT1cIjAuOVwiIHN0cm9rZT1cIiNGRjAwMDBcIiBmaWxsPVwiI0ZGMDAwMFwiIC8+PC9zdmc+In0sICJnZW9tZXRyeSI6IHsidHlwZSI6ICJQb2ludCIsICJjb29yZGluYXRlcyI6IFstMC4xNDE2MDY4LCA1MS40OTQwMTI5XX0sICJ0eXBlIjogIkZlYXR1cmUifSwgeyJwcm9wZXJ0aWVzIjogeyJhbmNob3JfeSI6IDQuMCwgImFuY2hvcl94IjogNC4wLCAiaHRtbCI6ICI8c3ZnIHdpZHRoPVwiOHB4XCIgaGVpZ2h0PVwiOHB4XCIgdmlld0JveD1cIi00LjAgLTQuMCA4LjAgOC4wXCIgeG1sbnM9XCJodHRwOi8vd3d3LnczLm9yZy8yMDAwL3N2Z1wiIHZlcnNpb249XCIxLjFcIj4gIDxwYXRoIGQ9XCJNIC0zLjEwNTY0OTk2ODc1IDMuMTA1NjQ5OTY4NzUgTCAzLjEwNTY0OTk2ODc1IDMuMTA1NjQ5OTY4NzUgTCAzLjEwNTY0OTk2ODc1IC0zLjEwNTY0OTk2ODc1IEwgLTMuMTA1NjQ5OTY4NzUgLTMuMTA1NjQ5OTY4NzUgWlwiIHN0cm9rZS13aWR0aD1cIjAuMFwiIGZpbGwtb3BhY2l0eT1cIjAuOVwiIHN0cm9rZS1vcGFjaXR5PVwiMC45XCIgc3Ryb2tlPVwiI0ZGMDAwMFwiIGZpbGw9XCIjRkYwMDAwXCIgLz48L3N2Zz4ifSwgImdlb21ldHJ5IjogeyJ0eXBlIjogIlBvaW50IiwgImNvb3JkaW5hdGVzIjogWy0wLjE0MDczLCA1MS40OTI4OV19LCAidHlwZSI6ICJGZWF0dXJlIn0sIHsicHJvcGVydGllcyI6IHsiYW5jaG9yX3kiOiA0LjAsICJhbmNob3JfeCI6IDQuMCwgImh0bWwiOiAiPHN2ZyB3aWR0aD1cIjhweFwiIGhlaWdodD1cIjhweFwiIHZpZXdCb3g9XCItNC4wIC00LjAgOC4wIDguMFwiIHhtbG5zPVwiaHR0cDovL3d3dy53My5vcmcvMjAwMC9zdmdcIiB2ZXJzaW9uPVwiMS4xXCI+ICA8cGF0aCBkPVwiTSAtMy4xMDU2NDk5Njg3NSAzLjEwNTY0OTk2ODc1IEwgMy4xMDU2NDk5Njg3NSAzLjEwNTY0OTk2ODc1IEwgMy4xMDU2NDk5Njg3NSAtMy4xMDU2NDk5Njg3NSBMIC0zLjEwNTY0OTk2ODc1IC0zLjEwNTY0OTk2ODc1IFpcIiBzdHJva2Utd2lkdGg9XCIwLjBcIiBmaWxsLW9wYWNpdHk9XCIwLjlcIiBzdHJva2Utb3BhY2l0eT1cIjAuOVwiIHN0cm9rZT1cIiNGRjAwMDBcIiBmaWxsPVwiI0ZGMDAwMFwiIC8+PC9zdmc+In0sICJnZW9tZXRyeSI6IHsidHlwZSI6ICJQb2ludCIsICJjb29yZGluYXRlcyI6IFstMC4xNzU0MDE5LCA1MS40ODk2ODg2XX0sICJ0eXBlIjogIkZlYXR1cmUifSwgeyJwcm9wZXJ0aWVzIjogeyJhbmNob3JfeSI6IDQuMCwgImFuY2hvcl94IjogNC4wLCAiaHRtbCI6ICI8c3ZnIHdpZHRoPVwiOHB4XCIgaGVpZ2h0PVwiOHB4XCIgdmlld0JveD1cIi00LjAgLTQuMCA4LjAgOC4wXCIgeG1sbnM9XCJodHRwOi8vd3d3LnczLm9yZy8yMDAwL3N2Z1wiIHZlcnNpb249XCIxLjFcIj4gIDxwYXRoIGQ9XCJNIC0zLjEwNTY0OTk2ODc1IDMuMTA1NjQ5OTY4NzUgTCAzLjEwNTY0OTk2ODc1IDMuMTA1NjQ5OTY4NzUgTCAzLjEwNTY0OTk2ODc1IC0zLjEwNTY0OTk2ODc1IEwgLTMuMTA1NjQ5OTY4NzUgLTMuMTA1NjQ5OTY4NzUgWlwiIHN0cm9rZS13aWR0aD1cIjAuMFwiIGZpbGwtb3BhY2l0eT1cIjAuOVwiIHN0cm9rZS1vcGFjaXR5PVwiMC45XCIgc3Ryb2tlPVwiI0ZGMDAwMFwiIGZpbGw9XCIjRkYwMDAwXCIgLz48L3N2Zz4ifSwgImdlb21ldHJ5IjogeyJ0eXBlIjogIlBvaW50IiwgImNvb3JkaW5hdGVzIjogWy0wLjE3Njk2Njk4OTI4ODU5LCA1MS40OTI2NTUzMjYxMzRdfSwgInR5cGUiOiAiRmVhdHVyZSJ9LCB7InByb3BlcnRpZXMiOiB7ImFuY2hvcl95IjogNC4wLCAiYW5jaG9yX3giOiA0LjAsICJodG1sIjogIjxzdmcgd2lkdGg9XCI4cHhcIiBoZWlnaHQ9XCI4cHhcIiB2aWV3Qm94PVwiLTQuMCAtNC4wIDguMCA4LjBcIiB4bWxucz1cImh0dHA6Ly93d3cudzMub3JnLzIwMDAvc3ZnXCIgdmVyc2lvbj1cIjEuMVwiPiAgPHBhdGggZD1cIk0gLTMuMTA1NjQ5OTY4NzUgMy4xMDU2NDk5Njg3NSBMIDMuMTA1NjQ5OTY4NzUgMy4xMDU2NDk5Njg3NSBMIDMuMTA1NjQ5OTY4NzUgLTMuMTA1NjQ5OTY4NzUgTCAtMy4xMDU2NDk5Njg3NSAtMy4xMDU2NDk5Njg3NSBaXCIgc3Ryb2tlLXdpZHRoPVwiMC4wXCIgZmlsbC1vcGFjaXR5PVwiMC45XCIgc3Ryb2tlLW9wYWNpdHk9XCIwLjlcIiBzdHJva2U9XCIjRkYwMDAwXCIgZmlsbD1cIiNGRjAwMDBcIiAvPjwvc3ZnPiJ9LCAiZ2VvbWV0cnkiOiB7InR5cGUiOiAiUG9pbnQiLCAiY29vcmRpbmF0ZXMiOiBbLTAuMTE5OTMzOSwgNTEuNDg2NDMyMV19LCAidHlwZSI6ICJGZWF0dXJlIn0sIHsicHJvcGVydGllcyI6IHsiYW5jaG9yX3kiOiA0LjAsICJhbmNob3JfeCI6IDQuMCwgImh0bWwiOiAiPHN2ZyB3aWR0aD1cIjhweFwiIGhlaWdodD1cIjhweFwiIHZpZXdCb3g9XCItNC4wIC00LjAgOC4wIDguMFwiIHhtbG5zPVwiaHR0cDovL3d3dy53My5vcmcvMjAwMC9zdmdcIiB2ZXJzaW9uPVwiMS4xXCI+ICA8cGF0aCBkPVwiTSAtMy4xMDU2NDk5Njg3NSAzLjEwNTY0OTk2ODc1IEwgMy4xMDU2NDk5Njg3NSAzLjEwNTY0OTk2ODc1IEwgMy4xMDU2NDk5Njg3NSAtMy4xMDU2NDk5Njg3NSBMIC0zLjEwNTY0OTk2ODc1IC0zLjEwNTY0OTk2ODc1IFpcIiBzdHJva2Utd2lkdGg9XCIwLjBcIiBmaWxsLW9wYWNpdHk9XCIwLjlcIiBzdHJva2Utb3BhY2l0eT1cIjAuOVwiIHN0cm9rZT1cIiNGRjAwMDBcIiBmaWxsPVwiI0ZGMDAwMFwiIC8+PC9zdmc+In0sICJnZW9tZXRyeSI6IHsidHlwZSI6ICJQb2ludCIsICJjb29yZGluYXRlcyI6IFstMC4wNzc5OTc3NTc5NDMwMSwgNTEuNTI3OTgyMjAxMjM4XX0sICJ0eXBlIjogIkZlYXR1cmUifSwgeyJwcm9wZXJ0aWVzIjogeyJhbmNob3JfeSI6IDQuMCwgImFuY2hvcl94IjogNC4wLCAiaHRtbCI6ICI8c3ZnIHdpZHRoPVwiOHB4XCIgaGVpZ2h0PVwiOHB4XCIgdmlld0JveD1cIi00LjAgLTQuMCA4LjAgOC4wXCIgeG1sbnM9XCJodHRwOi8vd3d3LnczLm9yZy8yMDAwL3N2Z1wiIHZlcnNpb249XCIxLjFcIj4gIDxwYXRoIGQ9XCJNIC0zLjEwNTY0OTk2ODc1IDMuMTA1NjQ5OTY4NzUgTCAzLjEwNTY0OTk2ODc1IDMuMTA1NjQ5OTY4NzUgTCAzLjEwNTY0OTk2ODc1IC0zLjEwNTY0OTk2ODc1IEwgLTMuMTA1NjQ5OTY4NzUgLTMuMTA1NjQ5OTY4NzUgWlwiIHN0cm9rZS13aWR0aD1cIjAuMFwiIGZpbGwtb3BhY2l0eT1cIjAuOVwiIHN0cm9rZS1vcGFjaXR5PVwiMC45XCIgc3Ryb2tlPVwiI0ZGMDAwMFwiIGZpbGw9XCIjRkYwMDAwXCIgLz48L3N2Zz4ifSwgImdlb21ldHJ5IjogeyJ0eXBlIjogIlBvaW50IiwgImNvb3JkaW5hdGVzIjogWy0wLjA4NTkzMTk3ODA2NTYxNCwgNTEuNTI2MDY5Mjc4MDIyXX0sICJ0eXBlIjogIkZlYXR1cmUifSwgeyJwcm9wZXJ0aWVzIjogeyJhbmNob3JfeSI6IDQuMCwgImFuY2hvcl94IjogNC4wLCAiaHRtbCI6ICI8c3ZnIHdpZHRoPVwiOHB4XCIgaGVpZ2h0PVwiOHB4XCIgdmlld0JveD1cIi00LjAgLTQuMCA4LjAgOC4wXCIgeG1sbnM9XCJodHRwOi8vd3d3LnczLm9yZy8yMDAwL3N2Z1wiIHZlcnNpb249XCIxLjFcIj4gIDxwYXRoIGQ9XCJNIC0zLjEwNTY0OTk2ODc1IDMuMTA1NjQ5OTY4NzUgTCAzLjEwNTY0OTk2ODc1IDMuMTA1NjQ5OTY4NzUgTCAzLjEwNTY0OTk2ODc1IC0zLjEwNTY0OTk2ODc1IEwgLTMuMTA1NjQ5OTY4NzUgLTMuMTA1NjQ5OTY4NzUgWlwiIHN0cm9rZS13aWR0aD1cIjAuMFwiIGZpbGwtb3BhY2l0eT1cIjAuOVwiIHN0cm9rZS1vcGFjaXR5PVwiMC45XCIgc3Ryb2tlPVwiI0ZGMDAwMFwiIGZpbGw9XCIjRkYwMDAwXCIgLz48L3N2Zz4ifSwgImdlb21ldHJ5IjogeyJ0eXBlIjogIlBvaW50IiwgImNvb3JkaW5hdGVzIjogWy0wLjEzMDYsIDUxLjUyMTc5XX0sICJ0eXBlIjogIkZlYXR1cmUifSwgeyJwcm9wZXJ0aWVzIjogeyJhbmNob3JfeSI6IDQuMCwgImFuY2hvcl94IjogNC4wLCAiaHRtbCI6ICI8c3ZnIHdpZHRoPVwiOHB4XCIgaGVpZ2h0PVwiOHB4XCIgdmlld0JveD1cIi00LjAgLTQuMCA4LjAgOC4wXCIgeG1sbnM9XCJodHRwOi8vd3d3LnczLm9yZy8yMDAwL3N2Z1wiIHZlcnNpb249XCIxLjFcIj4gIDxwYXRoIGQ9XCJNIC0zLjEwNTY0OTk2ODc1IDMuMTA1NjQ5OTY4NzUgTCAzLjEwNTY0OTk2ODc1IDMuMTA1NjQ5OTY4NzUgTCAzLjEwNTY0OTk2ODc1IC0zLjEwNTY0OTk2ODc1IEwgLTMuMTA1NjQ5OTY4NzUgLTMuMTA1NjQ5OTY4NzUgWlwiIHN0cm9rZS13aWR0aD1cIjAuMFwiIGZpbGwtb3BhY2l0eT1cIjAuOVwiIHN0cm9rZS1vcGFjaXR5PVwiMC45XCIgc3Ryb2tlPVwiI0ZGMDAwMFwiIGZpbGw9XCIjRkYwMDAwXCIgLz48L3N2Zz4ifSwgImdlb21ldHJ5IjogeyJ0eXBlIjogIlBvaW50IiwgImNvb3JkaW5hdGVzIjogWy0wLjEzODUyNDEzOTA5MDYzLCA1MS41Mjg4MTAzMjQwMzFdfSwgInR5cGUiOiAiRmVhdHVyZSJ9LCB7InByb3BlcnRpZXMiOiB7ImFuY2hvcl95IjogNC4wLCAiYW5jaG9yX3giOiA0LjAsICJodG1sIjogIjxzdmcgd2lkdGg9XCI4cHhcIiBoZWlnaHQ9XCI4cHhcIiB2aWV3Qm94PVwiLTQuMCAtNC4wIDguMCA4LjBcIiB4bWxucz1cImh0dHA6Ly93d3cudzMub3JnLzIwMDAvc3ZnXCIgdmVyc2lvbj1cIjEuMVwiPiAgPHBhdGggZD1cIk0gLTMuMTA1NjQ5OTY4NzUgMy4xMDU2NDk5Njg3NSBMIDMuMTA1NjQ5OTY4NzUgMy4xMDU2NDk5Njg3NSBMIDMuMTA1NjQ5OTY4NzUgLTMuMTA1NjQ5OTY4NzUgTCAtMy4xMDU2NDk5Njg3NSAtMy4xMDU2NDk5Njg3NSBaXCIgc3Ryb2tlLXdpZHRoPVwiMC4wXCIgZmlsbC1vcGFjaXR5PVwiMC45XCIgc3Ryb2tlLW9wYWNpdHk9XCIwLjlcIiBzdHJva2U9XCIjRkYwMDAwXCIgZmlsbD1cIiNGRjAwMDBcIiAvPjwvc3ZnPiJ9LCAiZ2VvbWV0cnkiOiB7InR5cGUiOiAiUG9pbnQiLCAiY29vcmRpbmF0ZXMiOiBbLTAuMTk1MjcsIDUxLjUyNTg4XX0sICJ0eXBlIjogIkZlYXR1cmUifSwgeyJwcm9wZXJ0aWVzIjogeyJhbmNob3JfeSI6IDQuMCwgImFuY2hvcl94IjogNC4wLCAiaHRtbCI6ICI8c3ZnIHdpZHRoPVwiOHB4XCIgaGVpZ2h0PVwiOHB4XCIgdmlld0JveD1cIi00LjAgLTQuMCA4LjAgOC4wXCIgeG1sbnM9XCJodHRwOi8vd3d3LnczLm9yZy8yMDAwL3N2Z1wiIHZlcnNpb249XCIxLjFcIj4gIDxwYXRoIGQ9XCJNIC0zLjEwNTY0OTk2ODc1IDMuMTA1NjQ5OTY4NzUgTCAzLjEwNTY0OTk2ODc1IDMuMTA1NjQ5OTY4NzUgTCAzLjEwNTY0OTk2ODc1IC0zLjEwNTY0OTk2ODc1IEwgLTMuMTA1NjQ5OTY4NzUgLTMuMTA1NjQ5OTY4NzUgWlwiIHN0cm9rZS13aWR0aD1cIjAuMFwiIGZpbGwtb3BhY2l0eT1cIjAuOVwiIHN0cm9rZS1vcGFjaXR5PVwiMC45XCIgc3Ryb2tlPVwiI0ZGMDAwMFwiIGZpbGw9XCIjRkYwMDAwXCIgLz48L3N2Zz4ifSwgImdlb21ldHJ5IjogeyJ0eXBlIjogIlBvaW50IiwgImNvb3JkaW5hdGVzIjogWy0wLjA5NDc5Mjc0NSwgNTEuNTIzODAwMDg1XX0sICJ0eXBlIjogIkZlYXR1cmUifSwgeyJwcm9wZXJ0aWVzIjogeyJhbmNob3JfeSI6IDQuMCwgImFuY2hvcl94IjogNC4wLCAiaHRtbCI6ICI8c3ZnIHdpZHRoPVwiOHB4XCIgaGVpZ2h0PVwiOHB4XCIgdmlld0JveD1cIi00LjAgLTQuMCA4LjAgOC4wXCIgeG1sbnM9XCJodHRwOi8vd3d3LnczLm9yZy8yMDAwL3N2Z1wiIHZlcnNpb249XCIxLjFcIj4gIDxwYXRoIGQ9XCJNIC0zLjEwNTY0OTk2ODc1IDMuMTA1NjQ5OTY4NzUgTCAzLjEwNTY0OTk2ODc1IDMuMTA1NjQ5OTY4NzUgTCAzLjEwNTY0OTk2ODc1IC0zLjEwNTY0OTk2ODc1IEwgLTMuMTA1NjQ5OTY4NzUgLTMuMTA1NjQ5OTY4NzUgWlwiIHN0cm9rZS13aWR0aD1cIjAuMFwiIGZpbGwtb3BhY2l0eT1cIjAuOVwiIHN0cm9rZS1vcGFjaXR5PVwiMC45XCIgc3Ryb2tlPVwiI0ZGMDAwMFwiIGZpbGw9XCIjRkYwMDAwXCIgLz48L3N2Zz4ifSwgImdlb21ldHJ5IjogeyJ0eXBlIjogIlBvaW50IiwgImNvb3JkaW5hdGVzIjogWy0wLjExMDI1MywgNTEuNTIyMTU0OV19LCAidHlwZSI6ICJGZWF0dXJlIn0sIHsicHJvcGVydGllcyI6IHsiYW5jaG9yX3kiOiA0LjAsICJhbmNob3JfeCI6IDQuMCwgImh0bWwiOiAiPHN2ZyB3aWR0aD1cIjhweFwiIGhlaWdodD1cIjhweFwiIHZpZXdCb3g9XCItNC4wIC00LjAgOC4wIDguMFwiIHhtbG5zPVwiaHR0cDovL3d3dy53My5vcmcvMjAwMC9zdmdcIiB2ZXJzaW9uPVwiMS4xXCI+ICA8cGF0aCBkPVwiTSAtMy4xMDU2NDk5Njg3NSAzLjEwNTY0OTk2ODc1IEwgMy4xMDU2NDk5Njg3NSAzLjEwNTY0OTk2ODc1IEwgMy4xMDU2NDk5Njg3NSAtMy4xMDU2NDk5Njg3NSBMIC0zLjEwNTY0OTk2ODc1IC0zLjEwNTY0OTk2ODc1IFpcIiBzdHJva2Utd2lkdGg9XCIwLjBcIiBmaWxsLW9wYWNpdHk9XCIwLjlcIiBzdHJva2Utb3BhY2l0eT1cIjAuOVwiIHN0cm9rZT1cIiNGRjAwMDBcIiBmaWxsPVwiI0ZGMDAwMFwiIC8+PC9zdmc+In0sICJnZW9tZXRyeSI6IHsidHlwZSI6ICJQb2ludCIsICJjb29yZGluYXRlcyI6IFstMC4xMDcxNzQxLCA1MS41MjQ1M119LCAidHlwZSI6ICJGZWF0dXJlIn0sIHsicHJvcGVydGllcyI6IHsiYW5jaG9yX3kiOiA0LjAsICJhbmNob3JfeCI6IDQuMCwgImh0bWwiOiAiPHN2ZyB3aWR0aD1cIjhweFwiIGhlaWdodD1cIjhweFwiIHZpZXdCb3g9XCItNC4wIC00LjAgOC4wIDguMFwiIHhtbG5zPVwiaHR0cDovL3d3dy53My5vcmcvMjAwMC9zdmdcIiB2ZXJzaW9uPVwiMS4xXCI+ICA8cGF0aCBkPVwiTSAtMy4xMDU2NDk5Njg3NSAzLjEwNTY0OTk2ODc1IEwgMy4xMDU2NDk5Njg3NSAzLjEwNTY0OTk2ODc1IEwgMy4xMDU2NDk5Njg3NSAtMy4xMDU2NDk5Njg3NSBMIC0zLjEwNTY0OTk2ODc1IC0zLjEwNTY0OTk2ODc1IFpcIiBzdHJva2Utd2lkdGg9XCIwLjBcIiBmaWxsLW9wYWNpdHk9XCIwLjlcIiBzdHJva2Utb3BhY2l0eT1cIjAuOVwiIHN0cm9rZT1cIiNGRjAwMDBcIiBmaWxsPVwiI0ZGMDAwMFwiIC8+PC9zdmc+In0sICJnZW9tZXRyeSI6IHsidHlwZSI6ICJQb2ludCIsICJjb29yZGluYXRlcyI6IFstMC4xNDI0NTg5ODY2NjY2NywgNTEuNTE5Mzk1NTU0Nzc4XX0sICJ0eXBlIjogIkZlYXR1cmUifSwgeyJwcm9wZXJ0aWVzIjogeyJhbmNob3JfeSI6IDQuMCwgImFuY2hvcl94IjogNC4wLCAiaHRtbCI6ICI8c3ZnIHdpZHRoPVwiOHB4XCIgaGVpZ2h0PVwiOHB4XCIgdmlld0JveD1cIi00LjAgLTQuMCA4LjAgOC4wXCIgeG1sbnM9XCJodHRwOi8vd3d3LnczLm9yZy8yMDAwL3N2Z1wiIHZlcnNpb249XCIxLjFcIj4gIDxwYXRoIGQ9XCJNIC0zLjEwNTY0OTk2ODc1IDMuMTA1NjQ5OTY4NzUgTCAzLjEwNTY0OTk2ODc1IDMuMTA1NjQ5OTY4NzUgTCAzLjEwNTY0OTk2ODc1IC0zLjEwNTY0OTk2ODc1IEwgLTMuMTA1NjQ5OTY4NzUgLTMuMTA1NjQ5OTY4NzUgWlwiIHN0cm9rZS13aWR0aD1cIjAuMFwiIGZpbGwtb3BhY2l0eT1cIjAuOVwiIHN0cm9rZS1vcGFjaXR5PVwiMC45XCIgc3Ryb2tlPVwiI0ZGMDAwMFwiIGZpbGw9XCIjRkYwMDAwXCIgLz48L3N2Zz4ifSwgImdlb21ldHJ5IjogeyJ0eXBlIjogIlBvaW50IiwgImNvb3JkaW5hdGVzIjogWy0wLjE2MjQ5NTA5MjA2MTQ1LCA1MS41MjUyNjk0NjQ2MjRdfSwgInR5cGUiOiAiRmVhdHVyZSJ9LCB7InByb3BlcnRpZXMiOiB7ImFuY2hvcl95IjogNC4wLCAiYW5jaG9yX3giOiA0LjAsICJodG1sIjogIjxzdmcgd2lkdGg9XCI4cHhcIiBoZWlnaHQ9XCI4cHhcIiB2aWV3Qm94PVwiLTQuMCAtNC4wIDguMCA4LjBcIiB4bWxucz1cImh0dHA6Ly93d3cudzMub3JnLzIwMDAvc3ZnXCIgdmVyc2lvbj1cIjEuMVwiPiAgPHBhdGggZD1cIk0gLTMuMTA1NjQ5OTY4NzUgMy4xMDU2NDk5Njg3NSBMIDMuMTA1NjQ5OTY4NzUgMy4xMDU2NDk5Njg3NSBMIDMuMTA1NjQ5OTY4NzUgLTMuMTA1NjQ5OTY4NzUgTCAtMy4xMDU2NDk5Njg3NSAtMy4xMDU2NDk5Njg3NSBaXCIgc3Ryb2tlLXdpZHRoPVwiMC4wXCIgZmlsbC1vcGFjaXR5PVwiMC45XCIgc3Ryb2tlLW9wYWNpdHk9XCIwLjlcIiBzdHJva2U9XCIjRkYwMDAwXCIgZmlsbD1cIiNGRjAwMDBcIiAvPjwvc3ZnPiJ9LCAiZ2VvbWV0cnkiOiB7InR5cGUiOiAiUG9pbnQiLCAiY29vcmRpbmF0ZXMiOiBbLTAuMDc5OTA3NTYwMzk5ODMsIDUxLjUyMTI1NzI0OTYxNV19LCAidHlwZSI6ICJGZWF0dXJlIn0sIHsicHJvcGVydGllcyI6IHsiYW5jaG9yX3kiOiA0LjAsICJhbmNob3JfeCI6IDQuMCwgImh0bWwiOiAiPHN2ZyB3aWR0aD1cIjhweFwiIGhlaWdodD1cIjhweFwiIHZpZXdCb3g9XCItNC4wIC00LjAgOC4wIDguMFwiIHhtbG5zPVwiaHR0cDovL3d3dy53My5vcmcvMjAwMC9zdmdcIiB2ZXJzaW9uPVwiMS4xXCI+ICA8cGF0aCBkPVwiTSAtMy4xMDU2NDk5Njg3NSAzLjEwNTY0OTk2ODc1IEwgMy4xMDU2NDk5Njg3NSAzLjEwNTY0OTk2ODc1IEwgMy4xMDU2NDk5Njg3NSAtMy4xMDU2NDk5Njg3NSBMIC0zLjEwNTY0OTk2ODc1IC0zLjEwNTY0OTk2ODc1IFpcIiBzdHJva2Utd2lkdGg9XCIwLjBcIiBmaWxsLW9wYWNpdHk9XCIwLjlcIiBzdHJva2Utb3BhY2l0eT1cIjAuOVwiIHN0cm9rZT1cIiNGRjAwMDBcIiBmaWxsPVwiI0ZGMDAwMFwiIC8+PC9zdmc+In0sICJnZW9tZXRyeSI6IHsidHlwZSI6ICJQb2ludCIsICJjb29yZGluYXRlcyI6IFstMC4xMjIxNTY5ODQyMjUyMywgNTEuNTE3Mzc3MjY4OTczXX0sICJ0eXBlIjogIkZlYXR1cmUifSwgeyJwcm9wZXJ0aWVzIjogeyJhbmNob3JfeSI6IDQuMCwgImFuY2hvcl94IjogNC4wLCAiaHRtbCI6ICI8c3ZnIHdpZHRoPVwiOHB4XCIgaGVpZ2h0PVwiOHB4XCIgdmlld0JveD1cIi00LjAgLTQuMCA4LjAgOC4wXCIgeG1sbnM9XCJodHRwOi8vd3d3LnczLm9yZy8yMDAwL3N2Z1wiIHZlcnNpb249XCIxLjFcIj4gIDxwYXRoIGQ9XCJNIC0zLjEwNTY0OTk2ODc1IDMuMTA1NjQ5OTY4NzUgTCAzLjEwNTY0OTk2ODc1IDMuMTA1NjQ5OTY4NzUgTCAzLjEwNTY0OTk2ODc1IC0zLjEwNTY0OTk2ODc1IEwgLTMuMTA1NjQ5OTY4NzUgLTMuMTA1NjQ5OTY4NzUgWlwiIHN0cm9rZS13aWR0aD1cIjAuMFwiIGZpbGwtb3BhY2l0eT1cIjAuOVwiIHN0cm9rZS1vcGFjaXR5PVwiMC45XCIgc3Ryb2tlPVwiI0ZGMDAwMFwiIGZpbGw9XCIjRkYwMDAwXCIgLz48L3N2Zz4ifSwgImdlb21ldHJ5IjogeyJ0eXBlIjogIlBvaW50IiwgImNvb3JkaW5hdGVzIjogWy0wLjE0Njg5ODIyOTA3OTA3LCA1MS41MTYxNjc5OTM5ODZdfSwgInR5cGUiOiAiRmVhdHVyZSJ9LCB7InByb3BlcnRpZXMiOiB7ImFuY2hvcl95IjogNC4wLCAiYW5jaG9yX3giOiA0LjAsICJodG1sIjogIjxzdmcgd2lkdGg9XCI4cHhcIiBoZWlnaHQ9XCI4cHhcIiB2aWV3Qm94PVwiLTQuMCAtNC4wIDguMCA4LjBcIiB4bWxucz1cImh0dHA6Ly93d3cudzMub3JnLzIwMDAvc3ZnXCIgdmVyc2lvbj1cIjEuMVwiPiAgPHBhdGggZD1cIk0gLTMuMTA1NjQ5OTY4NzUgMy4xMDU2NDk5Njg3NSBMIDMuMTA1NjQ5OTY4NzUgMy4xMDU2NDk5Njg3NSBMIDMuMTA1NjQ5OTY4NzUgLTMuMTA1NjQ5OTY4NzUgTCAtMy4xMDU2NDk5Njg3NSAtMy4xMDU2NDk5Njg3NSBaXCIgc3Ryb2tlLXdpZHRoPVwiMC4wXCIgZmlsbC1vcGFjaXR5PVwiMC45XCIgc3Ryb2tlLW9wYWNpdHk9XCIwLjlcIiBzdHJva2U9XCIjRkYwMDAwXCIgZmlsbD1cIiNGRjAwMDBcIiAvPjwvc3ZnPiJ9LCAiZ2VvbWV0cnkiOiB7InR5cGUiOiAiUG9pbnQiLCAiY29vcmRpbmF0ZXMiOiBbLTAuMTU2NzA1LCA1MS41MjA4NDQyXX0sICJ0eXBlIjogIkZlYXR1cmUifSwgeyJwcm9wZXJ0aWVzIjogeyJhbmNob3JfeSI6IDQuMCwgImFuY2hvcl94IjogNC4wLCAiaHRtbCI6ICI8c3ZnIHdpZHRoPVwiOHB4XCIgaGVpZ2h0PVwiOHB4XCIgdmlld0JveD1cIi00LjAgLTQuMCA4LjAgOC4wXCIgeG1sbnM9XCJodHRwOi8vd3d3LnczLm9yZy8yMDAwL3N2Z1wiIHZlcnNpb249XCIxLjFcIj4gIDxwYXRoIGQ9XCJNIC0zLjEwNTY0OTk2ODc1IDMuMTA1NjQ5OTY4NzUgTCAzLjEwNTY0OTk2ODc1IDMuMTA1NjQ5OTY4NzUgTCAzLjEwNTY0OTk2ODc1IC0zLjEwNTY0OTk2ODc1IEwgLTMuMTA1NjQ5OTY4NzUgLTMuMTA1NjQ5OTY4NzUgWlwiIHN0cm9rZS13aWR0aD1cIjAuMFwiIGZpbGwtb3BhY2l0eT1cIjAuOVwiIHN0cm9rZS1vcGFjaXR5PVwiMC45XCIgc3Ryb2tlPVwiI0ZGMDAwMFwiIGZpbGw9XCIjRkYwMDAwXCIgLz48L3N2Zz4ifSwgImdlb21ldHJ5IjogeyJ0eXBlIjogIlBvaW50IiwgImNvb3JkaW5hdGVzIjogWy0wLjA4OTQ2NywgNTEuNTEzNTI0N119LCAidHlwZSI6ICJGZWF0dXJlIn0sIHsicHJvcGVydGllcyI6IHsiYW5jaG9yX3kiOiA0LjAsICJhbmNob3JfeCI6IDQuMCwgImh0bWwiOiAiPHN2ZyB3aWR0aD1cIjhweFwiIGhlaWdodD1cIjhweFwiIHZpZXdCb3g9XCItNC4wIC00LjAgOC4wIDguMFwiIHhtbG5zPVwiaHR0cDovL3d3dy53My5vcmcvMjAwMC9zdmdcIiB2ZXJzaW9uPVwiMS4xXCI+ICA8cGF0aCBkPVwiTSAtMy4xMDU2NDk5Njg3NSAzLjEwNTY0OTk2ODc1IEwgMy4xMDU2NDk5Njg3NSAzLjEwNTY0OTk2ODc1IEwgMy4xMDU2NDk5Njg3NSAtMy4xMDU2NDk5Njg3NSBMIC0zLjEwNTY0OTk2ODc1IC0zLjEwNTY0OTk2ODc1IFpcIiBzdHJva2Utd2lkdGg9XCIwLjBcIiBmaWxsLW9wYWNpdHk9XCIwLjlcIiBzdHJva2Utb3BhY2l0eT1cIjAuOVwiIHN0cm9rZT1cIiNGRjAwMDBcIiBmaWxsPVwiI0ZGMDAwMFwiIC8+PC9zdmc+In0sICJnZW9tZXRyeSI6IHsidHlwZSI6ICJQb2ludCIsICJjb29yZGluYXRlcyI6IFstMC4xMjQ2NTgyLCA1MS41MTE3MjFdfSwgInR5cGUiOiAiRmVhdHVyZSJ9LCB7InByb3BlcnRpZXMiOiB7ImFuY2hvcl95IjogNC4wLCAiYW5jaG9yX3giOiA0LjAsICJodG1sIjogIjxzdmcgd2lkdGg9XCI4cHhcIiBoZWlnaHQ9XCI4cHhcIiB2aWV3Qm94PVwiLTQuMCAtNC4wIDguMCA4LjBcIiB4bWxucz1cImh0dHA6Ly93d3cudzMub3JnLzIwMDAvc3ZnXCIgdmVyc2lvbj1cIjEuMVwiPiAgPHBhdGggZD1cIk0gLTMuMTA1NjQ5OTY4NzUgMy4xMDU2NDk5Njg3NSBMIDMuMTA1NjQ5OTY4NzUgMy4xMDU2NDk5Njg3NSBMIDMuMTA1NjQ5OTY4NzUgLTMuMTA1NjQ5OTY4NzUgTCAtMy4xMDU2NDk5Njg3NSAtMy4xMDU2NDk5Njg3NSBaXCIgc3Ryb2tlLXdpZHRoPVwiMC4wXCIgZmlsbC1vcGFjaXR5PVwiMC45XCIgc3Ryb2tlLW9wYWNpdHk9XCIwLjlcIiBzdHJva2U9XCIjRkYwMDAwXCIgZmlsbD1cIiNGRjAwMDBcIiAvPjwvc3ZnPiJ9LCAiZ2VvbWV0cnkiOiB7InR5cGUiOiAiUG9pbnQiLCAiY29vcmRpbmF0ZXMiOiBbLTAuMTQzMjA1LCA1MS41MTM3MzA1XX0sICJ0eXBlIjogIkZlYXR1cmUifSwgeyJwcm9wZXJ0aWVzIjogeyJhbmNob3JfeSI6IDQuMCwgImFuY2hvcl94IjogNC4wLCAiaHRtbCI6ICI8c3ZnIHdpZHRoPVwiOHB4XCIgaGVpZ2h0PVwiOHB4XCIgdmlld0JveD1cIi00LjAgLTQuMCA4LjAgOC4wXCIgeG1sbnM9XCJodHRwOi8vd3d3LnczLm9yZy8yMDAwL3N2Z1wiIHZlcnNpb249XCIxLjFcIj4gIDxwYXRoIGQ9XCJNIC0zLjEwNTY0OTk2ODc1IDMuMTA1NjQ5OTY4NzUgTCAzLjEwNTY0OTk2ODc1IDMuMTA1NjQ5OTY4NzUgTCAzLjEwNTY0OTk2ODc1IC0zLjEwNTY0OTk2ODc1IEwgLTMuMTA1NjQ5OTY4NzUgLTMuMTA1NjQ5OTY4NzUgWlwiIHN0cm9rZS13aWR0aD1cIjAuMFwiIGZpbGwtb3BhY2l0eT1cIjAuOVwiIHN0cm9rZS1vcGFjaXR5PVwiMC45XCIgc3Ryb2tlPVwiI0ZGMDAwMFwiIGZpbGw9XCIjRkYwMDAwXCIgLz48L3N2Zz4ifSwgImdlb21ldHJ5IjogeyJ0eXBlIjogIlBvaW50IiwgImNvb3JkaW5hdGVzIjogWy0wLjE1MDg4ODUzNjcwMzM2LCA1MS41MTU1MDQzNDA3MTNdfSwgInR5cGUiOiAiRmVhdHVyZSJ9LCB7InByb3BlcnRpZXMiOiB7ImFuY2hvcl95IjogNC4wLCAiYW5jaG9yX3giOiA0LjAsICJodG1sIjogIjxzdmcgd2lkdGg9XCI4cHhcIiBoZWlnaHQ9XCI4cHhcIiB2aWV3Qm94PVwiLTQuMCAtNC4wIDguMCA4LjBcIiB4bWxucz1cImh0dHA6Ly93d3cudzMub3JnLzIwMDAvc3ZnXCIgdmVyc2lvbj1cIjEuMVwiPiAgPHBhdGggZD1cIk0gLTMuMTA1NjQ5OTY4NzUgMy4xMDU2NDk5Njg3NSBMIDMuMTA1NjQ5OTY4NzUgMy4xMDU2NDk5Njg3NSBMIDMuMTA1NjQ5OTY4NzUgLTMuMTA1NjQ5OTY4NzUgTCAtMy4xMDU2NDk5Njg3NSAtMy4xMDU2NDk5Njg3NSBaXCIgc3Ryb2tlLXdpZHRoPVwiMC4wXCIgZmlsbC1vcGFjaXR5PVwiMC45XCIgc3Ryb2tlLW9wYWNpdHk9XCIwLjlcIiBzdHJva2U9XCIjRkYwMDAwXCIgZmlsbD1cIiNGRjAwMDBcIiAvPjwvc3ZnPiJ9LCAiZ2VvbWV0cnkiOiB7InR5cGUiOiAiUG9pbnQiLCAiY29vcmRpbmF0ZXMiOiBbLTAuMTkzOTYyNzg3MzMzMzMsIDUxLjUxNTE2ODI4XX0sICJ0eXBlIjogIkZlYXR1cmUifSwgeyJwcm9wZXJ0aWVzIjogeyJhbmNob3JfeSI6IDQuMCwgImFuY2hvcl94IjogNC4wLCAiaHRtbCI6ICI8c3ZnIHdpZHRoPVwiOHB4XCIgaGVpZ2h0PVwiOHB4XCIgdmlld0JveD1cIi00LjAgLTQuMCA4LjAgOC4wXCIgeG1sbnM9XCJodHRwOi8vd3d3LnczLm9yZy8yMDAwL3N2Z1wiIHZlcnNpb249XCIxLjFcIj4gIDxwYXRoIGQ9XCJNIC0zLjEwNTY0OTk2ODc1IDMuMTA1NjQ5OTY4NzUgTCAzLjEwNTY0OTk2ODc1IDMuMTA1NjQ5OTY4NzUgTCAzLjEwNTY0OTk2ODc1IC0zLjEwNTY0OTk2ODc1IEwgLTMuMTA1NjQ5OTY4NzUgLTMuMTA1NjQ5OTY4NzUgWlwiIHN0cm9rZS13aWR0aD1cIjAuMFwiIGZpbGwtb3BhY2l0eT1cIjAuOVwiIHN0cm9rZS1vcGFjaXR5PVwiMC45XCIgc3Ryb2tlPVwiI0ZGMDAwMFwiIGZpbGw9XCIjRkYwMDAwXCIgLz48L3N2Zz4ifSwgImdlb21ldHJ5IjogeyJ0eXBlIjogIlBvaW50IiwgImNvb3JkaW5hdGVzIjogWy0wLjEwNDQ0NDQ0NDQ0NDQ0LCA1MS41MDk3MjIyMjIyMjJdfSwgInR5cGUiOiAiRmVhdHVyZSJ9LCB7InByb3BlcnRpZXMiOiB7ImFuY2hvcl95IjogNC4wLCAiYW5jaG9yX3giOiA0LjAsICJodG1sIjogIjxzdmcgd2lkdGg9XCI4cHhcIiBoZWlnaHQ9XCI4cHhcIiB2aWV3Qm94PVwiLTQuMCAtNC4wIDguMCA4LjBcIiB4bWxucz1cImh0dHA6Ly93d3cudzMub3JnLzIwMDAvc3ZnXCIgdmVyc2lvbj1cIjEuMVwiPiAgPHBhdGggZD1cIk0gLTMuMTA1NjQ5OTY4NzUgMy4xMDU2NDk5Njg3NSBMIDMuMTA1NjQ5OTY4NzUgMy4xMDU2NDk5Njg3NSBMIDMuMTA1NjQ5OTY4NzUgLTMuMTA1NjQ5OTY4NzUgTCAtMy4xMDU2NDk5Njg3NSAtMy4xMDU2NDk5Njg3NSBaXCIgc3Ryb2tlLXdpZHRoPVwiMC4wXCIgZmlsbC1vcGFjaXR5PVwiMC45XCIgc3Ryb2tlLW9wYWNpdHk9XCIwLjlcIiBzdHJva2U9XCIjRkYwMDAwXCIgZmlsbD1cIiNGRjAwMDBcIiAvPjwvc3ZnPiJ9LCAiZ2VvbWV0cnkiOiB7InR5cGUiOiAiUG9pbnQiLCAiY29vcmRpbmF0ZXMiOiBbLTAuMTg3NjgyNTEsIDUxLjUxMjY5ODM3XX0sICJ0eXBlIjogIkZlYXR1cmUifSwgeyJwcm9wZXJ0aWVzIjogeyJhbmNob3JfeSI6IDQuMCwgImFuY2hvcl94IjogNC4wLCAiaHRtbCI6ICI8c3ZnIHdpZHRoPVwiOHB4XCIgaGVpZ2h0PVwiOHB4XCIgdmlld0JveD1cIi00LjAgLTQuMCA4LjAgOC4wXCIgeG1sbnM9XCJodHRwOi8vd3d3LnczLm9yZy8yMDAwL3N2Z1wiIHZlcnNpb249XCIxLjFcIj4gIDxwYXRoIGQ9XCJNIC0zLjEwNTY0OTk2ODc1IDMuMTA1NjQ5OTY4NzUgTCAzLjEwNTY0OTk2ODc1IDMuMTA1NjQ5OTY4NzUgTCAzLjEwNTY0OTk2ODc1IC0zLjEwNTY0OTk2ODc1IEwgLTMuMTA1NjQ5OTY4NzUgLTMuMTA1NjQ5OTY4NzUgWlwiIHN0cm9rZS13aWR0aD1cIjAuMFwiIGZpbGwtb3BhY2l0eT1cIjAuOVwiIHN0cm9rZS1vcGFjaXR5PVwiMC45XCIgc3Ryb2tlPVwiI0ZGMDAwMFwiIGZpbGw9XCIjRkYwMDAwXCIgLz48L3N2Zz4ifSwgImdlb21ldHJ5IjogeyJ0eXBlIjogIlBvaW50IiwgImNvb3JkaW5hdGVzIjogWy0wLjExNTk0MzU3NDAwOTgsIDUxLjUwNjk4ODMwMzcxMl19LCAidHlwZSI6ICJGZWF0dXJlIn0sIHsicHJvcGVydGllcyI6IHsiYW5jaG9yX3kiOiA0LjAsICJhbmNob3JfeCI6IDQuMCwgImh0bWwiOiAiPHN2ZyB3aWR0aD1cIjhweFwiIGhlaWdodD1cIjhweFwiIHZpZXdCb3g9XCItNC4wIC00LjAgOC4wIDguMFwiIHhtbG5zPVwiaHR0cDovL3d3dy53My5vcmcvMjAwMC9zdmdcIiB2ZXJzaW9uPVwiMS4xXCI+ICA8cGF0aCBkPVwiTSAtMy4xMDU2NDk5Njg3NSAzLjEwNTY0OTk2ODc1IEwgMy4xMDU2NDk5Njg3NSAzLjEwNTY0OTk2ODc1IEwgMy4xMDU2NDk5Njg3NSAtMy4xMDU2NDk5Njg3NSBMIC0zLjEwNTY0OTk2ODc1IC0zLjEwNTY0OTk2ODc1IFpcIiBzdHJva2Utd2lkdGg9XCIwLjBcIiBmaWxsLW9wYWNpdHk9XCIwLjlcIiBzdHJva2Utb3BhY2l0eT1cIjAuOVwiIHN0cm9rZT1cIiNGRjAwMDBcIiBmaWxsPVwiI0ZGMDAwMFwiIC8+PC9zdmc+In0sICJnZW9tZXRyeSI6IHsidHlwZSI6ICJQb2ludCIsICJjb29yZGluYXRlcyI6IFstMC4yMTk1MywgNTEuNTA4NjddfSwgInR5cGUiOiAiRmVhdHVyZSJ9LCB7InByb3BlcnRpZXMiOiB7ImFuY2hvcl95IjogNC4wLCAiYW5jaG9yX3giOiA0LjAsICJodG1sIjogIjxzdmcgd2lkdGg9XCI4cHhcIiBoZWlnaHQ9XCI4cHhcIiB2aWV3Qm94PVwiLTQuMCAtNC4wIDguMCA4LjBcIiB4bWxucz1cImh0dHA6Ly93d3cudzMub3JnLzIwMDAvc3ZnXCIgdmVyc2lvbj1cIjEuMVwiPiAgPHBhdGggZD1cIk0gLTMuMTA1NjQ5OTY4NzUgMy4xMDU2NDk5Njg3NSBMIDMuMTA1NjQ5OTY4NzUgMy4xMDU2NDk5Njg3NSBMIDMuMTA1NjQ5OTY4NzUgLTMuMTA1NjQ5OTY4NzUgTCAtMy4xMDU2NDk5Njg3NSAtMy4xMDU2NDk5Njg3NSBaXCIgc3Ryb2tlLXdpZHRoPVwiMC4wXCIgZmlsbC1vcGFjaXR5PVwiMC45XCIgc3Ryb2tlLW9wYWNpdHk9XCIwLjlcIiBzdHJva2U9XCIjRkYwMDAwXCIgZmlsbD1cIiNGRjAwMDBcIiAvPjwvc3ZnPiJ9LCAiZ2VvbWV0cnkiOiB7InR5cGUiOiAiUG9pbnQiLCAiY29vcmRpbmF0ZXMiOiBbLTAuMTQzMTQ5NDg5NzM3NjMsIDUxLjUwNzkyMTQ0OTE1Nl19LCAidHlwZSI6ICJGZWF0dXJlIn0sIHsicHJvcGVydGllcyI6IHsiYW5jaG9yX3kiOiA0LjAsICJhbmNob3JfeCI6IDQuMCwgImh0bWwiOiAiPHN2ZyB3aWR0aD1cIjhweFwiIGhlaWdodD1cIjhweFwiIHZpZXdCb3g9XCItNC4wIC00LjAgOC4wIDguMFwiIHhtbG5zPVwiaHR0cDovL3d3dy53My5vcmcvMjAwMC9zdmdcIiB2ZXJzaW9uPVwiMS4xXCI+ICA8cGF0aCBkPVwiTSAtMy4xMDU2NDk5Njg3NSAzLjEwNTY0OTk2ODc1IEwgMy4xMDU2NDk5Njg3NSAzLjEwNTY0OTk2ODc1IEwgMy4xMDU2NDk5Njg3NSAtMy4xMDU2NDk5Njg3NSBMIC0zLjEwNTY0OTk2ODc1IC0zLjEwNTY0OTk2ODc1IFpcIiBzdHJva2Utd2lkdGg9XCIwLjBcIiBmaWxsLW9wYWNpdHk9XCIwLjlcIiBzdHJva2Utb3BhY2l0eT1cIjAuOVwiIHN0cm9rZT1cIiNGRjAwMDBcIiBmaWxsPVwiI0ZGMDAwMFwiIC8+PC9zdmc+In0sICJnZW9tZXRyeSI6IHsidHlwZSI6ICJQb2ludCIsICJjb29yZGluYXRlcyI6IFstMC4xNTEwOTA4NSwgNTEuNTA5MjI2MjA3MTI3XX0sICJ0eXBlIjogIkZlYXR1cmUifSwgeyJwcm9wZXJ0aWVzIjogeyJhbmNob3JfeSI6IDQuMCwgImFuY2hvcl94IjogNC4wLCAiaHRtbCI6ICI8c3ZnIHdpZHRoPVwiOHB4XCIgaGVpZ2h0PVwiOHB4XCIgdmlld0JveD1cIi00LjAgLTQuMCA4LjAgOC4wXCIgeG1sbnM9XCJodHRwOi8vd3d3LnczLm9yZy8yMDAwL3N2Z1wiIHZlcnNpb249XCIxLjFcIj4gIDxwYXRoIGQ9XCJNIC0zLjEwNTY0OTk2ODc1IDMuMTA1NjQ5OTY4NzUgTCAzLjEwNTY0OTk2ODc1IDMuMTA1NjQ5OTY4NzUgTCAzLjEwNTY0OTk2ODc1IC0zLjEwNTY0OTk2ODc1IEwgLTMuMTA1NjQ5OTY4NzUgLTMuMTA1NjQ5OTY4NzUgWlwiIHN0cm9rZS13aWR0aD1cIjAuMFwiIGZpbGwtb3BhY2l0eT1cIjAuOVwiIHN0cm9rZS1vcGFjaXR5PVwiMC45XCIgc3Ryb2tlPVwiI0ZGMDAwMFwiIGZpbGw9XCIjRkYwMDAwXCIgLz48L3N2Zz4ifSwgImdlb21ldHJ5IjogeyJ0eXBlIjogIlBvaW50IiwgImNvb3JkaW5hdGVzIjogWy0wLjE5NjAzMDEsIDUxLjUwOTMyMTJdfSwgInR5cGUiOiAiRmVhdHVyZSJ9LCB7InByb3BlcnRpZXMiOiB7ImFuY2hvcl95IjogNC4wLCAiYW5jaG9yX3giOiA0LjAsICJodG1sIjogIjxzdmcgd2lkdGg9XCI4cHhcIiBoZWlnaHQ9XCI4cHhcIiB2aWV3Qm94PVwiLTQuMCAtNC4wIDguMCA4LjBcIiB4bWxucz1cImh0dHA6Ly93d3cudzMub3JnLzIwMDAvc3ZnXCIgdmVyc2lvbj1cIjEuMVwiPiAgPHBhdGggZD1cIk0gLTMuMTA1NjQ5OTY4NzUgMy4xMDU2NDk5Njg3NSBMIDMuMTA1NjQ5OTY4NzUgMy4xMDU2NDk5Njg3NSBMIDMuMTA1NjQ5OTY4NzUgLTMuMTA1NjQ5OTY4NzUgTCAtMy4xMDU2NDk5Njg3NSAtMy4xMDU2NDk5Njg3NSBaXCIgc3Ryb2tlLXdpZHRoPVwiMC4wXCIgZmlsbC1vcGFjaXR5PVwiMC45XCIgc3Ryb2tlLW9wYWNpdHk9XCIwLjlcIiBzdHJva2U9XCIjRkYwMDAwXCIgZmlsbD1cIiNGRjAwMDBcIiAvPjwvc3ZnPiJ9LCAiZ2VvbWV0cnkiOiB7InR5cGUiOiAiUG9pbnQiLCAiY29vcmRpbmF0ZXMiOiBbLTAuMTk3NjU2OTQ2NTk3MjcsIDUxLjUwODIxMDAwNDYzNF19LCAidHlwZSI6ICJGZWF0dXJlIn0sIHsicHJvcGVydGllcyI6IHsiYW5jaG9yX3kiOiA0LjAsICJhbmNob3JfeCI6IDQuMCwgImh0bWwiOiAiPHN2ZyB3aWR0aD1cIjhweFwiIGhlaWdodD1cIjhweFwiIHZpZXdCb3g9XCItNC4wIC00LjAgOC4wIDguMFwiIHhtbG5zPVwiaHR0cDovL3d3dy53My5vcmcvMjAwMC9zdmdcIiB2ZXJzaW9uPVwiMS4xXCI+ICA8cGF0aCBkPVwiTSAtMy4xMDU2NDk5Njg3NSAzLjEwNTY0OTk2ODc1IEwgMy4xMDU2NDk5Njg3NSAzLjEwNTY0OTk2ODc1IEwgMy4xMDU2NDk5Njg3NSAtMy4xMDU2NDk5Njg3NSBMIC0zLjEwNTY0OTk2ODc1IC0zLjEwNTY0OTk2ODc1IFpcIiBzdHJva2Utd2lkdGg9XCIwLjBcIiBmaWxsLW9wYWNpdHk9XCIwLjlcIiBzdHJva2Utb3BhY2l0eT1cIjAuOVwiIHN0cm9rZT1cIiNGRjAwMDBcIiBmaWxsPVwiI0ZGMDAwMFwiIC8+PC9zdmc+In0sICJnZW9tZXRyeSI6IHsidHlwZSI6ICJQb2ludCIsICJjb29yZGluYXRlcyI6IFstMC4yMjE0NzcwMzkxNTg1NSwgNTEuNTA2OTY1ODk2MTYzXX0sICJ0eXBlIjogIkZlYXR1cmUifSwgeyJwcm9wZXJ0aWVzIjogeyJhbmNob3JfeSI6IDQuMCwgImFuY2hvcl94IjogNC4wLCAiaHRtbCI6ICI8c3ZnIHdpZHRoPVwiOHB4XCIgaGVpZ2h0PVwiOHB4XCIgdmlld0JveD1cIi00LjAgLTQuMCA4LjAgOC4wXCIgeG1sbnM9XCJodHRwOi8vd3d3LnczLm9yZy8yMDAwL3N2Z1wiIHZlcnNpb249XCIxLjFcIj4gIDxwYXRoIGQ9XCJNIC0zLjEwNTY0OTk2ODc1IDMuMTA1NjQ5OTY4NzUgTCAzLjEwNTY0OTk2ODc1IDMuMTA1NjQ5OTY4NzUgTCAzLjEwNTY0OTk2ODc1IC0zLjEwNTY0OTk2ODc1IEwgLTMuMTA1NjQ5OTY4NzUgLTMuMTA1NjQ5OTY4NzUgWlwiIHN0cm9rZS13aWR0aD1cIjAuMFwiIGZpbGwtb3BhY2l0eT1cIjAuOVwiIHN0cm9rZS1vcGFjaXR5PVwiMC45XCIgc3Ryb2tlPVwiI0ZGMDAwMFwiIGZpbGw9XCIjRkYwMDAwXCIgLz48L3N2Zz4ifSwgImdlb21ldHJ5IjogeyJ0eXBlIjogIlBvaW50IiwgImNvb3JkaW5hdGVzIjogWy0wLjE4MzY2NzgyNSwgNTEuNDk4MjQxODU1XX0sICJ0eXBlIjogIkZlYXR1cmUifSwgeyJwcm9wZXJ0aWVzIjogeyJhbmNob3JfeSI6IDQuMCwgImFuY2hvcl94IjogNC4wLCAiaHRtbCI6ICI8c3ZnIHdpZHRoPVwiOHB4XCIgaGVpZ2h0PVwiOHB4XCIgdmlld0JveD1cIi00LjAgLTQuMCA4LjAgOC4wXCIgeG1sbnM9XCJodHRwOi8vd3d3LnczLm9yZy8yMDAwL3N2Z1wiIHZlcnNpb249XCIxLjFcIj4gIDxwYXRoIGQ9XCJNIC0zLjEwNTY0OTk2ODc1IDMuMTA1NjQ5OTY4NzUgTCAzLjEwNTY0OTk2ODc1IDMuMTA1NjQ5OTY4NzUgTCAzLjEwNTY0OTk2ODc1IC0zLjEwNTY0OTk2ODc1IEwgLTMuMTA1NjQ5OTY4NzUgLTMuMTA1NjQ5OTY4NzUgWlwiIHN0cm9rZS13aWR0aD1cIjAuMFwiIGZpbGwtb3BhY2l0eT1cIjAuOVwiIHN0cm9rZS1vcGFjaXR5PVwiMC45XCIgc3Ryb2tlPVwiI0ZGMDAwMFwiIGZpbGw9XCIjRkYwMDAwXCIgLz48L3N2Zz4ifSwgImdlb21ldHJ5IjogeyJ0eXBlIjogIlBvaW50IiwgImNvb3JkaW5hdGVzIjogWy0wLjE5NTYxMzEwNDExMzQ4LCA1MS41MDAxMTE5MDQ4MjNdfSwgInR5cGUiOiAiRmVhdHVyZSJ9LCB7InByb3BlcnRpZXMiOiB7ImFuY2hvcl95IjogNC4wLCAiYW5jaG9yX3giOiA0LjAsICJodG1sIjogIjxzdmcgd2lkdGg9XCI4cHhcIiBoZWlnaHQ9XCI4cHhcIiB2aWV3Qm94PVwiLTQuMCAtNC4wIDguMCA4LjBcIiB4bWxucz1cImh0dHA6Ly93d3cudzMub3JnLzIwMDAvc3ZnXCIgdmVyc2lvbj1cIjEuMVwiPiAgPHBhdGggZD1cIk0gLTMuMTA1NjQ5OTY4NzUgMy4xMDU2NDk5Njg3NSBMIDMuMTA1NjQ5OTY4NzUgMy4xMDU2NDk5Njg3NSBMIDMuMTA1NjQ5OTY4NzUgLTMuMTA1NjQ5OTY4NzUgTCAtMy4xMDU2NDk5Njg3NSAtMy4xMDU2NDk5Njg3NSBaXCIgc3Ryb2tlLXdpZHRoPVwiMC4wXCIgZmlsbC1vcGFjaXR5PVwiMC45XCIgc3Ryb2tlLW9wYWNpdHk9XCIwLjlcIiBzdHJva2U9XCIjRkYwMDAwXCIgZmlsbD1cIiNGRjAwMDBcIiAvPjwvc3ZnPiJ9LCAiZ2VvbWV0cnkiOiB7InR5cGUiOiAiUG9pbnQiLCAiY29vcmRpbmF0ZXMiOiBbLTAuMTk2ODY2LCA1MS40OTk1NTEyXX0sICJ0eXBlIjogIkZlYXR1cmUifSwgeyJwcm9wZXJ0aWVzIjogeyJhbmNob3JfeSI6IDQuMCwgImFuY2hvcl94IjogNC4wLCAiaHRtbCI6ICI8c3ZnIHdpZHRoPVwiOHB4XCIgaGVpZ2h0PVwiOHB4XCIgdmlld0JveD1cIi00LjAgLTQuMCA4LjAgOC4wXCIgeG1sbnM9XCJodHRwOi8vd3d3LnczLm9yZy8yMDAwL3N2Z1wiIHZlcnNpb249XCIxLjFcIj4gIDxwYXRoIGQ9XCJNIC0zLjEwNTY0OTk2ODc1IDMuMTA1NjQ5OTY4NzUgTCAzLjEwNTY0OTk2ODc1IDMuMTA1NjQ5OTY4NzUgTCAzLjEwNTY0OTk2ODc1IC0zLjEwNTY0OTk2ODc1IEwgLTMuMTA1NjQ5OTY4NzUgLTMuMTA1NjQ5OTY4NzUgWlwiIHN0cm9rZS13aWR0aD1cIjAuMFwiIGZpbGwtb3BhY2l0eT1cIjAuOVwiIHN0cm9rZS1vcGFjaXR5PVwiMC45XCIgc3Ryb2tlPVwiI0ZGMDAwMFwiIGZpbGw9XCIjRkYwMDAwXCIgLz48L3N2Zz4ifSwgImdlb21ldHJ5IjogeyJ0eXBlIjogIlBvaW50IiwgImNvb3JkaW5hdGVzIjogWy0wLjE5NzkwMzA3ODU2OTU1LCA1MS40OTk3MjgxMjM5MTddfSwgInR5cGUiOiAiRmVhdHVyZSJ9LCB7InByb3BlcnRpZXMiOiB7ImFuY2hvcl95IjogNC4wLCAiYW5jaG9yX3giOiA0LjAsICJodG1sIjogIjxzdmcgd2lkdGg9XCI4cHhcIiBoZWlnaHQ9XCI4cHhcIiB2aWV3Qm94PVwiLTQuMCAtNC4wIDguMCA4LjBcIiB4bWxucz1cImh0dHA6Ly93d3cudzMub3JnLzIwMDAvc3ZnXCIgdmVyc2lvbj1cIjEuMVwiPiAgPHBhdGggZD1cIk0gLTMuMTA1NjQ5OTY4NzUgMy4xMDU2NDk5Njg3NSBMIDMuMTA1NjQ5OTY4NzUgMy4xMDU2NDk5Njg3NSBMIDMuMTA1NjQ5OTY4NzUgLTMuMTA1NjQ5OTY4NzUgTCAtMy4xMDU2NDk5Njg3NSAtMy4xMDU2NDk5Njg3NSBaXCIgc3Ryb2tlLXdpZHRoPVwiMC4wXCIgZmlsbC1vcGFjaXR5PVwiMC45XCIgc3Ryb2tlLW9wYWNpdHk9XCIwLjlcIiBzdHJva2U9XCIjRkYwMDAwXCIgZmlsbD1cIiNGRjAwMDBcIiAvPjwvc3ZnPiJ9LCAiZ2VvbWV0cnkiOiB7InR5cGUiOiAiUG9pbnQiLCAiY29vcmRpbmF0ZXMiOiBbLTAuMDgxMDg5MywgNTEuNDk3MDY4M119LCAidHlwZSI6ICJGZWF0dXJlIn0sIHsicHJvcGVydGllcyI6IHsiYW5jaG9yX3kiOiA0LjAsICJhbmNob3JfeCI6IDQuMCwgImh0bWwiOiAiPHN2ZyB3aWR0aD1cIjhweFwiIGhlaWdodD1cIjhweFwiIHZpZXdCb3g9XCItNC4wIC00LjAgOC4wIDguMFwiIHhtbG5zPVwiaHR0cDovL3d3dy53My5vcmcvMjAwMC9zdmdcIiB2ZXJzaW9uPVwiMS4xXCI+ICA8cGF0aCBkPVwiTSAtMy4xMDU2NDk5Njg3NSAzLjEwNTY0OTk2ODc1IEwgMy4xMDU2NDk5Njg3NSAzLjEwNTY0OTk2ODc1IEwgMy4xMDU2NDk5Njg3NSAtMy4xMDU2NDk5Njg3NSBMIC0zLjEwNTY0OTk2ODc1IC0zLjEwNTY0OTk2ODc1IFpcIiBzdHJva2Utd2lkdGg9XCIwLjBcIiBmaWxsLW9wYWNpdHk9XCIwLjlcIiBzdHJva2Utb3BhY2l0eT1cIjAuOVwiIHN0cm9rZT1cIiNGRjAwMDBcIiBmaWxsPVwiI0ZGMDAwMFwiIC8+PC9zdmc+In0sICJnZW9tZXRyeSI6IHsidHlwZSI6ICJQb2ludCIsICJjb29yZGluYXRlcyI6IFstMC4xMzcxMjQ2LCA1MS40OTYzNTI0XX0sICJ0eXBlIjogIkZlYXR1cmUifSwgeyJwcm9wZXJ0aWVzIjogeyJhbmNob3JfeSI6IDQuMCwgImFuY2hvcl94IjogNC4wLCAiaHRtbCI6ICI8c3ZnIHdpZHRoPVwiOHB4XCIgaGVpZ2h0PVwiOHB4XCIgdmlld0JveD1cIi00LjAgLTQuMCA4LjAgOC4wXCIgeG1sbnM9XCJodHRwOi8vd3d3LnczLm9yZy8yMDAwL3N2Z1wiIHZlcnNpb249XCIxLjFcIj4gIDxwYXRoIGQ9XCJNIC0zLjEwNTY0OTk2ODc1IDMuMTA1NjQ5OTY4NzUgTCAzLjEwNTY0OTk2ODc1IDMuMTA1NjQ5OTY4NzUgTCAzLjEwNTY0OTk2ODc1IC0zLjEwNTY0OTk2ODc1IEwgLTMuMTA1NjQ5OTY4NzUgLTMuMTA1NjQ5OTY4NzUgWlwiIHN0cm9rZS13aWR0aD1cIjAuMFwiIGZpbGwtb3BhY2l0eT1cIjAuOVwiIHN0cm9rZS1vcGFjaXR5PVwiMC45XCIgc3Ryb2tlPVwiI0ZGMDAwMFwiIGZpbGw9XCIjRkYwMDAwXCIgLz48L3N2Zz4ifSwgImdlb21ldHJ5IjogeyJ0eXBlIjogIlBvaW50IiwgImNvb3JkaW5hdGVzIjogWy0wLjE5Mjc1NDQsIDUxLjQ5NjU1NTFdfSwgInR5cGUiOiAiRmVhdHVyZSJ9XSwgInR5cGUiOiAiRmVhdHVyZUNvbGxlY3Rpb24ifTsKCmlmIChnakRhdGEuZmVhdHVyZXMubGVuZ3RoICE9IDApIHsKICB2YXIgZ2ogPSBMLmdlb0pzb24oZ2pEYXRhLCB7CiAgICBzdHlsZTogZnVuY3Rpb24gKGZlYXR1cmUpIHsKICAgICAgcmV0dXJuIGZlYXR1cmUucHJvcGVydGllczsKICAgIH0sCiAgICBwb2ludFRvTGF5ZXI6IGZ1bmN0aW9uIChmZWF0dXJlLCBsYXRsbmcpIHsKICAgICAgdmFyIGljb24gPSBMLmRpdkljb24oeydodG1sJzogZmVhdHVyZS5wcm9wZXJ0aWVzLmh0bWwsIAogICAgICAgIGljb25BbmNob3I6IFtmZWF0dXJlLnByb3BlcnRpZXMuYW5jaG9yX3gsIAogICAgICAgICAgICAgICAgICAgICBmZWF0dXJlLnByb3BlcnRpZXMuYW5jaG9yX3ldLCAKICAgICAgICAgIGNsYXNzTmFtZTogJ2VtcHR5J30pOyAgLy8gV2hhdCBjYW4gSSBkbyBhYm91dCBlbXB0eT8KICAgICAgcmV0dXJuIEwubWFya2VyKGxhdGxuZywge2ljb246IGljb259KTsKICAgIH0KICB9KTsKICBnai5hZGRUbyhtYXApOwogIAogIG1hcC5maXRCb3VuZHMoZ2ouZ2V0Qm91bmRzKCkpOwp9IGVsc2UgewogIG1hcC5zZXRWaWV3KFswLCAwXSwgMSk7Cn0KPC9zY3JpcHQ+CjwvYm9keT4=\" width=\"100%\" height=\"240\"></iframe>"
      ],
      "text/plain": [
       "<IPython.core.display.HTML object>"
      ]
     },
     "execution_count": 39,
     "metadata": {},
     "output_type": "execute_result"
    }
   ],
   "source": [
    "#hmm, this doesn't seem to work -- no scatter plot??\n",
    "# plt.gcf().set_size_inches(width, height)\n",
    "# # map.arcgisimage(server='http://server.arcgisonline.com/arcgis', service='Canvas/World_Light_Gray_Base', xpixels=xpixels, dpi=96, verbose=True)\n",
    "# map.scatter(lngPoints[0], latPoints[0], c='r', alpha=0.9, marker='s', s=20, linewidths=0, latlon= True)\n",
    "# plt.show()\n",
    "\n",
    "plt.scatter(lngPoints[0:200], latPoints[0:200], c='r', alpha=0.9, marker='s', s=20, linewidths=0)\n",
    "mplleaflet.display(tiles=mplleaflet.maptiles.osm)\n"
   ]
  },
  {
   "cell_type": "code",
   "execution_count": 49,
   "metadata": {
    "collapsed": false
   },
   "outputs": [],
   "source": [
    "#I've only plotted 200 or so data points-- otherwise the browser isn't too happy... \n",
    "#basically is planning to do some clustering anyway and geopandas may be a good tool to use\n",
    "londonGeoDF = gpd.read_file('OA_2011_BGC_london.json')"
   ]
  },
  {
   "cell_type": "code",
   "execution_count": 50,
   "metadata": {
    "collapsed": false
   },
   "outputs": [
    {
     "data": {
      "text/html": [
       "<div>\n",
       "<table border=\"1\" class=\"dataframe\">\n",
       "  <thead>\n",
       "    <tr style=\"text-align: right;\">\n",
       "      <th></th>\n",
       "      <th>AVHHOLDSZ</th>\n",
       "      <th>COMESTRES</th>\n",
       "      <th>HHOLDRES</th>\n",
       "      <th>HHOLDS</th>\n",
       "      <th>LAD11CD</th>\n",
       "      <th>LAD11NM</th>\n",
       "      <th>LSOA11CD</th>\n",
       "      <th>LSOA11NM</th>\n",
       "      <th>MSOA11CD</th>\n",
       "      <th>MSOA11NM</th>\n",
       "      <th>OA11CD</th>\n",
       "      <th>POPDEN</th>\n",
       "      <th>RGN11CD</th>\n",
       "      <th>RGN11NM</th>\n",
       "      <th>USUALRES</th>\n",
       "      <th>WD11CD_BF</th>\n",
       "      <th>WD11NM_BF</th>\n",
       "      <th>geometry</th>\n",
       "    </tr>\n",
       "  </thead>\n",
       "  <tbody>\n",
       "    <tr>\n",
       "      <th>0</th>\n",
       "      <td>2.4</td>\n",
       "      <td>0</td>\n",
       "      <td>291</td>\n",
       "      <td>123</td>\n",
       "      <td>E09000002</td>\n",
       "      <td>Barking and Dagenham</td>\n",
       "      <td>E01000074</td>\n",
       "      <td>Barking and Dagenham 012C</td>\n",
       "      <td>E02000013</td>\n",
       "      <td>Barking and Dagenham 012</td>\n",
       "      <td>E00000371</td>\n",
       "      <td>85.8</td>\n",
       "      <td>E12000007</td>\n",
       "      <td>London</td>\n",
       "      <td>291</td>\n",
       "      <td>E05000036</td>\n",
       "      <td>Mayesbrook</td>\n",
       "      <td>POLYGON ((0.123626833290036 51.54779654745277,...</td>\n",
       "    </tr>\n",
       "    <tr>\n",
       "      <th>1</th>\n",
       "      <td>2.6</td>\n",
       "      <td>0</td>\n",
       "      <td>323</td>\n",
       "      <td>124</td>\n",
       "      <td>E09000002</td>\n",
       "      <td>Barking and Dagenham</td>\n",
       "      <td>E01000073</td>\n",
       "      <td>Barking and Dagenham 012B</td>\n",
       "      <td>E02000013</td>\n",
       "      <td>Barking and Dagenham 012</td>\n",
       "      <td>E00000370</td>\n",
       "      <td>88.3</td>\n",
       "      <td>E12000007</td>\n",
       "      <td>London</td>\n",
       "      <td>323</td>\n",
       "      <td>E05000036</td>\n",
       "      <td>Mayesbrook</td>\n",
       "      <td>POLYGON ((0.114355116990793 51.54695588394154,...</td>\n",
       "    </tr>\n",
       "    <tr>\n",
       "      <th>2</th>\n",
       "      <td>2.4</td>\n",
       "      <td>0</td>\n",
       "      <td>329</td>\n",
       "      <td>135</td>\n",
       "      <td>E09000002</td>\n",
       "      <td>Barking and Dagenham</td>\n",
       "      <td>E01000074</td>\n",
       "      <td>Barking and Dagenham 012C</td>\n",
       "      <td>E02000013</td>\n",
       "      <td>Barking and Dagenham 012</td>\n",
       "      <td>E00000372</td>\n",
       "      <td>116.7</td>\n",
       "      <td>E12000007</td>\n",
       "      <td>London</td>\n",
       "      <td>329</td>\n",
       "      <td>E05000036</td>\n",
       "      <td>Mayesbrook</td>\n",
       "      <td>POLYGON ((0.120582018615427 51.5468436367351, ...</td>\n",
       "    </tr>\n",
       "    <tr>\n",
       "      <th>3</th>\n",
       "      <td>2.7</td>\n",
       "      <td>0</td>\n",
       "      <td>291</td>\n",
       "      <td>107</td>\n",
       "      <td>E09000002</td>\n",
       "      <td>Barking and Dagenham</td>\n",
       "      <td>E01000074</td>\n",
       "      <td>Barking and Dagenham 012C</td>\n",
       "      <td>E02000013</td>\n",
       "      <td>Barking and Dagenham 012</td>\n",
       "      <td>E00000375</td>\n",
       "      <td>113.7</td>\n",
       "      <td>E12000007</td>\n",
       "      <td>London</td>\n",
       "      <td>291</td>\n",
       "      <td>E05000036</td>\n",
       "      <td>Mayesbrook</td>\n",
       "      <td>POLYGON ((0.118107462304139 51.54678149170271,...</td>\n",
       "    </tr>\n",
       "    <tr>\n",
       "      <th>4</th>\n",
       "      <td>2.4</td>\n",
       "      <td>0</td>\n",
       "      <td>275</td>\n",
       "      <td>113</td>\n",
       "      <td>E09000002</td>\n",
       "      <td>Barking and Dagenham</td>\n",
       "      <td>E01000074</td>\n",
       "      <td>Barking and Dagenham 012C</td>\n",
       "      <td>E02000013</td>\n",
       "      <td>Barking and Dagenham 012</td>\n",
       "      <td>E00000377</td>\n",
       "      <td>97.5</td>\n",
       "      <td>E12000007</td>\n",
       "      <td>London</td>\n",
       "      <td>275</td>\n",
       "      <td>E05000036</td>\n",
       "      <td>Mayesbrook</td>\n",
       "      <td>POLYGON ((0.120783314586704 51.54480800628029,...</td>\n",
       "    </tr>\n",
       "  </tbody>\n",
       "</table>\n",
       "</div>"
      ],
      "text/plain": [
       "   AVHHOLDSZ  COMESTRES  HHOLDRES  HHOLDS    LAD11CD               LAD11NM  \\\n",
       "0        2.4          0       291     123  E09000002  Barking and Dagenham   \n",
       "1        2.6          0       323     124  E09000002  Barking and Dagenham   \n",
       "2        2.4          0       329     135  E09000002  Barking and Dagenham   \n",
       "3        2.7          0       291     107  E09000002  Barking and Dagenham   \n",
       "4        2.4          0       275     113  E09000002  Barking and Dagenham   \n",
       "\n",
       "    LSOA11CD                   LSOA11NM   MSOA11CD                  MSOA11NM  \\\n",
       "0  E01000074  Barking and Dagenham 012C  E02000013  Barking and Dagenham 012   \n",
       "1  E01000073  Barking and Dagenham 012B  E02000013  Barking and Dagenham 012   \n",
       "2  E01000074  Barking and Dagenham 012C  E02000013  Barking and Dagenham 012   \n",
       "3  E01000074  Barking and Dagenham 012C  E02000013  Barking and Dagenham 012   \n",
       "4  E01000074  Barking and Dagenham 012C  E02000013  Barking and Dagenham 012   \n",
       "\n",
       "      OA11CD  POPDEN    RGN11CD RGN11NM  USUALRES  WD11CD_BF   WD11NM_BF  \\\n",
       "0  E00000371    85.8  E12000007  London       291  E05000036  Mayesbrook   \n",
       "1  E00000370    88.3  E12000007  London       323  E05000036  Mayesbrook   \n",
       "2  E00000372   116.7  E12000007  London       329  E05000036  Mayesbrook   \n",
       "3  E00000375   113.7  E12000007  London       291  E05000036  Mayesbrook   \n",
       "4  E00000377    97.5  E12000007  London       275  E05000036  Mayesbrook   \n",
       "\n",
       "                                            geometry  \n",
       "0  POLYGON ((0.123626833290036 51.54779654745277,...  \n",
       "1  POLYGON ((0.114355116990793 51.54695588394154,...  \n",
       "2  POLYGON ((0.120582018615427 51.5468436367351, ...  \n",
       "3  POLYGON ((0.118107462304139 51.54678149170271,...  \n",
       "4  POLYGON ((0.120783314586704 51.54480800628029,...  "
      ]
     },
     "execution_count": 50,
     "metadata": {},
     "output_type": "execute_result"
    }
   ],
   "source": [
    "londonGeoDF.head()"
   ]
  },
  {
   "cell_type": "code",
   "execution_count": 52,
   "metadata": {
    "collapsed": false
   },
   "outputs": [],
   "source": [
    "points = [Point(x['_id']['lng'], x['_id']['lat']) for x in locations]"
   ]
  },
  {
   "cell_type": "code",
   "execution_count": 92,
   "metadata": {
    "collapsed": false
   },
   "outputs": [],
   "source": [
    "locationsDF = pd.DataFrame({'geometry': points})\n",
    "locationsDF['locationCount'] = pointCount\n",
    "locationsDF = gpd.GeoDataFrame(locationsDF)"
   ]
  },
  {
   "cell_type": "code",
   "execution_count": 93,
   "metadata": {
    "collapsed": false
   },
   "outputs": [
    {
     "data": {
      "text/html": [
       "<div>\n",
       "<table border=\"1\" class=\"dataframe\">\n",
       "  <thead>\n",
       "    <tr style=\"text-align: right;\">\n",
       "      <th></th>\n",
       "      <th>geometry</th>\n",
       "      <th>locationCount</th>\n",
       "    </tr>\n",
       "  </thead>\n",
       "  <tbody>\n",
       "    <tr>\n",
       "      <th>0</th>\n",
       "      <td>POINT (-0.10764048 51.52873915172)</td>\n",
       "      <td>1</td>\n",
       "    </tr>\n",
       "    <tr>\n",
       "      <th>1</th>\n",
       "      <td>POINT (-0.12616008173597 51.528634145464)</td>\n",
       "      <td>1</td>\n",
       "    </tr>\n",
       "    <tr>\n",
       "      <th>2</th>\n",
       "      <td>POINT (-0.1536313119604 51.520704607159)</td>\n",
       "      <td>1</td>\n",
       "    </tr>\n",
       "    <tr>\n",
       "      <th>3</th>\n",
       "      <td>POINT (-0.17420751 51.52767352)</td>\n",
       "      <td>1</td>\n",
       "    </tr>\n",
       "    <tr>\n",
       "      <th>4</th>\n",
       "      <td>POINT (-0.08711439999999999 51.5233125)</td>\n",
       "      <td>1</td>\n",
       "    </tr>\n",
       "  </tbody>\n",
       "</table>\n",
       "</div>"
      ],
      "text/plain": [
       "                                    geometry  locationCount\n",
       "0         POINT (-0.10764048 51.52873915172)              1\n",
       "1  POINT (-0.12616008173597 51.528634145464)              1\n",
       "2   POINT (-0.1536313119604 51.520704607159)              1\n",
       "3            POINT (-0.17420751 51.52767352)              1\n",
       "4    POINT (-0.08711439999999999 51.5233125)              1"
      ]
     },
     "execution_count": 93,
     "metadata": {},
     "output_type": "execute_result"
    }
   ],
   "source": [
    "locationsDF.head()"
   ]
  },
  {
   "cell_type": "code",
   "execution_count": 67,
   "metadata": {
    "collapsed": false
   },
   "outputs": [],
   "source": [
    "#now trim the londonGeo stuff to may it smaller... hopefully this will make any op faster\n",
    "londonDFSubset = londonGeoDF.ix[:,['OA11CD', 'POPDEN', 'WD11NM_BF', 'geometry']]"
   ]
  },
  {
   "cell_type": "code",
   "execution_count": 69,
   "metadata": {
    "collapsed": false
   },
   "outputs": [
    {
     "data": {
      "text/html": [
       "<div>\n",
       "<table border=\"1\" class=\"dataframe\">\n",
       "  <thead>\n",
       "    <tr style=\"text-align: right;\">\n",
       "      <th></th>\n",
       "      <th>OA11CD</th>\n",
       "      <th>POPDEN</th>\n",
       "      <th>WD11NM_BF</th>\n",
       "      <th>geometry</th>\n",
       "    </tr>\n",
       "  </thead>\n",
       "  <tbody>\n",
       "    <tr>\n",
       "      <th>0</th>\n",
       "      <td>E00000371</td>\n",
       "      <td>85.8</td>\n",
       "      <td>Mayesbrook</td>\n",
       "      <td>POLYGON ((0.123626833290036 51.54779654745277,...</td>\n",
       "    </tr>\n",
       "    <tr>\n",
       "      <th>1</th>\n",
       "      <td>E00000370</td>\n",
       "      <td>88.3</td>\n",
       "      <td>Mayesbrook</td>\n",
       "      <td>POLYGON ((0.114355116990793 51.54695588394154,...</td>\n",
       "    </tr>\n",
       "    <tr>\n",
       "      <th>2</th>\n",
       "      <td>E00000372</td>\n",
       "      <td>116.7</td>\n",
       "      <td>Mayesbrook</td>\n",
       "      <td>POLYGON ((0.120582018615427 51.5468436367351, ...</td>\n",
       "    </tr>\n",
       "    <tr>\n",
       "      <th>3</th>\n",
       "      <td>E00000375</td>\n",
       "      <td>113.7</td>\n",
       "      <td>Mayesbrook</td>\n",
       "      <td>POLYGON ((0.118107462304139 51.54678149170271,...</td>\n",
       "    </tr>\n",
       "    <tr>\n",
       "      <th>4</th>\n",
       "      <td>E00000377</td>\n",
       "      <td>97.5</td>\n",
       "      <td>Mayesbrook</td>\n",
       "      <td>POLYGON ((0.120783314586704 51.54480800628029,...</td>\n",
       "    </tr>\n",
       "  </tbody>\n",
       "</table>\n",
       "</div>"
      ],
      "text/plain": [
       "      OA11CD  POPDEN   WD11NM_BF  \\\n",
       "0  E00000371    85.8  Mayesbrook   \n",
       "1  E00000370    88.3  Mayesbrook   \n",
       "2  E00000372   116.7  Mayesbrook   \n",
       "3  E00000375   113.7  Mayesbrook   \n",
       "4  E00000377    97.5  Mayesbrook   \n",
       "\n",
       "                                            geometry  \n",
       "0  POLYGON ((0.123626833290036 51.54779654745277,...  \n",
       "1  POLYGON ((0.114355116990793 51.54695588394154,...  \n",
       "2  POLYGON ((0.120582018615427 51.5468436367351, ...  \n",
       "3  POLYGON ((0.118107462304139 51.54678149170271,...  \n",
       "4  POLYGON ((0.120783314586704 51.54480800628029,...  "
      ]
     },
     "execution_count": 69,
     "metadata": {},
     "output_type": "execute_result"
    }
   ],
   "source": [
    "londonDFSubset.head()"
   ]
  },
  {
   "cell_type": "code",
   "execution_count": 75,
   "metadata": {
    "collapsed": false
   },
   "outputs": [
    {
     "name": "stdout",
     "output_type": "stream",
     "text": [
      "Warning: CRS does not match!\n"
     ]
    },
    {
     "data": {
      "text/html": [
       "<div>\n",
       "<table border=\"1\" class=\"dataframe\">\n",
       "  <thead>\n",
       "    <tr style=\"text-align: right;\">\n",
       "      <th></th>\n",
       "      <th>geometry</th>\n",
       "      <th>count</th>\n",
       "      <th>index_right</th>\n",
       "      <th>OA11CD</th>\n",
       "      <th>POPDEN</th>\n",
       "      <th>WD11NM_BF</th>\n",
       "    </tr>\n",
       "  </thead>\n",
       "  <tbody>\n",
       "  </tbody>\n",
       "</table>\n",
       "</div>"
      ],
      "text/plain": [
       "Empty GeoDataFrame\n",
       "Columns: [geometry, count, index_right, OA11CD, POPDEN, WD11NM_BF]\n",
       "Index: []"
      ]
     },
     "execution_count": 75,
     "metadata": {},
     "output_type": "execute_result"
    }
   ],
   "source": [
    "#let's try doing a spatial join\n",
    "gpd.sjoin(locationsDF, londonDFSubset, how=\"inner\", op='contains')"
   ]
  },
  {
   "cell_type": "code",
   "execution_count": 76,
   "metadata": {
    "collapsed": false
   },
   "outputs": [
    {
     "name": "stdout",
     "output_type": "stream",
     "text": [
      "None\n",
      "{'init': 'epsg:4326'}\n"
     ]
    }
   ],
   "source": [
    "print(locationsDF.crs)\n",
    "print(londonDFSubset.crs)"
   ]
  },
  {
   "cell_type": "code",
   "execution_count": 94,
   "metadata": {
    "collapsed": true
   },
   "outputs": [],
   "source": [
    "#ah, I guess I need to set the crs of the points...\n",
    "locationsDF.crs = londonDFSubset.crs"
   ]
  },
  {
   "cell_type": "code",
   "execution_count": 95,
   "metadata": {
    "collapsed": false
   },
   "outputs": [],
   "source": [
    "mergedDF = gpd.sjoin(locationsDF, londonDFSubset, how=\"left\", op='within')"
   ]
  },
  {
   "cell_type": "code",
   "execution_count": 96,
   "metadata": {
    "collapsed": false
   },
   "outputs": [
    {
     "data": {
      "text/html": [
       "<div>\n",
       "<table border=\"1\" class=\"dataframe\">\n",
       "  <thead>\n",
       "    <tr style=\"text-align: right;\">\n",
       "      <th></th>\n",
       "      <th>geometry</th>\n",
       "      <th>locationCount</th>\n",
       "      <th>index_right</th>\n",
       "      <th>OA11CD</th>\n",
       "      <th>POPDEN</th>\n",
       "      <th>WD11NM_BF</th>\n",
       "    </tr>\n",
       "  </thead>\n",
       "  <tbody>\n",
       "    <tr>\n",
       "      <th>0</th>\n",
       "      <td>POINT (-0.10764048 51.52873915172)</td>\n",
       "      <td>1</td>\n",
       "      <td>14185</td>\n",
       "      <td>E00013556</td>\n",
       "      <td>143.3</td>\n",
       "      <td>Clerkenwell</td>\n",
       "    </tr>\n",
       "    <tr>\n",
       "      <th>1</th>\n",
       "      <td>POINT (-0.12616008173597 51.528634145464)</td>\n",
       "      <td>1</td>\n",
       "      <td>4171</td>\n",
       "      <td>E00004666</td>\n",
       "      <td>109.2</td>\n",
       "      <td>King's Cross</td>\n",
       "    </tr>\n",
       "    <tr>\n",
       "      <th>2</th>\n",
       "      <td>POINT (-0.1536313119604 51.520704607159)</td>\n",
       "      <td>1</td>\n",
       "      <td>24347</td>\n",
       "      <td>E00023823</td>\n",
       "      <td>242.9</td>\n",
       "      <td>Marylebone High Street</td>\n",
       "    </tr>\n",
       "    <tr>\n",
       "      <th>3</th>\n",
       "      <td>POINT (-0.17420751 51.52767352)</td>\n",
       "      <td>1</td>\n",
       "      <td>24799</td>\n",
       "      <td>E00023907</td>\n",
       "      <td>531.3</td>\n",
       "      <td>Regent's Park</td>\n",
       "    </tr>\n",
       "    <tr>\n",
       "      <th>4</th>\n",
       "      <td>POINT (-0.08711439999999999 51.5233125)</td>\n",
       "      <td>1</td>\n",
       "      <td>14124</td>\n",
       "      <td>E00174772</td>\n",
       "      <td>30.4</td>\n",
       "      <td>Bunhill</td>\n",
       "    </tr>\n",
       "  </tbody>\n",
       "</table>\n",
       "</div>"
      ],
      "text/plain": [
       "                                    geometry  locationCount  index_right  \\\n",
       "0         POINT (-0.10764048 51.52873915172)              1        14185   \n",
       "1  POINT (-0.12616008173597 51.528634145464)              1         4171   \n",
       "2   POINT (-0.1536313119604 51.520704607159)              1        24347   \n",
       "3            POINT (-0.17420751 51.52767352)              1        24799   \n",
       "4    POINT (-0.08711439999999999 51.5233125)              1        14124   \n",
       "\n",
       "      OA11CD  POPDEN               WD11NM_BF  \n",
       "0  E00013556   143.3             Clerkenwell  \n",
       "1  E00004666   109.2            King's Cross  \n",
       "2  E00023823   242.9  Marylebone High Street  \n",
       "3  E00023907   531.3           Regent's Park  \n",
       "4  E00174772    30.4                 Bunhill  "
      ]
     },
     "execution_count": 96,
     "metadata": {},
     "output_type": "execute_result"
    }
   ],
   "source": [
    "mergedDF.head()"
   ]
  },
  {
   "cell_type": "code",
   "execution_count": 97,
   "metadata": {
    "collapsed": true
   },
   "outputs": [],
   "source": [
    "#now basically I need to count how many points there are in each OA11CD\n",
    "grouped = mergedDF.groupby('OA11CD')"
   ]
  },
  {
   "cell_type": "code",
   "execution_count": 98,
   "metadata": {
    "collapsed": false
   },
   "outputs": [
    {
     "data": {
      "text/html": [
       "<div>\n",
       "<table border=\"1\" class=\"dataframe\">\n",
       "  <thead>\n",
       "    <tr style=\"text-align: right;\">\n",
       "      <th></th>\n",
       "      <th>geometry</th>\n",
       "      <th>locationCount</th>\n",
       "      <th>index_right</th>\n",
       "      <th>POPDEN</th>\n",
       "      <th>WD11NM_BF</th>\n",
       "    </tr>\n",
       "    <tr>\n",
       "      <th>OA11CD</th>\n",
       "      <th></th>\n",
       "      <th></th>\n",
       "      <th></th>\n",
       "      <th></th>\n",
       "      <th></th>\n",
       "    </tr>\n",
       "  </thead>\n",
       "  <tbody>\n",
       "    <tr>\n",
       "      <th>E00000001</th>\n",
       "      <td>POINT (-0.095 51.5202)</td>\n",
       "      <td>19</td>\n",
       "      <td>4938</td>\n",
       "      <td>289.6</td>\n",
       "      <td>Aldersgate</td>\n",
       "    </tr>\n",
       "    <tr>\n",
       "      <th>E00000003</th>\n",
       "      <td>POINT (-0.09672 51.5198593)</td>\n",
       "      <td>3</td>\n",
       "      <td>4940</td>\n",
       "      <td>595.2</td>\n",
       "      <td>Aldersgate</td>\n",
       "    </tr>\n",
       "    <tr>\n",
       "      <th>E00000007</th>\n",
       "      <td>POINT (-0.09661526500000001 51.51537183)</td>\n",
       "      <td>1</td>\n",
       "      <td>4941</td>\n",
       "      <td>16.7</td>\n",
       "      <td>Aldersgate</td>\n",
       "    </tr>\n",
       "    <tr>\n",
       "      <th>E00000013</th>\n",
       "      <td>POINT (-0.09705 51.52129)</td>\n",
       "      <td>4</td>\n",
       "      <td>4932</td>\n",
       "      <td>216.0</td>\n",
       "      <td>Cripplegate</td>\n",
       "    </tr>\n",
       "    <tr>\n",
       "      <th>E00000014</th>\n",
       "      <td>POINT (-0.096709888094608 51.522315893533)</td>\n",
       "      <td>1</td>\n",
       "      <td>4934</td>\n",
       "      <td>223.2</td>\n",
       "      <td>Cripplegate</td>\n",
       "    </tr>\n",
       "    <tr>\n",
       "      <th>E00000017</th>\n",
       "      <td>POINT (-0.09226918141401499 51.520964173293)</td>\n",
       "      <td>3</td>\n",
       "      <td>4937</td>\n",
       "      <td>171.6</td>\n",
       "      <td>Cripplegate</td>\n",
       "    </tr>\n",
       "    <tr>\n",
       "      <th>E00000018</th>\n",
       "      <td>POINT (-0.0929123 51.5198891)</td>\n",
       "      <td>1</td>\n",
       "      <td>4930</td>\n",
       "      <td>44.0</td>\n",
       "      <td>Cripplegate</td>\n",
       "    </tr>\n",
       "    <tr>\n",
       "      <th>E00000019</th>\n",
       "      <td>POINT (-0.091482391601983 51.519592926109)</td>\n",
       "      <td>1</td>\n",
       "      <td>4931</td>\n",
       "      <td>113.0</td>\n",
       "      <td>Cripplegate</td>\n",
       "    </tr>\n",
       "    <tr>\n",
       "      <th>E00000021</th>\n",
       "      <td>POINT (-0.09379999999999999 51.5175)</td>\n",
       "      <td>1</td>\n",
       "      <td>4945</td>\n",
       "      <td>20.4</td>\n",
       "      <td>Cripplegate</td>\n",
       "    </tr>\n",
       "    <tr>\n",
       "      <th>E00000023</th>\n",
       "      <td>POINT (-0.0956 51.5223)</td>\n",
       "      <td>4</td>\n",
       "      <td>4920</td>\n",
       "      <td>150.0</td>\n",
       "      <td>Cripplegate</td>\n",
       "    </tr>\n",
       "    <tr>\n",
       "      <th>E00000024</th>\n",
       "      <td>POINT (-0.097369394432384 51.515025105594)</td>\n",
       "      <td>1</td>\n",
       "      <td>4917</td>\n",
       "      <td>10.3</td>\n",
       "      <td>Farringdon Within</td>\n",
       "    </tr>\n",
       "    <tr>\n",
       "      <th>E00000025</th>\n",
       "      <td>POINT (-0.10743026808249 51.514226022478)</td>\n",
       "      <td>1</td>\n",
       "      <td>4916</td>\n",
       "      <td>13.4</td>\n",
       "      <td>Farringdon Without</td>\n",
       "    </tr>\n",
       "    <tr>\n",
       "      <th>E00000026</th>\n",
       "      <td>POINT (-0.10748986519481 51.517040977662)</td>\n",
       "      <td>2</td>\n",
       "      <td>4919</td>\n",
       "      <td>11.6</td>\n",
       "      <td>Farringdon Without</td>\n",
       "    </tr>\n",
       "    <tr>\n",
       "      <th>E00000027</th>\n",
       "      <td>POINT (-0.10342222222222 51.518686111111)</td>\n",
       "      <td>1</td>\n",
       "      <td>4918</td>\n",
       "      <td>41.5</td>\n",
       "      <td>Farringdon Without</td>\n",
       "    </tr>\n",
       "    <tr>\n",
       "      <th>E00000028</th>\n",
       "      <td>POINT (-0.1108715 51.5179367)</td>\n",
       "      <td>1</td>\n",
       "      <td>4942</td>\n",
       "      <td>19.2</td>\n",
       "      <td>Farringdon Without</td>\n",
       "    </tr>\n",
       "    <tr>\n",
       "      <th>E00000029</th>\n",
       "      <td>POINT (-0.0791298 51.5151456)</td>\n",
       "      <td>1</td>\n",
       "      <td>4943</td>\n",
       "      <td>14.7</td>\n",
       "      <td>Portsoken</td>\n",
       "    </tr>\n",
       "    <tr>\n",
       "      <th>E00000030</th>\n",
       "      <td>POINT (-0.07856450731708001 51.516681756115)</td>\n",
       "      <td>3</td>\n",
       "      <td>4928</td>\n",
       "      <td>93.4</td>\n",
       "      <td>Portsoken</td>\n",
       "    </tr>\n",
       "    <tr>\n",
       "      <th>E00000035</th>\n",
       "      <td>POINT (-0.082193962560934 51.509186980303)</td>\n",
       "      <td>1</td>\n",
       "      <td>4915</td>\n",
       "      <td>6.7</td>\n",
       "      <td>Tower</td>\n",
       "    </tr>\n",
       "    <tr>\n",
       "      <th>E00000778</th>\n",
       "      <td>POINT (-0.15186 51.61388)</td>\n",
       "      <td>1</td>\n",
       "      <td>853</td>\n",
       "      <td>101.0</td>\n",
       "      <td>Coppetts</td>\n",
       "    </tr>\n",
       "    <tr>\n",
       "      <th>E00002822</th>\n",
       "      <td>POINT (-0.21652543853262 51.528767329809)</td>\n",
       "      <td>6</td>\n",
       "      <td>2381</td>\n",
       "      <td>162.5</td>\n",
       "      <td>Queens Park</td>\n",
       "    </tr>\n",
       "    <tr>\n",
       "      <th>E00004169</th>\n",
       "      <td>POINT (-0.12456829122148 51.520566929345)</td>\n",
       "      <td>1</td>\n",
       "      <td>4728</td>\n",
       "      <td>74.6</td>\n",
       "      <td>Bloomsbury</td>\n",
       "    </tr>\n",
       "    <tr>\n",
       "      <th>E00004172</th>\n",
       "      <td>POINT (-0.13106130752855 51.517256279046)</td>\n",
       "      <td>1</td>\n",
       "      <td>4332</td>\n",
       "      <td>72.5</td>\n",
       "      <td>Bloomsbury</td>\n",
       "    </tr>\n",
       "    <tr>\n",
       "      <th>E00004173</th>\n",
       "      <td>POINT (-0.13391397722222 51.526052566667)</td>\n",
       "      <td>1</td>\n",
       "      <td>4790</td>\n",
       "      <td>98.2</td>\n",
       "      <td>Bloomsbury</td>\n",
       "    </tr>\n",
       "    <tr>\n",
       "      <th>E00004174</th>\n",
       "      <td>POINT (-0.1351781 51.5249028)</td>\n",
       "      <td>1</td>\n",
       "      <td>4330</td>\n",
       "      <td>62.1</td>\n",
       "      <td>Bloomsbury</td>\n",
       "    </tr>\n",
       "    <tr>\n",
       "      <th>E00004175</th>\n",
       "      <td>POINT (-0.12403219853059 51.525474617828)</td>\n",
       "      <td>4</td>\n",
       "      <td>4329</td>\n",
       "      <td>555.8</td>\n",
       "      <td>Bloomsbury</td>\n",
       "    </tr>\n",
       "    <tr>\n",
       "      <th>E00004177</th>\n",
       "      <td>POINT (-0.13022145924392 51.525084098929)</td>\n",
       "      <td>1</td>\n",
       "      <td>4331</td>\n",
       "      <td>108.8</td>\n",
       "      <td>Bloomsbury</td>\n",
       "    </tr>\n",
       "    <tr>\n",
       "      <th>E00004179</th>\n",
       "      <td>POINT (-0.123062227287 51.5235558252)</td>\n",
       "      <td>1</td>\n",
       "      <td>4173</td>\n",
       "      <td>215.1</td>\n",
       "      <td>Bloomsbury</td>\n",
       "    </tr>\n",
       "    <tr>\n",
       "      <th>E00004180</th>\n",
       "      <td>POINT (-0.12507954038943 51.525774782453)</td>\n",
       "      <td>3</td>\n",
       "      <td>4594</td>\n",
       "      <td>304.3</td>\n",
       "      <td>Bloomsbury</td>\n",
       "    </tr>\n",
       "    <tr>\n",
       "      <th>E00004181</th>\n",
       "      <td>POINT (-0.123551 51.523905)</td>\n",
       "      <td>1</td>\n",
       "      <td>4770</td>\n",
       "      <td>185.9</td>\n",
       "      <td>Bloomsbury</td>\n",
       "    </tr>\n",
       "    <tr>\n",
       "      <th>E00004182</th>\n",
       "      <td>POINT (-0.1263758 51.5251798)</td>\n",
       "      <td>8</td>\n",
       "      <td>4592</td>\n",
       "      <td>295.1</td>\n",
       "      <td>Bloomsbury</td>\n",
       "    </tr>\n",
       "    <tr>\n",
       "      <th>...</th>\n",
       "      <td>...</td>\n",
       "      <td>...</td>\n",
       "      <td>...</td>\n",
       "      <td>...</td>\n",
       "      <td>...</td>\n",
       "    </tr>\n",
       "    <tr>\n",
       "      <th>E00175249</th>\n",
       "      <td>POINT (-0.1331396 51.4992011)</td>\n",
       "      <td>1</td>\n",
       "      <td>24385</td>\n",
       "      <td>9.5</td>\n",
       "      <td>St James's</td>\n",
       "    </tr>\n",
       "    <tr>\n",
       "      <th>E00175250</th>\n",
       "      <td>POINT (-0.17744783 51.50098896)</td>\n",
       "      <td>1</td>\n",
       "      <td>24956</td>\n",
       "      <td>6.7</td>\n",
       "      <td>Knightsbridge and Belgravia</td>\n",
       "    </tr>\n",
       "    <tr>\n",
       "      <th>E00175252</th>\n",
       "      <td>POINT (-0.128289878 51.493687195676)</td>\n",
       "      <td>2</td>\n",
       "      <td>24957</td>\n",
       "      <td>287.3</td>\n",
       "      <td>Vincent Square</td>\n",
       "    </tr>\n",
       "    <tr>\n",
       "      <th>E00175253</th>\n",
       "      <td>POINT (-0.13115696453904 51.494881698641)</td>\n",
       "      <td>1</td>\n",
       "      <td>24955</td>\n",
       "      <td>95.2</td>\n",
       "      <td>Vincent Square</td>\n",
       "    </tr>\n",
       "    <tr>\n",
       "      <th>E00175254</th>\n",
       "      <td>POINT (-0.12755 51.49398)</td>\n",
       "      <td>1</td>\n",
       "      <td>24608</td>\n",
       "      <td>265.4</td>\n",
       "      <td>Vincent Square</td>\n",
       "    </tr>\n",
       "    <tr>\n",
       "      <th>E00175257</th>\n",
       "      <td>POINT (-0.12886924256038 51.49348581993)</td>\n",
       "      <td>1</td>\n",
       "      <td>24607</td>\n",
       "      <td>249.5</td>\n",
       "      <td>Vincent Square</td>\n",
       "    </tr>\n",
       "    <tr>\n",
       "      <th>E00175263</th>\n",
       "      <td>POINT (-0.16725970432178 51.526957489598)</td>\n",
       "      <td>1</td>\n",
       "      <td>24296</td>\n",
       "      <td>476.7</td>\n",
       "      <td>Church Street</td>\n",
       "    </tr>\n",
       "    <tr>\n",
       "      <th>E00175264</th>\n",
       "      <td>POINT (-0.18311735925527 51.527448787305)</td>\n",
       "      <td>1</td>\n",
       "      <td>24718</td>\n",
       "      <td>174.5</td>\n",
       "      <td>Little Venice</td>\n",
       "    </tr>\n",
       "    <tr>\n",
       "      <th>E00175265</th>\n",
       "      <td>POINT (-0.17217991876902 51.526206556259)</td>\n",
       "      <td>1</td>\n",
       "      <td>24721</td>\n",
       "      <td>243.5</td>\n",
       "      <td>Church Street</td>\n",
       "    </tr>\n",
       "    <tr>\n",
       "      <th>E00175267</th>\n",
       "      <td>POINT (-0.166615202201 51.525205767)</td>\n",
       "      <td>5</td>\n",
       "      <td>24720</td>\n",
       "      <td>442.1</td>\n",
       "      <td>Church Street</td>\n",
       "    </tr>\n",
       "    <tr>\n",
       "      <th>E00175269</th>\n",
       "      <td>POINT (-0.16935 51.52458)</td>\n",
       "      <td>6</td>\n",
       "      <td>24451</td>\n",
       "      <td>277.8</td>\n",
       "      <td>Church Street</td>\n",
       "    </tr>\n",
       "    <tr>\n",
       "      <th>E00175270</th>\n",
       "      <td>POINT (-0.1706271 51.523016)</td>\n",
       "      <td>3</td>\n",
       "      <td>24753</td>\n",
       "      <td>253.6</td>\n",
       "      <td>Church Street</td>\n",
       "    </tr>\n",
       "    <tr>\n",
       "      <th>E00175271</th>\n",
       "      <td>POINT (-0.16969 51.5254)</td>\n",
       "      <td>1</td>\n",
       "      <td>24754</td>\n",
       "      <td>321.9</td>\n",
       "      <td>Church Street</td>\n",
       "    </tr>\n",
       "    <tr>\n",
       "      <th>E00175276</th>\n",
       "      <td>POINT (-0.19728782063736 51.523317689347)</td>\n",
       "      <td>1</td>\n",
       "      <td>24751</td>\n",
       "      <td>159.0</td>\n",
       "      <td>Westbourne</td>\n",
       "    </tr>\n",
       "    <tr>\n",
       "      <th>E00175279</th>\n",
       "      <td>POINT (-0.19631819789806 51.521147811278)</td>\n",
       "      <td>1</td>\n",
       "      <td>24417</td>\n",
       "      <td>250.0</td>\n",
       "      <td>Westbourne</td>\n",
       "    </tr>\n",
       "    <tr>\n",
       "      <th>E00176255</th>\n",
       "      <td>POINT (-0.079488213333333 51.5249718775)</td>\n",
       "      <td>11</td>\n",
       "      <td>9136</td>\n",
       "      <td>178.3</td>\n",
       "      <td>Haggerston</td>\n",
       "    </tr>\n",
       "    <tr>\n",
       "      <th>E00176260</th>\n",
       "      <td>POINT (-0.08283061999999999 51.525701905)</td>\n",
       "      <td>1</td>\n",
       "      <td>8984</td>\n",
       "      <td>59.9</td>\n",
       "      <td>Haggerston</td>\n",
       "    </tr>\n",
       "    <tr>\n",
       "      <th>E00176261</th>\n",
       "      <td>POINT (-0.0774524 51.5256324)</td>\n",
       "      <td>1</td>\n",
       "      <td>9350</td>\n",
       "      <td>106.8</td>\n",
       "      <td>Haggerston</td>\n",
       "    </tr>\n",
       "    <tr>\n",
       "      <th>E00176275</th>\n",
       "      <td>POINT (-0.081725489032258 51.526729534839)</td>\n",
       "      <td>1</td>\n",
       "      <td>8916</td>\n",
       "      <td>85.3</td>\n",
       "      <td>Haggerston</td>\n",
       "    </tr>\n",
       "    <tr>\n",
       "      <th>E00176276</th>\n",
       "      <td>POINT (-0.077932758096679 51.526062012107)</td>\n",
       "      <td>1</td>\n",
       "      <td>8853</td>\n",
       "      <td>89.5</td>\n",
       "      <td>Haggerston</td>\n",
       "    </tr>\n",
       "    <tr>\n",
       "      <th>E00176278</th>\n",
       "      <td>POINT (-0.07799775794301 51.527982201238)</td>\n",
       "      <td>1</td>\n",
       "      <td>8855</td>\n",
       "      <td>170.8</td>\n",
       "      <td>Haggerston</td>\n",
       "    </tr>\n",
       "    <tr>\n",
       "      <th>E00176282</th>\n",
       "      <td>POINT (-0.087900035 51.527000755)</td>\n",
       "      <td>1</td>\n",
       "      <td>8954</td>\n",
       "      <td>67.4</td>\n",
       "      <td>Hoxton</td>\n",
       "    </tr>\n",
       "    <tr>\n",
       "      <th>E00176283</th>\n",
       "      <td>POINT (-0.089942325655736 51.528708358193)</td>\n",
       "      <td>5</td>\n",
       "      <td>9290</td>\n",
       "      <td>666.7</td>\n",
       "      <td>Hoxton</td>\n",
       "    </tr>\n",
       "    <tr>\n",
       "      <th>E00176305</th>\n",
       "      <td>POINT (-0.08080270000000001 51.5268724)</td>\n",
       "      <td>1</td>\n",
       "      <td>9482</td>\n",
       "      <td>61.9</td>\n",
       "      <td>Haggerston</td>\n",
       "    </tr>\n",
       "    <tr>\n",
       "      <th>E00176307</th>\n",
       "      <td>POINT (-0.0800799 51.5254449)</td>\n",
       "      <td>2</td>\n",
       "      <td>9477</td>\n",
       "      <td>206.8</td>\n",
       "      <td>Haggerston</td>\n",
       "    </tr>\n",
       "    <tr>\n",
       "      <th>E00176308</th>\n",
       "      <td>POINT (-0.07712757000000001 51.52374281)</td>\n",
       "      <td>1</td>\n",
       "      <td>9224</td>\n",
       "      <td>18.2</td>\n",
       "      <td>Haggerston</td>\n",
       "    </tr>\n",
       "    <tr>\n",
       "      <th>E00176309</th>\n",
       "      <td>POINT (-0.077779450692363 51.528944149345)</td>\n",
       "      <td>1</td>\n",
       "      <td>8813</td>\n",
       "      <td>219.1</td>\n",
       "      <td>Haggerston</td>\n",
       "    </tr>\n",
       "    <tr>\n",
       "      <th>E00176311</th>\n",
       "      <td>POINT (-0.08132929999999999 51.5235247)</td>\n",
       "      <td>1</td>\n",
       "      <td>9403</td>\n",
       "      <td>65.1</td>\n",
       "      <td>Haggerston</td>\n",
       "    </tr>\n",
       "    <tr>\n",
       "      <th>E00176312</th>\n",
       "      <td>POINT (-0.081175255640171 51.527039057838)</td>\n",
       "      <td>1</td>\n",
       "      <td>9292</td>\n",
       "      <td>78.9</td>\n",
       "      <td>Haggerston</td>\n",
       "    </tr>\n",
       "    <tr>\n",
       "      <th>E00176490</th>\n",
       "      <td>POINT (-0.021819099783918 51.481467266615)</td>\n",
       "      <td>1</td>\n",
       "      <td>8453</td>\n",
       "      <td>229.4</td>\n",
       "      <td>Greenwich West</td>\n",
       "    </tr>\n",
       "  </tbody>\n",
       "</table>\n",
       "<p>1601 rows × 5 columns</p>\n",
       "</div>"
      ],
      "text/plain": [
       "                                               geometry  locationCount  \\\n",
       "OA11CD                                                                   \n",
       "E00000001                        POINT (-0.095 51.5202)             19   \n",
       "E00000003                   POINT (-0.09672 51.5198593)              3   \n",
       "E00000007      POINT (-0.09661526500000001 51.51537183)              1   \n",
       "E00000013                     POINT (-0.09705 51.52129)              4   \n",
       "E00000014    POINT (-0.096709888094608 51.522315893533)              1   \n",
       "E00000017  POINT (-0.09226918141401499 51.520964173293)              3   \n",
       "E00000018                 POINT (-0.0929123 51.5198891)              1   \n",
       "E00000019    POINT (-0.091482391601983 51.519592926109)              1   \n",
       "E00000021          POINT (-0.09379999999999999 51.5175)              1   \n",
       "E00000023                       POINT (-0.0956 51.5223)              4   \n",
       "E00000024    POINT (-0.097369394432384 51.515025105594)              1   \n",
       "E00000025     POINT (-0.10743026808249 51.514226022478)              1   \n",
       "E00000026     POINT (-0.10748986519481 51.517040977662)              2   \n",
       "E00000027     POINT (-0.10342222222222 51.518686111111)              1   \n",
       "E00000028                 POINT (-0.1108715 51.5179367)              1   \n",
       "E00000029                 POINT (-0.0791298 51.5151456)              1   \n",
       "E00000030  POINT (-0.07856450731708001 51.516681756115)              3   \n",
       "E00000035    POINT (-0.082193962560934 51.509186980303)              1   \n",
       "E00000778                     POINT (-0.15186 51.61388)              1   \n",
       "E00002822     POINT (-0.21652543853262 51.528767329809)              6   \n",
       "E00004169     POINT (-0.12456829122148 51.520566929345)              1   \n",
       "E00004172     POINT (-0.13106130752855 51.517256279046)              1   \n",
       "E00004173     POINT (-0.13391397722222 51.526052566667)              1   \n",
       "E00004174                 POINT (-0.1351781 51.5249028)              1   \n",
       "E00004175     POINT (-0.12403219853059 51.525474617828)              4   \n",
       "E00004177     POINT (-0.13022145924392 51.525084098929)              1   \n",
       "E00004179         POINT (-0.123062227287 51.5235558252)              1   \n",
       "E00004180     POINT (-0.12507954038943 51.525774782453)              3   \n",
       "E00004181                   POINT (-0.123551 51.523905)              1   \n",
       "E00004182                 POINT (-0.1263758 51.5251798)              8   \n",
       "...                                                 ...            ...   \n",
       "E00175249                 POINT (-0.1331396 51.4992011)              1   \n",
       "E00175250               POINT (-0.17744783 51.50098896)              1   \n",
       "E00175252          POINT (-0.128289878 51.493687195676)              2   \n",
       "E00175253     POINT (-0.13115696453904 51.494881698641)              1   \n",
       "E00175254                     POINT (-0.12755 51.49398)              1   \n",
       "E00175257      POINT (-0.12886924256038 51.49348581993)              1   \n",
       "E00175263     POINT (-0.16725970432178 51.526957489598)              1   \n",
       "E00175264     POINT (-0.18311735925527 51.527448787305)              1   \n",
       "E00175265     POINT (-0.17217991876902 51.526206556259)              1   \n",
       "E00175267          POINT (-0.166615202201 51.525205767)              5   \n",
       "E00175269                     POINT (-0.16935 51.52458)              6   \n",
       "E00175270                  POINT (-0.1706271 51.523016)              3   \n",
       "E00175271                      POINT (-0.16969 51.5254)              1   \n",
       "E00175276     POINT (-0.19728782063736 51.523317689347)              1   \n",
       "E00175279     POINT (-0.19631819789806 51.521147811278)              1   \n",
       "E00176255      POINT (-0.079488213333333 51.5249718775)             11   \n",
       "E00176260     POINT (-0.08283061999999999 51.525701905)              1   \n",
       "E00176261                 POINT (-0.0774524 51.5256324)              1   \n",
       "E00176275    POINT (-0.081725489032258 51.526729534839)              1   \n",
       "E00176276    POINT (-0.077932758096679 51.526062012107)              1   \n",
       "E00176278     POINT (-0.07799775794301 51.527982201238)              1   \n",
       "E00176282             POINT (-0.087900035 51.527000755)              1   \n",
       "E00176283    POINT (-0.089942325655736 51.528708358193)              5   \n",
       "E00176305       POINT (-0.08080270000000001 51.5268724)              1   \n",
       "E00176307                 POINT (-0.0800799 51.5254449)              2   \n",
       "E00176308      POINT (-0.07712757000000001 51.52374281)              1   \n",
       "E00176309    POINT (-0.077779450692363 51.528944149345)              1   \n",
       "E00176311       POINT (-0.08132929999999999 51.5235247)              1   \n",
       "E00176312    POINT (-0.081175255640171 51.527039057838)              1   \n",
       "E00176490    POINT (-0.021819099783918 51.481467266615)              1   \n",
       "\n",
       "           index_right  POPDEN                    WD11NM_BF  \n",
       "OA11CD                                                       \n",
       "E00000001         4938   289.6                   Aldersgate  \n",
       "E00000003         4940   595.2                   Aldersgate  \n",
       "E00000007         4941    16.7                   Aldersgate  \n",
       "E00000013         4932   216.0                  Cripplegate  \n",
       "E00000014         4934   223.2                  Cripplegate  \n",
       "E00000017         4937   171.6                  Cripplegate  \n",
       "E00000018         4930    44.0                  Cripplegate  \n",
       "E00000019         4931   113.0                  Cripplegate  \n",
       "E00000021         4945    20.4                  Cripplegate  \n",
       "E00000023         4920   150.0                  Cripplegate  \n",
       "E00000024         4917    10.3            Farringdon Within  \n",
       "E00000025         4916    13.4           Farringdon Without  \n",
       "E00000026         4919    11.6           Farringdon Without  \n",
       "E00000027         4918    41.5           Farringdon Without  \n",
       "E00000028         4942    19.2           Farringdon Without  \n",
       "E00000029         4943    14.7                    Portsoken  \n",
       "E00000030         4928    93.4                    Portsoken  \n",
       "E00000035         4915     6.7                        Tower  \n",
       "E00000778          853   101.0                     Coppetts  \n",
       "E00002822         2381   162.5                  Queens Park  \n",
       "E00004169         4728    74.6                   Bloomsbury  \n",
       "E00004172         4332    72.5                   Bloomsbury  \n",
       "E00004173         4790    98.2                   Bloomsbury  \n",
       "E00004174         4330    62.1                   Bloomsbury  \n",
       "E00004175         4329   555.8                   Bloomsbury  \n",
       "E00004177         4331   108.8                   Bloomsbury  \n",
       "E00004179         4173   215.1                   Bloomsbury  \n",
       "E00004180         4594   304.3                   Bloomsbury  \n",
       "E00004181         4770   185.9                   Bloomsbury  \n",
       "E00004182         4592   295.1                   Bloomsbury  \n",
       "...                ...     ...                          ...  \n",
       "E00175249        24385     9.5                   St James's  \n",
       "E00175250        24956     6.7  Knightsbridge and Belgravia  \n",
       "E00175252        24957   287.3               Vincent Square  \n",
       "E00175253        24955    95.2               Vincent Square  \n",
       "E00175254        24608   265.4               Vincent Square  \n",
       "E00175257        24607   249.5               Vincent Square  \n",
       "E00175263        24296   476.7                Church Street  \n",
       "E00175264        24718   174.5                Little Venice  \n",
       "E00175265        24721   243.5                Church Street  \n",
       "E00175267        24720   442.1                Church Street  \n",
       "E00175269        24451   277.8                Church Street  \n",
       "E00175270        24753   253.6                Church Street  \n",
       "E00175271        24754   321.9                Church Street  \n",
       "E00175276        24751   159.0                   Westbourne  \n",
       "E00175279        24417   250.0                   Westbourne  \n",
       "E00176255         9136   178.3                   Haggerston  \n",
       "E00176260         8984    59.9                   Haggerston  \n",
       "E00176261         9350   106.8                   Haggerston  \n",
       "E00176275         8916    85.3                   Haggerston  \n",
       "E00176276         8853    89.5                   Haggerston  \n",
       "E00176278         8855   170.8                   Haggerston  \n",
       "E00176282         8954    67.4                       Hoxton  \n",
       "E00176283         9290   666.7                       Hoxton  \n",
       "E00176305         9482    61.9                   Haggerston  \n",
       "E00176307         9477   206.8                   Haggerston  \n",
       "E00176308         9224    18.2                   Haggerston  \n",
       "E00176309         8813   219.1                   Haggerston  \n",
       "E00176311         9403    65.1                   Haggerston  \n",
       "E00176312         9292    78.9                   Haggerston  \n",
       "E00176490         8453   229.4               Greenwich West  \n",
       "\n",
       "[1601 rows x 5 columns]"
      ]
     },
     "execution_count": 98,
     "metadata": {},
     "output_type": "execute_result"
    }
   ],
   "source": [
    "grouped.first()"
   ]
  },
  {
   "cell_type": "code",
   "execution_count": 107,
   "metadata": {
    "collapsed": false
   },
   "outputs": [],
   "source": [
    "#not completely what I'm looking for as I need to sum the location counts\n",
    "groupedDF = mergedDF.groupby('OA11CD').agg({'locationCount': np.sum})\n",
    "groupedDF = groupedDF.reset_index()"
   ]
  },
  {
   "cell_type": "code",
   "execution_count": 108,
   "metadata": {
    "collapsed": false
   },
   "outputs": [
    {
     "data": {
      "text/html": [
       "<div>\n",
       "<table border=\"1\" class=\"dataframe\">\n",
       "  <thead>\n",
       "    <tr style=\"text-align: right;\">\n",
       "      <th></th>\n",
       "      <th>OA11CD</th>\n",
       "      <th>locationCount</th>\n",
       "    </tr>\n",
       "  </thead>\n",
       "  <tbody>\n",
       "    <tr>\n",
       "      <th>0</th>\n",
       "      <td>E00000001</td>\n",
       "      <td>19</td>\n",
       "    </tr>\n",
       "    <tr>\n",
       "      <th>1</th>\n",
       "      <td>E00000003</td>\n",
       "      <td>3</td>\n",
       "    </tr>\n",
       "    <tr>\n",
       "      <th>2</th>\n",
       "      <td>E00000007</td>\n",
       "      <td>151</td>\n",
       "    </tr>\n",
       "    <tr>\n",
       "      <th>3</th>\n",
       "      <td>E00000013</td>\n",
       "      <td>5</td>\n",
       "    </tr>\n",
       "    <tr>\n",
       "      <th>4</th>\n",
       "      <td>E00000014</td>\n",
       "      <td>1</td>\n",
       "    </tr>\n",
       "  </tbody>\n",
       "</table>\n",
       "</div>"
      ],
      "text/plain": [
       "      OA11CD  locationCount\n",
       "0  E00000001             19\n",
       "1  E00000003              3\n",
       "2  E00000007            151\n",
       "3  E00000013              5\n",
       "4  E00000014              1"
      ]
     },
     "execution_count": 108,
     "metadata": {},
     "output_type": "execute_result"
    }
   ],
   "source": [
    "#let's check that it's making sense\n",
    "groupedDF.head()"
   ]
  },
  {
   "cell_type": "code",
   "execution_count": 109,
   "metadata": {
    "collapsed": false
   },
   "outputs": [
    {
     "data": {
      "text/html": [
       "<div>\n",
       "<table border=\"1\" class=\"dataframe\">\n",
       "  <thead>\n",
       "    <tr style=\"text-align: right;\">\n",
       "      <th></th>\n",
       "      <th>locationCount</th>\n",
       "    </tr>\n",
       "  </thead>\n",
       "  <tbody>\n",
       "    <tr>\n",
       "      <th>count</th>\n",
       "      <td>1601.000000</td>\n",
       "    </tr>\n",
       "    <tr>\n",
       "      <th>mean</th>\n",
       "      <td>57.988757</td>\n",
       "    </tr>\n",
       "    <tr>\n",
       "      <th>std</th>\n",
       "      <td>209.029301</td>\n",
       "    </tr>\n",
       "    <tr>\n",
       "      <th>min</th>\n",
       "      <td>1.000000</td>\n",
       "    </tr>\n",
       "    <tr>\n",
       "      <th>25%</th>\n",
       "      <td>2.000000</td>\n",
       "    </tr>\n",
       "    <tr>\n",
       "      <th>50%</th>\n",
       "      <td>6.000000</td>\n",
       "    </tr>\n",
       "    <tr>\n",
       "      <th>75%</th>\n",
       "      <td>24.000000</td>\n",
       "    </tr>\n",
       "    <tr>\n",
       "      <th>max</th>\n",
       "      <td>3174.000000</td>\n",
       "    </tr>\n",
       "  </tbody>\n",
       "</table>\n",
       "</div>"
      ],
      "text/plain": [
       "       locationCount\n",
       "count    1601.000000\n",
       "mean       57.988757\n",
       "std       209.029301\n",
       "min         1.000000\n",
       "25%         2.000000\n",
       "50%         6.000000\n",
       "75%        24.000000\n",
       "max      3174.000000"
      ]
     },
     "execution_count": 109,
     "metadata": {},
     "output_type": "execute_result"
    }
   ],
   "source": [
    "groupedDF.describe()"
   ]
  },
  {
   "cell_type": "code",
   "execution_count": 110,
   "metadata": {
    "collapsed": false
   },
   "outputs": [
    {
     "data": {
      "text/plain": [
       "False"
      ]
     },
     "execution_count": 110,
     "metadata": {},
     "output_type": "execute_result"
    }
   ],
   "source": [
    "#looks like some places really do have a LOT more entries than others\n",
    "#to plot these places on a map, I'll need to get the centroids of each of the regions, then join that geodataframe on the \n",
    "#oa11cd attr, and convert back to geojson or shp\n",
    "#first, check for nans in the groupDF\n",
    "groupedDF.isnull().values.any()"
   ]
  },
  {
   "cell_type": "code",
   "execution_count": 111,
   "metadata": {
    "collapsed": true
   },
   "outputs": [],
   "source": [
    "#okay, that should be fine\n",
    "londonDFSubsetWithCounts = londonDFSubset.merge(groupedDF, on='OA11CD')"
   ]
  },
  {
   "cell_type": "code",
   "execution_count": 112,
   "metadata": {
    "collapsed": false
   },
   "outputs": [
    {
     "data": {
      "text/html": [
       "<div>\n",
       "<table border=\"1\" class=\"dataframe\">\n",
       "  <thead>\n",
       "    <tr style=\"text-align: right;\">\n",
       "      <th></th>\n",
       "      <th>OA11CD</th>\n",
       "      <th>POPDEN</th>\n",
       "      <th>WD11NM_BF</th>\n",
       "      <th>geometry</th>\n",
       "      <th>locationCount</th>\n",
       "    </tr>\n",
       "  </thead>\n",
       "  <tbody>\n",
       "    <tr>\n",
       "      <th>0</th>\n",
       "      <td>E00000778</td>\n",
       "      <td>101.0</td>\n",
       "      <td>Coppetts</td>\n",
       "      <td>POLYGON ((-0.153213197972662 51.61303645129745...</td>\n",
       "      <td>1</td>\n",
       "    </tr>\n",
       "    <tr>\n",
       "      <th>1</th>\n",
       "      <td>E00002822</td>\n",
       "      <td>162.5</td>\n",
       "      <td>Queens Park</td>\n",
       "      <td>POLYGON ((-0.215953527081872 51.5293857655481,...</td>\n",
       "      <td>115</td>\n",
       "    </tr>\n",
       "    <tr>\n",
       "      <th>2</th>\n",
       "      <td>E00174683</td>\n",
       "      <td>50.3</td>\n",
       "      <td>Wembley Central</td>\n",
       "      <td>POLYGON ((-0.29145951479525 51.55452598295775,...</td>\n",
       "      <td>3</td>\n",
       "    </tr>\n",
       "    <tr>\n",
       "      <th>3</th>\n",
       "      <td>E00004664</td>\n",
       "      <td>265.2</td>\n",
       "      <td>King's Cross</td>\n",
       "      <td>POLYGON ((-0.119252170450243 51.52836784615769...</td>\n",
       "      <td>11</td>\n",
       "    </tr>\n",
       "    <tr>\n",
       "      <th>4</th>\n",
       "      <td>E00004666</td>\n",
       "      <td>109.2</td>\n",
       "      <td>King's Cross</td>\n",
       "      <td>POLYGON ((-0.125740268045234 51.52862873785833...</td>\n",
       "      <td>23</td>\n",
       "    </tr>\n",
       "  </tbody>\n",
       "</table>\n",
       "</div>"
      ],
      "text/plain": [
       "      OA11CD  POPDEN        WD11NM_BF  \\\n",
       "0  E00000778   101.0         Coppetts   \n",
       "1  E00002822   162.5      Queens Park   \n",
       "2  E00174683    50.3  Wembley Central   \n",
       "3  E00004664   265.2     King's Cross   \n",
       "4  E00004666   109.2     King's Cross   \n",
       "\n",
       "                                            geometry  locationCount  \n",
       "0  POLYGON ((-0.153213197972662 51.61303645129745...              1  \n",
       "1  POLYGON ((-0.215953527081872 51.5293857655481,...            115  \n",
       "2  POLYGON ((-0.29145951479525 51.55452598295775,...              3  \n",
       "3  POLYGON ((-0.119252170450243 51.52836784615769...             11  \n",
       "4  POLYGON ((-0.125740268045234 51.52862873785833...             23  "
      ]
     },
     "execution_count": 112,
     "metadata": {},
     "output_type": "execute_result"
    }
   ],
   "source": [
    "londonDFSubsetWithCounts.head()"
   ]
  },
  {
   "cell_type": "code",
   "execution_count": 113,
   "metadata": {
    "collapsed": true
   },
   "outputs": [],
   "source": [
    "londonDFSubsetWithCounts['locationCentroid'] = londonDFSubsetWithCounts['geometry'].centroid"
   ]
  },
  {
   "cell_type": "code",
   "execution_count": 114,
   "metadata": {
    "collapsed": false
   },
   "outputs": [
    {
     "data": {
      "text/html": [
       "<div>\n",
       "<table border=\"1\" class=\"dataframe\">\n",
       "  <thead>\n",
       "    <tr style=\"text-align: right;\">\n",
       "      <th></th>\n",
       "      <th>OA11CD</th>\n",
       "      <th>POPDEN</th>\n",
       "      <th>WD11NM_BF</th>\n",
       "      <th>geometry</th>\n",
       "      <th>locationCount</th>\n",
       "      <th>locationCentroid</th>\n",
       "    </tr>\n",
       "  </thead>\n",
       "  <tbody>\n",
       "    <tr>\n",
       "      <th>0</th>\n",
       "      <td>E00000778</td>\n",
       "      <td>101.0</td>\n",
       "      <td>Coppetts</td>\n",
       "      <td>POLYGON ((-0.153213197972662 51.61303645129745...</td>\n",
       "      <td>1</td>\n",
       "      <td>POINT (-0.1530977609392838 51.61353175239727)</td>\n",
       "    </tr>\n",
       "    <tr>\n",
       "      <th>1</th>\n",
       "      <td>E00002822</td>\n",
       "      <td>162.5</td>\n",
       "      <td>Queens Park</td>\n",
       "      <td>POLYGON ((-0.215953527081872 51.5293857655481,...</td>\n",
       "      <td>115</td>\n",
       "      <td>POINT (-0.2174405469537799 51.52902708041863)</td>\n",
       "    </tr>\n",
       "    <tr>\n",
       "      <th>2</th>\n",
       "      <td>E00174683</td>\n",
       "      <td>50.3</td>\n",
       "      <td>Wembley Central</td>\n",
       "      <td>POLYGON ((-0.29145951479525 51.55452598295775,...</td>\n",
       "      <td>3</td>\n",
       "      <td>POINT (-0.2944805887194804 51.5546238433616)</td>\n",
       "    </tr>\n",
       "    <tr>\n",
       "      <th>3</th>\n",
       "      <td>E00004664</td>\n",
       "      <td>265.2</td>\n",
       "      <td>King's Cross</td>\n",
       "      <td>POLYGON ((-0.119252170450243 51.52836784615769...</td>\n",
       "      <td>11</td>\n",
       "      <td>POINT (-0.1179907104097869 51.52856727705533)</td>\n",
       "    </tr>\n",
       "    <tr>\n",
       "      <th>4</th>\n",
       "      <td>E00004666</td>\n",
       "      <td>109.2</td>\n",
       "      <td>King's Cross</td>\n",
       "      <td>POLYGON ((-0.125740268045234 51.52862873785833...</td>\n",
       "      <td>23</td>\n",
       "      <td>POINT (-0.1281102910598841 51.52775177682784)</td>\n",
       "    </tr>\n",
       "  </tbody>\n",
       "</table>\n",
       "</div>"
      ],
      "text/plain": [
       "      OA11CD  POPDEN        WD11NM_BF  \\\n",
       "0  E00000778   101.0         Coppetts   \n",
       "1  E00002822   162.5      Queens Park   \n",
       "2  E00174683    50.3  Wembley Central   \n",
       "3  E00004664   265.2     King's Cross   \n",
       "4  E00004666   109.2     King's Cross   \n",
       "\n",
       "                                            geometry  locationCount  \\\n",
       "0  POLYGON ((-0.153213197972662 51.61303645129745...              1   \n",
       "1  POLYGON ((-0.215953527081872 51.5293857655481,...            115   \n",
       "2  POLYGON ((-0.29145951479525 51.55452598295775,...              3   \n",
       "3  POLYGON ((-0.119252170450243 51.52836784615769...             11   \n",
       "4  POLYGON ((-0.125740268045234 51.52862873785833...             23   \n",
       "\n",
       "                                locationCentroid  \n",
       "0  POINT (-0.1530977609392838 51.61353175239727)  \n",
       "1  POINT (-0.2174405469537799 51.52902708041863)  \n",
       "2   POINT (-0.2944805887194804 51.5546238433616)  \n",
       "3  POINT (-0.1179907104097869 51.52856727705533)  \n",
       "4  POINT (-0.1281102910598841 51.52775177682784)  "
      ]
     },
     "execution_count": 114,
     "metadata": {},
     "output_type": "execute_result"
    }
   ],
   "source": [
    "londonDFSubsetWithCounts.head()"
   ]
  },
  {
   "cell_type": "code",
   "execution_count": 122,
   "metadata": {
    "collapsed": false
   },
   "outputs": [
    {
     "data": {
      "text/plain": [
       "{'coordinates': (-0.15309776093928382, 51.61353175239727), 'type': 'Point'}"
      ]
     },
     "execution_count": 122,
     "metadata": {},
     "output_type": "execute_result"
    }
   ],
   "source": [
    "#however, to write to json we have to convert the shapely bits back to geojson\n",
    "mapping(londonDFSubsetWithCounts.iloc[0]['locationCentroid'])"
   ]
  },
  {
   "cell_type": "code",
   "execution_count": 126,
   "metadata": {
    "collapsed": false
   },
   "outputs": [],
   "source": [
    "londonDFSubsetWithCountsGeojson = londonDFSubsetWithCounts\n",
    "londonDFSubsetWithCountsGeojson['geometry'] = \\\n",
    "    londonDFSubsetWithCountsGeojson['geometry'].apply(lambda x: mapping(x))\n",
    "londonDFSubsetWithCountsGeojson['locationCentroid'] = \\\n",
    "    londonDFSubsetWithCountsGeojson['locationCentroid'].apply(lambda x: mapping(x))"
   ]
  },
  {
   "cell_type": "code",
   "execution_count": 127,
   "metadata": {
    "collapsed": false
   },
   "outputs": [
    {
     "data": {
      "text/html": [
       "<div>\n",
       "<table border=\"1\" class=\"dataframe\">\n",
       "  <thead>\n",
       "    <tr style=\"text-align: right;\">\n",
       "      <th></th>\n",
       "      <th>OA11CD</th>\n",
       "      <th>POPDEN</th>\n",
       "      <th>WD11NM_BF</th>\n",
       "      <th>geometry</th>\n",
       "      <th>locationCount</th>\n",
       "      <th>locationCentroid</th>\n",
       "      <th>geometryGeojson</th>\n",
       "    </tr>\n",
       "  </thead>\n",
       "  <tbody>\n",
       "    <tr>\n",
       "      <th>0</th>\n",
       "      <td>E00000778</td>\n",
       "      <td>101.0</td>\n",
       "      <td>Coppetts</td>\n",
       "      <td>{'type': 'Polygon', 'coordinates': (((-0.15321...</td>\n",
       "      <td>1</td>\n",
       "      <td>{'type': 'Point', 'coordinates': (-0.153097760...</td>\n",
       "      <td>{'type': 'Polygon', 'coordinates': (((-0.15321...</td>\n",
       "    </tr>\n",
       "    <tr>\n",
       "      <th>1</th>\n",
       "      <td>E00002822</td>\n",
       "      <td>162.5</td>\n",
       "      <td>Queens Park</td>\n",
       "      <td>{'type': 'Polygon', 'coordinates': (((-0.21595...</td>\n",
       "      <td>115</td>\n",
       "      <td>{'type': 'Point', 'coordinates': (-0.217440546...</td>\n",
       "      <td>{'type': 'Polygon', 'coordinates': (((-0.21595...</td>\n",
       "    </tr>\n",
       "    <tr>\n",
       "      <th>2</th>\n",
       "      <td>E00174683</td>\n",
       "      <td>50.3</td>\n",
       "      <td>Wembley Central</td>\n",
       "      <td>{'type': 'Polygon', 'coordinates': (((-0.29145...</td>\n",
       "      <td>3</td>\n",
       "      <td>{'type': 'Point', 'coordinates': (-0.294480588...</td>\n",
       "      <td>{'type': 'Polygon', 'coordinates': (((-0.29145...</td>\n",
       "    </tr>\n",
       "    <tr>\n",
       "      <th>3</th>\n",
       "      <td>E00004664</td>\n",
       "      <td>265.2</td>\n",
       "      <td>King's Cross</td>\n",
       "      <td>{'type': 'Polygon', 'coordinates': (((-0.11925...</td>\n",
       "      <td>11</td>\n",
       "      <td>{'type': 'Point', 'coordinates': (-0.117990710...</td>\n",
       "      <td>{'type': 'Polygon', 'coordinates': (((-0.11925...</td>\n",
       "    </tr>\n",
       "    <tr>\n",
       "      <th>4</th>\n",
       "      <td>E00004666</td>\n",
       "      <td>109.2</td>\n",
       "      <td>King's Cross</td>\n",
       "      <td>{'type': 'Polygon', 'coordinates': (((-0.12574...</td>\n",
       "      <td>23</td>\n",
       "      <td>{'type': 'Point', 'coordinates': (-0.128110291...</td>\n",
       "      <td>{'type': 'Polygon', 'coordinates': (((-0.12574...</td>\n",
       "    </tr>\n",
       "  </tbody>\n",
       "</table>\n",
       "</div>"
      ],
      "text/plain": [
       "      OA11CD  POPDEN        WD11NM_BF  \\\n",
       "0  E00000778   101.0         Coppetts   \n",
       "1  E00002822   162.5      Queens Park   \n",
       "2  E00174683    50.3  Wembley Central   \n",
       "3  E00004664   265.2     King's Cross   \n",
       "4  E00004666   109.2     King's Cross   \n",
       "\n",
       "                                            geometry  locationCount  \\\n",
       "0  {'type': 'Polygon', 'coordinates': (((-0.15321...              1   \n",
       "1  {'type': 'Polygon', 'coordinates': (((-0.21595...            115   \n",
       "2  {'type': 'Polygon', 'coordinates': (((-0.29145...              3   \n",
       "3  {'type': 'Polygon', 'coordinates': (((-0.11925...             11   \n",
       "4  {'type': 'Polygon', 'coordinates': (((-0.12574...             23   \n",
       "\n",
       "                                    locationCentroid  \\\n",
       "0  {'type': 'Point', 'coordinates': (-0.153097760...   \n",
       "1  {'type': 'Point', 'coordinates': (-0.217440546...   \n",
       "2  {'type': 'Point', 'coordinates': (-0.294480588...   \n",
       "3  {'type': 'Point', 'coordinates': (-0.117990710...   \n",
       "4  {'type': 'Point', 'coordinates': (-0.128110291...   \n",
       "\n",
       "                                     geometryGeojson  \n",
       "0  {'type': 'Polygon', 'coordinates': (((-0.15321...  \n",
       "1  {'type': 'Polygon', 'coordinates': (((-0.21595...  \n",
       "2  {'type': 'Polygon', 'coordinates': (((-0.29145...  \n",
       "3  {'type': 'Polygon', 'coordinates': (((-0.11925...  \n",
       "4  {'type': 'Polygon', 'coordinates': (((-0.12574...  "
      ]
     },
     "execution_count": 127,
     "metadata": {},
     "output_type": "execute_result"
    }
   ],
   "source": [
    "londonDFSubsetWithCountsGeojson.head()"
   ]
  },
  {
   "cell_type": "code",
   "execution_count": 135,
   "metadata": {
    "collapsed": false
   },
   "outputs": [],
   "source": [
    "#there's still some issues figuring out how to write a geopandas df to geojson... try to write the count values to \n",
    "#csv for now\n",
    "londonDFSubsetWithCounts.ix[:, ['OA11CD', 'locationCount']].to_csv('instagram-london-counts.csv')"
   ]
  },
  {
   "cell_type": "code",
   "execution_count": 130,
   "metadata": {
    "collapsed": false
   },
   "outputs": [
    {
     "data": {
      "text/plain": [
       "geopandas.geoseries.GeoSeries"
      ]
     },
     "execution_count": 130,
     "metadata": {},
     "output_type": "execute_result"
    }
   ],
   "source": [
    "type(londonDFSubsetWithCounts['geometry'])"
   ]
  },
  {
   "cell_type": "code",
   "execution_count": null,
   "metadata": {
    "collapsed": true
   },
   "outputs": [],
   "source": []
  }
 ],
 "metadata": {
  "kernelspec": {
   "display_name": "Python 3",
   "language": "python",
   "name": "python3"
  },
  "language_info": {
   "codemirror_mode": {
    "name": "ipython",
    "version": 3
   },
   "file_extension": ".py",
   "mimetype": "text/x-python",
   "name": "python",
   "nbconvert_exporter": "python",
   "pygments_lexer": "ipython3",
   "version": "3.5.2"
  }
 },
 "nbformat": 4,
 "nbformat_minor": 0
}
