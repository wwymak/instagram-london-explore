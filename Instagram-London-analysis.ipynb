{
 "cells": [
  {
   "cell_type": "markdown",
   "metadata": {},
   "source": [
    "This is an experiment in collecting instagram data to gather insights about London. One inspiration was from http://www.datascopeanalytics.com/blog/instagrams-blind-spot/, but I am also hoping to learn about what people are taking photos of, plus a bit of image analysis (colors of instagram viz comes to mind), and maybe eventually playing with doing some sort of image recognition with neural networks (if I ever get that far 😅)\n",
    "\n",
    "Anyways, what I've done is to call the media_search api endpoint to scrape photos from London -- instagram only seems to let you call 20 photos for this, so what I've done is to split up greater london into a grid of latlng pairs and hoover up stuff per grid. Obviously new photos are added all the time so to get the most out of it I set up a AWS lambda function that runs every hour to pick up new stuff. \n",
    "\n",
    "Obviously there will be duplications but I've imported all the files into a mongoDB with a unique index on the photo id to get unique posts\n",
    "\n",
    "The lambda and the parser is in nodejs since that's what I know most, but python comes with some handy tools (including scikit learn and notebooks...) so handing over to python for this bit...\n"
   ]
  },
  {
   "cell_type": "code",
   "execution_count": 2,
   "metadata": {
    "collapsed": true
   },
   "outputs": [],
   "source": [
    "import numpy as np\n",
    "import pandas as pd\n",
    "import pymongo\n",
    "from pymongo import MongoClient\n",
    "client = MongoClient()"
   ]
  },
  {
   "cell_type": "code",
   "execution_count": 4,
   "metadata": {
    "collapsed": true
   },
   "outputs": [],
   "source": [
    "from pprint import pprint"
   ]
  },
  {
   "cell_type": "code",
   "execution_count": 7,
   "metadata": {
    "collapsed": true
   },
   "outputs": [],
   "source": [
    "from bson.son import SON #needs sorting so..."
   ]
  },
  {
   "cell_type": "code",
   "execution_count": 3,
   "metadata": {
    "collapsed": true
   },
   "outputs": [],
   "source": [
    "#db setup-- the posts collection is the only one for stashing everything returned from that api endpoint\n",
    "db = client.instagramLondon\n",
    "coll = db.posts"
   ]
  },
  {
   "cell_type": "code",
   "execution_count": 13,
   "metadata": {
    "collapsed": false
   },
   "outputs": [
    {
     "name": "stdout",
     "output_type": "stream",
     "text": [
      "{'_id': ObjectId('57c46f2e4f084b83079167ac'),\n",
      " 'attribution': None,\n",
      " 'caption': {'created_time': '1472338156',\n",
      "             'from': {'full_name': 'Carlos Pinto @ London-Lisbon',\n",
      "                      'id': '245152137',\n",
      "                      'profile_picture': 'https://scontent.cdninstagram.com/t51.2885-19/10932399_451400081695046_252473917_a.jpg',\n",
      "                      'username': 'carlosmpinto10'},\n",
      "             'id': '17862561217003381',\n",
      "             'text': 'Category is \"west London realness\"! Thank you for coming '\n",
      "                     'and eating all my Portuguese saussages!!'},\n",
      " 'comments': {'count': 0},\n",
      " 'created_time': '1472338156',\n",
      " 'filter': 'Normal',\n",
      " 'id': '1326391051846276361_245152137',\n",
      " 'images': {'low_resolution': {'height': 320,\n",
      "                               'url': 'https://scontent.cdninstagram.com/t51.2885-15/s320x320/e35/14031729_1508980895794743_1117711764_n.jpg?ig_cache_key=MTMyNjM5MTA1MTg0NjI3NjM2MQ%3D%3D.2.l',\n",
      "                               'width': 320},\n",
      "            'standard_resolution': {'height': 640,\n",
      "                                    'url': 'https://scontent.cdninstagram.com/t51.2885-15/s640x640/sh0.08/e35/14031729_1508980895794743_1117711764_n.jpg?ig_cache_key=MTMyNjM5MTA1MTg0NjI3NjM2MQ%3D%3D.2.l',\n",
      "                                    'width': 640},\n",
      "            'thumbnail': {'height': 150,\n",
      "                          'url': 'https://scontent.cdninstagram.com/t51.2885-15/s150x150/e35/c135.0.810.810/14052465_1750888518533022_2599024_n.jpg?ig_cache_key=MTMyNjM5MTA1MTg0NjI3NjM2MQ%3D%3D.2.c',\n",
      "                          'width': 150}},\n",
      " 'likes': {'count': 6},\n",
      " 'link': 'https://www.instagram.com/p/BJoSaJWjdUJ/',\n",
      " 'location': {'id': 274501851,\n",
      "              'latitude': 51.479522539351,\n",
      "              'longitude': -0.21952589973828,\n",
      "              'name': 'Fullham, London'},\n",
      " 'tags': [],\n",
      " 'timestamp': datetime.datetime(2016, 8, 27, 22, 49, 16),\n",
      " 'type': 'image',\n",
      " 'user': {'full_name': 'Carlos Pinto @ London-Lisbon',\n",
      "          'id': '245152137',\n",
      "          'profile_picture': 'https://scontent.cdninstagram.com/t51.2885-19/10932399_451400081695046_252473917_a.jpg',\n",
      "          'username': 'carlosmpinto10'},\n",
      " 'user_has_liked': False,\n",
      " 'users_in_photo': []}\n"
     ]
    }
   ],
   "source": [
    "#here's what one record looks like\n",
    "pprint(coll.find_one())"
   ]
  },
  {
   "cell_type": "markdown",
   "metadata": {},
   "source": [
    "Some fields of interest here-- \n",
    "* tags (array) -- what are people talking about?\n",
    "* timestamp -- it's stored as a ISODate -- this is done in the parser from 'created_time'\n",
    "* images -- the url link to, would be really useful for color analysis\n",
    "* location -- for mapping, obviously 😄"
   ]
  },
  {
   "cell_type": "code",
   "execution_count": 11,
   "metadata": {
    "collapsed": false
   },
   "outputs": [
    {
     "name": "stdout",
     "output_type": "stream",
     "text": [
      "number of records: 49200\n"
     ]
    }
   ],
   "source": [
    "#some basic stats about the collection so far\n",
    "print('number of records: {}'.format(coll.count()))"
   ]
  },
  {
   "cell_type": "code",
   "execution_count": 12,
   "metadata": {
    "collapsed": false
   },
   "outputs": [
    {
     "data": {
      "text/plain": [
       "[{'_id': 'london', 'count': 12907},\n",
       " {'_id': 'uk', 'count': 1970},\n",
       " {'_id': 'travel', 'count': 1621},\n",
       " {'_id': 'love', 'count': 1455},\n",
       " {'_id': 'nottinghillcarnival', 'count': 1403},\n",
       " {'_id': 'londonlife', 'count': 1306},\n",
       " {'_id': 'carnival', 'count': 1262},\n",
       " {'_id': 'summer', 'count': 1253},\n",
       " {'_id': 'nottinghill', 'count': 1196},\n",
       " {'_id': 'england', 'count': 1163},\n",
       " {'_id': 'instagood', 'count': 1162},\n",
       " {'_id': 'bankholiday', 'count': 1124},\n",
       " {'_id': 'art', 'count': 991},\n",
       " {'_id': 'photooftheday', 'count': 894},\n",
       " {'_id': 'architecture', 'count': 816},\n",
       " {'_id': 'thisislondon', 'count': 798},\n",
       " {'_id': 'photography', 'count': 783},\n",
       " {'_id': 'fashion', 'count': 746},\n",
       " {'_id': 'picoftheday', 'count': 721},\n",
       " {'_id': 'instadaily', 'count': 708}]"
      ]
     },
     "execution_count": 12,
     "metadata": {},
     "output_type": "execute_result"
    }
   ],
   "source": [
    "#what are the top tags?\n",
    "pipeline = [ \n",
    "    {\"$unwind\": \"$tags\"}, \n",
    "    {\"$group\": {\"_id\": \"$tags\", \"count\": { \"$sum\": 1 }}}, \n",
    "    {\"$sort\" : SON({ \"count\" : -1}) }, \n",
    "    {\"$limit\": 20}]\n",
    "aggCursor = db.posts.aggregate(pipeline)\n",
    "toptags = list(aggCursor)\n",
    "toptags"
   ]
  },
  {
   "cell_type": "markdown",
   "metadata": {},
   "source": [
    "unsurprisingly, london comes top as a tag...\n",
    "However, there are some that I expect to be more 'seasonal'. e.g nottinghillcarnival (27-28 Aug 2016), bankholiday (29-8-2016)\n",
    "It would also be interesting to see which locations have a higher density of tags e.g. west end with 'theatre' maybe? Or 'bigben' around Westminster?"
   ]
  },
  {
   "cell_type": "code",
   "execution_count": 18,
   "metadata": {
    "collapsed": false
   },
   "outputs": [
    {
     "data": {
      "text/plain": [
       "datetime.datetime(2016, 8, 19, 15, 42, 48)"
      ]
     },
     "execution_count": 18,
     "metadata": {},
     "output_type": "execute_result"
    }
   ],
   "source": [
    "#min date:\n",
    "list(db.posts.find().sort(\"timestamp\", pymongo.ASCENDING).limit(1))[0]['timestamp']"
   ]
  },
  {
   "cell_type": "code",
   "execution_count": 19,
   "metadata": {
    "collapsed": false
   },
   "outputs": [
    {
     "data": {
      "text/plain": [
       "datetime.datetime(2016, 8, 29, 16, 54, 58)"
      ]
     },
     "execution_count": 19,
     "metadata": {},
     "output_type": "execute_result"
    }
   ],
   "source": [
    "#max date so far:\n",
    "list(db.posts.find().sort(\"timestamp\", pymongo.DESCENDING).limit(1))[0]['timestamp']"
   ]
  },
  {
   "cell_type": "code",
   "execution_count": null,
   "metadata": {
    "collapsed": true
   },
   "outputs": [],
   "source": []
  }
 ],
 "metadata": {
  "kernelspec": {
   "display_name": "Python 3",
   "language": "python",
   "name": "python3"
  },
  "language_info": {
   "codemirror_mode": {
    "name": "ipython",
    "version": 3
   },
   "file_extension": ".py",
   "mimetype": "text/x-python",
   "name": "python",
   "nbconvert_exporter": "python",
   "pygments_lexer": "ipython3",
   "version": "3.5.2"
  }
 },
 "nbformat": 4,
 "nbformat_minor": 0
}
