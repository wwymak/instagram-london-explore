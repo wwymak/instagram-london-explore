{
 "cells": [
  {
   "cell_type": "markdown",
   "metadata": {},
   "source": [
    "This is an experiment in collecting instagram data to gather insights about London. One inspiration was from http://www.datascopeanalytics.com/blog/instagrams-blind-spot/, but I am also hoping to learn about what people are taking photos of, plus a bit of image analysis (colors of instagram viz comes to mind), and maybe eventually playing with doing some sort of image recognition with neural networks (if I ever get that far 😅)\n",
    "\n",
    "Anyways, what I've done is to call the media_search api endpoint to scrape photos from London -- instagram only seems to let you call 20 photos for this, so what I've done is to split up greater london into a grid of latlng pairs and hoover up stuff per grid. Obviously new photos are added all the time so to get the most out of it I set up a AWS lambda function that runs every hour to pick up new stuff. \n",
    "\n",
    "Obviously there will be duplications but I've imported all the files into a mongoDB with a unique index on the photo id to get unique posts\n",
    "\n",
    "The lambda and the parser is in nodejs since that's what I know most, but python comes with some handy tools (including scikit learn and notebooks...) so handing over to python for this bit...\n"
   ]
  },
  {
   "cell_type": "code",
   "execution_count": 29,
   "metadata": {
    "collapsed": true
   },
   "outputs": [],
   "source": [
    "import numpy as np\n",
    "import pandas as pd\n",
    "import pymongo\n",
    "from pymongo import MongoClient\n",
    "client = MongoClient()"
   ]
  },
  {
   "cell_type": "code",
   "execution_count": 30,
   "metadata": {
    "collapsed": true
   },
   "outputs": [],
   "source": [
    "from pprint import pprint"
   ]
  },
  {
   "cell_type": "code",
   "execution_count": 31,
   "metadata": {
    "collapsed": true
   },
   "outputs": [],
   "source": [
    "from bson.son import SON #needs sorting so..."
   ]
  },
  {
   "cell_type": "code",
   "execution_count": 32,
   "metadata": {
    "collapsed": false
   },
   "outputs": [],
   "source": [
    "#for geo parsing\n",
    "import json\n",
    "from shapely.geometry import shape, Point"
   ]
  },
  {
   "cell_type": "code",
   "execution_count": 33,
   "metadata": {
    "collapsed": true
   },
   "outputs": [],
   "source": [
    "#db setup-- the posts collection is the only one for stashing everything returned from that api endpoint\n",
    "db = client.instagramLondon\n",
    "coll = db.posts"
   ]
  },
  {
   "cell_type": "code",
   "execution_count": 34,
   "metadata": {
    "collapsed": false
   },
   "outputs": [
    {
     "name": "stdout",
     "output_type": "stream",
     "text": [
      "{'_id': ObjectId('57c46f2e4f084b83079167ac'),\n",
      " 'attribution': None,\n",
      " 'caption': {'created_time': '1472338156',\n",
      "             'from': {'full_name': 'Carlos Pinto @ London-Lisbon',\n",
      "                      'id': '245152137',\n",
      "                      'profile_picture': 'https://scontent.cdninstagram.com/t51.2885-19/10932399_451400081695046_252473917_a.jpg',\n",
      "                      'username': 'carlosmpinto10'},\n",
      "             'id': '17862561217003381',\n",
      "             'text': 'Category is \"west London realness\"! Thank you for coming '\n",
      "                     'and eating all my Portuguese saussages!!'},\n",
      " 'comments': {'count': 0},\n",
      " 'created_time': '1472338156',\n",
      " 'filter': 'Normal',\n",
      " 'id': '1326391051846276361_245152137',\n",
      " 'images': {'low_resolution': {'height': 320,\n",
      "                               'url': 'https://scontent.cdninstagram.com/t51.2885-15/s320x320/e35/14031729_1508980895794743_1117711764_n.jpg?ig_cache_key=MTMyNjM5MTA1MTg0NjI3NjM2MQ%3D%3D.2.l',\n",
      "                               'width': 320},\n",
      "            'standard_resolution': {'height': 640,\n",
      "                                    'url': 'https://scontent.cdninstagram.com/t51.2885-15/s640x640/sh0.08/e35/14031729_1508980895794743_1117711764_n.jpg?ig_cache_key=MTMyNjM5MTA1MTg0NjI3NjM2MQ%3D%3D.2.l',\n",
      "                                    'width': 640},\n",
      "            'thumbnail': {'height': 150,\n",
      "                          'url': 'https://scontent.cdninstagram.com/t51.2885-15/s150x150/e35/c135.0.810.810/14052465_1750888518533022_2599024_n.jpg?ig_cache_key=MTMyNjM5MTA1MTg0NjI3NjM2MQ%3D%3D.2.c',\n",
      "                          'width': 150}},\n",
      " 'likes': {'count': 6},\n",
      " 'link': 'https://www.instagram.com/p/BJoSaJWjdUJ/',\n",
      " 'location': {'id': 274501851,\n",
      "              'latitude': 51.479522539351,\n",
      "              'longitude': -0.21952589973828,\n",
      "              'name': 'Fullham, London'},\n",
      " 'tags': [],\n",
      " 'timestamp': datetime.datetime(2016, 8, 27, 22, 49, 16),\n",
      " 'type': 'image',\n",
      " 'user': {'full_name': 'Carlos Pinto @ London-Lisbon',\n",
      "          'id': '245152137',\n",
      "          'profile_picture': 'https://scontent.cdninstagram.com/t51.2885-19/10932399_451400081695046_252473917_a.jpg',\n",
      "          'username': 'carlosmpinto10'},\n",
      " 'user_has_liked': False,\n",
      " 'users_in_photo': []}\n"
     ]
    }
   ],
   "source": [
    "#here's what one record looks like\n",
    "pprint(coll.find_one())"
   ]
  },
  {
   "cell_type": "markdown",
   "metadata": {},
   "source": [
    "Some fields of interest here-- \n",
    "* tags (array) -- what are people talking about?\n",
    "* timestamp -- it's stored as a ISODate -- this is done in the parser from 'created_time'\n",
    "* images -- the url link to, would be really useful for color analysis\n",
    "* location -- for mapping, obviously 😄"
   ]
  },
  {
   "cell_type": "code",
   "execution_count": 35,
   "metadata": {
    "collapsed": false
   },
   "outputs": [
    {
     "name": "stdout",
     "output_type": "stream",
     "text": [
      "number of records: 49200\n"
     ]
    }
   ],
   "source": [
    "#some basic stats about the collection so far\n",
    "print('number of records: {}'.format(coll.count()))"
   ]
  },
  {
   "cell_type": "code",
   "execution_count": 36,
   "metadata": {
    "collapsed": false
   },
   "outputs": [
    {
     "data": {
      "text/plain": [
       "[{'_id': 'london', 'count': 12907},\n",
       " {'_id': 'uk', 'count': 1970},\n",
       " {'_id': 'travel', 'count': 1621},\n",
       " {'_id': 'love', 'count': 1455},\n",
       " {'_id': 'nottinghillcarnival', 'count': 1403},\n",
       " {'_id': 'londonlife', 'count': 1306},\n",
       " {'_id': 'carnival', 'count': 1262},\n",
       " {'_id': 'summer', 'count': 1253},\n",
       " {'_id': 'nottinghill', 'count': 1196},\n",
       " {'_id': 'england', 'count': 1163},\n",
       " {'_id': 'instagood', 'count': 1162},\n",
       " {'_id': 'bankholiday', 'count': 1124},\n",
       " {'_id': 'art', 'count': 991},\n",
       " {'_id': 'photooftheday', 'count': 894},\n",
       " {'_id': 'architecture', 'count': 816},\n",
       " {'_id': 'thisislondon', 'count': 798},\n",
       " {'_id': 'photography', 'count': 783},\n",
       " {'_id': 'fashion', 'count': 746},\n",
       " {'_id': 'picoftheday', 'count': 721},\n",
       " {'_id': 'instadaily', 'count': 708}]"
      ]
     },
     "execution_count": 36,
     "metadata": {},
     "output_type": "execute_result"
    }
   ],
   "source": [
    "#what are the top tags?\n",
    "pipeline = [ \n",
    "    {\"$unwind\": \"$tags\"}, \n",
    "    {\"$group\": {\"_id\": \"$tags\", \"count\": { \"$sum\": 1 }}}, \n",
    "    {\"$sort\" : SON({ \"count\" : -1}) }, \n",
    "    {\"$limit\": 20}]\n",
    "aggCursor = db.posts.aggregate(pipeline)\n",
    "toptags = list(aggCursor)\n",
    "toptags"
   ]
  },
  {
   "cell_type": "markdown",
   "metadata": {},
   "source": [
    "unsurprisingly, london comes top as a tag...\n",
    "However, there are some that I expect to be more 'seasonal'. e.g nottinghillcarnival (27-28 Aug 2016), bankholiday (29-8-2016)\n",
    "It would also be interesting to see which locations have a higher density of tags e.g. west end with 'theatre' maybe? Or 'bigben' around Westminster?"
   ]
  },
  {
   "cell_type": "code",
   "execution_count": 37,
   "metadata": {
    "collapsed": false
   },
   "outputs": [
    {
     "data": {
      "text/plain": [
       "datetime.datetime(2016, 8, 19, 15, 42, 48)"
      ]
     },
     "execution_count": 37,
     "metadata": {},
     "output_type": "execute_result"
    }
   ],
   "source": [
    "#min date:\n",
    "list(db.posts.find().sort(\"timestamp\", pymongo.ASCENDING).limit(1))[0]['timestamp']"
   ]
  },
  {
   "cell_type": "code",
   "execution_count": 38,
   "metadata": {
    "collapsed": false
   },
   "outputs": [
    {
     "data": {
      "text/plain": [
       "datetime.datetime(2016, 8, 29, 16, 54, 58)"
      ]
     },
     "execution_count": 38,
     "metadata": {},
     "output_type": "execute_result"
    }
   ],
   "source": [
    "#max date so far:\n",
    "list(db.posts.find().sort(\"timestamp\", pymongo.DESCENDING).limit(1))[0]['timestamp']"
   ]
  },
  {
   "cell_type": "code",
   "execution_count": 39,
   "metadata": {
    "collapsed": false
   },
   "outputs": [
    {
     "data": {
      "text/plain": [
       "[{'_id': {'name': 'Nav Sandhu', 'userid': '2284422920'}, 'count': 53},\n",
       " {'_id': {'name': '💕11/03/2016💕', 'userid': '1800822004'}, 'count': 39},\n",
       " {'_id': {'name': '', 'userid': '355544734'}, 'count': 33},\n",
       " {'_id': {'name': 'Ellz M', 'userid': '241533014'}, 'count': 30},\n",
       " {'_id': {'name': '', 'userid': '2234850097'}, 'count': 30},\n",
       " {'_id': {'name': '✯N⋆I⋆C⋆O⋆U⋆K✯', 'userid': '3683701425'}, 'count': 27},\n",
       " {'_id': {'name': 'вrian 😷💉', 'userid': '7115543'}, 'count': 27},\n",
       " {'_id': {'name': 'Gonzalo Espejo', 'userid': '292534422'}, 'count': 23},\n",
       " {'_id': {'name': 'Will Hammond', 'userid': '1562996357'}, 'count': 23},\n",
       " {'_id': {'name': '', 'userid': '3665940198'}, 'count': 23},\n",
       " {'_id': {'name': 'Matthew Wells', 'userid': '1203901802'}, 'count': 23},\n",
       " {'_id': {'name': 'Ekaterina', 'userid': '339658241'}, 'count': 23},\n",
       " {'_id': {'name': 'Yousef', 'userid': '272365160'}, 'count': 22},\n",
       " {'_id': {'name': 'Şirvan Uslu', 'userid': '1688297718'}, 'count': 22},\n",
       " {'_id': {'name': 'Геннадій Іванущенко', 'userid': '1760948918'}, 'count': 21},\n",
       " {'_id': {'name': 'Nabakery', 'userid': '3771758090'}, 'count': 21},\n",
       " {'_id': {'name': 'Davide Mauriello', 'userid': '33094625'}, 'count': 20},\n",
       " {'_id': {'name': 'Aigul Kabirova', 'userid': '2164243253'}, 'count': 20},\n",
       " {'_id': {'name': 'Jang', 'userid': '3261681681'}, 'count': 20},\n",
       " {'_id': {'name': 'Ekaterina Gilbert', 'userid': '23449176'}, 'count': 20}]"
      ]
     },
     "execution_count": 39,
     "metadata": {},
     "output_type": "execute_result"
    }
   ],
   "source": [
    "#similar to tags, lets see who the top users are:\n",
    "pipeline = [\n",
    "    {\"$group\": {\"_id\": {\"userid\" :\"$user.id\", \"name\" : \"$user.full_name\"}, \"count\": { \"$sum\": 1 }}}, \n",
    "    {\"$sort\" : SON({ \"count\" : -1}) }, \n",
    "    {\"$limit\": 20}]\n",
    "aggCursor = db.posts.aggregate(pipeline)\n",
    "topUsers = list(aggCursor)\n",
    "topUsers"
   ]
  },
  {
   "cell_type": "code",
   "execution_count": 40,
   "metadata": {
    "collapsed": false
   },
   "outputs": [
    {
     "data": {
      "text/plain": [
       "{'_id': ObjectId('57c46f434f084b830791ead5'),\n",
       " 'attribution': None,\n",
       " 'caption': {'created_time': '1472347035',\n",
       "  'from': {'full_name': '',\n",
       "   'id': '3665940198',\n",
       "   'profile_picture': 'https://scontent.cdninstagram.com/t51.2885-19/s150x150/14052574_154788661623879_146262989_a.jpg',\n",
       "   'username': '30_30_europe'},\n",
       "  'id': '17851887115098564',\n",
       "  'text': '.\\n예약해 둔 스카이가든 가기 전에 들른 버로우마켓. 식료품 전문이라 들어가는 순간 맛있는 음식들이 천지삐까리! -\\n\\n#유럽여행 #런던여행 #버로우마켓 #boroughmarket'},\n",
       " 'comments': {'count': 0},\n",
       " 'created_time': '1472347035',\n",
       " 'filter': 'Normal',\n",
       " 'id': '1326465530261260760_3665940198',\n",
       " 'images': {'low_resolution': {'height': 320,\n",
       "   'url': 'https://scontent.cdninstagram.com/t51.2885-15/s320x320/e35/14031706_1254496294594574_1241856600_n.jpg?ig_cache_key=MTMyNjQ2NTUzMDI2MTI2MDc2MA%3D%3D.2.l',\n",
       "   'width': 320},\n",
       "  'standard_resolution': {'height': 640,\n",
       "   'url': 'https://scontent.cdninstagram.com/t51.2885-15/s640x640/sh0.08/e35/14031706_1254496294594574_1241856600_n.jpg?ig_cache_key=MTMyNjQ2NTUzMDI2MTI2MDc2MA%3D%3D.2.l',\n",
       "   'width': 640},\n",
       "  'thumbnail': {'height': 150,\n",
       "   'url': 'https://scontent.cdninstagram.com/t51.2885-15/s150x150/e35/c236.0.607.607/14072950_1809250425965221_2069712911_n.jpg?ig_cache_key=MTMyNjQ2NTUzMDI2MTI2MDc2MA%3D%3D.2.c',\n",
       "   'width': 150}},\n",
       " 'likes': {'count': 1},\n",
       " 'link': 'https://www.instagram.com/p/BJojV8yBcnY/',\n",
       " 'location': {'id': 1241986,\n",
       "  'latitude': 51.505598123459,\n",
       "  'longitude': -0.090366115224291,\n",
       "  'name': 'Borough Market'},\n",
       " 'tags': ['런던여행', '유럽여행', '버로우마켓', 'boroughmarket'],\n",
       " 'timestamp': datetime.datetime(2016, 8, 28, 1, 17, 15),\n",
       " 'type': 'image',\n",
       " 'user': {'full_name': '',\n",
       "  'id': '3665940198',\n",
       "  'profile_picture': 'https://scontent.cdninstagram.com/t51.2885-19/s150x150/14052574_154788661623879_146262989_a.jpg',\n",
       "  'username': '30_30_europe'},\n",
       " 'user_has_liked': False,\n",
       " 'users_in_photo': []}"
      ]
     },
     "execution_count": 40,
     "metadata": {},
     "output_type": "execute_result"
    }
   ],
   "source": [
    "#hmm, weirdly some users don't seem to have a name?? Lets check:\n",
    "coll.find_one({\"user.id\": '3665940198'})"
   ]
  },
  {
   "cell_type": "code",
   "execution_count": 41,
   "metadata": {
    "collapsed": false
   },
   "outputs": [
    {
     "data": {
      "text/plain": [
       "[{'_id': {'displayname': 'Nav Sandhu',\n",
       "   'name': 'nav_77_sandhu',\n",
       "   'userid': '2284422920'},\n",
       "  'count': 53},\n",
       " {'_id': {'displayname': '💕11/03/2016💕',\n",
       "   'name': 'iwantsel2know',\n",
       "   'userid': '1800822004'},\n",
       "  'count': 39},\n",
       " {'_id': {'displayname': '', 'name': 'me_eunk', 'userid': '355544734'},\n",
       "  'count': 33},\n",
       " {'_id': {'displayname': 'Ellz M', 'name': 'rawdoku', 'userid': '241533014'},\n",
       "  'count': 30},\n",
       " {'_id': {'displayname': '', 'name': 'quackhistory', 'userid': '2234850097'},\n",
       "  'count': 30},\n",
       " {'_id': {'displayname': '✯N⋆I⋆C⋆O⋆U⋆K✯',\n",
       "   'name': 'nicophotocomukofficial',\n",
       "   'userid': '3683701425'},\n",
       "  'count': 27},\n",
       " {'_id': {'displayname': 'вrian 😷💉',\n",
       "   'name': 'teethpuller',\n",
       "   'userid': '7115543'},\n",
       "  'count': 27},\n",
       " {'_id': {'displayname': 'Ekaterina',\n",
       "   'name': 'misskatrin5',\n",
       "   'userid': '339658241'},\n",
       "  'count': 23},\n",
       " {'_id': {'displayname': 'Matthew Wells',\n",
       "   'name': 'coastermadmatt',\n",
       "   'userid': '1203901802'},\n",
       "  'count': 23},\n",
       " {'_id': {'displayname': 'Will Hammond',\n",
       "   'name': 'the_face50',\n",
       "   'userid': '1562996357'},\n",
       "  'count': 23},\n",
       " {'_id': {'displayname': '', 'name': '30_30_europe', 'userid': '3665940198'},\n",
       "  'count': 23},\n",
       " {'_id': {'displayname': 'Gonzalo Espejo',\n",
       "   'name': 'elgoldin1',\n",
       "   'userid': '292534422'},\n",
       "  'count': 23},\n",
       " {'_id': {'displayname': 'Yousef',\n",
       "   'name': 'yousef_alnasheet',\n",
       "   'userid': '272365160'},\n",
       "  'count': 22},\n",
       " {'_id': {'displayname': 'Şirvan Uslu',\n",
       "   'name': 'sirvanuslu',\n",
       "   'userid': '1688297718'},\n",
       "  'count': 22},\n",
       " {'_id': {'displayname': 'Nabakery',\n",
       "   'name': 'nabakery',\n",
       "   'userid': '3771758090'},\n",
       "  'count': 21},\n",
       " {'_id': {'displayname': 'Геннадій Іванущенко',\n",
       "   'name': 'hennadiy_ivanushchenko',\n",
       "   'userid': '1760948918'},\n",
       "  'count': 21},\n",
       " {'_id': {'displayname': 'Ekaterina Gilbert',\n",
       "   'name': 'ekaterinagilbert',\n",
       "   'userid': '23449176'},\n",
       "  'count': 20},\n",
       " {'_id': {'displayname': 'Jang', 'name': 'namedcpot', 'userid': '3261681681'},\n",
       "  'count': 20},\n",
       " {'_id': {'displayname': 'Sarah Grover',\n",
       "   'name': 'groversarah',\n",
       "   'userid': '1251749497'},\n",
       "  'count': 20},\n",
       " {'_id': {'displayname': 'Davide Mauriello',\n",
       "   'name': 'davidemauriello',\n",
       "   'userid': '33094625'},\n",
       "  'count': 20}]"
      ]
     },
     "execution_count": 41,
     "metadata": {},
     "output_type": "execute_result"
    }
   ],
   "source": [
    "#aha-- I should have used the 'username' field rather than the full_name-- try again\n",
    "pipeline = [\n",
    "    {\"$group\": {\"_id\": {\"userid\" :\"$user.id\", \"name\" : \"$user.username\", \"displayname\":  \"$user.full_name\"}, \"count\": { \"$sum\": 1 }}}, \n",
    "    {\"$sort\" : SON({ \"count\" : -1}) }, \n",
    "    {\"$limit\": 20}]\n",
    "aggCursor = db.posts.aggregate(pipeline)\n",
    "topUsers = list(aggCursor)\n",
    "topUsers"
   ]
  },
  {
   "cell_type": "markdown",
   "metadata": {},
   "source": [
    "locations-- now here come the interesting part. If I use the census output areas polygons the location has to be mapped to each polygon... and with that many entries...?\n",
    "\n",
    "interstingly, each location has an id, so a more efficient way may be to check for unique ids and see what they are like first"
   ]
  },
  {
   "cell_type": "code",
   "execution_count": 42,
   "metadata": {
    "collapsed": false
   },
   "outputs": [
    {
     "data": {
      "text/plain": [
       "7761"
      ]
     },
     "execution_count": 42,
     "metadata": {},
     "output_type": "execute_result"
    }
   ],
   "source": [
    "len(db.posts.distinct('location.id'))"
   ]
  },
  {
   "cell_type": "markdown",
   "metadata": {},
   "source": [
    "still a lot but quite a bit smaller than the number of entries...\n",
    "tools wise-- off the top of my head, explore turf.js. Also ogr and python has some geo tools too I think..."
   ]
  },
  {
   "cell_type": "markdown",
   "metadata": {},
   "source": [
    "london datastore has a stash of gis files relating to the OA in london-- can use these to get the right polygons\n",
    "using a combination of https://gist.github.com/benbalter/5858851 and https://github.com/mapbox/geojson-merge, I managed to get a geojson file with all the oa polygons in it. Now to figure out how to assign points to the polygons... there's shapely / basemap in python that may do the job..."
   ]
  },
  {
   "cell_type": "code",
   "execution_count": 45,
   "metadata": {
    "collapsed": false
   },
   "outputs": [],
   "source": [
    "with open('OA_2011_BGC_london.json', 'r') as f:\n",
    "    geojsonLondon = json.load(f)\n"
   ]
  },
  {
   "cell_type": "code",
   "execution_count": null,
   "metadata": {
    "collapsed": true
   },
   "outputs": [],
   "source": []
  }
 ],
 "metadata": {
  "kernelspec": {
   "display_name": "Python 3",
   "language": "python",
   "name": "python3"
  },
  "language_info": {
   "codemirror_mode": {
    "name": "ipython",
    "version": 3
   },
   "file_extension": ".py",
   "mimetype": "text/x-python",
   "name": "python",
   "nbconvert_exporter": "python",
   "pygments_lexer": "ipython3",
   "version": "3.5.2"
  }
 },
 "nbformat": 4,
 "nbformat_minor": 0
}
