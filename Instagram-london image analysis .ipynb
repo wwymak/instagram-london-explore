{
 "cells": [
  {
   "cell_type": "markdown",
   "metadata": {},
   "source": [
    "Taking inspiration from http://charlesleifer.com/blog/using-python-and-k-means-to-find-the-dominant-colors-in-images/,\n",
    "trying to do some image analysis on the instagram posts I collected"
   ]
  },
  {
   "cell_type": "code",
   "execution_count": 1,
   "metadata": {
    "collapsed": true
   },
   "outputs": [],
   "source": [
    "import numpy as np\n",
    "import pandas as pd\n",
    "from PIL import Image\n",
    "import requests\n",
    "from io import BytesIO\n",
    "import pymongo\n",
    "from pymongo import MongoClient\n",
    "client = MongoClient()"
   ]
  },
  {
   "cell_type": "code",
   "execution_count": 24,
   "metadata": {
    "collapsed": true
   },
   "outputs": [],
   "source": [
    "from sklearn.cluster import KMeans"
   ]
  },
  {
   "cell_type": "code",
   "execution_count": 20,
   "metadata": {
    "collapsed": true
   },
   "outputs": [],
   "source": [
    "from pprint import pprint\n",
    "from collections import namedtuple"
   ]
  },
  {
   "cell_type": "markdown",
   "metadata": {},
   "source": [
    "again, for illustration, what one data entry looks like on the db"
   ]
  },
  {
   "cell_type": "code",
   "execution_count": 9,
   "metadata": {
    "collapsed": false
   },
   "outputs": [
    {
     "name": "stdout",
     "output_type": "stream",
     "text": [
      "{'_id': ObjectId('57d5e31f481b6270985285ea'),\n",
      " 'attribution': None,\n",
      " 'caption': {'created_time': '1473461710',\n",
      "             'from': {'full_name': 'Kristina Hakenová',\n",
      "                      'id': '370200716',\n",
      "                      'profile_picture': 'https://scontent.cdninstagram.com/t51.2885-19/s150x150/891307_168416020201675_1963667798_a.jpg',\n",
      "                      'username': 'tina_8.8'},\n",
      "             'id': '17862075955062337',\n",
      "             'text': '\"No story lives unless someone wants to listen\" J.K. '\n",
      "                     'Rowling'},\n",
      " 'comments': {'count': 0},\n",
      " 'created_time': '1473461710',\n",
      " 'filter': 'Inkwell',\n",
      " 'id': '1335816100835081861_370200716',\n",
      " 'images': {'low_resolution': {'height': 320,\n",
      "                               'url': 'https://scontent.cdninstagram.com/t51.2885-15/s320x320/e35/14145604_522798707915224_1265389708_n.jpg?ig_cache_key=MTMzNTgxNjEwMDgzNTA4MTg2MQ%3D%3D.2.l',\n",
      "                               'width': 320},\n",
      "            'standard_resolution': {'height': 640,\n",
      "                                    'url': 'https://scontent.cdninstagram.com/t51.2885-15/s640x640/sh0.08/e35/14145604_522798707915224_1265389708_n.jpg?ig_cache_key=MTMzNTgxNjEwMDgzNTA4MTg2MQ%3D%3D.2.l',\n",
      "                                    'width': 640},\n",
      "            'thumbnail': {'height': 150,\n",
      "                          'url': 'https://scontent.cdninstagram.com/t51.2885-15/s150x150/e35/c0.135.1080.1080/14262822_1114192035326970_971938950_n.jpg?ig_cache_key=MTMzNTgxNjEwMDgzNTA4MTg2MQ%3D%3D.2.c',\n",
      "                          'width': 150}},\n",
      " 'likes': {'count': 0},\n",
      " 'link': 'https://www.instagram.com/p/BKJxaqPhb6F/',\n",
      " 'location': {'id': 230884974,\n",
      "              'latitude': 51.690636395632,\n",
      "              'longitude': -0.4187279223942,\n",
      "              'name': 'Harry Potter Studio Tour at Warner Brothers Studios'},\n",
      " 'tags': [],\n",
      " 'timestamp': datetime.datetime(2016, 9, 9, 22, 55, 10),\n",
      " 'type': 'image',\n",
      " 'user': {'full_name': 'Kristina Hakenová',\n",
      "          'id': '370200716',\n",
      "          'profile_picture': 'https://scontent.cdninstagram.com/t51.2885-19/s150x150/891307_168416020201675_1963667798_a.jpg',\n",
      "          'username': 'tina_8.8'},\n",
      " 'user_has_liked': False,\n",
      " 'users_in_photo': []}\n"
     ]
    }
   ],
   "source": [
    "db = client.instagramLondon\n",
    "coll = db.posts\n",
    "cursor = coll.find().sort('created_time', pymongo.DESCENDING).limit(1)\n",
    "for i in cursor:\n",
    "    pprint(i)"
   ]
  },
  {
   "cell_type": "code",
   "execution_count": 58,
   "metadata": {
    "collapsed": false
   },
   "outputs": [],
   "source": [
    "#lets open the image from one entry \n",
    "#response = requests.get('https://scontent.cdninstagram.com/t51.2885-15/s320x320/e35/14145604_522798707915224_1265389708_n.jpg?ig_cache_key=MTMzNTgxNjEwMDgzNTA4MTg2MQ%3D%3D.2.l')\n",
    "response = requests.get('https://upload.wikimedia.org/wikipedia/en/e/e7/Jurassic_Park_poster.jpg')\n",
    "img = Image.open(BytesIO(response.content))"
   ]
  },
  {
   "cell_type": "code",
   "execution_count": 59,
   "metadata": {
    "collapsed": false
   },
   "outputs": [],
   "source": [
    "#the low res version should be fine\n",
    "w, h = img.size"
   ]
  },
  {
   "cell_type": "code",
   "execution_count": 21,
   "metadata": {
    "collapsed": true
   },
   "outputs": [],
   "source": [
    "#saving the counts of every color in the image as a list\n",
    "Point = namedtuple('Point', ('coords', 'n', 'ct'))\n",
    "points = []\n",
    "w, h = img.size\n",
    "for count, color in img.getcolors(w * h):\n",
    "    points.append(Point(color, 3, count))"
   ]
  },
  {
   "cell_type": "code",
   "execution_count": 22,
   "metadata": {
    "collapsed": false
   },
   "outputs": [
    {
     "data": {
      "text/plain": [
       "[Point(coords=(255, 255, 255), n=3, ct=19944),\n",
       " Point(coords=(253, 253, 253), n=3, ct=1172),\n",
       " Point(coords=(251, 251, 251), n=3, ct=652),\n",
       " Point(coords=(249, 249, 249), n=3, ct=656),\n",
       " Point(coords=(247, 247, 247), n=3, ct=659),\n",
       " Point(coords=(245, 245, 245), n=3, ct=622),\n",
       " Point(coords=(243, 243, 243), n=3, ct=581),\n",
       " Point(coords=(241, 241, 241), n=3, ct=494),\n",
       " Point(coords=(239, 239, 239), n=3, ct=462),\n",
       " Point(coords=(237, 237, 237), n=3, ct=538),\n",
       " Point(coords=(235, 235, 235), n=3, ct=578),\n",
       " Point(coords=(233, 233, 233), n=3, ct=455),\n",
       " Point(coords=(231, 231, 231), n=3, ct=394),\n",
       " Point(coords=(229, 229, 229), n=3, ct=359),\n",
       " Point(coords=(227, 227, 227), n=3, ct=378),\n",
       " Point(coords=(225, 225, 225), n=3, ct=350),\n",
       " Point(coords=(223, 223, 223), n=3, ct=323),\n",
       " Point(coords=(221, 221, 221), n=3, ct=340),\n",
       " Point(coords=(219, 219, 219), n=3, ct=314),\n",
       " Point(coords=(217, 217, 217), n=3, ct=300),\n",
       " Point(coords=(215, 215, 215), n=3, ct=296),\n",
       " Point(coords=(213, 213, 213), n=3, ct=319),\n",
       " Point(coords=(211, 211, 211), n=3, ct=272),\n",
       " Point(coords=(209, 209, 209), n=3, ct=288),\n",
       " Point(coords=(207, 207, 207), n=3, ct=249),\n",
       " Point(coords=(205, 205, 205), n=3, ct=264),\n",
       " Point(coords=(203, 203, 203), n=3, ct=294),\n",
       " Point(coords=(201, 201, 201), n=3, ct=287),\n",
       " Point(coords=(199, 199, 199), n=3, ct=274),\n",
       " Point(coords=(197, 197, 197), n=3, ct=259),\n",
       " Point(coords=(195, 195, 195), n=3, ct=276),\n",
       " Point(coords=(193, 193, 193), n=3, ct=230),\n",
       " Point(coords=(191, 191, 191), n=3, ct=255),\n",
       " Point(coords=(189, 189, 189), n=3, ct=243),\n",
       " Point(coords=(187, 187, 187), n=3, ct=220),\n",
       " Point(coords=(185, 185, 185), n=3, ct=242),\n",
       " Point(coords=(183, 183, 183), n=3, ct=234),\n",
       " Point(coords=(181, 181, 181), n=3, ct=229),\n",
       " Point(coords=(179, 179, 179), n=3, ct=220),\n",
       " Point(coords=(177, 177, 177), n=3, ct=225),\n",
       " Point(coords=(175, 175, 175), n=3, ct=213),\n",
       " Point(coords=(173, 173, 173), n=3, ct=234),\n",
       " Point(coords=(171, 171, 171), n=3, ct=212),\n",
       " Point(coords=(169, 169, 169), n=3, ct=233),\n",
       " Point(coords=(167, 167, 167), n=3, ct=217),\n",
       " Point(coords=(165, 165, 165), n=3, ct=214),\n",
       " Point(coords=(163, 163, 163), n=3, ct=210),\n",
       " Point(coords=(161, 161, 161), n=3, ct=203),\n",
       " Point(coords=(159, 159, 159), n=3, ct=170),\n",
       " Point(coords=(157, 157, 157), n=3, ct=166),\n",
       " Point(coords=(155, 155, 155), n=3, ct=178),\n",
       " Point(coords=(153, 153, 153), n=3, ct=154),\n",
       " Point(coords=(151, 151, 151), n=3, ct=153),\n",
       " Point(coords=(149, 149, 149), n=3, ct=219),\n",
       " Point(coords=(147, 147, 147), n=3, ct=151),\n",
       " Point(coords=(145, 145, 145), n=3, ct=148),\n",
       " Point(coords=(143, 143, 143), n=3, ct=128),\n",
       " Point(coords=(141, 141, 141), n=3, ct=140),\n",
       " Point(coords=(139, 139, 139), n=3, ct=134),\n",
       " Point(coords=(137, 137, 137), n=3, ct=157),\n",
       " Point(coords=(135, 135, 135), n=3, ct=139),\n",
       " Point(coords=(133, 133, 133), n=3, ct=154),\n",
       " Point(coords=(131, 131, 131), n=3, ct=132),\n",
       " Point(coords=(129, 129, 129), n=3, ct=143),\n",
       " Point(coords=(127, 127, 127), n=3, ct=126),\n",
       " Point(coords=(125, 125, 125), n=3, ct=108),\n",
       " Point(coords=(123, 123, 123), n=3, ct=129),\n",
       " Point(coords=(121, 121, 121), n=3, ct=115),\n",
       " Point(coords=(119, 119, 119), n=3, ct=117),\n",
       " Point(coords=(117, 117, 117), n=3, ct=135),\n",
       " Point(coords=(115, 115, 115), n=3, ct=124),\n",
       " Point(coords=(113, 113, 113), n=3, ct=113),\n",
       " Point(coords=(111, 111, 111), n=3, ct=117),\n",
       " Point(coords=(109, 109, 109), n=3, ct=114),\n",
       " Point(coords=(107, 107, 107), n=3, ct=118),\n",
       " Point(coords=(105, 105, 105), n=3, ct=112),\n",
       " Point(coords=(103, 103, 103), n=3, ct=118),\n",
       " Point(coords=(101, 101, 101), n=3, ct=122),\n",
       " Point(coords=(99, 99, 99), n=3, ct=98),\n",
       " Point(coords=(97, 97, 97), n=3, ct=114),\n",
       " Point(coords=(95, 95, 95), n=3, ct=104),\n",
       " Point(coords=(93, 93, 93), n=3, ct=113),\n",
       " Point(coords=(91, 91, 91), n=3, ct=139),\n",
       " Point(coords=(89, 89, 89), n=3, ct=133),\n",
       " Point(coords=(87, 87, 87), n=3, ct=124),\n",
       " Point(coords=(85, 85, 85), n=3, ct=106),\n",
       " Point(coords=(83, 83, 83), n=3, ct=113),\n",
       " Point(coords=(81, 81, 81), n=3, ct=100),\n",
       " Point(coords=(79, 79, 79), n=3, ct=122),\n",
       " Point(coords=(77, 77, 77), n=3, ct=122),\n",
       " Point(coords=(75, 75, 75), n=3, ct=144),\n",
       " Point(coords=(73, 73, 73), n=3, ct=111),\n",
       " Point(coords=(71, 71, 71), n=3, ct=125),\n",
       " Point(coords=(69, 69, 69), n=3, ct=125),\n",
       " Point(coords=(67, 67, 67), n=3, ct=152),\n",
       " Point(coords=(65, 65, 65), n=3, ct=130),\n",
       " Point(coords=(63, 63, 63), n=3, ct=121),\n",
       " Point(coords=(61, 61, 61), n=3, ct=119),\n",
       " Point(coords=(59, 59, 59), n=3, ct=152),\n",
       " Point(coords=(57, 57, 57), n=3, ct=136),\n",
       " Point(coords=(55, 55, 55), n=3, ct=142),\n",
       " Point(coords=(53, 53, 53), n=3, ct=161),\n",
       " Point(coords=(51, 51, 51), n=3, ct=173),\n",
       " Point(coords=(49, 49, 49), n=3, ct=147),\n",
       " Point(coords=(47, 47, 47), n=3, ct=155),\n",
       " Point(coords=(45, 45, 45), n=3, ct=164),\n",
       " Point(coords=(43, 43, 43), n=3, ct=160),\n",
       " Point(coords=(41, 41, 41), n=3, ct=190),\n",
       " Point(coords=(39, 39, 39), n=3, ct=201),\n",
       " Point(coords=(37, 37, 37), n=3, ct=223),\n",
       " Point(coords=(35, 35, 35), n=3, ct=274),\n",
       " Point(coords=(33, 33, 33), n=3, ct=222),\n",
       " Point(coords=(31, 31, 31), n=3, ct=255),\n",
       " Point(coords=(29, 29, 29), n=3, ct=339),\n",
       " Point(coords=(27, 27, 27), n=3, ct=295),\n",
       " Point(coords=(25, 25, 25), n=3, ct=348),\n",
       " Point(coords=(23, 23, 23), n=3, ct=450),\n",
       " Point(coords=(21, 21, 21), n=3, ct=508),\n",
       " Point(coords=(19, 19, 19), n=3, ct=590),\n",
       " Point(coords=(17, 17, 17), n=3, ct=813),\n",
       " Point(coords=(15, 15, 15), n=3, ct=996),\n",
       " Point(coords=(13, 13, 13), n=3, ct=1177),\n",
       " Point(coords=(11, 11, 11), n=3, ct=1240),\n",
       " Point(coords=(9, 9, 9), n=3, ct=1417),\n",
       " Point(coords=(7, 7, 7), n=3, ct=1692),\n",
       " Point(coords=(5, 5, 5), n=3, ct=1569),\n",
       " Point(coords=(3, 3, 3), n=3, ct=1184),\n",
       " Point(coords=(1, 1, 1), n=3, ct=1749),\n",
       " Point(coords=(254, 254, 254), n=3, ct=1417),\n",
       " Point(coords=(252, 252, 252), n=3, ct=955),\n",
       " Point(coords=(250, 250, 250), n=3, ct=645),\n",
       " Point(coords=(248, 248, 248), n=3, ct=636),\n",
       " Point(coords=(246, 246, 246), n=3, ct=587),\n",
       " Point(coords=(244, 244, 244), n=3, ct=542),\n",
       " Point(coords=(242, 242, 242), n=3, ct=505),\n",
       " Point(coords=(240, 240, 240), n=3, ct=495),\n",
       " Point(coords=(238, 238, 238), n=3, ct=495),\n",
       " Point(coords=(236, 236, 236), n=3, ct=462),\n",
       " Point(coords=(234, 234, 234), n=3, ct=527),\n",
       " Point(coords=(232, 232, 232), n=3, ct=395),\n",
       " Point(coords=(230, 230, 230), n=3, ct=362),\n",
       " Point(coords=(228, 228, 228), n=3, ct=341),\n",
       " Point(coords=(226, 226, 226), n=3, ct=324),\n",
       " Point(coords=(224, 224, 224), n=3, ct=367),\n",
       " Point(coords=(222, 222, 222), n=3, ct=343),\n",
       " Point(coords=(220, 220, 220), n=3, ct=331),\n",
       " Point(coords=(218, 218, 218), n=3, ct=325),\n",
       " Point(coords=(216, 216, 216), n=3, ct=286),\n",
       " Point(coords=(214, 214, 214), n=3, ct=313),\n",
       " Point(coords=(212, 212, 212), n=3, ct=282),\n",
       " Point(coords=(210, 210, 210), n=3, ct=262),\n",
       " Point(coords=(208, 208, 208), n=3, ct=293),\n",
       " Point(coords=(206, 206, 206), n=3, ct=275),\n",
       " Point(coords=(204, 204, 204), n=3, ct=290),\n",
       " Point(coords=(202, 202, 202), n=3, ct=230),\n",
       " Point(coords=(200, 200, 200), n=3, ct=237),\n",
       " Point(coords=(198, 198, 198), n=3, ct=244),\n",
       " Point(coords=(196, 196, 196), n=3, ct=260),\n",
       " Point(coords=(194, 194, 194), n=3, ct=258),\n",
       " Point(coords=(192, 192, 192), n=3, ct=210),\n",
       " Point(coords=(190, 190, 190), n=3, ct=209),\n",
       " Point(coords=(188, 188, 188), n=3, ct=237),\n",
       " Point(coords=(186, 186, 186), n=3, ct=230),\n",
       " Point(coords=(184, 184, 184), n=3, ct=223),\n",
       " Point(coords=(182, 182, 182), n=3, ct=258),\n",
       " Point(coords=(180, 180, 180), n=3, ct=240),\n",
       " Point(coords=(178, 178, 178), n=3, ct=217),\n",
       " Point(coords=(176, 176, 176), n=3, ct=265),\n",
       " Point(coords=(174, 174, 174), n=3, ct=238),\n",
       " Point(coords=(172, 172, 172), n=3, ct=209),\n",
       " Point(coords=(170, 170, 170), n=3, ct=222),\n",
       " Point(coords=(168, 168, 168), n=3, ct=202),\n",
       " Point(coords=(166, 166, 166), n=3, ct=185),\n",
       " Point(coords=(164, 164, 164), n=3, ct=207),\n",
       " Point(coords=(162, 162, 162), n=3, ct=190),\n",
       " Point(coords=(160, 160, 160), n=3, ct=185),\n",
       " Point(coords=(158, 158, 158), n=3, ct=188),\n",
       " Point(coords=(156, 156, 156), n=3, ct=190),\n",
       " Point(coords=(154, 154, 154), n=3, ct=188),\n",
       " Point(coords=(152, 152, 152), n=3, ct=156),\n",
       " Point(coords=(150, 150, 150), n=3, ct=176),\n",
       " Point(coords=(148, 148, 148), n=3, ct=175),\n",
       " Point(coords=(146, 146, 146), n=3, ct=172),\n",
       " Point(coords=(144, 144, 144), n=3, ct=177),\n",
       " Point(coords=(142, 142, 142), n=3, ct=146),\n",
       " Point(coords=(140, 140, 140), n=3, ct=124),\n",
       " Point(coords=(138, 138, 138), n=3, ct=147),\n",
       " Point(coords=(136, 136, 136), n=3, ct=134),\n",
       " Point(coords=(134, 134, 134), n=3, ct=136),\n",
       " Point(coords=(132, 132, 132), n=3, ct=139),\n",
       " Point(coords=(130, 130, 130), n=3, ct=111),\n",
       " Point(coords=(128, 128, 128), n=3, ct=132),\n",
       " Point(coords=(126, 126, 126), n=3, ct=125),\n",
       " Point(coords=(124, 124, 124), n=3, ct=122),\n",
       " Point(coords=(122, 122, 122), n=3, ct=125),\n",
       " Point(coords=(120, 120, 120), n=3, ct=130),\n",
       " Point(coords=(118, 118, 118), n=3, ct=138),\n",
       " Point(coords=(116, 116, 116), n=3, ct=118),\n",
       " Point(coords=(114, 114, 114), n=3, ct=123),\n",
       " Point(coords=(112, 112, 112), n=3, ct=120),\n",
       " Point(coords=(110, 110, 110), n=3, ct=125),\n",
       " Point(coords=(108, 108, 108), n=3, ct=105),\n",
       " Point(coords=(106, 106, 106), n=3, ct=104),\n",
       " Point(coords=(104, 104, 104), n=3, ct=119),\n",
       " Point(coords=(102, 102, 102), n=3, ct=109),\n",
       " Point(coords=(100, 100, 100), n=3, ct=127),\n",
       " Point(coords=(98, 98, 98), n=3, ct=110),\n",
       " Point(coords=(96, 96, 96), n=3, ct=112),\n",
       " Point(coords=(94, 94, 94), n=3, ct=107),\n",
       " Point(coords=(92, 92, 92), n=3, ct=115),\n",
       " Point(coords=(90, 90, 90), n=3, ct=94),\n",
       " Point(coords=(88, 88, 88), n=3, ct=98),\n",
       " Point(coords=(86, 86, 86), n=3, ct=115),\n",
       " Point(coords=(84, 84, 84), n=3, ct=115),\n",
       " Point(coords=(82, 82, 82), n=3, ct=122),\n",
       " Point(coords=(80, 80, 80), n=3, ct=128),\n",
       " Point(coords=(78, 78, 78), n=3, ct=119),\n",
       " Point(coords=(76, 76, 76), n=3, ct=120),\n",
       " Point(coords=(74, 74, 74), n=3, ct=122),\n",
       " Point(coords=(72, 72, 72), n=3, ct=117),\n",
       " Point(coords=(70, 70, 70), n=3, ct=106),\n",
       " Point(coords=(68, 68, 68), n=3, ct=130),\n",
       " Point(coords=(66, 66, 66), n=3, ct=129),\n",
       " Point(coords=(64, 64, 64), n=3, ct=124),\n",
       " Point(coords=(62, 62, 62), n=3, ct=133),\n",
       " Point(coords=(60, 60, 60), n=3, ct=139),\n",
       " Point(coords=(58, 58, 58), n=3, ct=171),\n",
       " Point(coords=(56, 56, 56), n=3, ct=151),\n",
       " Point(coords=(54, 54, 54), n=3, ct=145),\n",
       " Point(coords=(52, 52, 52), n=3, ct=136),\n",
       " Point(coords=(50, 50, 50), n=3, ct=150),\n",
       " Point(coords=(48, 48, 48), n=3, ct=174),\n",
       " Point(coords=(46, 46, 46), n=3, ct=152),\n",
       " Point(coords=(44, 44, 44), n=3, ct=162),\n",
       " Point(coords=(42, 42, 42), n=3, ct=176),\n",
       " Point(coords=(40, 40, 40), n=3, ct=178),\n",
       " Point(coords=(38, 38, 38), n=3, ct=186),\n",
       " Point(coords=(36, 36, 36), n=3, ct=241),\n",
       " Point(coords=(34, 34, 34), n=3, ct=264),\n",
       " Point(coords=(32, 32, 32), n=3, ct=269),\n",
       " Point(coords=(30, 30, 30), n=3, ct=267),\n",
       " Point(coords=(28, 28, 28), n=3, ct=309),\n",
       " Point(coords=(26, 26, 26), n=3, ct=342),\n",
       " Point(coords=(24, 24, 24), n=3, ct=426),\n",
       " Point(coords=(22, 22, 22), n=3, ct=433),\n",
       " Point(coords=(20, 20, 20), n=3, ct=538),\n",
       " Point(coords=(18, 18, 18), n=3, ct=692),\n",
       " Point(coords=(16, 16, 16), n=3, ct=951),\n",
       " Point(coords=(14, 14, 14), n=3, ct=1086),\n",
       " Point(coords=(12, 12, 12), n=3, ct=1243),\n",
       " Point(coords=(10, 10, 10), n=3, ct=1327),\n",
       " Point(coords=(8, 8, 8), n=3, ct=1575),\n",
       " Point(coords=(6, 6, 6), n=3, ct=1673),\n",
       " Point(coords=(4, 4, 4), n=3, ct=1664),\n",
       " Point(coords=(2, 2, 2), n=3, ct=1637),\n",
       " Point(coords=(0, 0, 0), n=3, ct=1981)]"
      ]
     },
     "execution_count": 22,
     "metadata": {},
     "output_type": "execute_result"
    }
   ],
   "source": [
    "points"
   ]
  },
  {
   "cell_type": "code",
   "execution_count": 60,
   "metadata": {
    "collapsed": false
   },
   "outputs": [],
   "source": [
    "#next is to try kmeans on it\n",
    "#following the example from http://scikit-learn.org/stable/auto_examples/cluster/plot_color_quantization.html\n",
    "imgAsArr = np.array(img, dtype=np.float64)/255\n"
   ]
  },
  {
   "cell_type": "code",
   "execution_count": 61,
   "metadata": {
    "collapsed": false
   },
   "outputs": [],
   "source": [
    "w, h, d = imgAsArr.shape\n",
    "image_array = np.reshape(imgAsArr, (w * h, d))\n"
   ]
  },
  {
   "cell_type": "code",
   "execution_count": 62,
   "metadata": {
    "collapsed": false
   },
   "outputs": [
    {
     "data": {
      "text/plain": [
       "(107600, 3)"
      ]
     },
     "execution_count": 62,
     "metadata": {},
     "output_type": "execute_result"
    }
   ],
   "source": [
    "image_array.shape"
   ]
  },
  {
   "cell_type": "code",
   "execution_count": 63,
   "metadata": {
    "collapsed": true
   },
   "outputs": [],
   "source": [
    "kmeans = KMeans(n_clusters=5).fit(image_array)"
   ]
  },
  {
   "cell_type": "code",
   "execution_count": 64,
   "metadata": {
    "collapsed": false
   },
   "outputs": [
    {
     "data": {
      "text/plain": [
       "array([[ 0.20815573,  0.17793506,  0.16703899],\n",
       "       [ 0.00504274,  0.00341299,  0.0036488 ],\n",
       "       [ 0.87756776,  0.59991092,  0.25199935],\n",
       "       [ 0.94908647,  0.9261989 ,  0.85900222],\n",
       "       [ 0.87221809,  0.01283994,  0.01602423]])"
      ]
     },
     "execution_count": 64,
     "metadata": {},
     "output_type": "execute_result"
    }
   ],
   "source": [
    "kmeans.cluster_centers_"
   ]
  },
  {
   "cell_type": "code",
   "execution_count": 65,
   "metadata": {
    "collapsed": false
   },
   "outputs": [
    {
     "name": "stdout",
     "output_type": "stream",
     "text": [
      "[[  53.07971144   45.3734414    42.59494122]\n",
      " [   1.28589745    0.87031211    0.93044294]\n",
      " [ 223.77977839  152.97728532   64.2598338 ]\n",
      " [ 242.01704898  236.18071916  219.04556727]\n",
      " [ 222.4156138     3.27418442    4.08617764]]\n"
     ]
    }
   ],
   "source": [
    "palettes = kmeans.cluster_centers_ * 255\n",
    "print(palettes)"
   ]
  },
  {
   "cell_type": "code",
   "execution_count": 46,
   "metadata": {
    "collapsed": false
   },
   "outputs": [
    {
     "data": {
      "text/plain": [
       "array([0, 0, 0, ..., 0, 0, 0], dtype=int32)"
      ]
     },
     "execution_count": 46,
     "metadata": {},
     "output_type": "execute_result"
    }
   ],
   "source": [
    "kmeans.labels_"
   ]
  },
  {
   "cell_type": "code",
   "execution_count": 49,
   "metadata": {
    "collapsed": false
   },
   "outputs": [],
   "source": [
    "test = img.convert('P', palette=Image.ADAPTIVE, colors=5)\n",
    "colors = test.getcolors(w * h)"
   ]
  },
  {
   "cell_type": "code",
   "execution_count": 52,
   "metadata": {
    "collapsed": false
   },
   "outputs": [
    {
     "data": {
      "image/png": "[encoded data removed]",
      "text/plain": [
       "<PIL.Image.Image image mode=P size=320x320 at 0x10AE01BE0>"
      ]
     },
     "execution_count": 52,
     "metadata": {},
     "output_type": "execute_result"
    }
   ],
   "source": [
    "test"
   ]
  },
  {
   "cell_type": "code",
   "execution_count": 57,
   "metadata": {
    "collapsed": false
   },
   "outputs": [
    {
     "data": {
      "text/plain": [
       "<PIL.ImagePalette.ImagePalette at 0x104279748>"
      ]
     },
     "execution_count": 57,
     "metadata": {},
     "output_type": "execute_result"
    }
   ],
   "source": [
    "test.palette"
   ]
  },
  {
   "cell_type": "code",
   "execution_count": null,
   "metadata": {
    "collapsed": true
   },
   "outputs": [],
   "source": []
  }
 ],
 "metadata": {
  "kernelspec": {
   "display_name": "Python 3",
   "language": "python",
   "name": "python3"
  },
  "language_info": {
   "codemirror_mode": {
    "name": "ipython",
    "version": 3
   },
   "file_extension": ".py",
   "mimetype": "text/x-python",
   "name": "python",
   "nbconvert_exporter": "python",
   "pygments_lexer": "ipython3",
   "version": "3.5.2"
  }
 },
 "nbformat": 4,
 "nbformat_minor": 0
}
