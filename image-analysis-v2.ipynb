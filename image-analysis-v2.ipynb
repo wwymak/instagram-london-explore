{
 "cells": [
  {
   "cell_type": "markdown",
   "metadata": {},
   "source": [
    "Taking inspiration from http://charlesleifer.com/blog/using-python-and-k-means-to-find-the-dominant-colors-in-images/, \n",
    "trying to do some image analysis on the instagram posts I collected.\n",
    "\n",
    "There's a handy library at https://github.com/neocortex/paletti/blob/master/paletti/paletti.py that uses different ways of calculating the palette. I'll just try using the kmeans with scikitlearn method for now"
   ]
  },
  {
   "cell_type": "code",
   "execution_count": 1,
   "metadata": {
    "collapsed": true
   },
   "outputs": [],
   "source": [
    "import numpy as np\n",
    "import pandas as pd\n",
    "import pymongo\n",
    "from pymongo import MongoClient\n",
    "from bson.objectid import ObjectId\n",
    "import requests\n",
    "from io import BytesIO\n",
    "from pprint import pprint\n",
    "from collections import namedtuple\n",
    "\n",
    "from sklearn.cluster import KMeans\n",
    "from skimage import io, color\n",
    "from PIL import ImageStat\n",
    "from PIL import Image\n",
    "import colorsys\n",
    "\n",
    "client = MongoClient(\"mongodb://127.0.0.1:11122\")"
   ]
  },
  {
   "cell_type": "code",
   "execution_count": 2,
   "metadata": {
    "collapsed": false
   },
   "outputs": [
    {
     "name": "stdout",
     "output_type": "stream",
     "text": [
      "{'_id': ObjectId('57f7e4447d2f910a32fe3e0b'),\n",
      " 'attribution': None,\n",
      " 'caption': {'created_time': '1475790904',\n",
      "             'from': {'full_name': 'wendy_jm',\n",
      "                      'id': '7664364',\n",
      "                      'profile_picture': 'https://scontent.cdninstagram.com/t51.2885-19/s150x150/12328524_1563743330622492_1808689803_a.jpg',\n",
      "                      'username': 'wendy_jm'},\n",
      "             'id': '17864314741052633',\n",
      "             'text': 'Lots of lols 😂 @i.am_they.are_it.is #thecomedystore'},\n",
      " 'comments': {'count': 0},\n",
      " 'created_time': '1475790904',\n",
      " 'filter': 'Clarendon',\n",
      " 'id': '1355354802003762529_7664364',\n",
      " 'images': {'low_resolution': {'height': 320,\n",
      "                               'url': 'https://scontent.cdninstagram.com/t51.2885-15/s320x320/e35/14474141_892824824182402_8982149330433474560_n.jpg?ig_cache_key=MTM1NTM1NDgwMjAwMzc2MjUyOQ%3D%3D.2',\n",
      "                               'width': 320},\n",
      "            'standard_resolution': {'height': 640,\n",
      "                                    'url': 'https://scontent.cdninstagram.com/t51.2885-15/s640x640/sh0.08/e35/14474141_892824824182402_8982149330433474560_n.jpg?ig_cache_key=MTM1NTM1NDgwMjAwMzc2MjUyOQ%3D%3D.2',\n",
      "                                    'width': 640},\n",
      "            'thumbnail': {'height': 150,\n",
      "                          'url': 'https://scontent.cdninstagram.com/t51.2885-15/s150x150/e35/14474141_892824824182402_8982149330433474560_n.jpg?ig_cache_key=MTM1NTM1NDgwMjAwMzc2MjUyOQ%3D%3D.2',\n",
      "                          'width': 150}},\n",
      " 'likes': {'count': 0},\n",
      " 'link': 'https://www.instagram.com/p/BLPMALuDd1h/',\n",
      " 'location': {'id': 232413,\n",
      "              'latitude': 51.510231579108,\n",
      "              'longitude': -0.13245019104835,\n",
      "              'name': 'The Comedy Store - London'},\n",
      " 'tags': ['thecomedystore'],\n",
      " 'timestamp': datetime.datetime(2016, 10, 6, 21, 55, 4),\n",
      " 'type': 'image',\n",
      " 'user': {'full_name': 'wendy_jm',\n",
      "          'id': '7664364',\n",
      "          'profile_picture': 'https://scontent.cdninstagram.com/t51.2885-19/s150x150/12328524_1563743330622492_1808689803_a.jpg',\n",
      "          'username': 'wendy_jm'},\n",
      " 'user_has_liked': False,\n",
      " 'users_in_photo': []}\n"
     ]
    }
   ],
   "source": [
    "#this is what one entry looks like\n",
    "db = client['instagram-london']\n",
    "coll = db.posts\n",
    "cursor = coll.find().sort('created_time', pymongo.DESCENDING).limit(1)\n",
    "for i in cursor:\n",
    "    pprint(i)"
   ]
  },
  {
   "cell_type": "markdown",
   "metadata": {},
   "source": [
    "There are multiple aspects of the images that can be interesing to visualize. But the 2 following methods extract the brightness (by converting each image to greyscale and finding the mean of that with ImageStat), and using kmeans to extract the top colors (and convert these to hsv for better sorting as per http://www.alanzucconi.com/2015/09/30/colour-sorting/)"
   ]
  },
  {
   "cell_type": "code",
   "execution_count": 2,
   "metadata": {
    "collapsed": false
   },
   "outputs": [],
   "source": [
    "def brightness( im_file ):\n",
    "    \"\"\" Extract brightness of an image by converting it to greyscale\n",
    "        check the values with stat.extrema but it should be 0-255, \n",
    "        ie returned value scaled by 255 for brightness %\n",
    "    \"\"\"\n",
    "    im = Image.open(im_file).convert('L')\n",
    "    stat = ImageStat.Stat(im)\n",
    "    return stat.mean[0]"
   ]
  },
  {
   "cell_type": "code",
   "execution_count": 3,
   "metadata": {
    "collapsed": false
   },
   "outputs": [],
   "source": [
    "def kmeans_palette(fname, k=5, RSIZE=200, color='RGB'):\n",
    "    \"\"\" Extract a color palette using k-means clustering. \"\"\"\n",
    "    origimg = Image.open(fname)\n",
    "    origimg.thumbnail((RSIZE, RSIZE), Image.ANTIALIAS)\n",
    "    img = np.array(origimg)\n",
    "    w, h, d = img.shape\n",
    "    imarr = np.reshape(img, (w * h, d)).astype('float64')\n",
    "    # Perform k-means clustering\n",
    "    kmeans = KMeans(n_clusters=k).fit(imarr)\n",
    "    labels = kmeans.predict(imarr)\n",
    "    maincolors = kmeans.cluster_centers_\n",
    "    rgbColors = maincolors.squeeze()\n",
    "    # Compute percentage of each main color\n",
    "    percent, _ = np.histogram(labels, bins=len(maincolors), normed=True)\n",
    "    percent /= float(percent.sum())\n",
    "    \n",
    "    if(color=='HSV'):\n",
    "        normalized = [[y/255 for y in x] for x in maincolors]\n",
    "        outputColors = [list(colorsys.rgb_to_hsv(x[0], x[1], x[2])) for x in normalized]\n",
    "    else:\n",
    "        outputColors = rgbColors\n",
    "    return outputColors, percent"
   ]
  },
  {
   "cell_type": "code",
   "execution_count": 11,
   "metadata": {
    "collapsed": false
   },
   "outputs": [
    {
     "data": {
      "text/plain": [
       "124.838251953125"
      ]
     },
     "execution_count": 11,
     "metadata": {},
     "output_type": "execute_result"
    }
   ],
   "source": [
    "brightness(BytesIO(requests.get('https://scontent.cdninstagram.com/t51.2885-15/s640x640/sh0.08/e35/14240783_286379521748291_1428124432_n.jpg?ig_cache_key=MTM0MTU1Mzg2MDIyOTQxNjMwMw%3D%3D.2.l')\n",
    "               .content))"
   ]
  },
  {
   "cell_type": "code",
   "execution_count": 7,
   "metadata": {
    "collapsed": false
   },
   "outputs": [
    {
     "name": "stdout",
     "output_type": "stream",
     "text": [
      "[(0, 255)]\n"
     ]
    }
   ],
   "source": [
    "image = BytesIO(requests.get('https://scontent.cdninstagram.com/t51.2885-15/s640x640/sh0.08/e35/14240783_286379521748291_1428124432_n.jpg?ig_cache_key=MTM0MTU1Mzg2MDIyOTQxNjMwMw%3D%3D.2.l')\n",
    "               .content)\n",
    "grayScaleImg = Image.open(image).convert('L')\n",
    "stat = ImageStat.Stat(grayScaleImg)\n",
    "print(stat.extrema)"
   ]
  },
  {
   "cell_type": "code",
   "execution_count": 8,
   "metadata": {
    "collapsed": false
   },
   "outputs": [
    {
     "name": "stdout",
     "output_type": "stream",
     "text": [
      "[124.838251953125]\n"
     ]
    }
   ],
   "source": [
    "print(stat.mean)"
   ]
  },
  {
   "cell_type": "code",
   "execution_count": 4,
   "metadata": {
    "collapsed": false
   },
   "outputs": [
    {
     "name": "stdout",
     "output_type": "stream",
     "text": [
      "{'_id': ObjectId('57f7e4447d2f910a32fe3e0b'),\n",
      " 'images': {'standard_resolution': {'url': 'https://scontent.cdninstagram.com/t51.2885-15/s640x640/sh0.08/e35/14474141_892824824182402_8982149330433474560_n.jpg?ig_cache_key=MTM1NTM1NDgwMjAwMzc2MjUyOQ%3D%3D.2'}}}\n",
      "{'_id': ObjectId('57f7e4437d2f910a32fe3d3d'),\n",
      " 'images': {'standard_resolution': {'url': 'https://scontent.cdninstagram.com/t51.2885-15/s640x640/sh0.08/e35/14550153_1667636423474968_1482873201661837312_n.jpg?ig_cache_key=MTM1NTM1NDc4MjcwOTg1NzM0MA%3D%3D.2.l'}}}\n",
      "{'_id': ObjectId('57f7e4447d2f910a32fe3e0c'),\n",
      " 'images': {'standard_resolution': {'url': 'https://scontent.cdninstagram.com/t51.2885-15/s640x640/sh0.08/e35/14482690_1777502685856533_1908154128803037184_n.jpg?ig_cache_key=MTM1NTM1NDc4NTI5MzIxNTg4NQ%3D%3D.2'}}}\n",
      "{'_id': ObjectId('57f7e4437d2f910a32fe3c96'),\n",
      " 'images': {'standard_resolution': {'url': 'https://scontent.cdninstagram.com/t51.2885-15/s640x640/sh0.08/e35/14582419_1644625489164268_1359390817432633344_n.jpg?ig_cache_key=MTM1NTM1NDc3MDU5NjgyMjA0Mg%3D%3D.2.l'}}}\n"
     ]
    }
   ],
   "source": [
    "db = client['instagram-london']\n",
    "coll = db.posts\n",
    "cursor = coll.find({}, {\"images.standard_resolution.url\": 1}).sort('created_time', pymongo.DESCENDING).limit(4)\n",
    "for i in cursor:\n",
    "    pprint(i)"
   ]
  },
  {
   "cell_type": "code",
   "execution_count": 18,
   "metadata": {
    "collapsed": false
   },
   "outputs": [],
   "source": [
    "cursor = coll.find({}, {\"images.standard_resolution.url\": 1}).sort('created_time', pymongo.DESCENDING).limit(4)\n",
    "items = []\n",
    "for i in cursor:\n",
    "    items.append(i)"
   ]
  },
  {
   "cell_type": "code",
   "execution_count": 23,
   "metadata": {
    "collapsed": false
   },
   "outputs": [
    {
     "name": "stdout",
     "output_type": "stream",
     "text": [
      "[52.679462890625, 108.6855712890625, 106.79782470703125, 103.95446533203125]\n"
     ]
    }
   ],
   "source": [
    "brightnessArray = [brightness(BytesIO(requests.get(x['images']['standard_resolution']['url']).content)) for x in items]\n",
    "print(brightnessArray)"
   ]
  },
  {
   "cell_type": "code",
   "execution_count": 58,
   "metadata": {
    "collapsed": false
   },
   "outputs": [
    {
     "name": "stdout",
     "output_type": "stream",
     "text": [
      "([[0.6550723601806312, 0.64783948218361875, 0.10522475585906628], [0.6817250102704665, 0.20594010909495555, 0.82245636394269495], [0.91883548971868545, 0.53705494241243235, 0.53873392440252144], [0.66183724670677047, 0.70183932031599505, 0.27737353023863853], [0.65734228474001843, 0.056792185627654687, 0.93010976639459608]], array([ 0.563675,  0.133625,  0.072625,  0.1776  ,  0.052475]))\n"
     ]
    }
   ],
   "source": [
    "test1 =  kmeans_palette(BytesIO(requests.get(items[0]['images']['standard_resolution']['url']).content), color='HSV')\n",
    "print(test1)"
   ]
  },
  {
   "cell_type": "code",
   "execution_count": 5,
   "metadata": {
    "collapsed": false
   },
   "outputs": [],
   "source": [
    "def insertColorClusterInfo(cursorLimited):\n",
    "    for item in cursorLimited:\n",
    "        clustered = kmeans_palette(BytesIO(requests.get(item['images']['standard_resolution']['url']).content), color='HSV')\n",
    "        colors = clustered[0]\n",
    "        percentages = clustered[1]\n",
    "        id = item['_id']\n",
    "        db.posts2016091.update_one({'_id': id},{'$set': {'images.mainColors': colors, 'images.mainColorPercentages': percentages}}\n",
    "          , upsert=False)"
   ]
  },
  {
   "cell_type": "code",
   "execution_count": 92,
   "metadata": {
    "collapsed": false
   },
   "outputs": [],
   "source": [
    "cursor2 = db.posts20160911.find().limit(5)"
   ]
  },
  {
   "cell_type": "code",
   "execution_count": 93,
   "metadata": {
    "collapsed": false
   },
   "outputs": [
    {
     "name": "stdout",
     "output_type": "stream",
     "text": [
      "[[0.62143042949151328, 0.31349037597969009, 0.18597114778317975], [0.16018416383706358, 0.0040837494739007591, 0.99750557523853989], [0.59102611452724618, 0.55885558681773406, 0.85678518242740342], [0.16303286834912534, 0.099098552460445397, 0.75075658546246482], [0.59681112496629984, 0.10617156633886707, 0.43968443627449227]] [ 0.32155   0.501725  0.0314    0.0494    0.095925] 57f7ea3b7d2f910a321e5485 <class 'bson.objectid.ObjectId'>\n",
      "[[0.89488476675846607, 6.322461757022352e-05, 0.99830105095996102], [0.68513513513514102, 0.13694405033617763, 0.3864592645568829], [0.7258362293657763, 0.058367879917338994, 0.626807318672151], [0.68086735810249233, 0.3705487448920145, 0.14092965857672518], [0.7857754315879818, 0.025339382874492528, 0.85546174305684219]] [ 0.9211    0.008225  0.024675  0.0143    0.0317  ] 57f7ea3c7d2f910a321e5c31 <class 'bson.objectid.ObjectId'>\n",
      "[[0.081902626034616302, 0.012313158322373926, 0.97241820388744016], [0.060973153781635071, 0.39639530075636331, 0.48596263917111637], [0.12229756399683404, 0.27191828934680717, 0.90333628928957843], [0.67185775386296809, 0.10968232530196075, 0.1081118555056905], [0.1042427244430566, 0.42603166442753909, 0.76511983309080112]] [ 0.54035   0.1078    0.124425  0.079725  0.1477  ] 57f7ea487d2f910a321eb609 <class 'bson.objectid.ObjectId'>\n",
      "[[0.04602736708565134, 0.12862260217020263, 0.87141725731142972], [0.94110820168997256, 0.20760850864536787, 0.49860097160541161], [0.70160667713736025, 0.43599052681582234, 0.29424021058644312], [0.040248446864091993, 0.23931320844421577, 0.74460466480855947], [0.035946631377118864, 0.0014570184380423689, 0.99698710509814137]] [ 0.220875  0.164175  0.2115    0.199225  0.204225] 57f7ea497d2f910a321eb9e4 <class 'bson.objectid.ObjectId'>\n",
      "[[0.21894187107766272, 0.38413462792171144, 0.41768223086013617], [0.12083700296706711, 0.0075595753942832742, 0.99767739221401641], [0.16535495108150131, 0.37049311581097505, 0.62248461191525872], [0.27535840759267965, 0.39604491555151966, 0.20801287806872687], [0.11986901172646462, 0.23706707183131734, 0.85426933506773473]] [ 0.215275  0.2658    0.15075   0.230025  0.13815 ] 57f7ea407d2f910a321e74dc <class 'bson.objectid.ObjectId'>\n"
     ]
    }
   ],
   "source": [
    "for item in cursor2:\n",
    "    r = requests.get(item['images']['standard_resolution']['url'])\n",
    "    if(r.status_code == 200):                            \n",
    "        clustered = kmeans_palette(BytesIO(r.content), color='HSV')\n",
    "        colors = clustered[0]\n",
    "        percentages = clustered[1]\n",
    "        id = item['_id']\n",
    "        print(colors, percentages, id, type(id))\n",
    "        db.posts20160911.update_one({'_id': ObjectId(id)},{'$set': {'images_mainColors': list(colors), 'images_mainColorPercentages': list(percentages)}}\n",
    "          , upsert=False)"
   ]
  },
  {
   "cell_type": "code",
   "execution_count": 115,
   "metadata": {
    "collapsed": false
   },
   "outputs": [
    {
     "name": "stdout",
     "output_type": "stream",
     "text": [
      "1\n"
     ]
    }
   ],
   "source": [
    "a = db.posts20160911.find({'_id': ObjectId('57f7ea3b7d2f910a321e5485')}).count()\n",
    "print(a)"
   ]
  },
  {
   "cell_type": "code",
   "execution_count": 108,
   "metadata": {
    "collapsed": true
   },
   "outputs": [],
   "source": [
    "cursor2Limited = db.posts20160911.find({'images_mainColors': {'$exists': False}})"
   ]
  },
  {
   "cell_type": "markdown",
   "metadata": {},
   "source": [
    "Tried the following but it actually runs into a problem in that the cursor will timeout in 10 mins or so...\n",
    "```i = 0\n",
    "for item in cursor2Limited:\n",
    "    r = requests.get(item['images']['standard_resolution']['url'])\n",
    "    if(r.status_code == 200): \n",
    "        clustered = kmeans_palette(BytesIO(requests.get(item['images']['standard_resolution']['url']).content), color='HSV')\n",
    "        colors = clustered[0]\n",
    "        percentages = clustered[1]\n",
    "        id = item['_id']\n",
    "        i += 1\n",
    "        if(i % 300 == 0):\n",
    "            print(\"i: {}, id: {}\".format(str(i), str(id)))\n",
    "        db.posts20160911.update_one({'_id': ObjectId(id)},{'$set': {'images_mainColors': list(colors), 'images_mainColorPercentages': list(percentages)}}\n",
    "          , upsert=False)```"
   ]
  },
  {
   "cell_type": "code",
   "execution_count": 8,
   "metadata": {
    "collapsed": false
   },
   "outputs": [],
   "source": [
    "i = 0\n",
    "for item in db.posts20160911.find({'images_mainColors': {'$exists': False}}).batch_size(30):\n",
    "    r = requests.get(item['images']['standard_resolution']['url'])\n",
    "    if(r.status_code == 200): \n",
    "        clustered = kmeans_palette(BytesIO(requests.get(item['images']['standard_resolution']['url']).content), color='HSV')\n",
    "        colors = clustered[0]\n",
    "        percentages = clustered[1]\n",
    "        id = item['_id']\n",
    "        i += 1\n",
    "        if(i % 300 == 0):\n",
    "            print(\"i: {}, id: {}\".format(str(i), str(id)))\n",
    "        db.posts20160911.update_one({'_id': ObjectId(id)},{'$set': {'images_mainColors': list(colors), 'images_mainColorPercentages': list(percentages)}}\n",
    "          , upsert=False)"
   ]
  },
  {
   "cell_type": "code",
   "execution_count": 113,
   "metadata": {
    "collapsed": true
   },
   "outputs": [],
   "source": [
    "client = MongoClient(\"mongodb://127.0.0.1:11122\")\n",
    "db = client['instagram-london']"
   ]
  },
  {
   "cell_type": "code",
   "execution_count": null,
   "metadata": {
    "collapsed": true
   },
   "outputs": [],
   "source": []
  }
 ],
 "metadata": {
  "kernelspec": {
   "display_name": "Python 3",
   "language": "python",
   "name": "python3"
  },
  "language_info": {
   "codemirror_mode": {
    "name": "ipython",
    "version": 3
   },
   "file_extension": ".py",
   "mimetype": "text/x-python",
   "name": "python",
   "nbconvert_exporter": "python",
   "pygments_lexer": "ipython3",
   "version": "3.5.2"
  }
 },
 "nbformat": 4,
 "nbformat_minor": 0
}
